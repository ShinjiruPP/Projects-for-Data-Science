{
  "nbformat": 4,
  "nbformat_minor": 0,
  "metadata": {
    "colab": {
      "provenance": [],
      "toc_visible": true
    },
    "kernelspec": {
      "name": "python3",
      "display_name": "Python 3"
    },
    "language_info": {
      "name": "python"
    }
  },
  "cells": [
    {
      "cell_type": "markdown",
      "source": [
        "# Project - Natural Language Processing - Spam Filtering"
      ],
      "metadata": {
        "id": "hQSeYHnFJzBr"
      }
    },
    {
      "cell_type": "markdown",
      "source": [
        "The company ProfessionAI wants to develop a library capable of analyzing received emails.\n",
        "\n",
        "Specifically, the CEO has requested the identification of SPAM emails on which to perform content analysis.\n",
        "\n",
        "The CTO has provided you with a dataset and asks you to:\n",
        "\n",
        "*   Train a classifier to identify SPAM.\n",
        "*   Identify the main topics among the SPAM emails in the dataset.\n",
        "*   Calculate the semantic distance between the obtained topics to determine their heterogeneity.\n",
        "*   Extract the organizations mentioned in the NON-SPAM emails."
      ],
      "metadata": {
        "id": "nid5JjGDJ5mu"
      }
    },
    {
      "cell_type": "markdown",
      "source": [
        "# 1 - Project Analysis\n",
        "\n",
        "The project involves creating an algorithm that can perform spam filtering on received emails.\n",
        "The goal is to develop a model capable of analyzing the content of emails and identifying those that are SPAM and those that are not.\n",
        "\n",
        "The project requirements are as follows."
      ],
      "metadata": {
        "id": "1UiZyUNLKMin"
      }
    },
    {
      "cell_type": "markdown",
      "source": [
        "## 1.1 Task 1: Train a classifier to identify SPAM\n",
        "\n"
      ],
      "metadata": {
        "id": "qzXdLmY-L9Qh"
      }
    },
    {
      "cell_type": "markdown",
      "source": [
        "The Task 1 requires training a classifier to identify spam and non-spam emails.\n",
        "\n",
        "In this case, it is a binary classifier that will be trained using the dataset provided by the project. The approach for creating the classifier will be as follows:\n",
        "\n",
        "*   Split the data into training and test sets\n",
        "*   Select a baseline model\n",
        "*   Train the baseline model\n",
        "*   Select additional models\n",
        "*   Optimize the hyperparameters\n",
        "*   Train all models\n",
        "*   Compare the models' metrics\n",
        "*   Choose the best classifier\n",
        "\n",
        "The metrics chosen for the comparison between models are:\n",
        "*   Classification report (Precision, Recall, F1-Score)\n",
        "*   Confusion Matrix\n",
        "\n",
        "For the best model choosed a Cross Validation will be executed in order to test its reliability."
      ],
      "metadata": {
        "id": "WGx_r97NMZgG"
      }
    },
    {
      "cell_type": "markdown",
      "source": [
        "## 1.2 Task 2: Identify the main topics among the SPAM emails in the dataset"
      ],
      "metadata": {
        "id": "PI-_8noKMDHJ"
      }
    },
    {
      "cell_type": "markdown",
      "source": [
        "To identify the Topics of SPAM email a gensim library wil be used.\n",
        "\n",
        "A BoW (Bag of Words) will be created with all words of SPAM email stored into dataset.\n",
        "\n",
        "Once the dictionary hass ben created, the Latent Dirichlet Allocation model will be trained to identify the topics into emails."
      ],
      "metadata": {
        "id": "6tQL92HTMRZt"
      }
    },
    {
      "cell_type": "markdown",
      "source": [
        "## 1.3 Task 3: Calculate the semantic distance between the obtained topics to determine their heterogeneity"
      ],
      "metadata": {
        "id": "5rLitU89MD4h"
      }
    },
    {
      "cell_type": "markdown",
      "source": [
        "To calculate the semantic distance between topics it will be done by cosine similarity.\n",
        "\n",
        "Once the topics are identified, their probability distribution will be stored and used for calculate the cosine similarity between them.\n",
        "\n",
        "In this waty, the heterogeneity and omogeneity will be discovered between topics."
      ],
      "metadata": {
        "id": "5Wu_mY1GMR0G"
      }
    },
    {
      "cell_type": "markdown",
      "source": [
        "## 1.4 Task 4: Extract the organizations mentioned in the NON-SPAM emails"
      ],
      "metadata": {
        "id": "cP7LS5F6MEsR"
      }
    },
    {
      "cell_type": "markdown",
      "source": [
        "To identify all organization contained into NO-SPAM emails the NER (Named Entity Recognition) will be used with gensim.corpora that allows to identify the ORG into corpus text.\n",
        "\n",
        "Once all ORG are extracted, they will be shown on console."
      ],
      "metadata": {
        "id": "EyF6BrvdMSEm"
      }
    },
    {
      "cell_type": "markdown",
      "source": [
        "# 2 - Import Section"
      ],
      "metadata": {
        "id": "7Np41cm6KMcP"
      }
    },
    {
      "cell_type": "code",
      "source": [
        "# Utils\n",
        "import pandas as pd\n",
        "import numpy as np\n",
        "import matplotlib.pyplot as plt\n",
        "import seaborn as sns\n",
        "from pprint import pprint\n",
        "import seaborn as sns\n",
        "import matplotlib.pyplot as plt\n",
        "\n",
        "# Data Pre-Processing (Cleaning)\n",
        "import string\n",
        "import spacy\n",
        "from sklearn.model_selection import train_test_split\n",
        "from nltk.corpus import stopwords\n",
        "import nltk\n",
        "nltk.download('stopwords')\n",
        "import re\n",
        "from imblearn.combine import SMOTEENN\n",
        "\n",
        "# Word2Vec model\n",
        "from gensim.models import Word2Vec\n",
        "import gensim.downloader\n",
        "\n",
        "# Models\n",
        "from sklearn.naive_bayes import BernoulliNB, MultinomialNB, ComplementNB\n",
        "from sklearn.linear_model import LogisticRegression\n",
        "from sklearn.svm import SVC\n",
        "\n",
        "# Metrics\n",
        "from sklearn.metrics import classification_report, confusion_matrix\n",
        "from sklearn.model_selection import cross_val_score\n",
        "\n",
        "# Topic Modelling\n",
        "import gensim.corpora as corpora\n",
        "from sklearn.metrics.pairwise import cosine_similarity\n",
        "\n",
        "# NER\n",
        "import spacy.displacy as displacy"
      ],
      "metadata": {
        "colab": {
          "base_uri": "https://localhost:8080/"
        },
        "id": "jbDZSWAQKNE_",
        "outputId": "180af8d4-22ea-4250-e6dd-f3e4fb32942c"
      },
      "execution_count": null,
      "outputs": [
        {
          "output_type": "stream",
          "name": "stderr",
          "text": [
            "[nltk_data] Downloading package stopwords to /root/nltk_data...\n",
            "[nltk_data]   Package stopwords is already up-to-date!\n"
          ]
        }
      ]
    },
    {
      "cell_type": "markdown",
      "source": [
        "# 3 - Constant Declaration"
      ],
      "metadata": {
        "id": "WEzVzckgPd29"
      }
    },
    {
      "cell_type": "code",
      "source": [
        "# Random seed to make reproducible the results\n",
        "RANDOM_SEED = 42\n",
        "\n",
        "# Folder that contains the dataset\n",
        "DATASET_FOLDER = \"/content/\"\n",
        "\n",
        "# Name of dataset to be load\n",
        "DATASET_NAME = \"spam_dataset.csv\"\n",
        "\n",
        "# Entire path of dataset\n",
        "DATASET_PATH = DATASET_FOLDER + DATASET_NAME\n",
        "\n",
        "# Name of labels\n",
        "LABELS = [\"spam\", \"ham\"]"
      ],
      "metadata": {
        "id": "PyJ1536iPdjN"
      },
      "execution_count": null,
      "outputs": []
    },
    {
      "cell_type": "code",
      "source": [
        "# Load English stop words to be deleted from text corpus\n",
        "ENGLISH_STOPWORDS = stopwords.words('english')\n",
        "\n",
        "# Load en core web small model to execute POS\n",
        "NLP = spacy.load('en_core_web_sm')\n",
        "\n",
        "# Create a set of punctuation to be deleted from text corpus\n",
        "PUNCTUATION_SET = set(string.punctuation)\n",
        "\n",
        "# Load the Word2Vec model\n",
        "GLOVE_MODEL = gensim.downloader.load('glove-wiki-gigaword-300')"
      ],
      "metadata": {
        "id": "AMD7LKCpRIG5"
      },
      "execution_count": null,
      "outputs": []
    },
    {
      "cell_type": "markdown",
      "source": [
        "# 4 - Classes & Functions Declaration Section"
      ],
      "metadata": {
        "id": "f0j1HdvJVy4B"
      }
    },
    {
      "cell_type": "code",
      "source": [
        "def plot_class_distribution_barplot(df, column_name):\n",
        "    \"\"\"\n",
        "    Function used to create barplot for frequency distribution of selected variable.\n",
        "\n",
        "    Parameters:\n",
        "      - df: pd.DataFrame --> Dataframe from which to retrieve the data\n",
        "      - column_name: String --> Name of the column to plot\n",
        "\n",
        "    Return:\n",
        "      - None\n",
        "    \"\"\"\n",
        "    # Columns to count for classes\n",
        "    class_counts = df[column_name].value_counts()\n",
        "\n",
        "    # Define colors for the classes\n",
        "    colors = ['skyblue', 'salmon']\n",
        "\n",
        "    # Create the figure\n",
        "    plt.figure(figsize=(10, 6))\n",
        "    bars = plt.bar(class_counts.index, class_counts.values, color=colors)\n",
        "\n",
        "    # Set plot titles and labels\n",
        "    plt.title('Class Distribution')\n",
        "    plt.xlabel('Class')\n",
        "    plt.ylabel('Count')\n",
        "\n",
        "    # Fix x-ticks\n",
        "    plt.xticks(class_counts.index, ['Non-Spam', 'Spam'])\n",
        "\n",
        "    # Add legend to the plot\n",
        "    plt.legend(bars, ['Non-Spam (0)', 'Spam (1)'])\n",
        "\n",
        "    # Show the plot\n",
        "    plt.show()"
      ],
      "metadata": {
        "id": "n44fwKW1VzLq"
      },
      "execution_count": null,
      "outputs": []
    },
    {
      "cell_type": "code",
      "source": [
        "def data_cleaner(sentence):\n",
        "    \"\"\"\n",
        "    Function used to clean the text corpus.\n",
        "\n",
        "    Parameters:\n",
        "      - sentence: String --> Sentence to be cleaned\n",
        "\n",
        "    Return:\n",
        "      - sentence: String --> Cleaned sentence\n",
        "    \"\"\"\n",
        "    # Make lower entire sentence\n",
        "    sentence = sentence.lower()\n",
        "\n",
        "    # Remove the punctuation from sentence\n",
        "    for c in string.punctuation:\n",
        "        sentence = sentence.replace(c, \" \")\n",
        "\n",
        "    # Remove the numbers from sentence\n",
        "    sentence = ''.join([i for i in sentence if not i.isdigit()])\n",
        "\n",
        "    # Lemmatize the sentence\n",
        "    document = NLP(sentence)\n",
        "    sentence = ' '.join(token.lemma_ for token in document)\n",
        "    sentence = ' '.join(word for word in sentence.split() if word not in ENGLISH_STOPWORDS)\n",
        "\n",
        "    # Remove extra spaces\n",
        "    sentence = re.sub('\\d', '', sentence)\n",
        "    sentence = re.sub(' +', ' ', sentence)\n",
        "\n",
        "    # Return the cleaned sentence\n",
        "    return sentence"
      ],
      "metadata": {
        "id": "hLJRl_xQZESw"
      },
      "execution_count": null,
      "outputs": []
    },
    {
      "cell_type": "code",
      "source": [
        "def avg_vector(sentence):\n",
        "    \"\"\"\n",
        "    Function used to calculate the avegare vector of sentences.\n",
        "\n",
        "    Parameters:\n",
        "      - sentence: String --> Sentence to be cleaned\n",
        "\n",
        "    Return:\n",
        "      - vector: np.array --> Average vector of sentence\n",
        "    \"\"\"\n",
        "    # Counter of words to be removed\n",
        "    to_remove = 0\n",
        "\n",
        "    # Initialize a 0 vector\n",
        "    vector = np.zeros(300)\n",
        "\n",
        "    # For each word contained into sentence if its contained into dictionary\n",
        "    # add its vector to the average vector\n",
        "    for word in sentence:\n",
        "        if word in GLOVE_MODEL.key_to_index.keys():\n",
        "            vector += GLOVE_MODEL.get_vector(word)\n",
        "        else:\n",
        "            to_remove += 1\n",
        "    if len(sentence)== to_remove:\n",
        "        return np.zeros(300)\n",
        "\n",
        "    # Calculate the avegare vector\n",
        "    return vector/(len(sentence)-to_remove)"
      ],
      "metadata": {
        "id": "Jsk7PX-9aHF8"
      },
      "execution_count": null,
      "outputs": []
    },
    {
      "cell_type": "code",
      "source": [
        "def plot_confusion_matrix(y_true, y_pred,\n",
        "                          labels=[\"Negative\", \"Positive\"],\n",
        "                          show_precision=True,\n",
        "                          show_recall=True):\n",
        "    \"\"\"\n",
        "    Function used to plot the confusion matrix.\n",
        "\n",
        "    Parameters:\n",
        "      - y_true: np.array --> True labels\n",
        "      - y_pred: np.array --> Predicted labels\n",
        "\n",
        "    Return:\n",
        "      - None\n",
        "    \"\"\"\n",
        "    # Create confusion matrix\n",
        "    cm = confusion_matrix(y_true,\n",
        "                          y_pred)\n",
        "\n",
        "    # Create a temporary dataframe with confusion matrix\n",
        "    df_cm = pd.DataFrame(cm,\n",
        "                        index = labels,\n",
        "                        columns = [\"Predicted \"+labels[0],\"Predicted \"+labels[1]])\n",
        "    # Plot the matrix\n",
        "    sns.heatmap(df_cm, annot=True, cmap='Blues', fmt='g')"
      ],
      "metadata": {
        "id": "00-3kGNBJV61"
      },
      "execution_count": null,
      "outputs": []
    },
    {
      "cell_type": "code",
      "source": [
        "def sent_to_words(items):\n",
        "    \"\"\"\n",
        "    Function used to preprocess the text and transform it into single strings removing punctuation.\n",
        "\n",
        "    Parameters:\n",
        "      - items: List --> List of sentences to be processed\n",
        "\n",
        "    Return:\n",
        "      - Sentences cleaned\n",
        "    \"\"\"\n",
        "    for item in items:\n",
        "        yield(gensim.utils.simple_preprocess(str(item), deacc=True))"
      ],
      "metadata": {
        "id": "uQxAYfVXQuyP"
      },
      "execution_count": null,
      "outputs": []
    },
    {
      "cell_type": "code",
      "source": [
        "def remove_stopwords(texts):\n",
        "    \"\"\"\n",
        "    Function used to remove stopwords.\n",
        "\n",
        "    Parameters:\n",
        "      - texts: List --> List of sentences to be processed\n",
        "\n",
        "    Return:\n",
        "      - Sentences without stopwords\n",
        "    \"\"\"\n",
        "    return [[word for word in words if word not in ENGLISH_STOPWORDS and len(word) >=5] for words in texts]"
      ],
      "metadata": {
        "id": "014EZ0xmQv4g"
      },
      "execution_count": null,
      "outputs": []
    },
    {
      "cell_type": "markdown",
      "source": [
        "# 5 - Load Dataset: Emails SPAM and NOT-SPAM"
      ],
      "metadata": {
        "id": "1_G1PQEOQHtP"
      }
    },
    {
      "cell_type": "code",
      "source": [
        "# Read the csv with pandas\n",
        "dataset = pd.read_csv(DATASET_PATH, index_col = 0)"
      ],
      "metadata": {
        "id": "D42VoOTCKNf_"
      },
      "execution_count": null,
      "outputs": []
    },
    {
      "cell_type": "markdown",
      "source": [
        "It has been used the parameter \"*index_col*\" with value \"*0*\" because the dataset contains an **unnamed column** with **ID of row**.\n",
        "For this reason the unnamed column become the ID column of dataset."
      ],
      "metadata": {
        "id": "Ujbi_oTyQd1p"
      }
    },
    {
      "cell_type": "code",
      "source": [
        "# Show the first rows of dataset\n",
        "dataset.head()"
      ],
      "metadata": {
        "colab": {
          "base_uri": "https://localhost:8080/",
          "height": 206
        },
        "id": "6KGw9ryuKNX3",
        "outputId": "df5cd0cb-422a-4794-a588-6d7f50c8c433"
      },
      "execution_count": null,
      "outputs": [
        {
          "output_type": "execute_result",
          "data": {
            "text/plain": [
              "     label                                               text  label_num\n",
              "605    ham  Subject: enron methanol ; meter # : 988291\\nth...          0\n",
              "2349   ham  Subject: hpl nom for january 9 , 2001\\n( see a...          0\n",
              "3624   ham  Subject: neon retreat\\nho ho ho , we ' re arou...          0\n",
              "4685  spam  Subject: photoshop , windows , office . cheap ...          1\n",
              "2030   ham  Subject: re : indian springs\\nthis deal is to ...          0"
            ],
            "text/html": [
              "\n",
              "  <div id=\"df-4453e6d8-98ee-467f-9389-ec5204767316\" class=\"colab-df-container\">\n",
              "    <div>\n",
              "<style scoped>\n",
              "    .dataframe tbody tr th:only-of-type {\n",
              "        vertical-align: middle;\n",
              "    }\n",
              "\n",
              "    .dataframe tbody tr th {\n",
              "        vertical-align: top;\n",
              "    }\n",
              "\n",
              "    .dataframe thead th {\n",
              "        text-align: right;\n",
              "    }\n",
              "</style>\n",
              "<table border=\"1\" class=\"dataframe\">\n",
              "  <thead>\n",
              "    <tr style=\"text-align: right;\">\n",
              "      <th></th>\n",
              "      <th>label</th>\n",
              "      <th>text</th>\n",
              "      <th>label_num</th>\n",
              "    </tr>\n",
              "  </thead>\n",
              "  <tbody>\n",
              "    <tr>\n",
              "      <th>605</th>\n",
              "      <td>ham</td>\n",
              "      <td>Subject: enron methanol ; meter # : 988291\\nth...</td>\n",
              "      <td>0</td>\n",
              "    </tr>\n",
              "    <tr>\n",
              "      <th>2349</th>\n",
              "      <td>ham</td>\n",
              "      <td>Subject: hpl nom for january 9 , 2001\\n( see a...</td>\n",
              "      <td>0</td>\n",
              "    </tr>\n",
              "    <tr>\n",
              "      <th>3624</th>\n",
              "      <td>ham</td>\n",
              "      <td>Subject: neon retreat\\nho ho ho , we ' re arou...</td>\n",
              "      <td>0</td>\n",
              "    </tr>\n",
              "    <tr>\n",
              "      <th>4685</th>\n",
              "      <td>spam</td>\n",
              "      <td>Subject: photoshop , windows , office . cheap ...</td>\n",
              "      <td>1</td>\n",
              "    </tr>\n",
              "    <tr>\n",
              "      <th>2030</th>\n",
              "      <td>ham</td>\n",
              "      <td>Subject: re : indian springs\\nthis deal is to ...</td>\n",
              "      <td>0</td>\n",
              "    </tr>\n",
              "  </tbody>\n",
              "</table>\n",
              "</div>\n",
              "    <div class=\"colab-df-buttons\">\n",
              "\n",
              "  <div class=\"colab-df-container\">\n",
              "    <button class=\"colab-df-convert\" onclick=\"convertToInteractive('df-4453e6d8-98ee-467f-9389-ec5204767316')\"\n",
              "            title=\"Convert this dataframe to an interactive table.\"\n",
              "            style=\"display:none;\">\n",
              "\n",
              "  <svg xmlns=\"http://www.w3.org/2000/svg\" height=\"24px\" viewBox=\"0 -960 960 960\">\n",
              "    <path d=\"M120-120v-720h720v720H120Zm60-500h600v-160H180v160Zm220 220h160v-160H400v160Zm0 220h160v-160H400v160ZM180-400h160v-160H180v160Zm440 0h160v-160H620v160ZM180-180h160v-160H180v160Zm440 0h160v-160H620v160Z\"/>\n",
              "  </svg>\n",
              "    </button>\n",
              "\n",
              "  <style>\n",
              "    .colab-df-container {\n",
              "      display:flex;\n",
              "      gap: 12px;\n",
              "    }\n",
              "\n",
              "    .colab-df-convert {\n",
              "      background-color: #E8F0FE;\n",
              "      border: none;\n",
              "      border-radius: 50%;\n",
              "      cursor: pointer;\n",
              "      display: none;\n",
              "      fill: #1967D2;\n",
              "      height: 32px;\n",
              "      padding: 0 0 0 0;\n",
              "      width: 32px;\n",
              "    }\n",
              "\n",
              "    .colab-df-convert:hover {\n",
              "      background-color: #E2EBFA;\n",
              "      box-shadow: 0px 1px 2px rgba(60, 64, 67, 0.3), 0px 1px 3px 1px rgba(60, 64, 67, 0.15);\n",
              "      fill: #174EA6;\n",
              "    }\n",
              "\n",
              "    .colab-df-buttons div {\n",
              "      margin-bottom: 4px;\n",
              "    }\n",
              "\n",
              "    [theme=dark] .colab-df-convert {\n",
              "      background-color: #3B4455;\n",
              "      fill: #D2E3FC;\n",
              "    }\n",
              "\n",
              "    [theme=dark] .colab-df-convert:hover {\n",
              "      background-color: #434B5C;\n",
              "      box-shadow: 0px 1px 3px 1px rgba(0, 0, 0, 0.15);\n",
              "      filter: drop-shadow(0px 1px 2px rgba(0, 0, 0, 0.3));\n",
              "      fill: #FFFFFF;\n",
              "    }\n",
              "  </style>\n",
              "\n",
              "    <script>\n",
              "      const buttonEl =\n",
              "        document.querySelector('#df-4453e6d8-98ee-467f-9389-ec5204767316 button.colab-df-convert');\n",
              "      buttonEl.style.display =\n",
              "        google.colab.kernel.accessAllowed ? 'block' : 'none';\n",
              "\n",
              "      async function convertToInteractive(key) {\n",
              "        const element = document.querySelector('#df-4453e6d8-98ee-467f-9389-ec5204767316');\n",
              "        const dataTable =\n",
              "          await google.colab.kernel.invokeFunction('convertToInteractive',\n",
              "                                                    [key], {});\n",
              "        if (!dataTable) return;\n",
              "\n",
              "        const docLinkHtml = 'Like what you see? Visit the ' +\n",
              "          '<a target=\"_blank\" href=https://colab.research.google.com/notebooks/data_table.ipynb>data table notebook</a>'\n",
              "          + ' to learn more about interactive tables.';\n",
              "        element.innerHTML = '';\n",
              "        dataTable['output_type'] = 'display_data';\n",
              "        await google.colab.output.renderOutput(dataTable, element);\n",
              "        const docLink = document.createElement('div');\n",
              "        docLink.innerHTML = docLinkHtml;\n",
              "        element.appendChild(docLink);\n",
              "      }\n",
              "    </script>\n",
              "  </div>\n",
              "\n",
              "\n",
              "<div id=\"df-6c64854e-6e4b-4580-8143-ffd4420838a1\">\n",
              "  <button class=\"colab-df-quickchart\" onclick=\"quickchart('df-6c64854e-6e4b-4580-8143-ffd4420838a1')\"\n",
              "            title=\"Suggest charts\"\n",
              "            style=\"display:none;\">\n",
              "\n",
              "<svg xmlns=\"http://www.w3.org/2000/svg\" height=\"24px\"viewBox=\"0 0 24 24\"\n",
              "     width=\"24px\">\n",
              "    <g>\n",
              "        <path d=\"M19 3H5c-1.1 0-2 .9-2 2v14c0 1.1.9 2 2 2h14c1.1 0 2-.9 2-2V5c0-1.1-.9-2-2-2zM9 17H7v-7h2v7zm4 0h-2V7h2v10zm4 0h-2v-4h2v4z\"/>\n",
              "    </g>\n",
              "</svg>\n",
              "  </button>\n",
              "\n",
              "<style>\n",
              "  .colab-df-quickchart {\n",
              "      --bg-color: #E8F0FE;\n",
              "      --fill-color: #1967D2;\n",
              "      --hover-bg-color: #E2EBFA;\n",
              "      --hover-fill-color: #174EA6;\n",
              "      --disabled-fill-color: #AAA;\n",
              "      --disabled-bg-color: #DDD;\n",
              "  }\n",
              "\n",
              "  [theme=dark] .colab-df-quickchart {\n",
              "      --bg-color: #3B4455;\n",
              "      --fill-color: #D2E3FC;\n",
              "      --hover-bg-color: #434B5C;\n",
              "      --hover-fill-color: #FFFFFF;\n",
              "      --disabled-bg-color: #3B4455;\n",
              "      --disabled-fill-color: #666;\n",
              "  }\n",
              "\n",
              "  .colab-df-quickchart {\n",
              "    background-color: var(--bg-color);\n",
              "    border: none;\n",
              "    border-radius: 50%;\n",
              "    cursor: pointer;\n",
              "    display: none;\n",
              "    fill: var(--fill-color);\n",
              "    height: 32px;\n",
              "    padding: 0;\n",
              "    width: 32px;\n",
              "  }\n",
              "\n",
              "  .colab-df-quickchart:hover {\n",
              "    background-color: var(--hover-bg-color);\n",
              "    box-shadow: 0 1px 2px rgba(60, 64, 67, 0.3), 0 1px 3px 1px rgba(60, 64, 67, 0.15);\n",
              "    fill: var(--button-hover-fill-color);\n",
              "  }\n",
              "\n",
              "  .colab-df-quickchart-complete:disabled,\n",
              "  .colab-df-quickchart-complete:disabled:hover {\n",
              "    background-color: var(--disabled-bg-color);\n",
              "    fill: var(--disabled-fill-color);\n",
              "    box-shadow: none;\n",
              "  }\n",
              "\n",
              "  .colab-df-spinner {\n",
              "    border: 2px solid var(--fill-color);\n",
              "    border-color: transparent;\n",
              "    border-bottom-color: var(--fill-color);\n",
              "    animation:\n",
              "      spin 1s steps(1) infinite;\n",
              "  }\n",
              "\n",
              "  @keyframes spin {\n",
              "    0% {\n",
              "      border-color: transparent;\n",
              "      border-bottom-color: var(--fill-color);\n",
              "      border-left-color: var(--fill-color);\n",
              "    }\n",
              "    20% {\n",
              "      border-color: transparent;\n",
              "      border-left-color: var(--fill-color);\n",
              "      border-top-color: var(--fill-color);\n",
              "    }\n",
              "    30% {\n",
              "      border-color: transparent;\n",
              "      border-left-color: var(--fill-color);\n",
              "      border-top-color: var(--fill-color);\n",
              "      border-right-color: var(--fill-color);\n",
              "    }\n",
              "    40% {\n",
              "      border-color: transparent;\n",
              "      border-right-color: var(--fill-color);\n",
              "      border-top-color: var(--fill-color);\n",
              "    }\n",
              "    60% {\n",
              "      border-color: transparent;\n",
              "      border-right-color: var(--fill-color);\n",
              "    }\n",
              "    80% {\n",
              "      border-color: transparent;\n",
              "      border-right-color: var(--fill-color);\n",
              "      border-bottom-color: var(--fill-color);\n",
              "    }\n",
              "    90% {\n",
              "      border-color: transparent;\n",
              "      border-bottom-color: var(--fill-color);\n",
              "    }\n",
              "  }\n",
              "</style>\n",
              "\n",
              "  <script>\n",
              "    async function quickchart(key) {\n",
              "      const quickchartButtonEl =\n",
              "        document.querySelector('#' + key + ' button');\n",
              "      quickchartButtonEl.disabled = true;  // To prevent multiple clicks.\n",
              "      quickchartButtonEl.classList.add('colab-df-spinner');\n",
              "      try {\n",
              "        const charts = await google.colab.kernel.invokeFunction(\n",
              "            'suggestCharts', [key], {});\n",
              "      } catch (error) {\n",
              "        console.error('Error during call to suggestCharts:', error);\n",
              "      }\n",
              "      quickchartButtonEl.classList.remove('colab-df-spinner');\n",
              "      quickchartButtonEl.classList.add('colab-df-quickchart-complete');\n",
              "    }\n",
              "    (() => {\n",
              "      let quickchartButtonEl =\n",
              "        document.querySelector('#df-6c64854e-6e4b-4580-8143-ffd4420838a1 button');\n",
              "      quickchartButtonEl.style.display =\n",
              "        google.colab.kernel.accessAllowed ? 'block' : 'none';\n",
              "    })();\n",
              "  </script>\n",
              "</div>\n",
              "\n",
              "    </div>\n",
              "  </div>\n"
            ],
            "application/vnd.google.colaboratory.intrinsic+json": {
              "type": "dataframe",
              "variable_name": "dataset",
              "summary": "{\n  \"name\": \"dataset\",\n  \"rows\": 5171,\n  \"fields\": [\n    {\n      \"column\": \"label\",\n      \"properties\": {\n        \"dtype\": \"category\",\n        \"num_unique_values\": 2,\n        \"samples\": [\n          \"spam\",\n          \"ham\"\n        ],\n        \"semantic_type\": \"\",\n        \"description\": \"\"\n      }\n    },\n    {\n      \"column\": \"text\",\n      \"properties\": {\n        \"dtype\": \"string\",\n        \"num_unique_values\": 4993,\n        \"samples\": [\n          \"Subject: hpl / conoco - teco waha 03 / 23 / 01 purchase\\ndaren , conoco invoiced hpl at $ 5 . 87 for 03 / 23 at pgev / waha and deal ticket 685350 shows $ 4 . 87 . can you confirm the price ? thanks .\",\n          \"Subject: holiday on - call data\\npipeline contact phone fax pager\\nblack marlin blair lichentwalter 713 853 - 7367 713 646 - 3201 ( h )\\n281 370 - 1866\\ndebbie thompson 713 853 - 3144 713 646 - 3201\\n( noms due today for 23 rd through 27 th )\\nchannel jim tobacco 713 420 - 2159\\ngas control 1 505 599 - 2333\\n( open thursday . noms will be due through monday )\\ncentana william spekels 713 627 - 6290 713 762 - 3450\\ndonna spencer 713 627 - 6255\\ngas control 1 888 204 - 1718\\n( noms due today for 23 rd through 27 th )\\nduke energy annette anderson 713 260 - 8603 713 949 - 3026\\n( on call ) bob moseman 713 - 260 - 8698 ( thursday )\\nopen tomorrow - noms will be due thru the 27 th )\\nlonestar gary gafford 214 670 - 2674 214 875 - 3810\\ngas control 214 875 - 2455 or 2456\\n( noms due today , 23 rd thru 27 th )\\nnorthern natural ben markey 853 - 7581 cell 713 446 - 9404 800 931 - 0398\\n( on call ) charlie mosey 853 - 1520\\ngas control 853 -\\n( open thursday - noms due thru 27 th . )\\neast trans - east texas\\ntejas gas control 713 767 - 5366\\npaula svehla 713 230 - 3569\\nmickey chapman 713 230 - 3546\\n( open thursday - noms due thru 27 th )\\nmidcon ( y 2 k ) ken nachlinger 713 369 - 9284 713 369 - 9375 888 733 - 5954\\n( on call ) steven 888 790 - 0255\\n( y 2 k ) don 888 733 - 4602\\ngas control 713 369 - 9200\\n( noms due today , 23 rd thru 27 th )\\nmoss bluff no current business\"\n        ],\n        \"semantic_type\": \"\",\n        \"description\": \"\"\n      }\n    },\n    {\n      \"column\": \"label_num\",\n      \"properties\": {\n        \"dtype\": \"number\",\n        \"std\": 0,\n        \"min\": 0,\n        \"max\": 1,\n        \"num_unique_values\": 2,\n        \"samples\": [\n          1,\n          0\n        ],\n        \"semantic_type\": \"\",\n        \"description\": \"\"\n      }\n    }\n  ]\n}"
            }
          },
          "metadata": {},
          "execution_count": 11
        }
      ]
    },
    {
      "cell_type": "markdown",
      "source": [
        "# 6 - EDA: Exploration Data Analysis"
      ],
      "metadata": {
        "id": "UEEgvqOfQ4nM"
      }
    },
    {
      "cell_type": "markdown",
      "source": [
        "## 6.1 - Dataset General Information"
      ],
      "metadata": {
        "id": "SAk11nFgRt0V"
      }
    },
    {
      "cell_type": "code",
      "execution_count": null,
      "metadata": {
        "colab": {
          "base_uri": "https://localhost:8080/"
        },
        "id": "qXBUk6ShJpgF",
        "outputId": "42e84d25-31b7-4fb2-fc11-3ac727fd4800"
      },
      "outputs": [
        {
          "output_type": "stream",
          "name": "stdout",
          "text": [
            "<class 'pandas.core.frame.DataFrame'>\n",
            "Index: 5171 entries, 605 to 4807\n",
            "Data columns (total 3 columns):\n",
            " #   Column     Non-Null Count  Dtype \n",
            "---  ------     --------------  ----- \n",
            " 0   label      5171 non-null   object\n",
            " 1   text       5171 non-null   object\n",
            " 2   label_num  5171 non-null   int64 \n",
            "dtypes: int64(1), object(2)\n",
            "memory usage: 161.6+ KB\n"
          ]
        }
      ],
      "source": [
        "# Show the dataset information\n",
        "dataset.info()"
      ]
    },
    {
      "cell_type": "markdown",
      "source": [
        "The column \"**text**\" represents the core of dataset because contains the entire emails to be analyzed from the model.\n",
        "\n",
        "The columns \"**label**\" and \"**label_num**\" represents the label assigned to the email. In particular, the column \"**label**\" is the original label that contains \"**SPAM**\" and \"**HAM**\", otherwise, the column \"**label_num**\" is its encoded column where \"**0**\" represents *NOT-SPAM* and \"**1**\" represents *SPAM*."
      ],
      "metadata": {
        "id": "YEIcogUDRAKD"
      }
    },
    {
      "cell_type": "code",
      "source": [
        "# Calculate the email text length and store them into dataset\n",
        "dataset['text_length'] = dataset['text'].apply(lambda x: len(x.split()))\n",
        "\n",
        "# Show the new dataset\n",
        "dataset.head()"
      ],
      "metadata": {
        "colab": {
          "base_uri": "https://localhost:8080/",
          "height": 206
        },
        "id": "HTeb8R36dKTl",
        "outputId": "710552d9-21fe-4c64-cd48-a1c7ffb15fb0"
      },
      "execution_count": null,
      "outputs": [
        {
          "output_type": "execute_result",
          "data": {
            "text/plain": [
              "     label                                               text  label_num  \\\n",
              "605    ham  Subject: enron methanol ; meter # : 988291\\nth...          0   \n",
              "2349   ham  Subject: hpl nom for january 9 , 2001\\n( see a...          0   \n",
              "3624   ham  Subject: neon retreat\\nho ho ho , we ' re arou...          0   \n",
              "4685  spam  Subject: photoshop , windows , office . cheap ...          1   \n",
              "2030   ham  Subject: re : indian springs\\nthis deal is to ...          0   \n",
              "\n",
              "      text_length  \n",
              "605            67  \n",
              "2349           23  \n",
              "3624          550  \n",
              "4685           48  \n",
              "2030           70  "
            ],
            "text/html": [
              "\n",
              "  <div id=\"df-35ecdf93-f929-4b92-9603-51f8229023af\" class=\"colab-df-container\">\n",
              "    <div>\n",
              "<style scoped>\n",
              "    .dataframe tbody tr th:only-of-type {\n",
              "        vertical-align: middle;\n",
              "    }\n",
              "\n",
              "    .dataframe tbody tr th {\n",
              "        vertical-align: top;\n",
              "    }\n",
              "\n",
              "    .dataframe thead th {\n",
              "        text-align: right;\n",
              "    }\n",
              "</style>\n",
              "<table border=\"1\" class=\"dataframe\">\n",
              "  <thead>\n",
              "    <tr style=\"text-align: right;\">\n",
              "      <th></th>\n",
              "      <th>label</th>\n",
              "      <th>text</th>\n",
              "      <th>label_num</th>\n",
              "      <th>text_length</th>\n",
              "    </tr>\n",
              "  </thead>\n",
              "  <tbody>\n",
              "    <tr>\n",
              "      <th>605</th>\n",
              "      <td>ham</td>\n",
              "      <td>Subject: enron methanol ; meter # : 988291\\nth...</td>\n",
              "      <td>0</td>\n",
              "      <td>67</td>\n",
              "    </tr>\n",
              "    <tr>\n",
              "      <th>2349</th>\n",
              "      <td>ham</td>\n",
              "      <td>Subject: hpl nom for january 9 , 2001\\n( see a...</td>\n",
              "      <td>0</td>\n",
              "      <td>23</td>\n",
              "    </tr>\n",
              "    <tr>\n",
              "      <th>3624</th>\n",
              "      <td>ham</td>\n",
              "      <td>Subject: neon retreat\\nho ho ho , we ' re arou...</td>\n",
              "      <td>0</td>\n",
              "      <td>550</td>\n",
              "    </tr>\n",
              "    <tr>\n",
              "      <th>4685</th>\n",
              "      <td>spam</td>\n",
              "      <td>Subject: photoshop , windows , office . cheap ...</td>\n",
              "      <td>1</td>\n",
              "      <td>48</td>\n",
              "    </tr>\n",
              "    <tr>\n",
              "      <th>2030</th>\n",
              "      <td>ham</td>\n",
              "      <td>Subject: re : indian springs\\nthis deal is to ...</td>\n",
              "      <td>0</td>\n",
              "      <td>70</td>\n",
              "    </tr>\n",
              "  </tbody>\n",
              "</table>\n",
              "</div>\n",
              "    <div class=\"colab-df-buttons\">\n",
              "\n",
              "  <div class=\"colab-df-container\">\n",
              "    <button class=\"colab-df-convert\" onclick=\"convertToInteractive('df-35ecdf93-f929-4b92-9603-51f8229023af')\"\n",
              "            title=\"Convert this dataframe to an interactive table.\"\n",
              "            style=\"display:none;\">\n",
              "\n",
              "  <svg xmlns=\"http://www.w3.org/2000/svg\" height=\"24px\" viewBox=\"0 -960 960 960\">\n",
              "    <path d=\"M120-120v-720h720v720H120Zm60-500h600v-160H180v160Zm220 220h160v-160H400v160Zm0 220h160v-160H400v160ZM180-400h160v-160H180v160Zm440 0h160v-160H620v160ZM180-180h160v-160H180v160Zm440 0h160v-160H620v160Z\"/>\n",
              "  </svg>\n",
              "    </button>\n",
              "\n",
              "  <style>\n",
              "    .colab-df-container {\n",
              "      display:flex;\n",
              "      gap: 12px;\n",
              "    }\n",
              "\n",
              "    .colab-df-convert {\n",
              "      background-color: #E8F0FE;\n",
              "      border: none;\n",
              "      border-radius: 50%;\n",
              "      cursor: pointer;\n",
              "      display: none;\n",
              "      fill: #1967D2;\n",
              "      height: 32px;\n",
              "      padding: 0 0 0 0;\n",
              "      width: 32px;\n",
              "    }\n",
              "\n",
              "    .colab-df-convert:hover {\n",
              "      background-color: #E2EBFA;\n",
              "      box-shadow: 0px 1px 2px rgba(60, 64, 67, 0.3), 0px 1px 3px 1px rgba(60, 64, 67, 0.15);\n",
              "      fill: #174EA6;\n",
              "    }\n",
              "\n",
              "    .colab-df-buttons div {\n",
              "      margin-bottom: 4px;\n",
              "    }\n",
              "\n",
              "    [theme=dark] .colab-df-convert {\n",
              "      background-color: #3B4455;\n",
              "      fill: #D2E3FC;\n",
              "    }\n",
              "\n",
              "    [theme=dark] .colab-df-convert:hover {\n",
              "      background-color: #434B5C;\n",
              "      box-shadow: 0px 1px 3px 1px rgba(0, 0, 0, 0.15);\n",
              "      filter: drop-shadow(0px 1px 2px rgba(0, 0, 0, 0.3));\n",
              "      fill: #FFFFFF;\n",
              "    }\n",
              "  </style>\n",
              "\n",
              "    <script>\n",
              "      const buttonEl =\n",
              "        document.querySelector('#df-35ecdf93-f929-4b92-9603-51f8229023af button.colab-df-convert');\n",
              "      buttonEl.style.display =\n",
              "        google.colab.kernel.accessAllowed ? 'block' : 'none';\n",
              "\n",
              "      async function convertToInteractive(key) {\n",
              "        const element = document.querySelector('#df-35ecdf93-f929-4b92-9603-51f8229023af');\n",
              "        const dataTable =\n",
              "          await google.colab.kernel.invokeFunction('convertToInteractive',\n",
              "                                                    [key], {});\n",
              "        if (!dataTable) return;\n",
              "\n",
              "        const docLinkHtml = 'Like what you see? Visit the ' +\n",
              "          '<a target=\"_blank\" href=https://colab.research.google.com/notebooks/data_table.ipynb>data table notebook</a>'\n",
              "          + ' to learn more about interactive tables.';\n",
              "        element.innerHTML = '';\n",
              "        dataTable['output_type'] = 'display_data';\n",
              "        await google.colab.output.renderOutput(dataTable, element);\n",
              "        const docLink = document.createElement('div');\n",
              "        docLink.innerHTML = docLinkHtml;\n",
              "        element.appendChild(docLink);\n",
              "      }\n",
              "    </script>\n",
              "  </div>\n",
              "\n",
              "\n",
              "<div id=\"df-7d021bd3-9f24-4d10-9027-e54de38086e0\">\n",
              "  <button class=\"colab-df-quickchart\" onclick=\"quickchart('df-7d021bd3-9f24-4d10-9027-e54de38086e0')\"\n",
              "            title=\"Suggest charts\"\n",
              "            style=\"display:none;\">\n",
              "\n",
              "<svg xmlns=\"http://www.w3.org/2000/svg\" height=\"24px\"viewBox=\"0 0 24 24\"\n",
              "     width=\"24px\">\n",
              "    <g>\n",
              "        <path d=\"M19 3H5c-1.1 0-2 .9-2 2v14c0 1.1.9 2 2 2h14c1.1 0 2-.9 2-2V5c0-1.1-.9-2-2-2zM9 17H7v-7h2v7zm4 0h-2V7h2v10zm4 0h-2v-4h2v4z\"/>\n",
              "    </g>\n",
              "</svg>\n",
              "  </button>\n",
              "\n",
              "<style>\n",
              "  .colab-df-quickchart {\n",
              "      --bg-color: #E8F0FE;\n",
              "      --fill-color: #1967D2;\n",
              "      --hover-bg-color: #E2EBFA;\n",
              "      --hover-fill-color: #174EA6;\n",
              "      --disabled-fill-color: #AAA;\n",
              "      --disabled-bg-color: #DDD;\n",
              "  }\n",
              "\n",
              "  [theme=dark] .colab-df-quickchart {\n",
              "      --bg-color: #3B4455;\n",
              "      --fill-color: #D2E3FC;\n",
              "      --hover-bg-color: #434B5C;\n",
              "      --hover-fill-color: #FFFFFF;\n",
              "      --disabled-bg-color: #3B4455;\n",
              "      --disabled-fill-color: #666;\n",
              "  }\n",
              "\n",
              "  .colab-df-quickchart {\n",
              "    background-color: var(--bg-color);\n",
              "    border: none;\n",
              "    border-radius: 50%;\n",
              "    cursor: pointer;\n",
              "    display: none;\n",
              "    fill: var(--fill-color);\n",
              "    height: 32px;\n",
              "    padding: 0;\n",
              "    width: 32px;\n",
              "  }\n",
              "\n",
              "  .colab-df-quickchart:hover {\n",
              "    background-color: var(--hover-bg-color);\n",
              "    box-shadow: 0 1px 2px rgba(60, 64, 67, 0.3), 0 1px 3px 1px rgba(60, 64, 67, 0.15);\n",
              "    fill: var(--button-hover-fill-color);\n",
              "  }\n",
              "\n",
              "  .colab-df-quickchart-complete:disabled,\n",
              "  .colab-df-quickchart-complete:disabled:hover {\n",
              "    background-color: var(--disabled-bg-color);\n",
              "    fill: var(--disabled-fill-color);\n",
              "    box-shadow: none;\n",
              "  }\n",
              "\n",
              "  .colab-df-spinner {\n",
              "    border: 2px solid var(--fill-color);\n",
              "    border-color: transparent;\n",
              "    border-bottom-color: var(--fill-color);\n",
              "    animation:\n",
              "      spin 1s steps(1) infinite;\n",
              "  }\n",
              "\n",
              "  @keyframes spin {\n",
              "    0% {\n",
              "      border-color: transparent;\n",
              "      border-bottom-color: var(--fill-color);\n",
              "      border-left-color: var(--fill-color);\n",
              "    }\n",
              "    20% {\n",
              "      border-color: transparent;\n",
              "      border-left-color: var(--fill-color);\n",
              "      border-top-color: var(--fill-color);\n",
              "    }\n",
              "    30% {\n",
              "      border-color: transparent;\n",
              "      border-left-color: var(--fill-color);\n",
              "      border-top-color: var(--fill-color);\n",
              "      border-right-color: var(--fill-color);\n",
              "    }\n",
              "    40% {\n",
              "      border-color: transparent;\n",
              "      border-right-color: var(--fill-color);\n",
              "      border-top-color: var(--fill-color);\n",
              "    }\n",
              "    60% {\n",
              "      border-color: transparent;\n",
              "      border-right-color: var(--fill-color);\n",
              "    }\n",
              "    80% {\n",
              "      border-color: transparent;\n",
              "      border-right-color: var(--fill-color);\n",
              "      border-bottom-color: var(--fill-color);\n",
              "    }\n",
              "    90% {\n",
              "      border-color: transparent;\n",
              "      border-bottom-color: var(--fill-color);\n",
              "    }\n",
              "  }\n",
              "</style>\n",
              "\n",
              "  <script>\n",
              "    async function quickchart(key) {\n",
              "      const quickchartButtonEl =\n",
              "        document.querySelector('#' + key + ' button');\n",
              "      quickchartButtonEl.disabled = true;  // To prevent multiple clicks.\n",
              "      quickchartButtonEl.classList.add('colab-df-spinner');\n",
              "      try {\n",
              "        const charts = await google.colab.kernel.invokeFunction(\n",
              "            'suggestCharts', [key], {});\n",
              "      } catch (error) {\n",
              "        console.error('Error during call to suggestCharts:', error);\n",
              "      }\n",
              "      quickchartButtonEl.classList.remove('colab-df-spinner');\n",
              "      quickchartButtonEl.classList.add('colab-df-quickchart-complete');\n",
              "    }\n",
              "    (() => {\n",
              "      let quickchartButtonEl =\n",
              "        document.querySelector('#df-7d021bd3-9f24-4d10-9027-e54de38086e0 button');\n",
              "      quickchartButtonEl.style.display =\n",
              "        google.colab.kernel.accessAllowed ? 'block' : 'none';\n",
              "    })();\n",
              "  </script>\n",
              "</div>\n",
              "\n",
              "    </div>\n",
              "  </div>\n"
            ],
            "application/vnd.google.colaboratory.intrinsic+json": {
              "type": "dataframe",
              "variable_name": "dataset",
              "summary": "{\n  \"name\": \"dataset\",\n  \"rows\": 5171,\n  \"fields\": [\n    {\n      \"column\": \"label\",\n      \"properties\": {\n        \"dtype\": \"category\",\n        \"num_unique_values\": 2,\n        \"samples\": [\n          \"spam\",\n          \"ham\"\n        ],\n        \"semantic_type\": \"\",\n        \"description\": \"\"\n      }\n    },\n    {\n      \"column\": \"text\",\n      \"properties\": {\n        \"dtype\": \"string\",\n        \"num_unique_values\": 4993,\n        \"samples\": [\n          \"Subject: hpl / conoco - teco waha 03 / 23 / 01 purchase\\ndaren , conoco invoiced hpl at $ 5 . 87 for 03 / 23 at pgev / waha and deal ticket 685350 shows $ 4 . 87 . can you confirm the price ? thanks .\",\n          \"Subject: holiday on - call data\\npipeline contact phone fax pager\\nblack marlin blair lichentwalter 713 853 - 7367 713 646 - 3201 ( h )\\n281 370 - 1866\\ndebbie thompson 713 853 - 3144 713 646 - 3201\\n( noms due today for 23 rd through 27 th )\\nchannel jim tobacco 713 420 - 2159\\ngas control 1 505 599 - 2333\\n( open thursday . noms will be due through monday )\\ncentana william spekels 713 627 - 6290 713 762 - 3450\\ndonna spencer 713 627 - 6255\\ngas control 1 888 204 - 1718\\n( noms due today for 23 rd through 27 th )\\nduke energy annette anderson 713 260 - 8603 713 949 - 3026\\n( on call ) bob moseman 713 - 260 - 8698 ( thursday )\\nopen tomorrow - noms will be due thru the 27 th )\\nlonestar gary gafford 214 670 - 2674 214 875 - 3810\\ngas control 214 875 - 2455 or 2456\\n( noms due today , 23 rd thru 27 th )\\nnorthern natural ben markey 853 - 7581 cell 713 446 - 9404 800 931 - 0398\\n( on call ) charlie mosey 853 - 1520\\ngas control 853 -\\n( open thursday - noms due thru 27 th . )\\neast trans - east texas\\ntejas gas control 713 767 - 5366\\npaula svehla 713 230 - 3569\\nmickey chapman 713 230 - 3546\\n( open thursday - noms due thru 27 th )\\nmidcon ( y 2 k ) ken nachlinger 713 369 - 9284 713 369 - 9375 888 733 - 5954\\n( on call ) steven 888 790 - 0255\\n( y 2 k ) don 888 733 - 4602\\ngas control 713 369 - 9200\\n( noms due today , 23 rd thru 27 th )\\nmoss bluff no current business\"\n        ],\n        \"semantic_type\": \"\",\n        \"description\": \"\"\n      }\n    },\n    {\n      \"column\": \"label_num\",\n      \"properties\": {\n        \"dtype\": \"number\",\n        \"std\": 0,\n        \"min\": 0,\n        \"max\": 1,\n        \"num_unique_values\": 2,\n        \"samples\": [\n          1,\n          0\n        ],\n        \"semantic_type\": \"\",\n        \"description\": \"\"\n      }\n    },\n    {\n      \"column\": \"text_length\",\n      \"properties\": {\n        \"dtype\": \"number\",\n        \"std\": 336,\n        \"min\": 1,\n        \"max\": 8862,\n        \"num_unique_values\": 900,\n        \"samples\": [\n          427,\n          1267\n        ],\n        \"semantic_type\": \"\",\n        \"description\": \"\"\n      }\n    }\n  ]\n}"
            }
          },
          "metadata": {},
          "execution_count": 13
        }
      ]
    },
    {
      "cell_type": "code",
      "source": [
        "# Calculate the main stastitics of dataset\n",
        "dataset.describe()"
      ],
      "metadata": {
        "colab": {
          "base_uri": "https://localhost:8080/",
          "height": 300
        },
        "id": "AiVMmAiWdUK4",
        "outputId": "1e3c535f-79c0-4306-d8dc-34e689bfd785"
      },
      "execution_count": null,
      "outputs": [
        {
          "output_type": "execute_result",
          "data": {
            "text/plain": [
              "         label_num  text_length\n",
              "count  5171.000000  5171.000000\n",
              "mean      0.289886   227.783601\n",
              "std       0.453753   336.031616\n",
              "min       0.000000     1.000000\n",
              "25%       0.000000    51.000000\n",
              "50%       0.000000   121.000000\n",
              "75%       1.000000   282.000000\n",
              "max       1.000000  8862.000000"
            ],
            "text/html": [
              "\n",
              "  <div id=\"df-1c69fcea-2749-41dc-91ba-7550fb215298\" class=\"colab-df-container\">\n",
              "    <div>\n",
              "<style scoped>\n",
              "    .dataframe tbody tr th:only-of-type {\n",
              "        vertical-align: middle;\n",
              "    }\n",
              "\n",
              "    .dataframe tbody tr th {\n",
              "        vertical-align: top;\n",
              "    }\n",
              "\n",
              "    .dataframe thead th {\n",
              "        text-align: right;\n",
              "    }\n",
              "</style>\n",
              "<table border=\"1\" class=\"dataframe\">\n",
              "  <thead>\n",
              "    <tr style=\"text-align: right;\">\n",
              "      <th></th>\n",
              "      <th>label_num</th>\n",
              "      <th>text_length</th>\n",
              "    </tr>\n",
              "  </thead>\n",
              "  <tbody>\n",
              "    <tr>\n",
              "      <th>count</th>\n",
              "      <td>5171.000000</td>\n",
              "      <td>5171.000000</td>\n",
              "    </tr>\n",
              "    <tr>\n",
              "      <th>mean</th>\n",
              "      <td>0.289886</td>\n",
              "      <td>227.783601</td>\n",
              "    </tr>\n",
              "    <tr>\n",
              "      <th>std</th>\n",
              "      <td>0.453753</td>\n",
              "      <td>336.031616</td>\n",
              "    </tr>\n",
              "    <tr>\n",
              "      <th>min</th>\n",
              "      <td>0.000000</td>\n",
              "      <td>1.000000</td>\n",
              "    </tr>\n",
              "    <tr>\n",
              "      <th>25%</th>\n",
              "      <td>0.000000</td>\n",
              "      <td>51.000000</td>\n",
              "    </tr>\n",
              "    <tr>\n",
              "      <th>50%</th>\n",
              "      <td>0.000000</td>\n",
              "      <td>121.000000</td>\n",
              "    </tr>\n",
              "    <tr>\n",
              "      <th>75%</th>\n",
              "      <td>1.000000</td>\n",
              "      <td>282.000000</td>\n",
              "    </tr>\n",
              "    <tr>\n",
              "      <th>max</th>\n",
              "      <td>1.000000</td>\n",
              "      <td>8862.000000</td>\n",
              "    </tr>\n",
              "  </tbody>\n",
              "</table>\n",
              "</div>\n",
              "    <div class=\"colab-df-buttons\">\n",
              "\n",
              "  <div class=\"colab-df-container\">\n",
              "    <button class=\"colab-df-convert\" onclick=\"convertToInteractive('df-1c69fcea-2749-41dc-91ba-7550fb215298')\"\n",
              "            title=\"Convert this dataframe to an interactive table.\"\n",
              "            style=\"display:none;\">\n",
              "\n",
              "  <svg xmlns=\"http://www.w3.org/2000/svg\" height=\"24px\" viewBox=\"0 -960 960 960\">\n",
              "    <path d=\"M120-120v-720h720v720H120Zm60-500h600v-160H180v160Zm220 220h160v-160H400v160Zm0 220h160v-160H400v160ZM180-400h160v-160H180v160Zm440 0h160v-160H620v160ZM180-180h160v-160H180v160Zm440 0h160v-160H620v160Z\"/>\n",
              "  </svg>\n",
              "    </button>\n",
              "\n",
              "  <style>\n",
              "    .colab-df-container {\n",
              "      display:flex;\n",
              "      gap: 12px;\n",
              "    }\n",
              "\n",
              "    .colab-df-convert {\n",
              "      background-color: #E8F0FE;\n",
              "      border: none;\n",
              "      border-radius: 50%;\n",
              "      cursor: pointer;\n",
              "      display: none;\n",
              "      fill: #1967D2;\n",
              "      height: 32px;\n",
              "      padding: 0 0 0 0;\n",
              "      width: 32px;\n",
              "    }\n",
              "\n",
              "    .colab-df-convert:hover {\n",
              "      background-color: #E2EBFA;\n",
              "      box-shadow: 0px 1px 2px rgba(60, 64, 67, 0.3), 0px 1px 3px 1px rgba(60, 64, 67, 0.15);\n",
              "      fill: #174EA6;\n",
              "    }\n",
              "\n",
              "    .colab-df-buttons div {\n",
              "      margin-bottom: 4px;\n",
              "    }\n",
              "\n",
              "    [theme=dark] .colab-df-convert {\n",
              "      background-color: #3B4455;\n",
              "      fill: #D2E3FC;\n",
              "    }\n",
              "\n",
              "    [theme=dark] .colab-df-convert:hover {\n",
              "      background-color: #434B5C;\n",
              "      box-shadow: 0px 1px 3px 1px rgba(0, 0, 0, 0.15);\n",
              "      filter: drop-shadow(0px 1px 2px rgba(0, 0, 0, 0.3));\n",
              "      fill: #FFFFFF;\n",
              "    }\n",
              "  </style>\n",
              "\n",
              "    <script>\n",
              "      const buttonEl =\n",
              "        document.querySelector('#df-1c69fcea-2749-41dc-91ba-7550fb215298 button.colab-df-convert');\n",
              "      buttonEl.style.display =\n",
              "        google.colab.kernel.accessAllowed ? 'block' : 'none';\n",
              "\n",
              "      async function convertToInteractive(key) {\n",
              "        const element = document.querySelector('#df-1c69fcea-2749-41dc-91ba-7550fb215298');\n",
              "        const dataTable =\n",
              "          await google.colab.kernel.invokeFunction('convertToInteractive',\n",
              "                                                    [key], {});\n",
              "        if (!dataTable) return;\n",
              "\n",
              "        const docLinkHtml = 'Like what you see? Visit the ' +\n",
              "          '<a target=\"_blank\" href=https://colab.research.google.com/notebooks/data_table.ipynb>data table notebook</a>'\n",
              "          + ' to learn more about interactive tables.';\n",
              "        element.innerHTML = '';\n",
              "        dataTable['output_type'] = 'display_data';\n",
              "        await google.colab.output.renderOutput(dataTable, element);\n",
              "        const docLink = document.createElement('div');\n",
              "        docLink.innerHTML = docLinkHtml;\n",
              "        element.appendChild(docLink);\n",
              "      }\n",
              "    </script>\n",
              "  </div>\n",
              "\n",
              "\n",
              "<div id=\"df-86857a1e-b332-4f09-a8fc-6d15b81c9800\">\n",
              "  <button class=\"colab-df-quickchart\" onclick=\"quickchart('df-86857a1e-b332-4f09-a8fc-6d15b81c9800')\"\n",
              "            title=\"Suggest charts\"\n",
              "            style=\"display:none;\">\n",
              "\n",
              "<svg xmlns=\"http://www.w3.org/2000/svg\" height=\"24px\"viewBox=\"0 0 24 24\"\n",
              "     width=\"24px\">\n",
              "    <g>\n",
              "        <path d=\"M19 3H5c-1.1 0-2 .9-2 2v14c0 1.1.9 2 2 2h14c1.1 0 2-.9 2-2V5c0-1.1-.9-2-2-2zM9 17H7v-7h2v7zm4 0h-2V7h2v10zm4 0h-2v-4h2v4z\"/>\n",
              "    </g>\n",
              "</svg>\n",
              "  </button>\n",
              "\n",
              "<style>\n",
              "  .colab-df-quickchart {\n",
              "      --bg-color: #E8F0FE;\n",
              "      --fill-color: #1967D2;\n",
              "      --hover-bg-color: #E2EBFA;\n",
              "      --hover-fill-color: #174EA6;\n",
              "      --disabled-fill-color: #AAA;\n",
              "      --disabled-bg-color: #DDD;\n",
              "  }\n",
              "\n",
              "  [theme=dark] .colab-df-quickchart {\n",
              "      --bg-color: #3B4455;\n",
              "      --fill-color: #D2E3FC;\n",
              "      --hover-bg-color: #434B5C;\n",
              "      --hover-fill-color: #FFFFFF;\n",
              "      --disabled-bg-color: #3B4455;\n",
              "      --disabled-fill-color: #666;\n",
              "  }\n",
              "\n",
              "  .colab-df-quickchart {\n",
              "    background-color: var(--bg-color);\n",
              "    border: none;\n",
              "    border-radius: 50%;\n",
              "    cursor: pointer;\n",
              "    display: none;\n",
              "    fill: var(--fill-color);\n",
              "    height: 32px;\n",
              "    padding: 0;\n",
              "    width: 32px;\n",
              "  }\n",
              "\n",
              "  .colab-df-quickchart:hover {\n",
              "    background-color: var(--hover-bg-color);\n",
              "    box-shadow: 0 1px 2px rgba(60, 64, 67, 0.3), 0 1px 3px 1px rgba(60, 64, 67, 0.15);\n",
              "    fill: var(--button-hover-fill-color);\n",
              "  }\n",
              "\n",
              "  .colab-df-quickchart-complete:disabled,\n",
              "  .colab-df-quickchart-complete:disabled:hover {\n",
              "    background-color: var(--disabled-bg-color);\n",
              "    fill: var(--disabled-fill-color);\n",
              "    box-shadow: none;\n",
              "  }\n",
              "\n",
              "  .colab-df-spinner {\n",
              "    border: 2px solid var(--fill-color);\n",
              "    border-color: transparent;\n",
              "    border-bottom-color: var(--fill-color);\n",
              "    animation:\n",
              "      spin 1s steps(1) infinite;\n",
              "  }\n",
              "\n",
              "  @keyframes spin {\n",
              "    0% {\n",
              "      border-color: transparent;\n",
              "      border-bottom-color: var(--fill-color);\n",
              "      border-left-color: var(--fill-color);\n",
              "    }\n",
              "    20% {\n",
              "      border-color: transparent;\n",
              "      border-left-color: var(--fill-color);\n",
              "      border-top-color: var(--fill-color);\n",
              "    }\n",
              "    30% {\n",
              "      border-color: transparent;\n",
              "      border-left-color: var(--fill-color);\n",
              "      border-top-color: var(--fill-color);\n",
              "      border-right-color: var(--fill-color);\n",
              "    }\n",
              "    40% {\n",
              "      border-color: transparent;\n",
              "      border-right-color: var(--fill-color);\n",
              "      border-top-color: var(--fill-color);\n",
              "    }\n",
              "    60% {\n",
              "      border-color: transparent;\n",
              "      border-right-color: var(--fill-color);\n",
              "    }\n",
              "    80% {\n",
              "      border-color: transparent;\n",
              "      border-right-color: var(--fill-color);\n",
              "      border-bottom-color: var(--fill-color);\n",
              "    }\n",
              "    90% {\n",
              "      border-color: transparent;\n",
              "      border-bottom-color: var(--fill-color);\n",
              "    }\n",
              "  }\n",
              "</style>\n",
              "\n",
              "  <script>\n",
              "    async function quickchart(key) {\n",
              "      const quickchartButtonEl =\n",
              "        document.querySelector('#' + key + ' button');\n",
              "      quickchartButtonEl.disabled = true;  // To prevent multiple clicks.\n",
              "      quickchartButtonEl.classList.add('colab-df-spinner');\n",
              "      try {\n",
              "        const charts = await google.colab.kernel.invokeFunction(\n",
              "            'suggestCharts', [key], {});\n",
              "      } catch (error) {\n",
              "        console.error('Error during call to suggestCharts:', error);\n",
              "      }\n",
              "      quickchartButtonEl.classList.remove('colab-df-spinner');\n",
              "      quickchartButtonEl.classList.add('colab-df-quickchart-complete');\n",
              "    }\n",
              "    (() => {\n",
              "      let quickchartButtonEl =\n",
              "        document.querySelector('#df-86857a1e-b332-4f09-a8fc-6d15b81c9800 button');\n",
              "      quickchartButtonEl.style.display =\n",
              "        google.colab.kernel.accessAllowed ? 'block' : 'none';\n",
              "    })();\n",
              "  </script>\n",
              "</div>\n",
              "\n",
              "    </div>\n",
              "  </div>\n"
            ],
            "application/vnd.google.colaboratory.intrinsic+json": {
              "type": "dataframe",
              "summary": "{\n  \"name\": \"dataset\",\n  \"rows\": 8,\n  \"fields\": [\n    {\n      \"column\": \"label_num\",\n      \"properties\": {\n        \"dtype\": \"number\",\n        \"std\": 1828.0860555178492,\n        \"min\": 0.0,\n        \"max\": 5171.0,\n        \"num_unique_values\": 5,\n        \"samples\": [\n          0.2898859021465867,\n          1.0,\n          0.45375310746089564\n        ],\n        \"semantic_type\": \"\",\n        \"description\": \"\"\n      }\n    },\n    {\n      \"column\": \"text_length\",\n      \"properties\": {\n        \"dtype\": \"number\",\n        \"std\": 3321.277980158338,\n        \"min\": 1.0,\n        \"max\": 8862.0,\n        \"num_unique_values\": 8,\n        \"samples\": [\n          227.78360085089923,\n          121.0,\n          5171.0\n        ],\n        \"semantic_type\": \"\",\n        \"description\": \"\"\n      }\n    }\n  ]\n}"
            }
          },
          "metadata": {},
          "execution_count": 14
        }
      ]
    },
    {
      "cell_type": "markdown",
      "source": [
        "Summary Statistics:\n",
        "\n",
        "Label Number (label_num):\n",
        "\n",
        "*   Count: 5,171 data points\n",
        "*   Mean: 0.29\n",
        "*   Standard Deviation: 0.45\n",
        "*   Minimum: 0\n",
        "*   25th Percentile (Q1): 0\n",
        "*   50th Percentile (Median): 0\n",
        "*   75th Percentile (Q3): 1\n",
        "*   Maximum: 1\n",
        "\n",
        "Text Length (text_length):\n",
        "\n",
        "*   Count: 5,171 data points\n",
        "*   Mean: 227.78 characters\n",
        "*   Standard Deviation: 336.03 characters\n",
        "*   Minimum: 1 character\n",
        "*   25th Percentile (Q1): 51 characters\n",
        "*   50th Percentile (Median): 121 characters\n",
        "*   75th Percentile (Q3): 282 characters\n",
        "*   Maximum: 8,862 characters\n",
        "\n",
        "\n",
        "Interpretation:\n",
        "\n",
        "*   The label_num variable, which could represent a binary classification label, shows that approximately 29% of the samples have a label of 1, while 71% have a label of 0. The standard deviation indicates variability in the labels, though it is relatively low given the binary nature of the data.\n",
        "\n",
        "*   The text_length variable shows a wide range of text lengths, from very short texts to very long ones. The mean length is about 228 characters, but there's considerable variability (standard deviation of 336 characters), with some texts being much longer than others. The median length (121 characters) indicates that half of the texts are shorter than this value, and the 75th percentile (282 characters) shows that 75% of the texts are shorter than this length. The maximum length of 8,862 characters suggests the presence of a few very long texts in the dataset."
      ],
      "metadata": {
        "id": "CC4cLwfFfmCK"
      }
    },
    {
      "cell_type": "markdown",
      "source": [
        "## 6.2 - Features Analysis: Emails"
      ],
      "metadata": {
        "id": "mxZHqDahR-I_"
      }
    },
    {
      "cell_type": "code",
      "source": [
        "# Number of emails to print\n",
        "number_emails = 10\n",
        "\n",
        "# For each labels print 10 random comments\n",
        "for label in LABELS:\n",
        "    print(f\"Label: {label}\")\n",
        "    emails = dataset[dataset[\"label\"] == label].sample(n=number_emails, random_state=RANDOM_SEED)['text']\n",
        "    for i, email in enumerate(emails, 1):\n",
        "        print(f\"{i}. {email}\\n\")\n",
        "    print(\"\\n\" + \"-\"*50 + \"\\n\")"
      ],
      "metadata": {
        "colab": {
          "base_uri": "https://localhost:8080/"
        },
        "id": "TwBjAkjARsKN",
        "outputId": "ca655016-aaee-40e0-faab-7f94dfc20e78"
      },
      "execution_count": null,
      "outputs": [
        {
          "output_type": "stream",
          "name": "stdout",
          "text": [
            "Label: spam\n",
            "1. Subject: liffe is great\n",
            "hello ,\n",
            "vlsit our medsbymail shop and save over 80 %\n",
            "vl\n",
            "raam\n",
            "enle\n",
            "racl\n",
            "is ,\n",
            "and\n",
            "ag\n",
            "bi\n",
            "vlt\n",
            "al\n",
            "manyother .\n",
            "you will be pieasantly surprised with our prlces !\n",
            "have a nice day .\n",
            "\n",
            "2. Subject: how cuold you do this to a firned ?\n",
            "save up to 70 % on all kind of drugs\n",
            "quick ordering amd delivery\n",
            "fast and free shipping - we have them all\n",
            "order now - overnight shipping available nowhere else -\n",
            "we are the only one offering overnight deliver for - - xanax - - + valium - -\n",
            "click here to order\n",
            "\n",
            "\n",
            "3. Subject: decadent\n",
            "soto , \\\n",
            "_ 95 % 0 ff for\n",
            "all - vi - a - g - ra , c - ia - - l - is , - - l - evitra - - .\n",
            "credible , devil knows what , desperado , was at stake , tart , after him came , gain , in a brief .\n",
            "\n",
            "\n",
            "4. Subject: sugper viagrga is fabuklous\n",
            "only real super viagdra called ciadlis is effective !\n",
            "annual sale : only $ 3 per dose\n",
            "check out our website with disscounts and\n",
            "get your fdree bonus pillls\n",
            "remove here :\n",
            "http : / / herbalfactory . net / sv / chair . php\n",
            "\n",
            "\n",
            "5. Subject: did you notice ?\n",
            "never agaln\n",
            "minnesota , which can clinch a wild - card\n",
            "playoff spot with a loss by either carolina or st . louis this weekend , appeared on\n",
            "its way to retaking the lead . but a holding penalty on birk - - the vikings were\n",
            "flagged nine times for 78 yards - - wiped out a 16 - yard run by michael bennett that\n",
            "would have given them the ball at the green bay 40 just before the 2 - minute warning .\n",
            "the vikings ( 8 - 7 ) , though , couldn ' t\n",
            "get what they needed from a pass defense that has struggled all season .\n",
            "government spokesman raanan gissin\n",
            "said four soldiers were killed .\n",
            "six people were taken to hospital - -\n",
            "four badly hurt , one with moderate injuries and one lightly injured , military\n",
            "sources said .\n",
            "the sources said another soldier\n",
            "remained beneath the rubble .\n",
            "gissin said rescue operations were\n",
            "continuing sunday night .\n",
            "the attack \" indicates that unless\n",
            "there is decisive and sustained effort taken to dismantle the terrorist\n",
            "organization , it will be impossible to move towards normalizations and towards\n",
            "political negotiations , \" gissin told a news crew . \" and i think the\n",
            "responsibility on that lies with the palestinian authority . \"\n",
            "shortly after the first blast , a\n",
            "second explosion was heard in southern gaza , but its precise location was not\n",
            "immediately known .\n",
            "hamas , in a phone call to cnn , said\n",
            "it had set off the first explosion near rafah in cooperation with a group called\n",
            "the fatah hawks .\n",
            "there was no immediate information\n",
            "available on that group , although it was believed to be linked to the fatah\n",
            "movement formerly led by the late palestinian leader yasser arafat .\n",
            "israeli military sources said it was\n",
            "a coordinated attack , with palestinians firing mortar shells and guns at the\n",
            "post when the explosives were detonated .\n",
            "it was not clear whether there were\n",
            "palestinian casualties .\n",
            "news video of the aftermath showed\n",
            "soldiers using stretchers to transport troops who appeared to be severely\n",
            "wounded .\n",
            "in a pamphlet distributed after the\n",
            "attack , hamas said it had used 1 . 5 tons of explosives and had recorded video of\n",
            "the incident .\n",
            "palestinians have used tunnels in the\n",
            "area to smuggle weapons from egypt . israel has carried out operations to crack\n",
            "down on the smuggling . shell explosion in schoolyard\n",
            "an israeli tank shell exploded in a\n",
            "gaza schoolyard sunday morning , wounding eight palestinian schoolchildren ,\n",
            "palestinian medical and security sources said .\n",
            "the children between the ages of 6\n",
            "and 12 - - sustained moderate to light injuries , the sources said .\n",
            "the violence happened in khan yunis\n",
            "in central gaza\n",
            "israeli military sources said that\n",
            "forces in the area identified what they thought was a number of mortar shells\n",
            "being fired towards israeli settlements nearby .\n",
            "in response , the forces fired towards\n",
            "the positions with light weapons , but did not fire a tank shell , the military\n",
            "sources said .\n",
            "\n",
            "6. Subject: digital cameras , pda ' s and mp 3 player ' s , 2 . 2 gb drive @ $ 78 . 00\n",
            "2 . 2 gb cf + type ii\n",
            "drive\n",
            "$ 78 . 00\n",
            "great for digital cameras , pda ' s or\n",
            "mp 3 player ' s ! ! provide 2 . 2 gigabytes of high capacity ,\n",
            "high - performance removable storage in a one - inch hard disk drive .\n",
            "this magicstor card integrates with a variety of handheld devices\n",
            "through use of the industry - standard cf + type ii format and compatibility .\n",
            "plus , its so small you can take it almost anywhere ! ! ! !\n",
            "visit : http : / / www . computron - me . com for deals\n",
            "!\n",
            "your one stop distributorjebel ali duty free zonedubai , uae . www . computron - me . com\n",
            "for latest clearance sale listing contact our\n",
            "sales department .\n",
            "for further details please send\n",
            "your enquiries to : dealers @ emirates . net . aeor contact via www . computron - me . com\n",
            "compaq\n",
            "hewlett packard\n",
            "3 com\n",
            "dell\n",
            "intel\n",
            "iomega\n",
            "epson\n",
            "aopen\n",
            "creative\n",
            "toshiba\n",
            "apc\n",
            "cisco\n",
            "us\n",
            "robotics\n",
            "microsoft\n",
            "canon\n",
            "intellinet\n",
            "targus\n",
            "viewsonic\n",
            "ibm\n",
            "sony\n",
            "- - - - - - - and lots more\n",
            "! ! !\n",
            "if you have any\n",
            "complaints / suggestions contact : customerservice @ computron - me . com\n",
            "tel + 971 4\n",
            "8834464\n",
            "all prices in u . s . dollars , ex - works ,\n",
            "fax + 971 4\n",
            "8834454\n",
            "jebel ali duty free zone\n",
            "www . computron - me . com\n",
            "prices and availability subject to change\n",
            "usa -\n",
            "canada u . a . e .\n",
            "without\n",
            "notice .\n",
            "to receive our special offers\n",
            "in plain\n",
            "text format reply to this\n",
            "mail with the request * for\n",
            "export only *\n",
            "this email can not be considered spam as long as we include\n",
            ": contact information remove instructions . this message is intended\n",
            "for dealer and resellers only . if you have somehow gotten on this list in\n",
            "error , or for any other reason would like to be removed , please reply with\n",
            "\" remove \" in the subject line of your message . this message is being sent\n",
            "to you in compliance with the federal legislation for commercial e - mail\n",
            "( h . r . 4176 - section 101 paragraph ( e ) ( 1 ) ( a ) and bill s . 1618 title iii\n",
            "passed by the 105 th u . s . congress .\n",
            "all logos and\n",
            "trademarks are the property of their respective\n",
            "owners\n",
            "products may not be exactly as shown\n",
            "above\n",
            "- -\n",
            "to unsubscribe from : computron 4 , just follow this link :\n",
            "click the link , or copy and paste the address into your browser .\n",
            "please give it atleast 48 hours for unsubscription to be effective .\n",
            "\n",
            "7. Subject: growing company ignored by wall street\n",
            "breaking news at the ciose friday\n",
            "itec environmenta | group , inc . ( otcbb : i - t - e - c )\n",
            "current price : $ . 24\n",
            "voiume friday : 698 , 474 shares\n",
            "how wi | | the stock react to the foilowing news monday ?\n",
            "if you thiink it wiil jump , you may not want to wait\n",
            "unti | it ' s too late .\n",
            "press release : source : itec environmental group , inc .\n",
            "itec environmental group , inc . projects continued\n",
            "growth and increased revenue in connection with h .\n",
            "muehistein agreement and commitments from piastic\n",
            "recyciing corp . of caiifornia\n",
            "oakdale , calif . - - ( business wire ) march 18 , 20 o 5 , itec\n",
            "environmenta | group , inc . ( itec . ob ) today announced it\n",
            "secured a suppiy of raw material from the major\n",
            "collector of the post consumer used beverage\n",
            "containers in california as well as from several\n",
            "independent sources . the plastic recycling corp . of\n",
            "caiifornia ( prcc ) has committed to make available to\n",
            "itec up to 100 miliion pounds of material per year .\n",
            "itec is currently in negotiations for a $ 12 million\n",
            "financing to buiid two pet and hdpe flake\n",
            "manufacturing faciiities . as part of the negotiations\n",
            "the company was required to restructure a major\n",
            "portion of its debt , which was completed in eariy\n",
            "january 20 o 5 . itecs first piant wi | | be capable of\n",
            "producing up to 44 miliion pounds per year .\n",
            "construction , instailation and start - up for the first\n",
            "plant are anticipated to take approximateiy four\n",
            "months . the plant is expected to be fuliy operational\n",
            "and generating revenues within 17 weeks from the\n",
            "ciosing of the $ 12 million financing .\n",
            "once itec obtains the working capital necessary to\n",
            "build its first plant , it wiil be well positioned to\n",
            "produce and sell a | arge quantity of its pet and hdpe\n",
            "fiake . itec recently entered into a three - year agency\n",
            "agreement with h . muehistein co . , inc . , pursuant to\n",
            "which h . muehlstein wi | | act as itecs exclusive agent\n",
            "for the purchase and sale annua | | y of up to 60 mi | | ion\n",
            "pounds of itecs pet flake and post - consumer hdpe\n",
            "natura | fiake and peilets in the united states and\n",
            "canada .\n",
            "upon the successfu | compietion of the first plant , the\n",
            "company beiieves it will sell approximateiy 12 mi | | ion\n",
            "pounds of pet and hdpe flake , generating approximately\n",
            "$ 8 , ooo , oo 0 in revenues during its first year of\n",
            "operation , ebitda of approximateiy $ 1 , ooo , ooo and a\n",
            "gross profit margin of 12 % . in accordance with itecs\n",
            "business strategy , itecs second plant wi | | become\n",
            "operationa | in the second year post - financing . during\n",
            "the second year , itec expects both piants to produce\n",
            "approximateiy 47 miliion pounds of flake , generating\n",
            "approximateiy $ 28 , 00 o , ooo in revenues , ebitda of\n",
            "approximateiy $ 6 , oo 0 , oo 0 and a gross profit margin of\n",
            "21 % .\n",
            "customers that purchase itecs pet and hdpe flake\n",
            "include but are not | imited to companies such as\n",
            "owens - i | | inois , which is the largest manufacturer of\n",
            "beverage containers in the usa , leading\n",
            "industries / duris industries , pactive packaging ,\n",
            "reynolds packaging division , karma industries and\n",
            "berkeiey industries , al | of which are | ocated in\n",
            "california . in california and arizona there are\n",
            "approximateiy 3 o manufactures of packaging products\n",
            "that may be abie to use itecs products in their\n",
            "production .\n",
            "about itec environmental group\n",
            "itec environmenta | group offers solutions to pressing\n",
            "environmenta | problems faced by public agencies and\n",
            "private entities involved in the recycling of\n",
            "piastics . in a research partnership with honeyweil\n",
            "fmt , itec has developed and successfu | | y\n",
            "commerciaiized a revoiutionary new system for the\n",
            "recyciing of plastic containers . its proprietary\n",
            "eco 2 tm system costs 30 % less to operate , uses no\n",
            "water , removes al | contaminates and odors from the\n",
            "finished fiake , is closed - | oop and thus non - polluting ,\n",
            "and produces no toxic by - products .\n",
            "_ _ _ _ _ _ _ _ _ _ _ _ _ _ _ _ _ _ _ _ _ _ _ _\n",
            "please watch this one trade . good luck and succesfu |\n",
            "trading . . .\n",
            "information within this emai | contains forward\n",
            "looking statements within the meaning of section 27 a\n",
            "of the securities act of 1933 and section 21 b of the\n",
            "securities exchange act of 1934 . any statements that\n",
            "express or involve discussions with respect to\n",
            "predictions , expectations , beliefs , plans ,\n",
            "projections , objectives , goals , assumptions or future\n",
            "events or performance are not statements of historica |\n",
            "fact and may be forward | ooking statements . forward\n",
            "| ooking statements are based on expectations ,\n",
            "estimates and projections at the time the statements\n",
            "are made that invoive a number of risks and\n",
            "uncertainties which couid cause actual resuits or\n",
            "events to differ materially from those presentiy\n",
            "anticipated . forward looking statements in this action\n",
            "may be identified through the use of words such as\n",
            "projects , foresee , expects , wil | ,\n",
            "anticipates , estimates , beiieves , understands\n",
            "or that by statements indicating certain actions\n",
            "may , couid , or might occur . as with many\n",
            "microcap stocks , today ' s company has additiona | risk\n",
            "factors worth noting . these factors include : a | arge\n",
            "accumuiated deficit , a large negative net worth , a\n",
            "going concern opinion from its auditor , a nominal cash\n",
            "position , a note receivable from an officer , advances\n",
            "from officers to pay expenses , no revenue in its most\n",
            "recent quarter and a | imited operating history . the\n",
            "company is going to need financing . if that financing\n",
            "does not occur , the company may not be able to\n",
            "continue as a going concern in which case you couid\n",
            "lose your entire investment . other factors include\n",
            "general economic and business conditions , the abiiity\n",
            "to acquire and develop specific projects , the abiiity\n",
            "to fund operations and changes in consumer and\n",
            "business consumption habits and other factors over\n",
            "which the company has little or no contro | . the\n",
            "pubiisher of this newsletter does not represent that\n",
            "the information contained in this message states a | |\n",
            "materia | facts or does not omit a material fact\n",
            "necessary to make the statements therein not\n",
            "misieading . al | information provided within this emai |\n",
            "pertaining to investing , stocks , securities must be\n",
            "understood as information provided and not investment\n",
            "advice . the publisher of this newsietter advises ail\n",
            "readers and subscribers to seek advice from a\n",
            "registered professional securities representative\n",
            "before deciding to trade in stocks featured within\n",
            "this email . none of the material within this report\n",
            "shal | be construed as any kind of investment advice or\n",
            "solicitation . many of these companies are on the verge\n",
            "of bankruptcy . you can | ose ail your money by\n",
            "investing in this stock . we urge you to read the\n",
            "company ' s sec fiiings now , before you invest . the\n",
            "pubiisher of this newsietter is not a registered\n",
            "in - vestment advisor . subscribers shouid not view\n",
            "information herein as lega | , tax , accounting or\n",
            "investment advice . in compliance with the securities\n",
            "act of 1933 , section 17 ( b ) , the publisher of this\n",
            "newsletter is contracted to receive one hundred\n",
            "thousand dollars from a third party , not an officer ,\n",
            "director or affiliate shareholder for the circuiation\n",
            "of this report . be aware of an inherent conflict of\n",
            "interest resulting from such compensation due to the\n",
            "fact that this is a paid advertisement and is not\n",
            "without bias . the party that paid us has a position in\n",
            "the stock they will se | | at anytime without notice .\n",
            "this could have a negative impact on the price of the\n",
            "stock , causing you to lose money . all factual\n",
            "information in this report was gathered from pubiic\n",
            "sources , including but not limited to sec filings ,\n",
            "company websites and company press releases . the\n",
            "pubiisher of this newsletter believes this information\n",
            "to be reliabie but can make no guarantee as to its\n",
            "accuracy or completeness . use of the material within\n",
            "this email constitutes your acceptance of these terms .\n",
            "if you wish to stop future maiiings , or if you fee | you have been\n",
            "wrongfuliy piaced in our membership , piease go here or send a blank\n",
            "e mai | with no thanks in the subject to\n",
            "( - stock 39 @ yahoo . com - )\n",
            "\n",
            "\n",
            "8. Subject: we match all pri ' ces smeg\n",
            "the lowest price of all med ' s is here .\n",
            "* vicodin ( $ 45 only )\n",
            "* via - gra ( $ 57 only )\n",
            "* vaiium ( $ 49 only )\n",
            "* hydrocodone ( $ 49 only )\n",
            "* phen - termine ( $ 88 only )\n",
            "we are the be - st available nowadays .\n",
            "this is 1 - time mai - | ing . no re moval are re quired\n",
            "\n",
            "\n",
            "9. Subject: work full - time while earning your degree\n",
            "if you wish to remove yourself from future aiu mailings please click here to here to go to the website and select the unsubscribe link at the bottom of the page . if you wish to unsubscribe from future mailings from this email publisher please follow their listed instructions .\n",
            "\n",
            "\n",
            "10. Subject: have the ability to attract members of the opposite sex\n",
            "improve your sex appeal 1 , 000 %\n",
            "i ' ve experimented with a myriad of pheromones products and along the way\n",
            "i ' ve discovered quite a few things . one that products containing three\n",
            "different pheromones work the best and two that you offer is by far the most\n",
            "potent triple blend formula on the market . outstanding ! edward , new jersey\n",
            "usa\n",
            "cnn : study finds proof that humans react to pheromones . the power of smell\n",
            "is undeniable , as the multi - b i l l i o n dollar perfume industry\n",
            "testifies .\n",
            "http : / / www . . com / p /\n",
            "detailed information or to un - subscribe or to see our address .\n",
            "he ate his daily tablet , and after watching the red glow fade in the\n",
            "western sky and the gray shadows of night settle around him he stretched\n",
            "himself comfortably upon the grass and went to sleep . the events of the day\n",
            "must have deepened his slumber , for when he awoke the sun was shining almost\n",
            "directly over him , showing that the day was well advanced\n",
            "he stood up , rubbed the sleep from his eyes and decided he would like a\n",
            "drink of water\n",
            "\n",
            "\n",
            "\n",
            "--------------------------------------------------\n",
            "\n",
            "Label: ham\n",
            "1. Subject: conoco - big cowboy\n",
            "darren :\n",
            "i ' m not sure if you can help me with this , but i don ' t know who else to ask . for april and may , we have gas pathed on deal 133304 to conoco at the gepl big cowboy point . conoco is saying that we did not buy that gas from them . they have accounted for all of the hpl big cowboy gas and think we have over paid by about $ 1 . 5 mil each month for the gepl gas . do you know why we added the gepl meter to the deal in april ? could we have bought this gas from someone else ? i have the meter statements from tejas , but they do not say who the supply company was .\n",
            "megan\n",
            "\n",
            "2. Subject: feb 01 prod : sale to teco gas processing\n",
            "sale\n",
            "deal # 235670\n",
            "expired 12 / 00\n",
            "julie -\n",
            "this deal has expired for teco gas processing , but we did have a sale in 02 / 01 .\n",
            "should this deal be extended ?\n",
            "pls let me know , so that i can redraft the sale through unify .\n",
            "katherine\n",
            "5 - 8643\n",
            "unable to draft volume in unify due to the expired deal ticket ;\n",
            "\n",
            "3. Subject: california energy crisis\n",
            "california \u0001 , s power crisis has generated heated debate over the last several\n",
            "months . unfortunately , this debate has generated more heat than light . we\n",
            "want you to know what the facts are and what we are doing about the crisis .\n",
            "please spend a few minutes reading the following overview on the situation\n",
            "and our position on california energy issues .\n",
            "what happened in california\n",
            "the source of california \u0001 , s current problem is as straightforward as supply\n",
            "and demand . california \u0001 , s economy grew 29 percent since 1998 . this increased\n",
            "the demand for electricity by 24 percent . at the same time , regulatory\n",
            "restrictions prevented new generation from getting built in the state . so\n",
            "demand grew but regulations prevented supplies from being added . the result ,\n",
            "predictably , is a shortage . this summer , peak capacity will be about 10\n",
            "percent shy of peak demand , leading to further blackouts in the state .\n",
            "in addition to the supply and demand imbalance , there are two other related\n",
            "factors that led to the current crisis . first , the state \u0001 , s regulations\n",
            "forced all sales and purchases into the spot market . the spot market for\n",
            "power is extraordinarily volatile . the way firms behave in a free market\n",
            "when faced with such volatility is to construct a portfolio of purchases long\n",
            "term , medium term and short term , to reduce exposure to this volatility . in\n",
            "california , state regulation prevented this strategy . this would be the\n",
            "equivalent of putting the entire state on an adjustable rate mortgage in the\n",
            "most volatile interest rate environment imaginable . everything was fine\n",
            "while the power surplus persisted , but when shortages ensued , every megawatt\n",
            "was purchased at the sky rocketing spot price .\n",
            "second , retail markets were not deregulated . regulated retail rates remained\n",
            "in effect , and stranded cost recovery charges were structured to keep\n",
            "competition out . this meant that utilities were forced to pay high wholesale\n",
            "prices in the spot market but were only able to recover costs at the\n",
            "regulated retail rate . they are now nearly bankrupt .\n",
            "in short , california \u0001 , s problems were caused by regulation , not deregulation .\n",
            "regulations prevented competitors from entering the market , prevented new\n",
            "generation from being built , and prevented prudent hedging against volatile\n",
            "spot prices .\n",
            "at the time california was developing its restructuring plan , enron warned\n",
            "the state \u0001 , s policy makers about these risks and proposed alternatives , which ,\n",
            "if adopted , would have averted the current crisis .\n",
            "enron \u0001 , s role\n",
            "many political leaders in the state have elected to fix blame rather than fix\n",
            "the problem . power sellers , including enron , have been vilified by the\n",
            "politicians and the media . here are the facts :\n",
            "? other than a small amount of wind power , enron is not a generator in the\n",
            "state of california . every megawatt we sold in california we bought in the\n",
            "same market available to other california purchasers . because we are a\n",
            "market maker , not a generator , we are not biased toward high prices . we are\n",
            "interested only in having a market that works so that we can package products\n",
            "for our customers .\n",
            "? as a seller to end - use markets in the state , we provided protection from\n",
            "the problems the states \u0001 , utilities , and their customers , now face . we\n",
            "protected , and still protect , our customers from price volatility .\n",
            "you may have read that ees recently elected to have the utilities supply\n",
            "power directly to its customers in california instead of procuring power on\n",
            "the open market . early reports mischaracterized this as a \u0001 enron continues to sign up customers in the state ; and enron\n",
            "continues to actively manage its risks and capture opportunities in western\n",
            "power markets . enron \u0001 , s primary business is managing risk for our customers\n",
            "with solutions customized to meet their needs . there has never been more\n",
            "demand for our products and services .\n",
            "the solution\n",
            "the solution to california \u0001 , s crisis is also straightforward . in summary , the\n",
            "state must increase supply , reduce demand , reduce reliance on the spot market\n",
            "and shore up the financial stability of the state \u0001 , s utilities .\n",
            "increasing supply\n",
            "california \u0001 , s process for siting and permitting new generation is nothing\n",
            "short of byzantine . enron has built plants elsewhere in the country in less\n",
            "than a year . in california , it often takes 5 to 7 years . california simply\n",
            "must streamline this process . ironically , while many of the regulations\n",
            "generators must overcome are aimed at improving environmental quality , the\n",
            "regulations are preventing new clean technology from coming online and\n",
            "displacing current plants , which emit 40 times as much nox . california can\n",
            "have abundant power and cleaner air by expediting the permitting of new\n",
            "facilities .\n",
            "reducing demand\n",
            "customers in california today have no incentive to reduce or shift demand .\n",
            "they pay the same rate no matter what the market price is . an open retail\n",
            "market would trigger demand responses , which would balance supply and demand\n",
            "at lower prices than today . california should fully open its retail market .\n",
            "reducing reliance on the spot market\n",
            "in a truly deregulated market , customers would protect themselves from\n",
            "volatile spot prices by purchasing some of their requirements on a longer\n",
            "term , fixed - price basis . the state has instead left procurement in the hands\n",
            "of the utilities , which it has forced to buy exclusively in the spot market .\n",
            "opening the market at the retail level will give customers control over their\n",
            "price risk .\n",
            "restoring the financial integrity of the state \u0001 , s institutions\n",
            "the utilities in california are not paying their bills . this has led to\n",
            "greater uncertainty in the market , higher costs , and reduced flexibility to\n",
            "arrive at lasting solutions . california must permit its utilities to recover\n",
            "their costs so they can pay their bills and invest in the transmission and\n",
            "distribution assets necessary to get power from where it is to where it is\n",
            "needed .\n",
            "just as important as doing these things , the state must avoid policies that ,\n",
            "while politically attractive , do not fix the problem or even make matters\n",
            "worse . price caps have been proposed . they don \u0001 , t work ; have never worked ;\n",
            "and they will not work here . price caps succeed only in creating shortages ,\n",
            "which then have to be allocated among competing users . imagine how\n",
            "ineffectively the government would be in determining , for example , whether it\n",
            "is better to make its limited power supplies available to the imperial valley\n",
            "or silicon valley . price caps are a surefire way to make the current\n",
            "shortage worse .\n",
            "the state has also proposed to take over generation and transmission in\n",
            "california . there is no reason to believe , and every reason to doubt , that\n",
            "the state will be more effective than free markets at investing in ,\n",
            "constructing , operating and maintaining assets . this will also result in\n",
            "california tax revenues being spent on power transmission and power\n",
            "generation - - which the private sector can do - - instead of education , roads\n",
            "and other public goods - - which the private sector cannot do .\n",
            "as you are approached by people outside the company or are learning about the\n",
            "crisis from the media , it \u0001 , s important for you to know this : we at enron will\n",
            "continue to serve our customers and we will continue to propose real\n",
            "solutions to the state .\n",
            "\n",
            "4. Subject: re : nom / actual volume for april 23 rd\n",
            "we agree\n",
            "\" eileen ponton \" on 04 / 24 / 2001 12 : 18 : 39 pm\n",
            "to : david avila / lsp / enserch / us @ tu , charlie stone / texas utilities @ tu , melissa\n",
            "jones / texas utilities @ tu , hpl . scheduling @ enron . com , liz . bellamy @ enron . com\n",
            "cc :\n",
            "subject : nom / actual volume for april 23 rd\n",
            "nom mcf mmbtu\n",
            "30 , 208 30 , 046 30 , 858\n",
            "btu = 1 . 027\n",
            "\n",
            "5. Subject: eastrans nomination changes effective 8 / 2 / 00\n",
            "please increase deliveries to eastrans to 25 , 000 mmbtu / dy for 8 / 2 / 00 .\n",
            "the redeliveries will be :\n",
            "7 , 800 from fuels cotton valley\n",
            "17 , 200 to pg & e\n",
            "\n",
            "6. Subject: lufkin\n",
            "on may 27 th a lufkin industrial market will go down by 5 , 000 . we are going to move this sale to lyondell meter # 5045 . the sales price will remain at index minus $ . 12 . the sale will remain at lyondell for approximately 2 weeks . since the screen has fallen about $ 1 this should be a good thing for us and a very nice thing for entex to do for us .\n",
            "thanks ,\n",
            "janet\n",
            "\n",
            "7. Subject: re : equistar\n",
            "fyi . . . only ! this activity has been rescheduled and reallocated .\n",
            "from : lee l papayoti on 01 / 27 / 2000 11 : 17 am\n",
            "to : robert e lloyd / hou / ect @ ect\n",
            "cc : stella l morris / hou / ect @ ect , daren j farmer / hou / ect @ ect , kenneth\n",
            "seaman / hou / ect @ ect\n",
            "subject : equistar\n",
            "equistar has requested a scheduling / nomination change retroactive to january\n",
            "1 .\n",
            "at the start of the month , janice nominated a small volume to meter # 1165\n",
            "( or maybe it was to # 1266 ) , dupont victoria .\n",
            "equistar wants that volume to go to meter # 1552 instead , for the whole month\n",
            "of jan .\n",
            "any questions - call me at 3 . 5923\n",
            "thanks\n",
            "lee\n",
            "\n",
            "8. Subject: interview schedule for liz bellamy - today\n",
            "attached please find the interview packet for the above - referenced person .\n",
            "the interview will happen thursday july 13 , 2000 . please print all three\n",
            "documents for your hard copies . if you have any questions , or conflicts of\n",
            "schedule , please do not hesitate to contact me .\n",
            "\n",
            "9. Subject: calpine daily gas nomination\n",
            ">\n",
            ">\n",
            "julie , as i mention earlier we hope to start the unit this afternoon but\n",
            "are still experiencing difficulties . i will keep you informed . thanks .\n",
            "ricky a . archer\n",
            "fuel supply\n",
            "700 louisiana , suite 2700\n",
            "houston , texas 77002\n",
            "713 - 830 - 8659 direct\n",
            "713 - 830 - 8722 fax\n",
            "- calpine daily gas nomination 1 . doc\n",
            "- calpine daily gas nomination 1 . doc\n",
            "\n",
            "10. Subject: enron / hpl actuals for september 29 - october 1 , 2000\n",
            "friday , september 29 , 2000\n",
            "teco tap 16 . 187 / enron ; 94 . 230 / hpl gas daily\n",
            "hpl ls katy no flow\n",
            "saturday , september 30 , 2000\n",
            "teco tap 50 . 000 / hpl gas daily\n",
            "hpl ls katy no flow\n",
            "sunday , october 1 , 2000\n",
            "teco tap 45 . 000 / enron ; 7 . 083 / hpl iferc\n",
            "hpl ls katy 15 . 000 / enron\n",
            "\n",
            "\n",
            "--------------------------------------------------\n",
            "\n"
          ]
        }
      ]
    },
    {
      "cell_type": "markdown",
      "source": [
        "Printing 10 random emails from dataset for each label (*SPAM and NOT SPAM*) there are a lot of **punctuation**, **spaces** and **special chars** to be deleted from text."
      ],
      "metadata": {
        "id": "Q2RxaPpDblM-"
      }
    },
    {
      "cell_type": "markdown",
      "source": [
        "## 6.3 - Dataset Balance Analysis"
      ],
      "metadata": {
        "id": "eLxuf1Secfq2"
      }
    },
    {
      "cell_type": "code",
      "source": [
        "# Plot the classes distribution\n",
        "plot_class_distribution_barplot(dataset, \"label_num\")"
      ],
      "metadata": {
        "colab": {
          "base_uri": "https://localhost:8080/",
          "height": 564
        },
        "id": "Aw3cn9DCRsHe",
        "outputId": "98b1c63d-0a53-40a4-abbc-aca0eb322a92"
      },
      "execution_count": null,
      "outputs": [
        {
          "output_type": "display_data",
          "data": {
            "text/plain": [
              "<Figure size 1000x600 with 1 Axes>"
            ],
            "image/png": "[encoded data removed]"
          },
          "metadata": {}
        }
      ]
    },
    {
      "cell_type": "code",
      "source": [
        "# Count the number of samples for each label\n",
        "dataset['label_num'].value_counts()"
      ],
      "metadata": {
        "colab": {
          "base_uri": "https://localhost:8080/",
          "height": 178
        },
        "id": "gbWrfTy3cKz-",
        "outputId": "673bb7b7-3b34-4636-b569-31656eb17d37"
      },
      "execution_count": null,
      "outputs": [
        {
          "output_type": "execute_result",
          "data": {
            "text/plain": [
              "label_num\n",
              "0    3672\n",
              "1    1499\n",
              "Name: count, dtype: int64"
            ],
            "text/html": [
              "<div>\n",
              "<style scoped>\n",
              "    .dataframe tbody tr th:only-of-type {\n",
              "        vertical-align: middle;\n",
              "    }\n",
              "\n",
              "    .dataframe tbody tr th {\n",
              "        vertical-align: top;\n",
              "    }\n",
              "\n",
              "    .dataframe thead th {\n",
              "        text-align: right;\n",
              "    }\n",
              "</style>\n",
              "<table border=\"1\" class=\"dataframe\">\n",
              "  <thead>\n",
              "    <tr style=\"text-align: right;\">\n",
              "      <th></th>\n",
              "      <th>count</th>\n",
              "    </tr>\n",
              "    <tr>\n",
              "      <th>label_num</th>\n",
              "      <th></th>\n",
              "    </tr>\n",
              "  </thead>\n",
              "  <tbody>\n",
              "    <tr>\n",
              "      <th>0</th>\n",
              "      <td>3672</td>\n",
              "    </tr>\n",
              "    <tr>\n",
              "      <th>1</th>\n",
              "      <td>1499</td>\n",
              "    </tr>\n",
              "  </tbody>\n",
              "</table>\n",
              "</div><br><label><b>dtype:</b> int64</label>"
            ]
          },
          "metadata": {},
          "execution_count": 17
        }
      ]
    },
    {
      "cell_type": "markdown",
      "source": [
        "As shown by histogram the dataset is completely unbalanced.\n",
        "\n",
        "There are **few SPAM** (1499) samples respect to the NON-SPAM (3672).\n",
        "**For this reason an approach to balance the dataset is needed.**"
      ],
      "metadata": {
        "id": "SHpX2o5rYDN5"
      }
    },
    {
      "cell_type": "markdown",
      "source": [
        "The dataset at the currently status **is not good for a AI model training**.\n",
        "\n",
        "This could generate a bad metrics for minority labels and hard recognization for them.\n",
        "\n",
        "It needs to be more balanced."
      ],
      "metadata": {
        "id": "SXOmlqaYYgqf"
      }
    },
    {
      "cell_type": "markdown",
      "source": [
        "# 7 - Data Pre-Processing"
      ],
      "metadata": {
        "id": "oj4dLp_Yf7Nh"
      }
    },
    {
      "cell_type": "markdown",
      "source": [
        "## 7.1 - Data Cleaning: lower casing, remove punctuation, lemmatization and remove stop words"
      ],
      "metadata": {
        "id": "bPxZwiQamV8W"
      }
    },
    {
      "cell_type": "markdown",
      "source": [
        "Apply data cleaner function in order to remove from text all things useless for model training."
      ],
      "metadata": {
        "id": "A8MiZtGmCxia"
      }
    },
    {
      "cell_type": "code",
      "source": [
        "# Apply to the corpus text the cleaning\n",
        "dataset['cleaned_text'] = dataset['text'].apply(data_cleaner)"
      ],
      "metadata": {
        "id": "MZNDKrzemoCQ"
      },
      "execution_count": null,
      "outputs": []
    },
    {
      "cell_type": "code",
      "source": [
        "# Show the dataset with cleaned text\n",
        "dataset.head()"
      ],
      "metadata": {
        "id": "H8DU18K6nK0O",
        "colab": {
          "base_uri": "https://localhost:8080/",
          "height": 206
        },
        "outputId": "a13fd3c9-b071-42f3-835a-b2fc46d01cd9"
      },
      "execution_count": null,
      "outputs": [
        {
          "output_type": "execute_result",
          "data": {
            "text/plain": [
              "     label                                               text  label_num  \\\n",
              "605    ham  Subject: enron methanol ; meter # : 988291\\nth...          0   \n",
              "2349   ham  Subject: hpl nom for january 9 , 2001\\n( see a...          0   \n",
              "3624   ham  Subject: neon retreat\\nho ho ho , we ' re arou...          0   \n",
              "4685  spam  Subject: photoshop , windows , office . cheap ...          1   \n",
              "2030   ham  Subject: re : indian springs\\nthis deal is to ...          0   \n",
              "\n",
              "      text_length                                       cleaned_text  \n",
              "605            67  subject enron methanol meter follow note I giv...  \n",
              "2349           23  subject hpl nom january see attached file hpln...  \n",
              "3624          550  subject neon retreat ho ho ho around wonderful...  \n",
              "4685           48  subject photoshop window office cheap main tre...  \n",
              "2030           70  subject indian spring deal book teco pvr reven...  "
            ],
            "text/html": [
              "\n",
              "  <div id=\"df-fa9a1bc8-ca50-430b-999b-93f70ace179a\" class=\"colab-df-container\">\n",
              "    <div>\n",
              "<style scoped>\n",
              "    .dataframe tbody tr th:only-of-type {\n",
              "        vertical-align: middle;\n",
              "    }\n",
              "\n",
              "    .dataframe tbody tr th {\n",
              "        vertical-align: top;\n",
              "    }\n",
              "\n",
              "    .dataframe thead th {\n",
              "        text-align: right;\n",
              "    }\n",
              "</style>\n",
              "<table border=\"1\" class=\"dataframe\">\n",
              "  <thead>\n",
              "    <tr style=\"text-align: right;\">\n",
              "      <th></th>\n",
              "      <th>label</th>\n",
              "      <th>text</th>\n",
              "      <th>label_num</th>\n",
              "      <th>text_length</th>\n",
              "      <th>cleaned_text</th>\n",
              "    </tr>\n",
              "  </thead>\n",
              "  <tbody>\n",
              "    <tr>\n",
              "      <th>605</th>\n",
              "      <td>ham</td>\n",
              "      <td>Subject: enron methanol ; meter # : 988291\\nth...</td>\n",
              "      <td>0</td>\n",
              "      <td>67</td>\n",
              "      <td>subject enron methanol meter follow note I giv...</td>\n",
              "    </tr>\n",
              "    <tr>\n",
              "      <th>2349</th>\n",
              "      <td>ham</td>\n",
              "      <td>Subject: hpl nom for january 9 , 2001\\n( see a...</td>\n",
              "      <td>0</td>\n",
              "      <td>23</td>\n",
              "      <td>subject hpl nom january see attached file hpln...</td>\n",
              "    </tr>\n",
              "    <tr>\n",
              "      <th>3624</th>\n",
              "      <td>ham</td>\n",
              "      <td>Subject: neon retreat\\nho ho ho , we ' re arou...</td>\n",
              "      <td>0</td>\n",
              "      <td>550</td>\n",
              "      <td>subject neon retreat ho ho ho around wonderful...</td>\n",
              "    </tr>\n",
              "    <tr>\n",
              "      <th>4685</th>\n",
              "      <td>spam</td>\n",
              "      <td>Subject: photoshop , windows , office . cheap ...</td>\n",
              "      <td>1</td>\n",
              "      <td>48</td>\n",
              "      <td>subject photoshop window office cheap main tre...</td>\n",
              "    </tr>\n",
              "    <tr>\n",
              "      <th>2030</th>\n",
              "      <td>ham</td>\n",
              "      <td>Subject: re : indian springs\\nthis deal is to ...</td>\n",
              "      <td>0</td>\n",
              "      <td>70</td>\n",
              "      <td>subject indian spring deal book teco pvr reven...</td>\n",
              "    </tr>\n",
              "  </tbody>\n",
              "</table>\n",
              "</div>\n",
              "    <div class=\"colab-df-buttons\">\n",
              "\n",
              "  <div class=\"colab-df-container\">\n",
              "    <button class=\"colab-df-convert\" onclick=\"convertToInteractive('df-fa9a1bc8-ca50-430b-999b-93f70ace179a')\"\n",
              "            title=\"Convert this dataframe to an interactive table.\"\n",
              "            style=\"display:none;\">\n",
              "\n",
              "  <svg xmlns=\"http://www.w3.org/2000/svg\" height=\"24px\" viewBox=\"0 -960 960 960\">\n",
              "    <path d=\"M120-120v-720h720v720H120Zm60-500h600v-160H180v160Zm220 220h160v-160H400v160Zm0 220h160v-160H400v160ZM180-400h160v-160H180v160Zm440 0h160v-160H620v160ZM180-180h160v-160H180v160Zm440 0h160v-160H620v160Z\"/>\n",
              "  </svg>\n",
              "    </button>\n",
              "\n",
              "  <style>\n",
              "    .colab-df-container {\n",
              "      display:flex;\n",
              "      gap: 12px;\n",
              "    }\n",
              "\n",
              "    .colab-df-convert {\n",
              "      background-color: #E8F0FE;\n",
              "      border: none;\n",
              "      border-radius: 50%;\n",
              "      cursor: pointer;\n",
              "      display: none;\n",
              "      fill: #1967D2;\n",
              "      height: 32px;\n",
              "      padding: 0 0 0 0;\n",
              "      width: 32px;\n",
              "    }\n",
              "\n",
              "    .colab-df-convert:hover {\n",
              "      background-color: #E2EBFA;\n",
              "      box-shadow: 0px 1px 2px rgba(60, 64, 67, 0.3), 0px 1px 3px 1px rgba(60, 64, 67, 0.15);\n",
              "      fill: #174EA6;\n",
              "    }\n",
              "\n",
              "    .colab-df-buttons div {\n",
              "      margin-bottom: 4px;\n",
              "    }\n",
              "\n",
              "    [theme=dark] .colab-df-convert {\n",
              "      background-color: #3B4455;\n",
              "      fill: #D2E3FC;\n",
              "    }\n",
              "\n",
              "    [theme=dark] .colab-df-convert:hover {\n",
              "      background-color: #434B5C;\n",
              "      box-shadow: 0px 1px 3px 1px rgba(0, 0, 0, 0.15);\n",
              "      filter: drop-shadow(0px 1px 2px rgba(0, 0, 0, 0.3));\n",
              "      fill: #FFFFFF;\n",
              "    }\n",
              "  </style>\n",
              "\n",
              "    <script>\n",
              "      const buttonEl =\n",
              "        document.querySelector('#df-fa9a1bc8-ca50-430b-999b-93f70ace179a button.colab-df-convert');\n",
              "      buttonEl.style.display =\n",
              "        google.colab.kernel.accessAllowed ? 'block' : 'none';\n",
              "\n",
              "      async function convertToInteractive(key) {\n",
              "        const element = document.querySelector('#df-fa9a1bc8-ca50-430b-999b-93f70ace179a');\n",
              "        const dataTable =\n",
              "          await google.colab.kernel.invokeFunction('convertToInteractive',\n",
              "                                                    [key], {});\n",
              "        if (!dataTable) return;\n",
              "\n",
              "        const docLinkHtml = 'Like what you see? Visit the ' +\n",
              "          '<a target=\"_blank\" href=https://colab.research.google.com/notebooks/data_table.ipynb>data table notebook</a>'\n",
              "          + ' to learn more about interactive tables.';\n",
              "        element.innerHTML = '';\n",
              "        dataTable['output_type'] = 'display_data';\n",
              "        await google.colab.output.renderOutput(dataTable, element);\n",
              "        const docLink = document.createElement('div');\n",
              "        docLink.innerHTML = docLinkHtml;\n",
              "        element.appendChild(docLink);\n",
              "      }\n",
              "    </script>\n",
              "  </div>\n",
              "\n",
              "\n",
              "<div id=\"df-e639d1ab-3cb8-4104-a5ab-9f3d31bd2992\">\n",
              "  <button class=\"colab-df-quickchart\" onclick=\"quickchart('df-e639d1ab-3cb8-4104-a5ab-9f3d31bd2992')\"\n",
              "            title=\"Suggest charts\"\n",
              "            style=\"display:none;\">\n",
              "\n",
              "<svg xmlns=\"http://www.w3.org/2000/svg\" height=\"24px\"viewBox=\"0 0 24 24\"\n",
              "     width=\"24px\">\n",
              "    <g>\n",
              "        <path d=\"M19 3H5c-1.1 0-2 .9-2 2v14c0 1.1.9 2 2 2h14c1.1 0 2-.9 2-2V5c0-1.1-.9-2-2-2zM9 17H7v-7h2v7zm4 0h-2V7h2v10zm4 0h-2v-4h2v4z\"/>\n",
              "    </g>\n",
              "</svg>\n",
              "  </button>\n",
              "\n",
              "<style>\n",
              "  .colab-df-quickchart {\n",
              "      --bg-color: #E8F0FE;\n",
              "      --fill-color: #1967D2;\n",
              "      --hover-bg-color: #E2EBFA;\n",
              "      --hover-fill-color: #174EA6;\n",
              "      --disabled-fill-color: #AAA;\n",
              "      --disabled-bg-color: #DDD;\n",
              "  }\n",
              "\n",
              "  [theme=dark] .colab-df-quickchart {\n",
              "      --bg-color: #3B4455;\n",
              "      --fill-color: #D2E3FC;\n",
              "      --hover-bg-color: #434B5C;\n",
              "      --hover-fill-color: #FFFFFF;\n",
              "      --disabled-bg-color: #3B4455;\n",
              "      --disabled-fill-color: #666;\n",
              "  }\n",
              "\n",
              "  .colab-df-quickchart {\n",
              "    background-color: var(--bg-color);\n",
              "    border: none;\n",
              "    border-radius: 50%;\n",
              "    cursor: pointer;\n",
              "    display: none;\n",
              "    fill: var(--fill-color);\n",
              "    height: 32px;\n",
              "    padding: 0;\n",
              "    width: 32px;\n",
              "  }\n",
              "\n",
              "  .colab-df-quickchart:hover {\n",
              "    background-color: var(--hover-bg-color);\n",
              "    box-shadow: 0 1px 2px rgba(60, 64, 67, 0.3), 0 1px 3px 1px rgba(60, 64, 67, 0.15);\n",
              "    fill: var(--button-hover-fill-color);\n",
              "  }\n",
              "\n",
              "  .colab-df-quickchart-complete:disabled,\n",
              "  .colab-df-quickchart-complete:disabled:hover {\n",
              "    background-color: var(--disabled-bg-color);\n",
              "    fill: var(--disabled-fill-color);\n",
              "    box-shadow: none;\n",
              "  }\n",
              "\n",
              "  .colab-df-spinner {\n",
              "    border: 2px solid var(--fill-color);\n",
              "    border-color: transparent;\n",
              "    border-bottom-color: var(--fill-color);\n",
              "    animation:\n",
              "      spin 1s steps(1) infinite;\n",
              "  }\n",
              "\n",
              "  @keyframes spin {\n",
              "    0% {\n",
              "      border-color: transparent;\n",
              "      border-bottom-color: var(--fill-color);\n",
              "      border-left-color: var(--fill-color);\n",
              "    }\n",
              "    20% {\n",
              "      border-color: transparent;\n",
              "      border-left-color: var(--fill-color);\n",
              "      border-top-color: var(--fill-color);\n",
              "    }\n",
              "    30% {\n",
              "      border-color: transparent;\n",
              "      border-left-color: var(--fill-color);\n",
              "      border-top-color: var(--fill-color);\n",
              "      border-right-color: var(--fill-color);\n",
              "    }\n",
              "    40% {\n",
              "      border-color: transparent;\n",
              "      border-right-color: var(--fill-color);\n",
              "      border-top-color: var(--fill-color);\n",
              "    }\n",
              "    60% {\n",
              "      border-color: transparent;\n",
              "      border-right-color: var(--fill-color);\n",
              "    }\n",
              "    80% {\n",
              "      border-color: transparent;\n",
              "      border-right-color: var(--fill-color);\n",
              "      border-bottom-color: var(--fill-color);\n",
              "    }\n",
              "    90% {\n",
              "      border-color: transparent;\n",
              "      border-bottom-color: var(--fill-color);\n",
              "    }\n",
              "  }\n",
              "</style>\n",
              "\n",
              "  <script>\n",
              "    async function quickchart(key) {\n",
              "      const quickchartButtonEl =\n",
              "        document.querySelector('#' + key + ' button');\n",
              "      quickchartButtonEl.disabled = true;  // To prevent multiple clicks.\n",
              "      quickchartButtonEl.classList.add('colab-df-spinner');\n",
              "      try {\n",
              "        const charts = await google.colab.kernel.invokeFunction(\n",
              "            'suggestCharts', [key], {});\n",
              "      } catch (error) {\n",
              "        console.error('Error during call to suggestCharts:', error);\n",
              "      }\n",
              "      quickchartButtonEl.classList.remove('colab-df-spinner');\n",
              "      quickchartButtonEl.classList.add('colab-df-quickchart-complete');\n",
              "    }\n",
              "    (() => {\n",
              "      let quickchartButtonEl =\n",
              "        document.querySelector('#df-e639d1ab-3cb8-4104-a5ab-9f3d31bd2992 button');\n",
              "      quickchartButtonEl.style.display =\n",
              "        google.colab.kernel.accessAllowed ? 'block' : 'none';\n",
              "    })();\n",
              "  </script>\n",
              "</div>\n",
              "\n",
              "    </div>\n",
              "  </div>\n"
            ],
            "application/vnd.google.colaboratory.intrinsic+json": {
              "type": "dataframe",
              "variable_name": "dataset",
              "summary": "{\n  \"name\": \"dataset\",\n  \"rows\": 5171,\n  \"fields\": [\n    {\n      \"column\": \"label\",\n      \"properties\": {\n        \"dtype\": \"category\",\n        \"num_unique_values\": 2,\n        \"samples\": [\n          \"spam\",\n          \"ham\"\n        ],\n        \"semantic_type\": \"\",\n        \"description\": \"\"\n      }\n    },\n    {\n      \"column\": \"text\",\n      \"properties\": {\n        \"dtype\": \"string\",\n        \"num_unique_values\": 4993,\n        \"samples\": [\n          \"Subject: hpl / conoco - teco waha 03 / 23 / 01 purchase\\ndaren , conoco invoiced hpl at $ 5 . 87 for 03 / 23 at pgev / waha and deal ticket 685350 shows $ 4 . 87 . can you confirm the price ? thanks .\",\n          \"Subject: holiday on - call data\\npipeline contact phone fax pager\\nblack marlin blair lichentwalter 713 853 - 7367 713 646 - 3201 ( h )\\n281 370 - 1866\\ndebbie thompson 713 853 - 3144 713 646 - 3201\\n( noms due today for 23 rd through 27 th )\\nchannel jim tobacco 713 420 - 2159\\ngas control 1 505 599 - 2333\\n( open thursday . noms will be due through monday )\\ncentana william spekels 713 627 - 6290 713 762 - 3450\\ndonna spencer 713 627 - 6255\\ngas control 1 888 204 - 1718\\n( noms due today for 23 rd through 27 th )\\nduke energy annette anderson 713 260 - 8603 713 949 - 3026\\n( on call ) bob moseman 713 - 260 - 8698 ( thursday )\\nopen tomorrow - noms will be due thru the 27 th )\\nlonestar gary gafford 214 670 - 2674 214 875 - 3810\\ngas control 214 875 - 2455 or 2456\\n( noms due today , 23 rd thru 27 th )\\nnorthern natural ben markey 853 - 7581 cell 713 446 - 9404 800 931 - 0398\\n( on call ) charlie mosey 853 - 1520\\ngas control 853 -\\n( open thursday - noms due thru 27 th . )\\neast trans - east texas\\ntejas gas control 713 767 - 5366\\npaula svehla 713 230 - 3569\\nmickey chapman 713 230 - 3546\\n( open thursday - noms due thru 27 th )\\nmidcon ( y 2 k ) ken nachlinger 713 369 - 9284 713 369 - 9375 888 733 - 5954\\n( on call ) steven 888 790 - 0255\\n( y 2 k ) don 888 733 - 4602\\ngas control 713 369 - 9200\\n( noms due today , 23 rd thru 27 th )\\nmoss bluff no current business\"\n        ],\n        \"semantic_type\": \"\",\n        \"description\": \"\"\n      }\n    },\n    {\n      \"column\": \"label_num\",\n      \"properties\": {\n        \"dtype\": \"number\",\n        \"std\": 0,\n        \"min\": 0,\n        \"max\": 1,\n        \"num_unique_values\": 2,\n        \"samples\": [\n          1,\n          0\n        ],\n        \"semantic_type\": \"\",\n        \"description\": \"\"\n      }\n    },\n    {\n      \"column\": \"text_length\",\n      \"properties\": {\n        \"dtype\": \"number\",\n        \"std\": 336,\n        \"min\": 1,\n        \"max\": 8862,\n        \"num_unique_values\": 900,\n        \"samples\": [\n          427,\n          1267\n        ],\n        \"semantic_type\": \"\",\n        \"description\": \"\"\n      }\n    },\n    {\n      \"column\": \"cleaned_text\",\n      \"properties\": {\n        \"dtype\": \"string\",\n        \"num_unique_values\": 4623,\n        \"samples\": [\n          \"subject ken petroleum corporation fyi daren forward tom acton corp enron pm melissa grave ect pm julie meyer hou ect ect tom acton corp enron enron cc donald p reinhardt hou ect ect susan smith hou ect ect vance l taylor hou ect ect george weissman hou ect ect subject ken petroleum corporation pete layden well one request ken petroleum contract terminate tonight I believe also mean deal attach contract terminate cover meter tom put follow one month ticket counterparty meter volume price ken petroleum corporation mmbtu hsc less julie confirm via gtc spot per george request thank handle short notice melissa enron north america corp george weissman pm melissa grave hou ect ect cc shawna flynn hou ect ect robert walker hou ect ect jill zivley hou ect ect subject ken petroleum corporation pete layden well melissa please paper deal march either preferably spot gtc firm one month gtc firm contract yet request legal due facility issue george x\",\n          \"subject force majeure situation jennings plant volume prev adjustment carlos forward carlos j rodriguez hou ect pm beverly beaty carlos j rodriguez hou ect ect cc subject force majeure situation jennings plant fyi devon bev forward beverly beaty hou ect enron capital trade resource corp gary daniel beverly beaty enron com cc cynthia cantrell dvn com subject force majeure situation jennings plant beverly could please forward carlos I home today e mail thank carlos rodriguez enron via e mail dear carlos due electrical shortage jennings plant shut plant force majeure situation effective immediately plant expect back tomorrow december advise tomorrow situation reduce nomination effective today december nomination please call I question thank evelyn daniel devon energy work\"\n        ],\n        \"semantic_type\": \"\",\n        \"description\": \"\"\n      }\n    }\n  ]\n}"
            }
          },
          "metadata": {},
          "execution_count": 19
        }
      ]
    },
    {
      "cell_type": "markdown",
      "source": [
        "As shown into dataset, into column \"**cleaned_text**\", *no more special chars, stop words and spaces appear*."
      ],
      "metadata": {
        "id": "eE0dCAidEJJ3"
      }
    },
    {
      "cell_type": "markdown",
      "source": [
        "## 7.2 - Define Features and Labels"
      ],
      "metadata": {
        "id": "BjCFweIrgz6Y"
      }
    },
    {
      "cell_type": "markdown",
      "source": [
        "Define **features** and **target** variables from dataset."
      ],
      "metadata": {
        "id": "8hNBoKRcgBPq"
      }
    },
    {
      "cell_type": "code",
      "source": [
        "# Select Features and Labels from dataframe\n",
        "X = dataset['text'].values\n",
        "y = dataset['label_num'].values"
      ],
      "metadata": {
        "id": "hAgO-v_YRsEt"
      },
      "execution_count": null,
      "outputs": []
    },
    {
      "cell_type": "markdown",
      "source": [
        "## 7.3 - Word2Vec: Create embeddings"
      ],
      "metadata": {
        "id": "sBG7BO2Lo00G"
      }
    },
    {
      "cell_type": "code",
      "source": [
        "# Initialize the list of embeddings\n",
        "embeddings = []\n",
        "\n",
        "# For each sentence compute the average vector\n",
        "for sentence in X:\n",
        "    embeddings.append(avg_vector(sentence))"
      ],
      "metadata": {
        "id": "qLFjq3fco7oM"
      },
      "execution_count": null,
      "outputs": []
    },
    {
      "cell_type": "code",
      "source": [
        "# Check the embedding transformation\n",
        "embeddings[0]"
      ],
      "metadata": {
        "colab": {
          "base_uri": "https://localhost:8080/"
        },
        "id": "xTD319kLC5ns",
        "outputId": "f1b82193-7797-422c-9912-f48c8bd3edca"
      },
      "execution_count": null,
      "outputs": [
        {
          "output_type": "execute_result",
          "data": {
            "text/plain": [
              "array([-0.22023059,  0.0198757 , -0.24308308, -0.05358775, -0.56041509,\n",
              "        0.04811445, -0.07199555,  0.23058129, -0.30409662, -1.11182381,\n",
              "        0.08711834,  0.0939526 , -0.34344801,  0.13422405, -0.03894611,\n",
              "       -0.15240233, -0.2519495 ,  0.32439394,  0.18193132, -0.03037981,\n",
              "       -0.17583131, -0.13016962, -0.05703101,  0.06475753, -0.00931296,\n",
              "        0.15450432,  0.16376377,  0.15288405,  0.3292124 , -0.39338226,\n",
              "       -0.09249119,  0.38598457, -0.23142695, -0.06427967, -0.68323859,\n",
              "        0.0274547 ,  0.31023655, -0.39983976, -0.24817988,  0.19023167,\n",
              "       -0.11435837,  0.03957632, -0.502581  ,  0.57777811, -0.29601038,\n",
              "       -0.25849312,  0.2390996 , -0.05269312,  0.0588249 ,  0.06019295,\n",
              "        0.05782403,  0.18243776, -0.08584659,  0.09248253, -0.06654225,\n",
              "        0.31023482,  0.12081361, -0.04443069,  0.05286129, -0.4231608 ,\n",
              "        0.3935678 ,  0.19943169,  0.08771598,  0.13894892, -0.07893682,\n",
              "       -0.14075611, -0.16815665,  0.11146514,  0.26465304, -0.20341073,\n",
              "       -0.22284147,  0.38899932,  0.19181589,  0.23195967, -0.45661674,\n",
              "       -0.0865005 ,  0.25455388,  0.00157291, -0.09644639, -0.04009364,\n",
              "       -0.02575207,  0.08259773,  0.15073873, -0.37878445,  0.14959414,\n",
              "       -0.01711484, -0.10869417,  0.32889988,  0.10207577, -0.120264  ,\n",
              "        0.07476573,  0.05616974, -0.32469571, -0.50174717,  0.30320202,\n",
              "        0.05497401, -0.11691   , -0.23584071,  0.21752465, -0.41646102,\n",
              "       -0.18082834, -0.02781906,  0.00615802,  0.06612838, -0.13417948,\n",
              "       -0.32583966,  0.07697372,  0.28988677,  0.05741192,  0.04065287,\n",
              "       -0.05315287, -0.10309374,  0.15325998,  0.05756894, -0.10246991,\n",
              "       -0.07082426, -0.16577996,  0.20521725,  0.05557016, -0.25191951,\n",
              "        0.37944107, -0.16893591,  0.10959823, -0.21075968,  0.05603974,\n",
              "        0.08077529, -0.06424508,  0.05458579, -0.20565627, -0.0433618 ,\n",
              "       -0.10642059, -0.06393106, -0.38837458,  0.1409205 ,  0.06401594,\n",
              "       -0.20892952, -0.0098631 , -0.16244254,  0.22890771, -0.07765119,\n",
              "       -0.15929476,  0.2970412 ,  0.13090701, -0.08465629, -0.29920878,\n",
              "       -0.12076721, -0.21652253, -0.20826119,  0.27369843, -0.06752968,\n",
              "        0.3390719 , -0.18891553,  0.01372396, -0.18167906,  0.18230225,\n",
              "       -0.05169333,  0.34429312,  0.03404935,  0.03577985, -0.08985694,\n",
              "        0.03760657, -0.12371979, -0.25165398, -0.04442964, -0.24493931,\n",
              "        0.24623103, -0.06357701,  0.05782184, -0.14086004,  0.18983903,\n",
              "        0.14928343,  0.29091501, -0.14514713,  0.48874282,  0.01065673,\n",
              "       -0.08141655, -0.1048788 , -0.12629614,  0.16708221,  0.33276427,\n",
              "       -0.23416781,  0.32256377, -0.19728079, -0.20768288, -0.28701849,\n",
              "       -0.35337893, -0.27687029,  0.20570524,  0.28110876,  0.31482335,\n",
              "        0.41610049,  0.22412268,  0.13701951,  0.3116735 , -0.26011407,\n",
              "        0.05496256,  0.26343573, -0.10180759, -0.16704863, -0.25423828,\n",
              "        0.83991745, -0.05012568,  0.2301229 ,  0.3617508 ,  0.19169004,\n",
              "       -0.27089919, -0.41592458,  0.21274186,  0.21506707, -0.37000147,\n",
              "       -0.53899582, -0.07255521, -0.1744996 ,  0.33034046, -0.43676799,\n",
              "        0.07438941,  0.22832683, -0.0784103 , -0.19918788, -0.37219287,\n",
              "       -0.0410361 ,  0.1320685 ,  0.11827032,  0.21273504,  0.05736482,\n",
              "       -0.03424444,  0.09236846,  0.09035858, -0.01830378,  0.24028153,\n",
              "       -0.04973324,  0.36446763,  0.00203113, -0.29095702,  0.35645043,\n",
              "        0.01541596, -0.09850759, -0.00803444,  0.11268779,  0.22657683,\n",
              "       -0.18146979, -0.33547606,  0.05483042,  0.05110905, -0.15291015,\n",
              "        0.01733132,  0.13148124, -0.11767628, -0.02591031,  0.12775614,\n",
              "       -0.13996746,  0.19653167, -0.15759177, -0.18470647, -0.16296568,\n",
              "       -0.09924538,  0.08579179, -0.33781182,  0.11887419,  0.05602593,\n",
              "        0.4248386 , -0.35347699, -0.03417361, -0.03959135, -0.08401607,\n",
              "       -0.07689545,  0.41884536,  0.19887415,  0.21528383,  0.56695692,\n",
              "       -0.18328394, -0.31735592,  0.27764667, -0.39327537, -0.21218318,\n",
              "        0.35293963, -0.75701137, -0.02824076, -0.04816311,  0.04043049,\n",
              "       -0.23499311, -0.21873987, -0.43401326, -0.24632514,  0.09659576,\n",
              "        0.01760342, -0.1202016 ,  0.12093905,  0.21921303,  0.22323424,\n",
              "       -0.16059635,  0.01393683, -0.18935076, -0.08674721,  0.17185277,\n",
              "        0.12925095,  0.44309907, -0.58306295, -0.11246384,  0.17525748])"
            ]
          },
          "metadata": {},
          "execution_count": 22
        }
      ]
    },
    {
      "cell_type": "markdown",
      "source": [
        "## 7.4 - Balance the data with SMOTEEN technique"
      ],
      "metadata": {
        "id": "5qlNBQsKoucU"
      }
    },
    {
      "cell_type": "markdown",
      "source": [
        "To balance the data for the training, it has been chosen the SMOTEEN technique that apply an hybrid balancing."
      ],
      "metadata": {
        "id": "65p0zwpHDK7b"
      }
    },
    {
      "cell_type": "code",
      "source": [
        "# Initialize the SMOTE\n",
        "smote_enn = SMOTEENN(random_state=RANDOM_SEED)\n",
        "\n",
        "# Execute the resample and then balance the data\n",
        "x_resampled, y_resampled = smote_enn.fit_resample(embeddings, y)"
      ],
      "metadata": {
        "id": "8XnujTxLlwAu"
      },
      "execution_count": null,
      "outputs": []
    },
    {
      "cell_type": "code",
      "source": [
        "# Counts the sample for each label\n",
        "np.unique(y_resampled, return_counts=True)"
      ],
      "metadata": {
        "colab": {
          "base_uri": "https://localhost:8080/"
        },
        "id": "xBIolg7NNFEy",
        "outputId": "1a267b76-b1bc-46cd-e097-5b253a19b343"
      },
      "execution_count": null,
      "outputs": [
        {
          "output_type": "execute_result",
          "data": {
            "text/plain": [
              "(array([0, 1]), array([2851, 3390]))"
            ]
          },
          "metadata": {},
          "execution_count": 24
        }
      ]
    },
    {
      "cell_type": "markdown",
      "source": [
        "In this way, the SMOTE **algorithm has been restored the balance of data** and then they are **ready for training** a model."
      ],
      "metadata": {
        "id": "msPlC_fEDzGD"
      }
    },
    {
      "cell_type": "markdown",
      "source": [
        "## 7.5 - Define Train and Test data"
      ],
      "metadata": {
        "id": "b_OcHkUygYGn"
      }
    },
    {
      "cell_type": "code",
      "source": [
        "# Split data into train and test\n",
        "X_train, X_test, y_train, y_test = train_test_split(x_resampled,\n",
        "                                                    y_resampled,\n",
        "                                                    test_size=.2,\n",
        "                                                    random_state=RANDOM_SEED,\n",
        "                                                    stratify=y_resampled)"
      ],
      "metadata": {
        "id": "W3ZF7EbORr9u"
      },
      "execution_count": null,
      "outputs": []
    },
    {
      "cell_type": "code",
      "source": [
        "# Make numpy array the train and test data\n",
        "X_train = np.array(X_train)\n",
        "X_test = np.array(X_test)\n",
        "y_train = np.array(y_train)\n",
        "y_test = np.array(y_test)"
      ],
      "metadata": {
        "id": "oQnZqQ1HN-CM"
      },
      "execution_count": null,
      "outputs": []
    },
    {
      "cell_type": "code",
      "source": [
        "# Check the train and test data shape\n",
        "print(f'X_train shape: {X_train.shape}')\n",
        "print(f'X_test shape: {X_test.shape}')\n",
        "print(f'y_train shape: {y_train.shape}')\n",
        "print(f'y_test shape: {y_test.shape}')"
      ],
      "metadata": {
        "colab": {
          "base_uri": "https://localhost:8080/"
        },
        "id": "KjeKU26eRr6V",
        "outputId": "c80e3a54-0e12-436f-d6ba-56f0c3297c28"
      },
      "execution_count": null,
      "outputs": [
        {
          "output_type": "stream",
          "name": "stdout",
          "text": [
            "X_train shape: (4992, 300)\n",
            "X_test shape: (1249, 300)\n",
            "y_train shape: (4992,)\n",
            "y_test shape: (1249,)\n"
          ]
        }
      ]
    },
    {
      "cell_type": "markdown",
      "source": [
        "# 8 - Task 1: Model Exploration"
      ],
      "metadata": {
        "id": "IO2zUITDOjH2"
      }
    },
    {
      "cell_type": "markdown",
      "source": [
        "## 8.1 - Logistic Regression Model (baseline)"
      ],
      "metadata": {
        "id": "GdfNjlk7Jge9"
      }
    },
    {
      "cell_type": "code",
      "source": [
        "# Initialize Logistic Regression model\n",
        "lr = LogisticRegression()\n",
        "\n",
        "# Fit Logistic Regression model\n",
        "lr.fit(X_train, y_train)"
      ],
      "metadata": {
        "colab": {
          "base_uri": "https://localhost:8080/",
          "height": 233
        },
        "id": "5UwFhEb_Cqrt",
        "outputId": "8ff5981e-0e4a-4e4f-9301-f9d0439b59e0"
      },
      "execution_count": null,
      "outputs": [
        {
          "output_type": "stream",
          "name": "stderr",
          "text": [
            "/usr/local/lib/python3.10/dist-packages/sklearn/linear_model/_logistic.py:460: ConvergenceWarning: lbfgs failed to converge (status=1):\n",
            "STOP: TOTAL NO. of ITERATIONS REACHED LIMIT.\n",
            "\n",
            "Increase the number of iterations (max_iter) or scale the data as shown in:\n",
            "    https://scikit-learn.org/stable/modules/preprocessing.html\n",
            "Please also refer to the documentation for alternative solver options:\n",
            "    https://scikit-learn.org/stable/modules/linear_model.html#logistic-regression\n",
            "  n_iter_i = _check_optimize_result(\n"
          ]
        },
        {
          "output_type": "execute_result",
          "data": {
            "text/plain": [
              "LogisticRegression()"
            ],
            "text/html": [
              "<style>#sk-container-id-1 {color: black;}#sk-container-id-1 pre{padding: 0;}#sk-container-id-1 div.sk-toggleable {background-color: white;}#sk-container-id-1 label.sk-toggleable__label {cursor: pointer;display: block;width: 100%;margin-bottom: 0;padding: 0.3em;box-sizing: border-box;text-align: center;}#sk-container-id-1 label.sk-toggleable__label-arrow:before {content: \"▸\";float: left;margin-right: 0.25em;color: #696969;}#sk-container-id-1 label.sk-toggleable__label-arrow:hover:before {color: black;}#sk-container-id-1 div.sk-estimator:hover label.sk-toggleable__label-arrow:before {color: black;}#sk-container-id-1 div.sk-toggleable__content {max-height: 0;max-width: 0;overflow: hidden;text-align: left;background-color: #f0f8ff;}#sk-container-id-1 div.sk-toggleable__content pre {margin: 0.2em;color: black;border-radius: 0.25em;background-color: #f0f8ff;}#sk-container-id-1 input.sk-toggleable__control:checked~div.sk-toggleable__content {max-height: 200px;max-width: 100%;overflow: auto;}#sk-container-id-1 input.sk-toggleable__control:checked~label.sk-toggleable__label-arrow:before {content: \"▾\";}#sk-container-id-1 div.sk-estimator input.sk-toggleable__control:checked~label.sk-toggleable__label {background-color: #d4ebff;}#sk-container-id-1 div.sk-label input.sk-toggleable__control:checked~label.sk-toggleable__label {background-color: #d4ebff;}#sk-container-id-1 input.sk-hidden--visually {border: 0;clip: rect(1px 1px 1px 1px);clip: rect(1px, 1px, 1px, 1px);height: 1px;margin: -1px;overflow: hidden;padding: 0;position: absolute;width: 1px;}#sk-container-id-1 div.sk-estimator {font-family: monospace;background-color: #f0f8ff;border: 1px dotted black;border-radius: 0.25em;box-sizing: border-box;margin-bottom: 0.5em;}#sk-container-id-1 div.sk-estimator:hover {background-color: #d4ebff;}#sk-container-id-1 div.sk-parallel-item::after {content: \"\";width: 100%;border-bottom: 1px solid gray;flex-grow: 1;}#sk-container-id-1 div.sk-label:hover label.sk-toggleable__label {background-color: #d4ebff;}#sk-container-id-1 div.sk-serial::before {content: \"\";position: absolute;border-left: 1px solid gray;box-sizing: border-box;top: 0;bottom: 0;left: 50%;z-index: 0;}#sk-container-id-1 div.sk-serial {display: flex;flex-direction: column;align-items: center;background-color: white;padding-right: 0.2em;padding-left: 0.2em;position: relative;}#sk-container-id-1 div.sk-item {position: relative;z-index: 1;}#sk-container-id-1 div.sk-parallel {display: flex;align-items: stretch;justify-content: center;background-color: white;position: relative;}#sk-container-id-1 div.sk-item::before, #sk-container-id-1 div.sk-parallel-item::before {content: \"\";position: absolute;border-left: 1px solid gray;box-sizing: border-box;top: 0;bottom: 0;left: 50%;z-index: -1;}#sk-container-id-1 div.sk-parallel-item {display: flex;flex-direction: column;z-index: 1;position: relative;background-color: white;}#sk-container-id-1 div.sk-parallel-item:first-child::after {align-self: flex-end;width: 50%;}#sk-container-id-1 div.sk-parallel-item:last-child::after {align-self: flex-start;width: 50%;}#sk-container-id-1 div.sk-parallel-item:only-child::after {width: 0;}#sk-container-id-1 div.sk-dashed-wrapped {border: 1px dashed gray;margin: 0 0.4em 0.5em 0.4em;box-sizing: border-box;padding-bottom: 0.4em;background-color: white;}#sk-container-id-1 div.sk-label label {font-family: monospace;font-weight: bold;display: inline-block;line-height: 1.2em;}#sk-container-id-1 div.sk-label-container {text-align: center;}#sk-container-id-1 div.sk-container {/* jupyter's `normalize.less` sets `[hidden] { display: none; }` but bootstrap.min.css set `[hidden] { display: none !important; }` so we also need the `!important` here to be able to override the default hidden behavior on the sphinx rendered scikit-learn.org. See: https://github.com/scikit-learn/scikit-learn/issues/21755 */display: inline-block !important;position: relative;}#sk-container-id-1 div.sk-text-repr-fallback {display: none;}</style><div id=\"sk-container-id-1\" class=\"sk-top-container\"><div class=\"sk-text-repr-fallback\"><pre>LogisticRegression()</pre><b>In a Jupyter environment, please rerun this cell to show the HTML representation or trust the notebook. <br />On GitHub, the HTML representation is unable to render, please try loading this page with nbviewer.org.</b></div><div class=\"sk-container\" hidden><div class=\"sk-item\"><div class=\"sk-estimator sk-toggleable\"><input class=\"sk-toggleable__control sk-hidden--visually\" id=\"sk-estimator-id-1\" type=\"checkbox\" checked><label for=\"sk-estimator-id-1\" class=\"sk-toggleable__label sk-toggleable__label-arrow\">LogisticRegression</label><div class=\"sk-toggleable__content\"><pre>LogisticRegression()</pre></div></div></div></div></div>"
            ]
          },
          "metadata": {},
          "execution_count": 28
        }
      ]
    },
    {
      "cell_type": "code",
      "source": [
        "# Print the classification report\n",
        "print(classification_report(lr.predict(X_test), y_test))"
      ],
      "metadata": {
        "colab": {
          "base_uri": "https://localhost:8080/"
        },
        "id": "Da-7KbYaJ7Km",
        "outputId": "eba93a4b-b7f5-4e2c-85a7-f8fcfa639596"
      },
      "execution_count": null,
      "outputs": [
        {
          "output_type": "stream",
          "name": "stdout",
          "text": [
            "              precision    recall  f1-score   support\n",
            "\n",
            "           0       0.91      0.96      0.93       544\n",
            "           1       0.97      0.93      0.95       705\n",
            "\n",
            "    accuracy                           0.94      1249\n",
            "   macro avg       0.94      0.94      0.94      1249\n",
            "weighted avg       0.94      0.94      0.94      1249\n",
            "\n"
          ]
        }
      ]
    },
    {
      "cell_type": "code",
      "source": [
        "# Plot the confusion matrix\n",
        "plot_confusion_matrix(y_test, lr.predict(X_test))"
      ],
      "metadata": {
        "colab": {
          "base_uri": "https://localhost:8080/",
          "height": 430
        },
        "id": "QoRrVwCjKtf-",
        "outputId": "0fea794e-5ace-4165-b092-149e1c4f1d1b"
      },
      "execution_count": null,
      "outputs": [
        {
          "output_type": "display_data",
          "data": {
            "text/plain": [
              "<Figure size 640x480 with 2 Axes>"
            ],
            "image/png": "[encoded data removed]"
          },
          "metadata": {}
        }
      ]
    },
    {
      "cell_type": "markdown",
      "source": [
        "## 8.2 - Naive Bayes Model"
      ],
      "metadata": {
        "id": "Dk5mlonYKDJd"
      }
    },
    {
      "cell_type": "markdown",
      "source": [
        "### 8.2.1 - Bernoulli Naive Bayes"
      ],
      "metadata": {
        "id": "w9IYgnJOKI_1"
      }
    },
    {
      "cell_type": "code",
      "source": [
        "# Initialize Bernoulli model\n",
        "bnb = BernoulliNB()\n",
        "\n",
        "# Fit the Bernoulli model\n",
        "bnb.fit(X_train, y_train)"
      ],
      "metadata": {
        "colab": {
          "base_uri": "https://localhost:8080/",
          "height": 74
        },
        "id": "mChf_leAKCoV",
        "outputId": "c72b1759-9c75-423c-99fc-3bf072db8912"
      },
      "execution_count": null,
      "outputs": [
        {
          "output_type": "execute_result",
          "data": {
            "text/plain": [
              "BernoulliNB()"
            ],
            "text/html": [
              "<style>#sk-container-id-2 {color: black;}#sk-container-id-2 pre{padding: 0;}#sk-container-id-2 div.sk-toggleable {background-color: white;}#sk-container-id-2 label.sk-toggleable__label {cursor: pointer;display: block;width: 100%;margin-bottom: 0;padding: 0.3em;box-sizing: border-box;text-align: center;}#sk-container-id-2 label.sk-toggleable__label-arrow:before {content: \"▸\";float: left;margin-right: 0.25em;color: #696969;}#sk-container-id-2 label.sk-toggleable__label-arrow:hover:before {color: black;}#sk-container-id-2 div.sk-estimator:hover label.sk-toggleable__label-arrow:before {color: black;}#sk-container-id-2 div.sk-toggleable__content {max-height: 0;max-width: 0;overflow: hidden;text-align: left;background-color: #f0f8ff;}#sk-container-id-2 div.sk-toggleable__content pre {margin: 0.2em;color: black;border-radius: 0.25em;background-color: #f0f8ff;}#sk-container-id-2 input.sk-toggleable__control:checked~div.sk-toggleable__content {max-height: 200px;max-width: 100%;overflow: auto;}#sk-container-id-2 input.sk-toggleable__control:checked~label.sk-toggleable__label-arrow:before {content: \"▾\";}#sk-container-id-2 div.sk-estimator input.sk-toggleable__control:checked~label.sk-toggleable__label {background-color: #d4ebff;}#sk-container-id-2 div.sk-label input.sk-toggleable__control:checked~label.sk-toggleable__label {background-color: #d4ebff;}#sk-container-id-2 input.sk-hidden--visually {border: 0;clip: rect(1px 1px 1px 1px);clip: rect(1px, 1px, 1px, 1px);height: 1px;margin: -1px;overflow: hidden;padding: 0;position: absolute;width: 1px;}#sk-container-id-2 div.sk-estimator {font-family: monospace;background-color: #f0f8ff;border: 1px dotted black;border-radius: 0.25em;box-sizing: border-box;margin-bottom: 0.5em;}#sk-container-id-2 div.sk-estimator:hover {background-color: #d4ebff;}#sk-container-id-2 div.sk-parallel-item::after {content: \"\";width: 100%;border-bottom: 1px solid gray;flex-grow: 1;}#sk-container-id-2 div.sk-label:hover label.sk-toggleable__label {background-color: #d4ebff;}#sk-container-id-2 div.sk-serial::before {content: \"\";position: absolute;border-left: 1px solid gray;box-sizing: border-box;top: 0;bottom: 0;left: 50%;z-index: 0;}#sk-container-id-2 div.sk-serial {display: flex;flex-direction: column;align-items: center;background-color: white;padding-right: 0.2em;padding-left: 0.2em;position: relative;}#sk-container-id-2 div.sk-item {position: relative;z-index: 1;}#sk-container-id-2 div.sk-parallel {display: flex;align-items: stretch;justify-content: center;background-color: white;position: relative;}#sk-container-id-2 div.sk-item::before, #sk-container-id-2 div.sk-parallel-item::before {content: \"\";position: absolute;border-left: 1px solid gray;box-sizing: border-box;top: 0;bottom: 0;left: 50%;z-index: -1;}#sk-container-id-2 div.sk-parallel-item {display: flex;flex-direction: column;z-index: 1;position: relative;background-color: white;}#sk-container-id-2 div.sk-parallel-item:first-child::after {align-self: flex-end;width: 50%;}#sk-container-id-2 div.sk-parallel-item:last-child::after {align-self: flex-start;width: 50%;}#sk-container-id-2 div.sk-parallel-item:only-child::after {width: 0;}#sk-container-id-2 div.sk-dashed-wrapped {border: 1px dashed gray;margin: 0 0.4em 0.5em 0.4em;box-sizing: border-box;padding-bottom: 0.4em;background-color: white;}#sk-container-id-2 div.sk-label label {font-family: monospace;font-weight: bold;display: inline-block;line-height: 1.2em;}#sk-container-id-2 div.sk-label-container {text-align: center;}#sk-container-id-2 div.sk-container {/* jupyter's `normalize.less` sets `[hidden] { display: none; }` but bootstrap.min.css set `[hidden] { display: none !important; }` so we also need the `!important` here to be able to override the default hidden behavior on the sphinx rendered scikit-learn.org. See: https://github.com/scikit-learn/scikit-learn/issues/21755 */display: inline-block !important;position: relative;}#sk-container-id-2 div.sk-text-repr-fallback {display: none;}</style><div id=\"sk-container-id-2\" class=\"sk-top-container\"><div class=\"sk-text-repr-fallback\"><pre>BernoulliNB()</pre><b>In a Jupyter environment, please rerun this cell to show the HTML representation or trust the notebook. <br />On GitHub, the HTML representation is unable to render, please try loading this page with nbviewer.org.</b></div><div class=\"sk-container\" hidden><div class=\"sk-item\"><div class=\"sk-estimator sk-toggleable\"><input class=\"sk-toggleable__control sk-hidden--visually\" id=\"sk-estimator-id-2\" type=\"checkbox\" checked><label for=\"sk-estimator-id-2\" class=\"sk-toggleable__label sk-toggleable__label-arrow\">BernoulliNB</label><div class=\"sk-toggleable__content\"><pre>BernoulliNB()</pre></div></div></div></div></div>"
            ]
          },
          "metadata": {},
          "execution_count": 31
        }
      ]
    },
    {
      "cell_type": "code",
      "source": [
        "# Print the classification report\n",
        "print(classification_report(bnb.predict(X_test), y_test))"
      ],
      "metadata": {
        "colab": {
          "base_uri": "https://localhost:8080/"
        },
        "id": "XPRps2mEKn3l",
        "outputId": "ebb12993-8f23-47b3-a261-516e0c79a481"
      },
      "execution_count": null,
      "outputs": [
        {
          "output_type": "stream",
          "name": "stdout",
          "text": [
            "              precision    recall  f1-score   support\n",
            "\n",
            "           0       0.67      0.89      0.77       431\n",
            "           1       0.93      0.77      0.84       818\n",
            "\n",
            "    accuracy                           0.81      1249\n",
            "   macro avg       0.80      0.83      0.81      1249\n",
            "weighted avg       0.84      0.81      0.82      1249\n",
            "\n"
          ]
        }
      ]
    },
    {
      "cell_type": "code",
      "source": [
        "# Plot the confusion matrix\n",
        "plot_confusion_matrix(y_test, bnb.predict(X_test))"
      ],
      "metadata": {
        "colab": {
          "base_uri": "https://localhost:8080/",
          "height": 430
        },
        "id": "jgVgomAFLA52",
        "outputId": "7205a776-0a62-4f61-955a-77bbc8f54206"
      },
      "execution_count": null,
      "outputs": [
        {
          "output_type": "display_data",
          "data": {
            "text/plain": [
              "<Figure size 640x480 with 2 Axes>"
            ],
            "image/png": "[encoded data removed]"
          },
          "metadata": {}
        }
      ]
    },
    {
      "cell_type": "markdown",
      "source": [
        "### 8.2.2 - Complement Naive Bayes"
      ],
      "metadata": {
        "id": "Z_3XTmcDKXFO"
      }
    },
    {
      "cell_type": "markdown",
      "source": [
        "The Complement Naive Bayes model cannto be used because **it doesn't accept the negative values into training**."
      ],
      "metadata": {
        "id": "b3oI9u4XLSvN"
      }
    },
    {
      "cell_type": "markdown",
      "source": [
        "### 8.2.3 - Multinomial Naive Bayes"
      ],
      "metadata": {
        "id": "5J56iElKKYp2"
      }
    },
    {
      "cell_type": "markdown",
      "source": [
        "The Multinomial Naive Bayes model cannto be used because **it doesn't accept the negative values into training**."
      ],
      "metadata": {
        "id": "rMRl2jlnLbqW"
      }
    },
    {
      "cell_type": "markdown",
      "source": [
        "## 8.3 - Support Vector Machine"
      ],
      "metadata": {
        "id": "zBcn9K4eLmwN"
      }
    },
    {
      "cell_type": "code",
      "source": [
        "# Initialize SVC model\n",
        "svc = SVC()\n",
        "\n",
        "# Fit SVC model\n",
        "svc.fit(X_train, y_train)"
      ],
      "metadata": {
        "colab": {
          "base_uri": "https://localhost:8080/",
          "height": 74
        },
        "id": "YWbVj3IeLp0m",
        "outputId": "0e23fdba-23f1-4419-cda4-20f08b677b0b"
      },
      "execution_count": null,
      "outputs": [
        {
          "output_type": "execute_result",
          "data": {
            "text/plain": [
              "SVC()"
            ],
            "text/html": [
              "<style>#sk-container-id-3 {color: black;}#sk-container-id-3 pre{padding: 0;}#sk-container-id-3 div.sk-toggleable {background-color: white;}#sk-container-id-3 label.sk-toggleable__label {cursor: pointer;display: block;width: 100%;margin-bottom: 0;padding: 0.3em;box-sizing: border-box;text-align: center;}#sk-container-id-3 label.sk-toggleable__label-arrow:before {content: \"▸\";float: left;margin-right: 0.25em;color: #696969;}#sk-container-id-3 label.sk-toggleable__label-arrow:hover:before {color: black;}#sk-container-id-3 div.sk-estimator:hover label.sk-toggleable__label-arrow:before {color: black;}#sk-container-id-3 div.sk-toggleable__content {max-height: 0;max-width: 0;overflow: hidden;text-align: left;background-color: #f0f8ff;}#sk-container-id-3 div.sk-toggleable__content pre {margin: 0.2em;color: black;border-radius: 0.25em;background-color: #f0f8ff;}#sk-container-id-3 input.sk-toggleable__control:checked~div.sk-toggleable__content {max-height: 200px;max-width: 100%;overflow: auto;}#sk-container-id-3 input.sk-toggleable__control:checked~label.sk-toggleable__label-arrow:before {content: \"▾\";}#sk-container-id-3 div.sk-estimator input.sk-toggleable__control:checked~label.sk-toggleable__label {background-color: #d4ebff;}#sk-container-id-3 div.sk-label input.sk-toggleable__control:checked~label.sk-toggleable__label {background-color: #d4ebff;}#sk-container-id-3 input.sk-hidden--visually {border: 0;clip: rect(1px 1px 1px 1px);clip: rect(1px, 1px, 1px, 1px);height: 1px;margin: -1px;overflow: hidden;padding: 0;position: absolute;width: 1px;}#sk-container-id-3 div.sk-estimator {font-family: monospace;background-color: #f0f8ff;border: 1px dotted black;border-radius: 0.25em;box-sizing: border-box;margin-bottom: 0.5em;}#sk-container-id-3 div.sk-estimator:hover {background-color: #d4ebff;}#sk-container-id-3 div.sk-parallel-item::after {content: \"\";width: 100%;border-bottom: 1px solid gray;flex-grow: 1;}#sk-container-id-3 div.sk-label:hover label.sk-toggleable__label {background-color: #d4ebff;}#sk-container-id-3 div.sk-serial::before {content: \"\";position: absolute;border-left: 1px solid gray;box-sizing: border-box;top: 0;bottom: 0;left: 50%;z-index: 0;}#sk-container-id-3 div.sk-serial {display: flex;flex-direction: column;align-items: center;background-color: white;padding-right: 0.2em;padding-left: 0.2em;position: relative;}#sk-container-id-3 div.sk-item {position: relative;z-index: 1;}#sk-container-id-3 div.sk-parallel {display: flex;align-items: stretch;justify-content: center;background-color: white;position: relative;}#sk-container-id-3 div.sk-item::before, #sk-container-id-3 div.sk-parallel-item::before {content: \"\";position: absolute;border-left: 1px solid gray;box-sizing: border-box;top: 0;bottom: 0;left: 50%;z-index: -1;}#sk-container-id-3 div.sk-parallel-item {display: flex;flex-direction: column;z-index: 1;position: relative;background-color: white;}#sk-container-id-3 div.sk-parallel-item:first-child::after {align-self: flex-end;width: 50%;}#sk-container-id-3 div.sk-parallel-item:last-child::after {align-self: flex-start;width: 50%;}#sk-container-id-3 div.sk-parallel-item:only-child::after {width: 0;}#sk-container-id-3 div.sk-dashed-wrapped {border: 1px dashed gray;margin: 0 0.4em 0.5em 0.4em;box-sizing: border-box;padding-bottom: 0.4em;background-color: white;}#sk-container-id-3 div.sk-label label {font-family: monospace;font-weight: bold;display: inline-block;line-height: 1.2em;}#sk-container-id-3 div.sk-label-container {text-align: center;}#sk-container-id-3 div.sk-container {/* jupyter's `normalize.less` sets `[hidden] { display: none; }` but bootstrap.min.css set `[hidden] { display: none !important; }` so we also need the `!important` here to be able to override the default hidden behavior on the sphinx rendered scikit-learn.org. See: https://github.com/scikit-learn/scikit-learn/issues/21755 */display: inline-block !important;position: relative;}#sk-container-id-3 div.sk-text-repr-fallback {display: none;}</style><div id=\"sk-container-id-3\" class=\"sk-top-container\"><div class=\"sk-text-repr-fallback\"><pre>SVC()</pre><b>In a Jupyter environment, please rerun this cell to show the HTML representation or trust the notebook. <br />On GitHub, the HTML representation is unable to render, please try loading this page with nbviewer.org.</b></div><div class=\"sk-container\" hidden><div class=\"sk-item\"><div class=\"sk-estimator sk-toggleable\"><input class=\"sk-toggleable__control sk-hidden--visually\" id=\"sk-estimator-id-3\" type=\"checkbox\" checked><label for=\"sk-estimator-id-3\" class=\"sk-toggleable__label sk-toggleable__label-arrow\">SVC</label><div class=\"sk-toggleable__content\"><pre>SVC()</pre></div></div></div></div></div>"
            ]
          },
          "metadata": {},
          "execution_count": 34
        }
      ]
    },
    {
      "cell_type": "code",
      "source": [
        "# Print the classification report\n",
        "print(classification_report(svc.predict(X_test), y_test))"
      ],
      "metadata": {
        "colab": {
          "base_uri": "https://localhost:8080/"
        },
        "id": "xtvjCRpMLuZ6",
        "outputId": "c9f08080-29eb-4c29-d0d3-346fe27f2928"
      },
      "execution_count": null,
      "outputs": [
        {
          "output_type": "stream",
          "name": "stdout",
          "text": [
            "              precision    recall  f1-score   support\n",
            "\n",
            "           0       0.88      0.95      0.91       526\n",
            "           1       0.96      0.90      0.93       723\n",
            "\n",
            "    accuracy                           0.92      1249\n",
            "   macro avg       0.92      0.93      0.92      1249\n",
            "weighted avg       0.93      0.92      0.92      1249\n",
            "\n"
          ]
        }
      ]
    },
    {
      "cell_type": "code",
      "source": [
        "# Plot the confusion matrix\n",
        "plot_confusion_matrix(y_test, svc.predict(X_test))"
      ],
      "metadata": {
        "colab": {
          "base_uri": "https://localhost:8080/",
          "height": 430
        },
        "id": "ikBg1_dpLvjy",
        "outputId": "2eeb05ae-c205-46d3-f08e-ff47f363b40b"
      },
      "execution_count": null,
      "outputs": [
        {
          "output_type": "display_data",
          "data": {
            "text/plain": [
              "<Figure size 640x480 with 2 Axes>"
            ],
            "image/png": "[encoded data removed]"
          },
          "metadata": {}
        }
      ]
    },
    {
      "cell_type": "markdown",
      "source": [
        "## 8.4 - Best Model: Conclusion"
      ],
      "metadata": {
        "id": "Q8RtcACONQdV"
      }
    },
    {
      "cell_type": "markdown",
      "source": [
        "The three main machine learning models for classification were trained: Logistic Regression, SVC, and Naive Bayes. The approach was to choose a baseline model, Logistic Regression, and train other models to see which one could provide better metrics.\n",
        "\n",
        "*Without resorting to neural networks and without excessively using resources for hyperparameter* tuning and optimization, Logistic Regression already provided more than **sufficient metrics for classification**, and for this reason, it was chosen as **the best classifier**."
      ],
      "metadata": {
        "id": "ly_O5YWxNW79"
      }
    },
    {
      "cell_type": "markdown",
      "source": [
        "## 8.5 - Cross Validation: More checks on Best Model"
      ],
      "metadata": {
        "id": "aBONWFTMOxKu"
      }
    },
    {
      "cell_type": "code",
      "source": [
        "cv_scores = cross_val_score(lr, X_train, y_train, cv=5, scoring='accuracy')"
      ],
      "metadata": {
        "colab": {
          "base_uri": "https://localhost:8080/"
        },
        "id": "IrH1Xm3wO4We",
        "outputId": "a68898e7-dd11-4afa-ab78-d88dd4a65ca1"
      },
      "execution_count": null,
      "outputs": [
        {
          "output_type": "stream",
          "name": "stderr",
          "text": [
            "/usr/local/lib/python3.10/dist-packages/sklearn/linear_model/_logistic.py:460: ConvergenceWarning: lbfgs failed to converge (status=1):\n",
            "STOP: TOTAL NO. of ITERATIONS REACHED LIMIT.\n",
            "\n",
            "Increase the number of iterations (max_iter) or scale the data as shown in:\n",
            "    https://scikit-learn.org/stable/modules/preprocessing.html\n",
            "Please also refer to the documentation for alternative solver options:\n",
            "    https://scikit-learn.org/stable/modules/linear_model.html#logistic-regression\n",
            "  n_iter_i = _check_optimize_result(\n",
            "/usr/local/lib/python3.10/dist-packages/sklearn/linear_model/_logistic.py:460: ConvergenceWarning: lbfgs failed to converge (status=1):\n",
            "STOP: TOTAL NO. of ITERATIONS REACHED LIMIT.\n",
            "\n",
            "Increase the number of iterations (max_iter) or scale the data as shown in:\n",
            "    https://scikit-learn.org/stable/modules/preprocessing.html\n",
            "Please also refer to the documentation for alternative solver options:\n",
            "    https://scikit-learn.org/stable/modules/linear_model.html#logistic-regression\n",
            "  n_iter_i = _check_optimize_result(\n",
            "/usr/local/lib/python3.10/dist-packages/sklearn/linear_model/_logistic.py:460: ConvergenceWarning: lbfgs failed to converge (status=1):\n",
            "STOP: TOTAL NO. of ITERATIONS REACHED LIMIT.\n",
            "\n",
            "Increase the number of iterations (max_iter) or scale the data as shown in:\n",
            "    https://scikit-learn.org/stable/modules/preprocessing.html\n",
            "Please also refer to the documentation for alternative solver options:\n",
            "    https://scikit-learn.org/stable/modules/linear_model.html#logistic-regression\n",
            "  n_iter_i = _check_optimize_result(\n",
            "/usr/local/lib/python3.10/dist-packages/sklearn/linear_model/_logistic.py:460: ConvergenceWarning: lbfgs failed to converge (status=1):\n",
            "STOP: TOTAL NO. of ITERATIONS REACHED LIMIT.\n",
            "\n",
            "Increase the number of iterations (max_iter) or scale the data as shown in:\n",
            "    https://scikit-learn.org/stable/modules/preprocessing.html\n",
            "Please also refer to the documentation for alternative solver options:\n",
            "    https://scikit-learn.org/stable/modules/linear_model.html#logistic-regression\n",
            "  n_iter_i = _check_optimize_result(\n",
            "/usr/local/lib/python3.10/dist-packages/sklearn/linear_model/_logistic.py:460: ConvergenceWarning: lbfgs failed to converge (status=1):\n",
            "STOP: TOTAL NO. of ITERATIONS REACHED LIMIT.\n",
            "\n",
            "Increase the number of iterations (max_iter) or scale the data as shown in:\n",
            "    https://scikit-learn.org/stable/modules/preprocessing.html\n",
            "Please also refer to the documentation for alternative solver options:\n",
            "    https://scikit-learn.org/stable/modules/linear_model.html#logistic-regression\n",
            "  n_iter_i = _check_optimize_result(\n"
          ]
        }
      ]
    },
    {
      "cell_type": "code",
      "source": [
        "print(\"Accuracy for each fold:\", cv_scores)\n",
        "print(\"Mean accuracy:\", cv_scores.mean())\n",
        "print(\"Standard deviation:\", cv_scores.std())"
      ],
      "metadata": {
        "colab": {
          "base_uri": "https://localhost:8080/"
        },
        "id": "cPN-BNNbO6z_",
        "outputId": "b606f8aa-bbea-4ad8-9831-0884f6183433"
      },
      "execution_count": null,
      "outputs": [
        {
          "output_type": "stream",
          "name": "stdout",
          "text": [
            "Accuracy for each fold: [0.93293293 0.92092092 0.92685371 0.92184369 0.91382766]\n",
            "Mean accuracy: 0.9232757807908107\n",
            "Standard deviation: 0.006370643265346233\n"
          ]
        }
      ]
    },
    {
      "cell_type": "markdown",
      "source": [
        "# 9 - Task 2: Identify Main Topics"
      ],
      "metadata": {
        "id": "RDBNw-8hOmMP"
      }
    },
    {
      "cell_type": "code",
      "source": [
        "# Extract spam words from dataset\n",
        "spam_words = dataset[dataset['label_num'] == 1]['cleaned_text']"
      ],
      "metadata": {
        "id": "K0fJbO9ePsN-"
      },
      "execution_count": null,
      "outputs": []
    },
    {
      "cell_type": "code",
      "source": [
        "# Generate for each document a list of words\n",
        "data_words = list(sent_to_words(spam_words))"
      ],
      "metadata": {
        "id": "QDwxQLB_Q6rG"
      },
      "execution_count": null,
      "outputs": []
    },
    {
      "cell_type": "code",
      "source": [
        "# Remove stop words\n",
        "data_words = remove_stopwords(data_words)"
      ],
      "metadata": {
        "id": "K-Ijw2oERkV4"
      },
      "execution_count": null,
      "outputs": []
    },
    {
      "cell_type": "code",
      "source": [
        "# Create Dictionary mapping each single word with unique ID\n",
        "id2word = corpora.Dictionary(data_words)"
      ],
      "metadata": {
        "id": "HZzEM2KbPJVF"
      },
      "execution_count": null,
      "outputs": []
    },
    {
      "cell_type": "code",
      "source": [
        "# For each document create a couple of word_id and frequency\n",
        "corpus = [id2word.doc2bow(text) for text in data_words]"
      ],
      "metadata": {
        "id": "gnclxW9VPhly"
      },
      "execution_count": null,
      "outputs": []
    },
    {
      "cell_type": "code",
      "source": [
        "# Number of topics\n",
        "num_topics = 10\n",
        "\n",
        "# Passes\n",
        "passes = 5\n",
        "\n",
        "# Build LDA model\n",
        "lda_model = gensim.models.LdaMulticore(corpus=corpus,\n",
        "                                       id2word=id2word,\n",
        "                                       num_topics=num_topics,\n",
        "                                       passes=passes,\n",
        "                                       random_state=RANDOM_SEED)"
      ],
      "metadata": {
        "colab": {
          "base_uri": "https://localhost:8080/"
        },
        "id": "T197f9i6P5gG",
        "outputId": "0fa01f27-1884-4348-ca5a-a23cf024f27b"
      },
      "execution_count": null,
      "outputs": [
        {
          "output_type": "stream",
          "name": "stderr",
          "text": [
            "WARNING:gensim.models.ldamulticore:too few updates, training might not converge; consider increasing the number of passes or iterations to improve accuracy\n"
          ]
        }
      ]
    },
    {
      "cell_type": "code",
      "source": [
        "# Print the topics identified\n",
        "pprint(lda_model.print_topics())"
      ],
      "metadata": {
        "colab": {
          "base_uri": "https://localhost:8080/"
        },
        "id": "brM9HhaFSpG_",
        "outputId": "c5139a82-e185-4f8b-f520-9d6ad3f32438"
      },
      "execution_count": null,
      "outputs": [
        {
          "output_type": "stream",
          "name": "stdout",
          "text": [
            "[(0,\n",
            "  '0.010*\"subject\" + 0.004*\"price\" + 0.004*\"download\" + 0.004*\"review\" + '\n",
            "  '0.003*\"source\" + 0.003*\"story\" + 0.003*\"january\" + 0.003*\"instant\" + '\n",
            "  '0.003*\"citibank\" + 0.003*\"microsoft\"'),\n",
            " (1,\n",
            "  '0.010*\"subject\" + 0.009*\"email\" + 0.005*\"rolex\" + 0.005*\"watch\" + '\n",
            "  '0.003*\"music\" + 0.003*\"online\" + 0.002*\"artprice\" + 0.002*\"replica\" + '\n",
            "  '0.002*\"million\" + 0.002*\"address\"'),\n",
            " (2,\n",
            "  '0.024*\"subject\" + 0.008*\"account\" + 0.007*\"please\" + 0.006*\"offer\" + '\n",
            "  '0.006*\"money\" + 0.005*\"click\" + 0.005*\"online\" + 0.004*\"visit\" + '\n",
            "  '0.004*\"price\" + 0.004*\"internet\"'),\n",
            " (3,\n",
            "  '0.022*\"company\" + 0.014*\"statement\" + 0.012*\"stock\" + 0.010*\"price\" + '\n",
            "  '0.009*\"information\" + 0.008*\"security\" + 0.008*\"report\" + 0.008*\"within\" + '\n",
            "  '0.007*\"investment\" + 0.005*\"forward\"'),\n",
            " (4,\n",
            "  '0.011*\"subject\" + 0.006*\"number\" + 0.005*\"company\" + 0.005*\"claim\" + '\n",
            "  '0.005*\"international\" + 0.005*\"email\" + 0.004*\"please\" + 0.004*\"account\" + '\n",
            "  '0.004*\"money\" + 0.003*\"program\"'),\n",
            " (5,\n",
            "  '0.016*\"subject\" + 0.015*\"computron\" + 0.011*\"contact\" + 0.011*\"message\" + '\n",
            "  '0.010*\"please\" + 0.010*\"remove\" + 0.006*\"reply\" + 0.006*\"price\" + '\n",
            "  '0.005*\"dealer\" + 0.005*\"special\"'),\n",
            " (6,\n",
            "  '0.013*\"subject\" + 0.007*\"price\" + 0.004*\"software\" + 0.003*\"click\" + '\n",
            "  '0.003*\"window\" + 0.003*\"retail\" + 0.003*\"xanax\" + 0.003*\"today\" + '\n",
            "  '0.002*\"offer\" + 0.002*\"quick\"'),\n",
            " (7,\n",
            "  '0.021*\"height\" + 0.018*\"width\" + 0.013*\"align\" + 0.011*\"border\" + '\n",
            "  '0.010*\"color\" + 0.007*\"subject\" + 0.007*\"style\" + 0.007*\"center\" + '\n",
            "  '0.006*\"adobe\" + 0.006*\"bgcolor\"'),\n",
            " (8,\n",
            "  '0.008*\"subject\" + 0.007*\"company\" + 0.004*\"million\" + 0.004*\"investment\" + '\n",
            "  '0.003*\"system\" + 0.003*\"share\" + 0.003*\"price\" + 0.003*\"information\" + '\n",
            "  '0.003*\"waste\" + 0.003*\"group\"'),\n",
            " (9,\n",
            "  '0.018*\"subject\" + 0.007*\"cialis\" + 0.006*\"viagra\" + 0.006*\"order\" + '\n",
            "  '0.006*\"prescription\" + 0.005*\"online\" + 0.005*\"price\" + 0.004*\"product\" + '\n",
            "  '0.004*\"medication\" + 0.004*\"click\"')]\n"
          ]
        }
      ]
    },
    {
      "cell_type": "markdown",
      "source": [
        "# 10 - Task 3: Calculate Semantics Distance"
      ],
      "metadata": {
        "id": "KZJRtIdfO0kL"
      }
    },
    {
      "cell_type": "code",
      "source": [
        "# Store the probability distribution of topics\n",
        "topics = lda_model.get_topics()"
      ],
      "metadata": {
        "id": "qZmIM7BjPJk1"
      },
      "execution_count": null,
      "outputs": []
    },
    {
      "cell_type": "code",
      "source": [
        "# Compute the cosine similarities between topics\n",
        "cosine_similarities = cosine_similarity(topics)\n",
        "\n",
        "# Print the cosine similarity matrix\n",
        "print(cosine_similarities)"
      ],
      "metadata": {
        "colab": {
          "base_uri": "https://localhost:8080/"
        },
        "id": "AkzJdVyyTlro",
        "outputId": "83df20de-9eaa-4a95-c2e5-626e344c6bcf"
      },
      "execution_count": null,
      "outputs": [
        {
          "output_type": "stream",
          "name": "stdout",
          "text": [
            "[[1.0000141  0.49513578 0.5901001  0.34541655 0.52396035 0.41240183\n",
            "  0.5638042  0.2483152  0.4825925  0.5315172 ]\n",
            " [0.49513578 1.0000252  0.607516   0.28197798 0.5339561  0.43527675\n",
            "  0.50695544 0.20036177 0.45059076 0.56924206]\n",
            " [0.5901001  0.607516   1.0000206  0.36806276 0.686963   0.5722138\n",
            "  0.6571562  0.2070405  0.56764877 0.72800964]\n",
            " [0.34541655 0.28197798 0.36806276 1.0000807  0.5094339  0.24022225\n",
            "  0.31437847 0.11141361 0.6895352  0.3000578 ]\n",
            " [0.52396035 0.5339561  0.686963   0.5094339  0.9999713  0.4406933\n",
            "  0.49329618 0.22186215 0.59744626 0.5415814 ]\n",
            " [0.41240183 0.43527675 0.5722138  0.24022225 0.4406933  0.99995923\n",
            "  0.45279354 0.1633058  0.3462898  0.46364847]\n",
            " [0.5638042  0.50695544 0.6571562  0.31437847 0.49329618 0.45279354\n",
            "  1.0000315  0.27367687 0.48656332 0.6840203 ]\n",
            " [0.2483152  0.20036177 0.2070405  0.11141361 0.22186215 0.1633058\n",
            "  0.27367687 0.99993694 0.1832892  0.19228412]\n",
            " [0.4825925  0.45059076 0.56764877 0.6895352  0.59744626 0.3462898\n",
            "  0.48656332 0.1832892  0.9999267  0.50633854]\n",
            " [0.5315172  0.56924206 0.72800964 0.3000578  0.5415814  0.46364847\n",
            "  0.6840203  0.19228412 0.50633854 0.9999624 ]]\n"
          ]
        }
      ]
    },
    {
      "cell_type": "code",
      "source": [
        "# Plot the matrix of cosine similarity between topics\n",
        "sns.heatmap(cosine_similarities,\n",
        "            annot=True,\n",
        "            cmap='coolwarm',\n",
        "            xticklabels=range(len(topics)),\n",
        "            yticklabels=range(len(topics)))\n",
        "\n",
        "plt.title('Cosine Similarity between Topics')\n",
        "plt.show()"
      ],
      "metadata": {
        "colab": {
          "base_uri": "https://localhost:8080/",
          "height": 452
        },
        "id": "x-w6TWwWT9iv",
        "outputId": "03316d34-7681-4c69-f676-acec69abe962"
      },
      "execution_count": null,
      "outputs": [
        {
          "output_type": "display_data",
          "data": {
            "text/plain": [
              "<Figure size 640x480 with 2 Axes>"
            ],
            "image/png": "[encoded data removed]"
          },
          "metadata": {}
        }
      ]
    },
    {
      "cell_type": "markdown",
      "source": [
        "As shown by the cosine similarity matrix of topics, it is possible to notice that there are some similar topic such as:\n",
        "\n",
        "*   Number 2 similar to 6, 4 and 9\n",
        "*   Number 3 similar to 8\n",
        "*   Number 6 similar to 9 and 2\n",
        "*   Number 9 similar to 6 and 2\n",
        "\n",
        "Checking the explicit topics:\n",
        "\n",
        "  (2,\n",
        "  '0.024*\"subject\" + 0.008*\"account\" + 0.007*\"please\" + 0.006*\"offer\" + '\n",
        "  '0.006*\"money\" + 0.005*\"click\" + 0.005*\"online\" + 0.004*\"visit\" + '\n",
        "  '0.004*\"price\" + 0.004*\"internet\"')\n",
        "\n",
        "  (6,\n",
        "  '0.013*\"subject\" + 0.007*\"price\" + 0.004*\"software\" + 0.003*\"click\" + '\n",
        "  '0.003*\"window\" + 0.003*\"retail\" + 0.003*\"xanax\" + 0.003*\"today\" + '\n",
        "  '0.002*\"offer\" + 0.002*\"quick\"')\n",
        "\n",
        "  (4,\n",
        "  '0.011*\"subject\" + 0.006*\"number\" + 0.005*\"company\" + 0.005*\"claim\" + '\n",
        "  '0.005*\"international\" + 0.005*\"email\" + 0.004*\"please\" + 0.004*\"account\" + '\n",
        "  '0.004*\"money\" + 0.003*\"program\"')\n",
        "\n",
        "The topics are related between them considering the words \"**please**\", \"**price**\" and \"**money**\".\n",
        "\n",
        "The rest of topics not analyzed are heterogeneous between them, no strong relationship between thema are present escluding the topics analyzed.\n",
        "\n",
        "**They seem to be words related to money offers that entice the user to accept and potentially fall victim to scams.**"
      ],
      "metadata": {
        "id": "FcQxwTX_UgFC"
      }
    },
    {
      "cell_type": "markdown",
      "source": [
        "# 11 - Task 4: Extract Organizations from NO-SPAM"
      ],
      "metadata": {
        "id": "UfBohtorO0-y"
      }
    },
    {
      "cell_type": "code",
      "source": [
        "# Initialize organization list\n",
        "organizations = []"
      ],
      "metadata": {
        "id": "0SL9z27GXAzr"
      },
      "execution_count": null,
      "outputs": []
    },
    {
      "cell_type": "code",
      "source": [
        "# For each email NO-SPAM extract the ORG identified\n",
        "for doc in dataset[dataset['label_num']==0]['text']:\n",
        "    spacy_doc = NLP(doc)\n",
        "\n",
        "    for ent in spacy_doc.ents:\n",
        "        if ent.label_ == 'ORG':\n",
        "            organizations.append(ent.text)"
      ],
      "metadata": {
        "id": "_aPtR01gWZO3"
      },
      "execution_count": null,
      "outputs": []
    },
    {
      "cell_type": "code",
      "source": [
        "# Remove the duplication with set and store the list of ORG\n",
        "organizations = list(set(organizations))"
      ],
      "metadata": {
        "id": "BSiAXGnTX3j0"
      },
      "execution_count": null,
      "outputs": []
    },
    {
      "cell_type": "code",
      "source": [
        "# Show the organization extracted\n",
        "print(organizations)"
      ],
      "metadata": {
        "colab": {
          "base_uri": "https://localhost:8080/"
        },
        "id": "LfV52iGKXEbg",
        "outputId": "de6f2e4b-ce71-4406-d34f-41588bd025dd"
      },
      "execution_count": null,
      "outputs": [
        {
          "output_type": "stream",
          "name": "stdout",
          "text": [
            "['samson lone star limited', 'resources , inc', 'houston pipeline', 'texas 0', 'hplc - im', 'lilly', 'fidelity investments', 'sta', 'pioneer', 'corp tax', 'mondragon', 'joseph p hirl / enron _ development @ enron _', 'ene', 'ena ( ews ) canada origination & trading - calgary', 'dana daigle / corp /', 'cowtrap &', 'cp & l', 'cooper / gco / enron @ enron', 'chris riegler / corp / enron @ enron', 'hplc texas', 'martin', 'srm', 'laura harder / corp / enron @ enron\\nsubject', 'gmt company inc', 'philadelphia inquirer', 'pat clynes / corp /', 'mobil beaumont', 'jott @ rsn', 'columbus energy corp', 'ena invoice', 'camille gerard / corp / enron @ enron', 'night - sigmund & freud', 'hetherington - canada', 'fariba', 'zeman / corp / enron @ enron', 'delta air lines , inc .', 'the houston exploration company', '9603', 'brenham', 'coastal o & g', 'brenda herod &', 'cdp', 'jennings ranch\\n', 'gulf gas utilities', 'john hodge / corp /', '\\x01', 'ewn', 'h & w', 'c & e berclair\\n989813', 'kafus environmental industries , inc', 'deere', 'stella l morris', 'complaint department\\n>', 'dow jones & company , inc .', 'jayanta', 'edith', 'boyle / corp /', 'enron corp\\nmeter', 'veselack / corp / enron @ enron', 'connie stuckey', 'tnpc , inc .', 'united airlines', 'valero', 'debbie holmelin', 'information & records', '& g 9739', 'hughes & hughes\\n', 'may & june 2001', '10 am &', 'enron energy services', 'texas independent energy', 'white\\n& blue', 'enron methanol', 'duke energy trading & marketing', 'lynda munkres', 'smu', 'regan m smith / hou', 'account & contact management', 'union pacific resources inc', 'the new york', 'mips', 'invoice d & h', 'warner', '& m', 'panther pipeline , inc .', \"d & h ' s\", 'alamo', 'the lrc & bridgeline pipeline systems', 'ethyl ( albemarle', 'helmerich & payne', 'texoma', 'gepl', 'duke energy', 'cox cable - omaha', 'ga', 'texas a & m', 'lincoln', 'chokshi / corp /', 'dfarmer @ enron', 'dell & enron order confirmation\\n>', 'fbi', 'university of texas', 'pg & e to 30', 'please send future e - mails', 'rate & shut', 'pai', 'the brown\\n& williamson tobacco company', 'cummins & walker oil\\ncompany inc .', 'texas p / l', 'pg & e\\nntp - 36', 'liz hillman / corp / enron @ enron', 'enron india', 'the supreme court', 'enron / 112', 'graham / corp /', 'hplc & aep', 'us &', 'koch midstream services', 'ena texas', 'collins / corp /', 'amoco', 'east texas', 'nbc', 'mobil refinery', 'the\\nunited\\n>', 'logistics & volume', 'prop - reg', 'truong / corp /', 'falcon', 'nfl', 'p g & e', 'norton', 'channel - 012 - 15600 - 02 - 069', 'walter oil & gas', 'the baskeball association', 'plano &', 'martinez', 'lone star limited', 'the p & l', 'texas & hplc', 'mjkereluk @ msn', 'the pg & e contract', 'enron\\namericas', 'lloyd ;', 'new york stock exchange', 'kelley\\nmyers / gco / enron @ enron', 'oil & gas corp .', 'yahoo', 'centana', 'mike morris &', 'transm', 'kravas', 'coastal oil & gas corporation\\nalbrecht', 'mjg , corp .', 'new york times', 'ees / london', 'gco / enron @ enron', 'specialist', 'the white house : telephone (', 'darren & tonya', 'ps', 'megan parker / corp / enron @ enron', 'oakville & moore', 'sanchez oil & gas - 20', 'cold & sinus effervescent\\nalka seltzer plus night', 'powder\\ncomtrex', 'pat', 'higginsville', '\\x01 & the enron', 'walters / houston / pefs / pec @', 'aladdin', 'miller', 'enron broadband services', 'exxon mobil', '\\x01 & other deductions \\x01', 'cummins & walker', 'the c / p', 'duke energy & trading', 'hill & wilkinson , ltd .', 'walter oil &', 'paladin resources plc', 'distribution & enbridge', 'bro', 'the texas desk called me', 'd & h', 'nathan', 'lone star', 'the new &', 'sears', 'control &', 'blue hill', 'texas logistics info', 'exxon - katy', 'sid richardson / transco', 'pg & e at carthage\\n', 'briana', 'houston pipeline company', 'bienenstock', 'enron corp .', \"sid richardson ' s\", 'duke exchange', 'dev .', 'kerr - mcgee oil & gas corporation\\n', 'duke', 'centana mobil', 'theresa', 'texas nom', 'jayson fitts', 'megan parker / corp / enron @ enron\\n', 'apache corp', 'd & p', 'parker / corp / enron @ enron', 'crook / corp / enron @ enron', 'jennings', 'hayden / corp /', 'north central corp 9767', 'litigation \\x01', 'ena ( ews )', 'united oil & mineral\\nsee', 'archer brent', 'dominic\\nmorris', 'wgr', '70120', 'wilson creek lateral\\nrepairs', 'vcf', 'morgan', 'mci', 'campon / shanghai', 'gmt company inc .', 'pg & e waha', 'complaint department', 'sullivan / hou', 'hpl / 0980308 555', 'kansas st', 'jennings ranch', 'leila uunila - canada\\n>', 'dominique', 'lia', 'guadalupe pipeline inc .', 'brown - canada\\n>', 'mchiasson @ internet 8 .', 'spinaker / n', 'wilson creek lateral\\n', 'chase business services', 'oil & gas', 'jprejean @ law .', 'xbr', 'the house of representatives financial services committee', 'ford', 'texas energy reliability council', 'non - exempt &', 'lisa & christopher', 'beaumont\\nmethanol', \"p & a '\", 'holland & davis', 'edith cross', 'mastercard international', 'justin', 'cinco ranch golf', 'ami chokshi / corp / enron @ enron\\nsubject', 'beaumont methanol - meter', 'el paso', 'christian lebroc / corp / enron @ enron', 'donald p reinhardt / enron', 'sony', 'corby\\ngoodman', 'balfour - flanagan / corp /', 'north harris community college', 'houston\\ngeorganne m .', 'dnb', 'blockbuster inc .', 'kelly templeton / corp / enron @ enron', 'donald p .', 'lloyd @', 'pat clynes / corp / enron @ enron\\n', 'the pg & e support', 'dell desktop computer', 'cinco ranch\\n*', 'saxet thompsonville meter # 9794', 'dell & enron clickathome order confirmation\\n', 'philadelphia hotel', 'start & end', \"darren ' s # ' s\", 'exxon', 'jim pond / corp / enron @ enron', 'jeanne wukasch / corp / enron @ enron', 'ubs ag', 'the senate commerce committee', 'merrill @ yahoo', 'melinda', 'tenaska iv , inc', 'mjg inc .', 'resources , inc .', 'texas 77002', 'pg &', 'fox', 'texaco &', 'wagner & brown ltd\\n', 'the department of justice', 'lagrasta', 'al # 1', '\\\\ logistics \\\\', 'jason r wiesepape / hou', 'neuweiler', 'ots', 'cynthia franklin / corp /', 'laynie', 'houston pipeline company anywhere', 'cavanaug @ gustafson', 'the buys & the desk - to - desk', 'nathan l hlavaty / hou / ect @ ect', 'nathan l\\nhlavaty / hou', 'exxonmobil', 'stacey', 'union carbide safety', 'chosen texas a & m', 'the pg & e\\n', 'rohm & haas', 'gutschlag', 'texas pipeline corp', 'coastal oil &\\ngas corp .', 'katherine herrera / corp /', \"gepl meter # '\", 'ews ) treasury & funding - houston', 'wagner & brown , ltd', 'duke energy field\\nservices', 'commonwealth edison company', 'pendergrass / corp / enron @ enron', 'garrick\\nhill', 'tennessee p / l', 'usb', 'lauer', 'enron communications , inc .', 'development &', 'wilson', 'enron corp\\neb', 'apollo', 'shona\\nwilson', 'nicholie / corp / enron @ enron', 'dell computer corporation', 'daren & tom', 'hpl pg & e\\n', 't & e ( transportation & exchange', 'pan energy', 'terminations & expirations', 'abb asltom power inc', 'pg & e meter 834134', 'boeing', 'lone star redelivery point', 'hr / corp / enron @ enron', 'katherine herrera / corp / enron @ enron\\n', 'smith / corp / enron @ enron', 'greenery', 'united oil & minerals', 'the williams & apache', 'tholt', 'rabia\\nbasit / corp / enron @ enron', 'carrizo oil & gas', 'pan energy exchange', 'sid richardson', 'harder / corp / enron @ enron', 'pg & e called', 'walter o & g / superior', 'helmerich & payne , inc', 'jackson\\ndewett', 'pan energy marketing exchange', 'the sap financial systems', 'brenda', 'pamela chambers / corp / enron @ enron', 'kelly ellis / corp / enron @ enron\\n', 'the kinder morgan , inc .', \"enron corp . '\", 'nyse', 'abramo / corp /', 'hplc transport', 'urbanek / corp /', 'jennifer &', 'enron announcements / corp / enron @ enron', 'cox', '679847 & 679848', 'kelly templeton / corp / enron @ enron\\nsubject', 'enron apachi', 'he / corp / enron @ enron', 'enron canada', 'smith l .', 'dropbox \\\\', 'hpl & ena', 'lousis dreyfus', 'duke energy field services', \"mobil didn '\", 'daniel jenuwine', 'pdf', 'ami chokshi / corp / enron @ enron\\n', 'ward / corp / enron @ enron', 'lamadrid , victor', 'smith ( corp )', 'wagner', 'mack / corp / enron @ enron', 'pg & e w', 'hidden valley', 'cold & flu medicine', 'kerr mcgee gas', 'mwongozi / corp /', 'm & a', 'berkeland / corp /', 'pipeline , inc .', 'nelson ferries / corp / enron @ enron', 'the detroit\\nphc', 'th &', 'jan & feb', 'cfp \\x01 v', 'scada / mips', 'the texas desk\\nlogistics group', 'mar , & apr', 'gpm', 'parker', 'klussman ( corp', 'united oil & minerals , inc .', 'wendy king / corp / enron @ enron', 'devon energy', 'bp\\namoco', 'txu', 'morgan texas pipeline , inc .', 'lasuzzo / corp / enron @ enron', 'gas & oil southwest inc .', 'pg & e meters 6040', 'canada corporation', 'loosley', '598934 & 598958', 'sap coe / corp / enron @ enron\\n', 'enron capital management', 'ocean energy inc .', 'camden resources inc .', 'the exxon transport', 'enron broadband services\\nenron broadband services', 'the g / l', 'igs dodge street', 'piper / corp /', 'united salt', 'parker / corp /', 'the securities and exchange commission', 'ygcy - 4', 'pwcglobal', 'scotland group plc', 'houston\\nrichard', 'the pg & e delivery\\npoint # 00534580', 'patti', 'devon', 'corey\\nmyers', 'hpl d / p to transco\\ndaren\\n', 'the united\\nstates\\n>', 'nbc - nightly news', 'miles / corp /', 'ees financial planning & reporting \\x01', 'cnn', 'westvaco', 'the\\nunited oil & minerals', 'please send\\nfuture', 'koenig / corp /', 'wagner &\\nbrown', 'logistics', 'katherine herrera / corp / enron @ enron\\nsubject :', 'aep corp', 'forster / corp /', 'reorg', 'hilcorp', 'southern union', 'rose m', 'nathan l hlavaty / hou', 'aimee', 'enron americas', 'gda hsc', 'enron capital & trade resources corp .', 'john griffith / corp / enron @ enron', 'fri', \"mcdonald ' s\", 'dell computer', 'cindy', 'd & h under deal 70120', 'hpl d / p to transco', 'consulting , inc .', 'aburrell @ utilicorp', 'donald p reinhardt / hou', '9385', 'steven p south / hou / ect @ ect', 'mccoy / corp / enron\\nsabrae zajac', 'lone star gas', 'conoco , inc .', 'texas gas', 'sinus & nasal', 'julissa marron / corp / enron @ enron', 'od & t', 'tammi depaolis / corp / enron @ enron', 'channel transport', 'the ena legal department', 'gcs / cec / pec', 'smith @ enron', 'carey / darren / stacey', 'foot locker canada', 'mobil cayanosa', 'burnell n', 'phillips', 'p / l company', 'channel / el paso', 'oil & gas usa', 'united healthcare - please', 'ets engineering & construction \\x01', 'the prom dress & shoes', 'the kansas senate', 'pg & e to', 'joann', 'jackson & bob\\n- - - - - - - - - - - - - - - - - - - -', 'gpa', 'gmt , inc .', 'ebs portland to corp servers', 'the delta air lines reservations office for your country', 'wal - mart', '\\x12 \\x12', 'campbell', 'darren p adamik / hou', 'morela\\nhernandez / corp / enron @ enron', 'united oil & minerals , inc', 'kinsey', 'diaz', '/ corp / enron @ enron', 'cavalier oil & gas', 'sheryl nolan', 'microsoft', 'crzo\\ncostilla energy', 'wells street', 'the pg & e', 'daren & julie :', 'gop', 'pg & e ( now el paso', 'donna & george', 'central power &', 'nom', 'cold & allergy chewable', 'latson / corp /', 'pg & e', 'ami chokshi / corp /', \"pan energy ' s\", 'connie l', 'louis dreyfus', 'pat clynes / corp / enron @ enron\\nsubject', 'milnthorp', 'mobil chemical', 'manhattan resources & shell gas transmission', 'elisabeth mccabe / corp / enron @ enron', 'carrabine / corp / enron @ enron', 'tammy & i', 'rockefeller', 'gcs / cec / pec @ pec', 'kinder morgan texas', 'megan', 'cdnow , inc .', 'associate &', 'gore / corp /', '1 & 2', \"coin '\", \"el paso '\", 'hplc - hplc', 'wilmar pipline', 'netco', 'sr / jr', 'nom & actual flow for', 'the yuma companies ( inc .', 'katherine herrera / corp / enron @ enron\\nsubject', 'porche / gco / enron @ enron', 's p & l', 'wesneske', 'kerr - mcgee oil & gas onshore l', '9651 & 9672', '547201 & 591307', 'rincon petroleum corp\\ntom', 'clem', 'harvard', 'abc', '\\x01 & capital book \\x01 8', 'burnell / n', 'megan parker / corp / enron @ enron\\nsubject', \"the pg & e '\", 'amanda', '611178', 'staab / corp / enron @ enron', 'the\\nunited states', 'mjg , inc .', 'church & go', 'sql _', 'gmt , inc', 'el paso field services', '/ corp /', 'georgia gulf corp .', 'msnbc', 'waha & 2', 'black marlin pipeline company inc .', 'enron\\ncorp .', 'parker\\nthais hensch angela barnett\\nlaura vargas', 'ec', 'charles ward / corp / enron @ enron', 'franklin', 'samson', 'ps .', 'triaminic syrup cold & allergy\\ntriaminic triaminicol cold & cough\\nacutrim diet', 'connie sutton', 'schockling / corp / enron @ enron', 'duke energy -', 'texas city\\nunion', 'delta', 'union carbide', 'enron south\\namerica', 'nathan l hlavaty / hou / ect @', 'army', 'university of houston', 'print & return', 'puerto rico & u .', 'nick cocavessis / corp /', 'mtbe', 'a q & a', 'stanley horton / corp /', 'acosta', 'sherlyn needs answers', 'texas logistics', 'pg & e .', 'united express', \"lacy & i can '\", 'enron', 'lomak - sterling & mendell cdp', 'searobin p / l', 'anal & rptg', 'buckley 02 / 08 / 2001 04', 'burlington resources', 'hplc', 'bruce mcmills', 'may / corp / enron @ enron', 'cummins & walker oil', 'kemp', 'kyle field\\ncollege station', 'smith street', 'jared l', 'western canada', 'gas & oil southwest inc', 'adrrf\\nbeau canada exploration ltd bau', 'enron & texaco', 'gulf', 'apache & williams', 'whihc', 'mccoy / corp /', 'katherine herrera / corp / enron', 'cp & l for', 'abb alstom power inc', 'shipping & handling :', 'ferries / corp /', 'transco p / l', 'petroleum corp', 'katherine herrera / corp / enron @ enron\\ncc', 'pg & e texoma', 'regan m .', 'the coo of americas', 'schield ( corp )\\nkevin', 'kinder morgan net', 'carl & liz fortin', '7 p .', 'wagner & brown', 'mcdonald @', 'gda hsc less\\n$ 0 .', 'finance & treasurer\\nsubject', 'asa l', 'conoco', 'coastal oil & gas corporation', 'walt spiegelhauer', 'enron corp', 'houston / pefs / pec @', 'texas gas services corp', 'tenaska , inc .', 'texas edit logistics\\nresource type', 'christina sanchez / corp / enron @ enron', 's p & l calc', 'johnson / corp /', 'gda hsc less $ 0', 'lee p .', 'stephenson , aubrey', 'staab', 'united healthgroup', 'hpl\\nmeter # 986884', 'robin p / l', 'expedia inc .', 'cfgl\\ncarrizo oil & gas inc .', 'clint', 'cst', 'arco', 'black / corp / enron @ enron', 'jaquet', 'orsak / corp / enron @ enron', 'the hl & p', '3 / 6 & 3 / 7', 'zamer / corp / enron @ enron', 'janzen', 'start & end date', 'cp & l .', 'enron transportation services', 'pasadena plant', 'smith @ usa', 'art & jo', 'mobil chemical - pasadena - hpl meter # 1256', 'corey hobbs / corp / enron @ enron', ', inc', '- president & ceo', 'danex energy company', 'dynegy corp .', 'schockmel @ usa', 'gcp', 'hplc 04 / 01', 'gpg', 'jeanmard / corp / enron @ enron', 'texaco e & p 9826 2', 'pat clynes / corp / enron @ enron', 'veronica espinoza / corp / enron @ enron', 'sr', 'karen lindley / corp /', 'north america corp .', 'mrha', 'dow jones newswires', 'ocean energy inc', 'the ena texas pleo', 'united oil &\\nminerals , inc .', 'xiaojun\\nluu', 'belco oil & gas corporation', 'robinson / corp /', 'transco', 'p & l\\ntom', 'ref', 'koch & duke', 'exxonmobil corp .', 'villagomez / corp / enron @ enron', 'first united methodist church', 'yahoo - inc', 'kingston', 'jason\\nalthaus / corp / enron @ enron', 'houston gas & power controls / standards', 'citigroup inc .', 'enron north america', 'phx', 'union gas corp .', \"doesn '\", 'pat\\nclynes / corp / enron @ enron\\nsubject : revision', 'noms', 'el paso gas transmission texas', 'hios p / l', 'teco', 'pan\\nenergy exchange', 'el paso merchant energy', 'southern union gas company', 'valero marketing &', 'houston\\nniamh clarke', 'intuit inc .', 'kim weldon / corp / enron @ enron', 'the united\\nstates', 'inter /', 'philip ; mulholland', 'citibank', 'coastal oil & gas usa', 'sa - 70120', '2 / 27 & 2 / 28', 'bmc', 'ext - 35796', 'expedia , inc .', 'jillian', '& p 9841', 'cpl / esa\\nsenior staff landman', 'hendrickson', 'bcc', 'the enron\\ncorp .', 'texas bulletin board', 'org', 'founder &\\n', 'capitol', 'edt', 'djfr - 4 ngpa 6', 'laura vuittonet / corp /', 'shoreline gas inc .', 'parker / corp / enron @ enron\\n', \"enron\\nsouth america '\", 'anne', 'pybus', 'house', 'jdf', 'deloitte & touche', 'ena & hplc', 'john griffith / corp / enron @ enron\\n', 'dynegy inc .', 'texas 2002', 'kinder morgan', 'comair', 'williams', 'moody gardens', 'asst', 'karen lindley / corp / enron @ enron\\n', 'bruce mills / corp / enron @ enron', 'texas a & m football\\nespn', 'sullivan', 'valero marketing & supply', 'the federal communications commission', 'mcloughlin / corp / enron @ enron', 'sladana - anna', 'buckley 02 /', '& p\\ntom', 'el paso\\nenergy corporation', 'helen p .', 'paralegal\\nteco energy , inc .', 'lasercomm - inc', 'california \\x01', 'east ohio', 'pat\\nclynes / corp / enron @ enron\\n', 'ref cc # 20000813', 'tesoro', 'tonya & the due date', 'sherlyn will notify logistics', \"lee p . '\", 'corp', 'kevin\\nmcgowan / corp / enron @ enron', 'exxon company , usa global', '\\x01 & basics \\x01', 'jennifer deboisblanc denny / hou', 'lrc', 'davies', 'the\\ndeal #', 'position &', 'south jersey resources group', 'anderson / corp / enron @ enron', 'kilgore', 'errigo', 'gulf coast', 'roberts / gco / enron @ enron', '\\x01 & ene', 'sos', 'chevron', 'enron \\x01', 'jerriw @ arn', 'odum', 'pierson ( corp', 'the enron corp .', 'hsc - $', 'ena & praxair', \"shot & didn '\", 'cardoso / corp /', 'chase', 'jim southwest airlines', 'louis dreyfus nat gas corp', 'enron americas\\nconcurrent', 'regan m\\nsmith / hou', 'lim', 'c & e operating', 'camden & north central', 'bradley / corp / enron @ enron', 'cynet , inc .', 'cummins &', \"pan energy ' s exchange\", 'mike morris / corp /', 'hl & p', 'michelle', 'thompson', 'pennzoil', 'aquila', 'atmic hurta', 'god bless\\namerica', 'el\\nsordo gathering systems , inc .', 'morgan stg', 'texas a & m university', 'esperanza marketing corp as', 'rollup', 'wagner & brown ltd', 'midcon', 'jewelry & watches', 'mcloughlin / corp /', 'lindholm oil , inc .', 'cynthia franklin / corp / enron @ enron', 'charlotte', \"the utilities department '\", 'rey', 'fig', 'parker baum', 'lehman', 'walter o & g 9747 3', 'w / texaco', 'joann collins / corp / enron @ enron', 'riley', 'l .', 'dow jones news service', 'mccoy / corp / enron @ enron', 'the california public utilities commission', 'duke energy & trading\\n', 'union\\ncarbide', 'chris hanz / corp / enron @ enron', 'houston\\nermes', 'moody garden attractions', 'houston \\x01', 'the supreme\\ncourt', 'lavorato / corp /', \"spinnaker ' s\", 'madeline murray', 'michelle leblanc ( corp tax', 'united oil &', 'mason / corp /', 'ews', 'edison', 'gmt .', 'delta express', 'kemper', 'mundt @', 'cavalier oil &', 'syntroleum corp .', '& l', 'coastal oil & gas corporation\\ndaren', 'nov & once', 'hpl d / p to transco\\ndaren -', 'pat\\nclynes / corp / enron @ enron\\nsubject :', 'crosstex energy services', 'wells @ enron', 'pat\\nclynes / corp / enron @ enron', 'fujitsu', 'apache corp 1', 'lawn & garden lawn & garden', '\\x01 & bulletin board \\x01 8', 'venita coleman / corp / enron @ enron', 'walter o & g 0435\\n', 'lyondell - - # 1063', 'sabrae', 'howard & zukin', 'alex & janet', 'jason althaus / corp / enron @ enron', 'juneman / corp / enron @ enron', 'syscom - inc', 'newton', 'enron\\nmilbank', '5 & 6', 'daren - meter 1428', 'macivor / corp / enron @ enron', 'bartz ( corp )', 'hotel & resort', 'stephanie', 'senate', 'nathan l\\nhlavaty / hou / ect @ ect', 'morgan sharifi / corp / enron @ enron', 'hoong p\\nfoon', \"enron '\", 'reuters', 'darrel', 'houston\\nmerat bagha', 'hodge', 'houston\\nmark evans', 'raleigh', 'wilcott ( corp )', 'oil & gas corp 4179 4', 'smith / hol / aepin @ aepin', 'el\\npaso', 'philippians', 'al', 'fayett , juana', 'costilla &\\nwalter', 'phoenix\\n- - charlotte', 'wilson creek lateral', 'beaumont methanol', 'karen lindley / corp / enron @ enron', 'alexus rhone / corp /', 'ps :', 'congress', 'lindholm oil , inc', 'mobil', 'buddy aiken', 'ihii\\ninland resources , inc .', ', inc .', 'united healthcare', 'laura vuittonet / corp / enron @ enron\\n', 'hertz', 'p & l', 'tejon ranch corp .', 'kinder morgan deal 626231', 'lotus', 'us & canada', '2 / 27 & 2 /', 'byron w', 'ecf', 'trustee\\nernst & young', 'the lamay corp .', 'ami chokshi / corp / enron @ enron', 'bell', 'rick hill & jody', 'laura harder / corp / enron', 'fed', 'thay', \"national ' s emerald club\", 'vastar resources , inc .', 'pentagon', 'jeni', 'phibro energy\\ninc .', 'pg & e texas 11 / 00', 'fed - reg - notice', 'franklin / corp /', 'pat clynes / corp / enron @ enron\\nsubject :', 'beaty @ enron', 'delta air lines', 'stella l\\nmorris', 'texaco', 'harris co .', 'meadowtree ln\\nspring', 'hplc - im waha', 'guerra', 'texas land & cattle', 'houston\\namit walia', 'mobil chemical\\nrobert', 'exxon king ranch ( deal 210722', 'kevin', 'vargas / corp / enron @ enron', '960 & 18', 'the camden\\ndriscoll ranch', '& p', 'fcc', 'stella l .', 'scott becken / corp /', 'herod 05 / 02 / 2000 12', 'harwell', 'duke energy\\ntrading & mktg', 'unocal', 'americas , inc .', 'enron power marketing inc .', 'mobil beaumont refinery', 'tenaska', 'enron management committee', '& p - charlotte', 'inc entergy', 'nng', 'ees', 'ibm', 'houston / eott @ eott', 'national tv', 'oplc\\ndaren', 'ge', 'llc\\nlouisiana resources company\\nlouisiana gas pipeline company limited partnership\\nlouisiana resources pipeline company limited partnership', 'crown st .', 'texas general land office', 'brooks / gco / enron @ enron', 'rhone / corp /', 'united o & m / 5053 93728', 'p / l', 'iferc &', 'et & s', 'enron\\nbroadband services', 'buckley 02 / 12 / 2001 03', 'mother & baby', 'hinze / corp / enron @ enron', 'williams & apache', 'teco waha', 'paul devries', 'north central oil corp . - 2 / 01', 'schedule & resume', 'karen choyce ( corp )\\ncheryl', 'enron\\nnorth america', 'eastrans nomination effective', '7 / 4 th & 35', 'robert eickenroht / corp / enron @ enron', 'elmendorf @ teradyne', 'boas', 'lisa lunz / corp / enron @ enron', 'palmer / corp / enron @ enron', 'james bement', 'eott', 'chase manhattan bank', 'mccoy / corp / enron @ enron\\n', 'mscott @ ngptrs', 'gcs / cec / pec @', 'lonestar & cornshucker', 'irs', 'sid\\nrichardson', 'enron north america corp .', 'denton county electric cooperative', 'finance & treasurer\\n', 'lloyds', 'camden resources , inc .', 'sukaly @ enron', 'steven p .', 'smith', 'krishnaswamy', 'mecca ( lincoln', 'antioch missionary baptist church', 'pat\\nclynes / corp / enron @ enron\\nsubject', 'moody gardens\\nhotel', 'john & opal', 'pg & e\\nhydorcarbons systems', 'the enron corp\\nsavings', 'sanchez / corp /', 'alan marsh ( corp tax', 'mgi', 'enichem americas , inc .', 'harris', 'the texas a & m', 'path list', 'pg & e texas', 'thanls', 'cbs', 'ena & aep', 'donald p reinhardt / hol / aepin @ aepin', 'cp & l on', 'paul couvillon / corp / enron @ enron', 'gmt . inc .', 'mobil florida mobil street', 'pg & e\\n7', 'elektro', 'hl & p .', 'yates energy corp .', 'tenn / coral / shannel', 'eott energy', 'pollack / corp / enron @ enron', 'paul couvillon / corp /', 'miller / corp / enron @ enron', 'cold & cough', 'un', 'sec', 'acton / corp /', 'dustin', 'couvillon / corp / enron @ enron', 'the texas\\nenergy reliability council', 'the houston\\nexploration company', 'speckels', 'devon energy corporation\\n', 'enron\\nenergy services', 'sanchez oil & gas', 'mei', 'gat', 'hill', 'american express financial advisors', 'ferc', 'james marks mitchell robinson', 'denny / hou', 'gmt inc .', \"pg & e '\", 'ena', 'sa - inc', 'anc', 'fda', 'daren & john', 'plg cn\\nquanta services inc .', 'adam p .', 'schott', 'hy home address', '\\x01 &', 'expedia', \"s & ebb ' s\", 'southern union lockhart', 'houston business journal\\n>', 'the\\nsecurities and exchange commission', 'truro', 'shipping & handling - $', 'enw london', 'ena &\\nhplc', 'falcone / corp / enron @ enron', 'lloyd d', 'desc code', 'vastar', 'painewebber', 'anne bike / corp / enron @ enron', 'pat clynes / corp / enron\\nsubject', 'the texas economics desk', 'union gas corp', 'saxet thompsonville', 'the\\nshanghai energy gas', 'clu', 'texas a & m .', 'brad', 'mmc', 'nyu']\n"
          ]
        }
      ]
    },
    {
      "cell_type": "markdown",
      "source": [
        "# 12 - Conclusion"
      ],
      "metadata": {
        "id": "1DX7LfbqO_Xg"
      }
    },
    {
      "cell_type": "markdown",
      "source": [
        "The project was undertaken with the goal of developing an effective classifier to distinguish between SPAM and non-SPAM emails, while optimizing resource usage and improving the model's accuracy. The following conclusions summarize the results and potential future directions of the work:\n",
        "\n",
        "*   **SPAM and Non-SPAM Classification**:\n",
        "A classifier was trained to differentiate between SPAM and non-SPAM emails. The current model has achieved satisfactory results in classification; however, there are opportunities for further improvement. Hyperparameter optimization could enhance its performance, and exploring advanced Deep Learning techniques, such as neural networks, could lead to significant improvements.\n",
        "\n",
        "*   **Identification of Main Topics in SPAM Emails**:\n",
        "Topic modeling was performed to identify the main topics within SPAM emails. This analysis revealed recurring themes characteristic of SPAM communications. However, further exploration could be beneficial for uncovering new topics or subtopics by increasing the number of iterations and fine-tuning the model.\n",
        "\n",
        "*   **Calculation of Semantic Distance Between Topics**:\n",
        "To assess the diversity between identified topics, semantic distance was calculated using cosine similarity. This approach provided valuable insights into the similarity between various topics and highlighted their heterogeneity. The distances between topics help in understanding the distribution and variation of themes within SPAM emails.\n",
        "\n",
        "*   **Extraction of Organizations from Non-SPAM Emails**:\n",
        "Named Entity Recognition (NER) was used to extract the names of organizations mentioned in non-SPAM emails. This step contributed to identifying business and organizational entities, providing additional insights into the content of non-SPAM emails.\n",
        "\n",
        "**Future Recommendations**\n",
        "\n",
        "Optimization and Deep Learning: Consider hyperparameter optimization to improve the classifier and evaluate the implementation of Deep Learning models to explore new classification techniques.\n",
        "Expansion of Topic Modeling: Increase the number of iterations in topic modeling and experiment with different configurations to discover new topics and refine the model’s convergence.\n",
        "Advanced Analysis and Visualization: Utilize advanced visualization techniques to represent relationships between topics and extracted organizations, thereby enhancing the interpretation and analysis of results.\n",
        "In conclusion, the project achieved its main objectives and provided an in-depth analysis of SPAM and non-SPAM emails. The results offer a solid foundation for further improvements and future research in the field of Natural Language Processing."
      ],
      "metadata": {
        "id": "C32Sm2CeX5-y"
      }
    }
  ]
}