{
  "cells": [
    {
      "cell_type": "markdown",
      "id": "1f1eac10",
      "metadata": {
        "id": "1f1eac10"
      },
      "source": [
        "# Project: Deep Learning: Neural Networks - Toxic Comment Filter"
      ]
    },
    {
      "cell_type": "markdown",
      "id": "3504d2cc",
      "metadata": {
        "id": "3504d2cc"
      },
      "source": [
        "Building a model capable of filtering user comments based on the degree of harmfulness of the language:\n",
        "\n",
        "1. Preprocess the text by removing tokens that do not provide significant semantic contribution.\n",
        "2. Transform the text corpus into sequences.\n",
        "3. Build a Deep Learning model including recurrent layers for a multilabel classification task.\n",
        "4. At prediction time, the model must return a vector containing a 1 or a 0 corresponding to each label present in the dataset (toxic, severe_toxic, obscene, threat, insult, identity_hate). In this way, a non-harmful comment will be classified by a vector of only 0s [0,0,0,0,0,0]. Conversely, a harmful comment will have at least one 1 among the 6 labels."
      ]
    },
    {
      "cell_type": "markdown",
      "id": "azVVa-93H3Gn",
      "metadata": {
        "id": "azVVa-93H3Gn"
      },
      "source": [
        "# 0 Project Analysis\n",
        "\n",
        "The project constists to build a AI model capable of filtering user comments based on the degree of harmfulness of the language.\n",
        "\n",
        "It will works such as a filter for anti-hater on Social Networks.\n",
        "\n",
        "To solve the project the following tasks are suggested to follow:\n",
        "\n",
        "## 1. Proprocess the text\n",
        "\n",
        "For the preprocessing of text it needs to remove all semantic contribution from the text (comments) in order to have only the words necessary for the task.\n",
        "\n",
        "In this case, it will be used the keras tokenizer using properly the filters.\n",
        "\n",
        "- tf.keras.preprocessing.text.Tokenizer\n",
        "\n",
        "\n",
        "```\n",
        "  tf.keras.preprocessing.text.Tokenizer(\n",
        "      num_words=None,\n",
        "      filters='!\"#$%&()*+,-./:;<=>?@[\\\\]^_`{|}~\\t\\n',\n",
        "      lower=True,\n",
        "      split=' ',\n",
        "      char_level=False,\n",
        "      oov_token=None,\n",
        "      analyzer=None,\n",
        "      **kwargs\n",
        "  )\n",
        "```\n",
        "\n",
        "In this way all non necessary words will be removed from texts.\n",
        "\n",
        "## 2. Transform corpus in sentences\n",
        "\n",
        "To trasform the texts in a sentences, it will be used the texts_to_sequences of keras framework.\n",
        "It needs to trasform the corpus in a list of sequences.\n",
        "\n",
        "```\n",
        "tf.keras.preprocessing.text.Tokenizer.texts_to_sequences(\n",
        "    texts\n",
        ")\n",
        "```\n",
        "\n",
        "In this way, the order of words for each sequences are stored and learned from neural network during the training.\n",
        "\n",
        "## 3. Build Deep Learning model with Recurrent Layers (RNN)\n",
        "\n",
        "Once the preprocessing is completed and pass through the first and second task, the data is ready to be used by the model and then go towards training.\n",
        "\n",
        "## 4. Transform binary predictions\n",
        "\n",
        "At model completion, during the prediction time, a calculation of properly thresholds will be executed in roder to convert the probability of associated labels to 0 and/or 1."
      ]
    },
    {
      "cell_type": "markdown",
      "id": "I0SoEJfSKS_W",
      "metadata": {
        "id": "I0SoEJfSKS_W"
      },
      "source": [
        "# 1 Import Section"
      ]
    },
    {
      "cell_type": "code",
      "execution_count": 1,
      "id": "c2f2fb60",
      "metadata": {
        "id": "c2f2fb60"
      },
      "outputs": [],
      "source": [
        "# Utils\n",
        "import pandas as pd\n",
        "import numpy as np\n",
        "import matplotlib.pyplot as plt\n",
        "import seaborn as sns\n",
        "import re\n",
        "import string\n",
        "from sklearn.utils.class_weight import compute_class_weight\n",
        "from sklearn.utils import resample\n",
        "import random\n",
        "from scipy.optimize import nnls\n",
        "\n",
        "# Pre-processing\n",
        "from keras_preprocessing.text import Tokenizer\n",
        "from keras_preprocessing.sequence import pad_sequences\n",
        "from sklearn.model_selection import train_test_split\n",
        "from imblearn.over_sampling import SMOTE, RandomOverSampler\n",
        "from sklearn.datasets import make_classification\n",
        "from sklearn.neighbors import NearestNeighbors\n",
        "\n",
        "# Models - Neural Network - Layers\n",
        "from keras.models import Sequential\n",
        "from keras.layers import Embedding, LSTM, Dense, Dropout, Conv1D, MaxPooling1D, Bidirectional, Flatten, GlobalMaxPooling1D, BatchNormalization, GRU\n",
        "from keras.callbacks import EarlyStopping, Callback\n",
        "from keras.regularizers import l2\n",
        "from keras.optimizers import Adam\n",
        "\n",
        "# Metrics\n",
        "from sklearn.metrics import classification_report, confusion_matrix\n",
        "from sklearn.metrics import f1_score"
      ]
    },
    {
      "cell_type": "markdown",
      "id": "UBKBQEUwK9dV",
      "metadata": {
        "id": "UBKBQEUwK9dV"
      },
      "source": [
        "# 2 Constant Declaration"
      ]
    },
    {
      "cell_type": "code",
      "execution_count": 2,
      "id": "6Lh2D4INK-b9",
      "metadata": {
        "id": "6Lh2D4INK-b9"
      },
      "outputs": [],
      "source": [
        "# Random seed for reproducible results\n",
        "RANDOM_SEED = 0\n",
        "\n",
        "# Base URL where download the dataset\n",
        "BASE_URL = \"https://s3.eu-west-3.amazonaws.com/profession.ai/datasets/\"\n",
        "\n",
        "# Dataset name\n",
        "DATASET_NAME = \"Filter_Toxic_Comments_dataset.csv\"\n",
        "\n",
        "# Dataset URL\n",
        "DATASET_URL = BASE_URL + DATASET_NAME\n",
        "\n",
        "# Labels - Columns of dataset\n",
        "LABELS = ['toxic', 'severe_toxic', 'obscene', 'threat',\t'insult', 'identity_hate']\n",
        "\n",
        "# Labels - Count\n",
        "LABELS_COUNT = 6"
      ]
    },
    {
      "cell_type": "markdown",
      "id": "R-yAW6PQNQxs",
      "metadata": {
        "id": "R-yAW6PQNQxs"
      },
      "source": [
        "# 3 Classes & Functions Definition Section"
      ]
    },
    {
      "cell_type": "markdown",
      "source": [
        "## 3.1 Functions: Data Pre-Processing\n",
        "\n"
      ],
      "metadata": {
        "id": "2zDsPEeuZGIv"
      },
      "id": "2zDsPEeuZGIv"
    },
    {
      "cell_type": "code",
      "execution_count": 3,
      "id": "jqjR53KvNUAP",
      "metadata": {
        "id": "jqjR53KvNUAP"
      },
      "outputs": [],
      "source": [
        "def preprocess_text(text: str):\n",
        "  \"\"\"\n",
        "  Function used to preprocess the text and delete semantic contribution such as punctuation, numbers and spaces.\n",
        "\n",
        "  Parameters:\n",
        "    - text: String --> Input text to process.\n",
        "\n",
        "  Return:\n",
        "    - text: String --> Processed text.\n",
        "  \"\"\"\n",
        "\n",
        "  # Make the text lower\n",
        "  text = text.lower()\n",
        "\n",
        "  # Apply the Regex to text removing: punctuation, spaces and numbers\n",
        "  text = re.sub(f\"[{re.escape(string.punctuation)}]\", \"\", text)\n",
        "  text = re.sub(r'\\d+', '', text)\n",
        "  text = re.sub(r'\\s+', ' ', text)\n",
        "\n",
        "  # Return the text processed\n",
        "  return text.strip()"
      ]
    },
    {
      "cell_type": "markdown",
      "source": [
        "## 3.2 Functions: Statistics Analysis"
      ],
      "metadata": {
        "id": "FmlthtqMZQRn"
      },
      "id": "FmlthtqMZQRn"
    },
    {
      "cell_type": "code",
      "source": [
        "def build_conditional_prob_matrix(df, labels):\n",
        "    \"\"\"\n",
        "    Function used to create the conditional probability matrix.\n",
        "\n",
        "    Parameters:\n",
        "      - df: pd.DataFrame --> Dataframe from retrieve the data\n",
        "      - labels: String --> Name of the column\n",
        "\n",
        "    Return:\n",
        "      - None\n",
        "    \"\"\"\n",
        "    cooc = df[labels].values.T.dot(df[labels].values)\n",
        "    cooc_norm = cooc.copy().astype(np.float32)\n",
        "    for i in range(cooc_norm.shape[0]):\n",
        "        cooc_norm[:, i] /= cooc[i, i]\n",
        "    return cooc_norm"
      ],
      "metadata": {
        "id": "UJkTItgFeLqg"
      },
      "id": "UJkTItgFeLqg",
      "execution_count": 4,
      "outputs": []
    },
    {
      "cell_type": "code",
      "source": [
        "def fancy_sample(df, labels, target_count, cond_prob):\n",
        "    \"\"\"\n",
        "    Function used to create the fancy sample.\n",
        "\n",
        "    Parameters:\n",
        "      - df: pd.DataFrame --> Dataframe from retrieve the data\n",
        "      - labels: String --> Name of the column\n",
        "      - target_count: Integer --> Number of samples to create\n",
        "      - cond_prob: Numpy array --> Conditional probability matrix\n",
        "\n",
        "    Return:\n",
        "      - sampled_df: pd.DataFrame --> Sampled dataframe\n",
        "    \"\"\"\n",
        "    target_counts = np.array([target_count for _ in labels])\n",
        "    optimal_samples, residuals = nnls(cond_prob, target_counts)\n",
        "    optimal_samples = np.ceil(optimal_samples).astype(np.int32)\n",
        "\n",
        "    df_subs = []\n",
        "    for i, label in enumerate(labels):\n",
        "        sub_df = df[df[label] == 1]\n",
        "        df_subs.append(sub_df.sample(optimal_samples[i],\n",
        "                                     replace = len(sub_df) < optimal_samples[i]))\n",
        "    sampled_df = pd.concat(df_subs)\n",
        "    return sampled_df"
      ],
      "metadata": {
        "id": "FKw1uq2fe3Ds"
      },
      "id": "FKw1uq2fe3Ds",
      "execution_count": 5,
      "outputs": []
    },
    {
      "cell_type": "code",
      "execution_count": 6,
      "id": "248450e9",
      "metadata": {
        "id": "248450e9"
      },
      "outputs": [],
      "source": [
        "def plot_learning_curves(hist, exp_name: str):\n",
        "    \"\"\"\n",
        "    Function used to plot the loss and accuracy trend during model training.\n",
        "\n",
        "    Parameters:\n",
        "        - hist: History object --> Contains all the information of model training.\n",
        "        - exp_name: String --> Name to give to plot title.\n",
        "    \"\"\"\n",
        "    # Plot the loss and accuracy\n",
        "    plt.figure(figsize=(10,4))\n",
        "    for subplot,curve in enumerate(['loss','accuracy']):\n",
        "        plt.subplot(1,2,subplot+1)\n",
        "        plt.plot(hist.history[curve],label='training')\n",
        "        plt.plot(hist.history['val_'+curve],label='validation')\n",
        "        plt.legend()\n",
        "        plt.title(exp_name+':'+curve)\n",
        "    plt.tight_layout();"
      ]
    },
    {
      "cell_type": "code",
      "source": [
        "def plot_distribution_barplot(df, column_name):\n",
        "    \"\"\"\n",
        "    Function used to create barplot for frequency distribution of selected variable.\n",
        "\n",
        "    Parameters:\n",
        "      - df: pd.DataFrame --> Dataframe from retrieve the data\n",
        "      - column_name: String --> Name of the column to plot\n",
        "\n",
        "    Return:\n",
        "      - None\n",
        "    \"\"\"\n",
        "    # Columns to count for classes\n",
        "    class_counts = df[column_name].sum().sort_values(ascending=False)\n",
        "\n",
        "    # Create the figure\n",
        "    plt.figure(figsize=(10, 6))\n",
        "\n",
        "    # Create barplot with data calculated\n",
        "    sns.barplot(x=class_counts.index, y=class_counts.values, hue=class_counts.index, legend=False)\n",
        "\n",
        "    # Set plot legends\n",
        "    plt.title('Labels Distribution')\n",
        "    plt.xlabel('Labels')\n",
        "    plt.ylabel('Count')\n",
        "    plt.xticks(rotation=45)\n",
        "\n",
        "    # Show the plot\n",
        "    plt.show()"
      ],
      "metadata": {
        "id": "LnsPx2Gv3_pe"
      },
      "id": "LnsPx2Gv3_pe",
      "execution_count": 7,
      "outputs": []
    },
    {
      "cell_type": "code",
      "source": [
        "def plot_words_frequencies(df):\n",
        "    \"\"\"\n",
        "    Function used to plot the words frequencies.\n",
        "\n",
        "    Parameters:\n",
        "      - df: pd.DataFrame --> Dataframe from retrieve the data\n",
        "\n",
        "    Return:\n",
        "      - None\n",
        "    \"\"\"\n",
        "    # Create the figure\n",
        "    plt.figure(figsize=(10, 6))\n",
        "\n",
        "    # Create barplot with data calculated\n",
        "    sns.histplot(df['comment_length'], bins=50, kde=True)\n",
        "\n",
        "    # Set plot legends\n",
        "    plt.xlabel('Number of Words')\n",
        "    plt.ylabel('Frequency')\n",
        "    plt.title('Distribution of Comment Lengths')\n",
        "\n",
        "    # Show the plot\n",
        "    plt.show()"
      ],
      "metadata": {
        "id": "SmA-Ao8f5CBq"
      },
      "id": "SmA-Ao8f5CBq",
      "execution_count": 8,
      "outputs": []
    },
    {
      "cell_type": "code",
      "source": [
        "def plot_cumulative_distribution(cumulative_percentage):\n",
        "    \"\"\"\n",
        "    Plot the cumulative distribution of word frequencies.\n",
        "\n",
        "    Parameters:\n",
        "      - cumulative_percentage (list or array-like): A list or array containing the cumulative percentage of total words.\n",
        "    \"\"\"\n",
        "    # Create the figure\n",
        "    plt.figure(figsize=(10, 6))\n",
        "\n",
        "    # Create lineplot with data calculated\n",
        "    sns.lineplot(x=range(1, len(cumulative_percentage) + 1), y=cumulative_percentage)\n",
        "\n",
        "    # Set legends\n",
        "    plt.xlabel('Number of Words')\n",
        "    plt.ylabel('Cumulative Percentage of Total Words')\n",
        "    plt.title('Cumulative Word Distribution')\n",
        "\n",
        "    # Add a horizontal line at 95%\n",
        "    plt.axhline(y=95, color='r', linestyle='--')\n",
        "    plt.axvline(x=len([p for p in cumulative_percentage if p <= 95]), color='r', linestyle='--')\n",
        "\n",
        "    # Show the plot\n",
        "    plt.show()\n"
      ],
      "metadata": {
        "id": "RYNbmLtu7lTD"
      },
      "id": "RYNbmLtu7lTD",
      "execution_count": 9,
      "outputs": []
    },
    {
      "cell_type": "markdown",
      "source": [
        "## 3.3 Functions: Model Creation and Utils"
      ],
      "metadata": {
        "id": "It7hOjnbZX5Z"
      },
      "id": "It7hOjnbZX5Z"
    },
    {
      "cell_type": "code",
      "execution_count": 10,
      "id": "040a3569",
      "metadata": {
        "id": "040a3569"
      },
      "outputs": [],
      "source": [
        "def convert_predictions_to_binary(predictions, threshold=0.5):\n",
        "    \"\"\"\n",
        "    Trasform the predictions array in binary array.\n",
        "\n",
        "    Parameters:\n",
        "        - predictions: List --> Predictions list (probability)\n",
        "        - threshold: Float --> Threshold to convert 1 and 0 predictions (default=0.5)\n",
        "\n",
        "    Return:\n",
        "        - List of binary arrays\n",
        "    \"\"\"\n",
        "\n",
        "    # Take predictions and set them at 0 or 1 related to threshold\n",
        "    binary_predictions = (predictions >= threshold).astype(int)\n",
        "\n",
        "    # Returns the binary predictions\n",
        "    return binary_predictions"
      ]
    },
    {
      "cell_type": "code",
      "source": [
        "def create_baseline_model(vocabulary_size, max_sequence_length, labels_count):\n",
        "    \"\"\"\n",
        "    Function used to create the baseline model.\n",
        "\n",
        "    Parameters:\n",
        "      - vocabulary_size: Integer --> Number of words in vocabulary\n",
        "      - max_sequence_length: Integer --> Max length of sequences\n",
        "      - labels_count: Integer --> Number of labels to predict\n",
        "\n",
        "    Return:\n",
        "      - model: Sequential --> Baseline model\n",
        "    \"\"\"\n",
        "    # Create the Sequential model\n",
        "    model = Sequential()\n",
        "\n",
        "    # Add Embedding, LSTM, Dropout and Dense layers\n",
        "    model.add(Embedding(input_dim=vocabulary_size, output_dim=128, input_length=max_sequence_length))\n",
        "    model.add(LSTM(64, return_sequences=False))\n",
        "    model.add(Dropout(0.5))\n",
        "    model.add(Dense(labels_count, activation='sigmoid'))\n",
        "\n",
        "    # Compile the neural network\n",
        "    model.compile(optimizer=Adam(learning_rate=0.001), loss='binary_crossentropy', metrics=['accuracy'])\n",
        "\n",
        "    # Return the NN model\n",
        "    return model"
      ],
      "metadata": {
        "id": "he5coP_HtKNl"
      },
      "id": "he5coP_HtKNl",
      "execution_count": 11,
      "outputs": []
    },
    {
      "cell_type": "code",
      "source": [
        "def create_bilstm_model(vocabulary_size, max_sequence_length, labels_count):\n",
        "    \"\"\"\n",
        "    Function used to create the BiLSTM model.\n",
        "\n",
        "    Parameters:\n",
        "      - vocabulary_size: Integer --> Number of words in vocabulary\n",
        "      - max_sequence_length: Integer --> Max length of sequences\n",
        "      - labels_count: Integer --> Number of labels to predict\n",
        "\n",
        "    Return:\n",
        "      - model: Sequential --> BiLSTM model\n",
        "    \"\"\"\n",
        "    # Create the Sequential model\n",
        "    model = Sequential()\n",
        "\n",
        "    # Add Embedding, LSTM, Dropout and Dense layers\n",
        "    model.add(Embedding(input_dim=vocabulary_size, output_dim=128, input_length=max_sequence_length))\n",
        "    model.add(Bidirectional(LSTM(64, return_sequences=False)))\n",
        "    model.add(Dropout(0.5))\n",
        "    model.add(Dense(labels_count, activation='sigmoid'))\n",
        "\n",
        "    # Compile the neural network\n",
        "    model.compile(optimizer=Adam(learning_rate=0.001), loss='binary_crossentropy', metrics=['accuracy'])\n",
        "\n",
        "    # Return the NN model\n",
        "    return model"
      ],
      "metadata": {
        "id": "BvkCM8zItvH6"
      },
      "id": "BvkCM8zItvH6",
      "execution_count": 12,
      "outputs": []
    },
    {
      "cell_type": "code",
      "source": [
        "def create_gru_model(vocabulary_size, max_sequence_length, labels_count):\n",
        "    \"\"\"\n",
        "    Function used to create the GRU model.\n",
        "\n",
        "    Parameters:\n",
        "      - vocabulary_size: Integer --> Number of words in vocabulary\n",
        "      - max_sequence_length: Integer --> Max length of sequences\n",
        "      - labels_count: Integer --> Number of labels to predict\n",
        "\n",
        "    Return:\n",
        "      - model: Sequential --> GRU model\n",
        "    \"\"\"\n",
        "    # Create the Sequential model\n",
        "    model = Sequential()\n",
        "\n",
        "    # Add Embedding, GRU, Dropout and Dense layers\n",
        "    model.add(Embedding(input_dim=vocabulary_size, output_dim=128, input_length=max_sequence_length))\n",
        "    model.add(GRU(64, return_sequences=False))\n",
        "    model.add(Dropout(0.5))\n",
        "    model.add(Dense(labels_count, activation='sigmoid'))\n",
        "\n",
        "    # Compile the neural network\n",
        "    model.compile(optimizer=Adam(learning_rate=0.001), loss='binary_crossentropy', metrics=['accuracy'])\n",
        "\n",
        "    # Return the NN model\n",
        "    return model"
      ],
      "metadata": {
        "id": "CR6zLbX6tu0k"
      },
      "id": "CR6zLbX6tu0k",
      "execution_count": 13,
      "outputs": []
    },
    {
      "cell_type": "code",
      "source": [
        "def create_biltsm_normalization_model(vocabulary_size, max_sequence_length, labels_count):\n",
        "    \"\"\"\n",
        "    Function used to create the BiLSTM model with normalization.\n",
        "\n",
        "    Parameters:\n",
        "      - vocabulary_size: Integer --> Number of words in vocabulary\n",
        "      - max_sequence_length: Integer --> Max length of sequences\n",
        "      - labels_count: Integer --> Number of labels to predict\n",
        "\n",
        "    Return:\n",
        "      - model: Sequential --> BiLSTM model with normalization\n",
        "    \"\"\"\n",
        "    # Create the Sequential model\n",
        "    model = Sequential()\n",
        "\n",
        "    # Add Embedding, LSTM, Dropout, BatchNormalization and Dense layers\n",
        "    model.add(Embedding(input_dim=vocabulary_size, output_dim=128, input_length=max_length))\n",
        "    model.add(Bidirectional(LSTM(128, kernel_regularizer=l2(0.01))))\n",
        "    model.add(Dropout(0.5))\n",
        "    model.add(BatchNormalization())\n",
        "    model.add(Dense(64, activation='relu', kernel_regularizer=l2(0.01)))\n",
        "    model.add(Dropout(0.5))\n",
        "    model.add(BatchNormalization())\n",
        "    model.add(Dense(labels_count, activation='sigmoid'))\n",
        "\n",
        "    # Compile the neural network\n",
        "    model.compile(loss='binary_crossentropy', optimizer=Adam(learning_rate=0.0001), metrics=['accuracy'])\n",
        "\n",
        "    # Return the NN model\n",
        "    return model"
      ],
      "metadata": {
        "id": "L5w_HQF0uY_j"
      },
      "id": "L5w_HQF0uY_j",
      "execution_count": 14,
      "outputs": []
    },
    {
      "cell_type": "code",
      "source": [
        "def create_model_with_class_weights(vocabulary_size, max_sequence_length, labels_count, X_train, y_train):\n",
        "    \"\"\"\n",
        "    Function used to create the model with class weights.\n",
        "\n",
        "    Parameters:\n",
        "      - vocabulary_size: Integer --> Number of words in vocabulary\n",
        "      - max_sequence_length: Integer --> Max length of sequences\n",
        "      - labels_count: Integer --> Number of labels to predict\n",
        "      - X_train: Numpy array --> Train data\n",
        "      - y_train: Numpy array --> Train labels\n",
        "\n",
        "    Return:\n",
        "      - model: Sequential --> Model with class weights\n",
        "    \"\"\"\n",
        "    # Create the Sequential model\n",
        "    model = Sequential()\n",
        "\n",
        "    # Add Embedding, LSTM, Dropout and Dense layers\n",
        "    model.add(Embedding(input_dim=vocabulary_size, output_dim=128, input_length=max_sequence_length))\n",
        "    model.add(LSTM(64, return_sequences=False))\n",
        "    model.add(Dropout(0.5))\n",
        "    model.add(Dense(labels_count, activation='sigmoid'))\n",
        "\n",
        "    # Compile the neural network\n",
        "    model.compile(optimizer=Adam(learning_rate=0.001), loss='binary_crossentropy', metrics=['accuracy'])\n",
        "\n",
        "    # Compute the class weights\n",
        "    class_weights = {}\n",
        "    for i in range(y_train.shape[1]):\n",
        "        class_weight = compute_class_weight('balanced', classes=np.unique(y_train[:, i]), y=y_train[:, i])\n",
        "        class_weights[i] = class_weight\n",
        "\n",
        "    # Flatten the class weights dictionary\n",
        "    flattened_class_weights = {}\n",
        "    for class_label in class_weights:\n",
        "        flattened_class_weights[class_label] = class_weights[class_label][1]\n",
        "\n",
        "    # Fit the model with calculated weights\n",
        "    model.fit(X_train, y_train, epochs=10, batch_size=32, validation_split=0.2, class_weight=flattened_class_weights)\n",
        "\n",
        "    # Return the NN model\n",
        "    return model"
      ],
      "metadata": {
        "id": "BBJRLRnJvE33"
      },
      "id": "BBJRLRnJvE33",
      "execution_count": 15,
      "outputs": []
    },
    {
      "cell_type": "code",
      "source": [
        "def generate_classification_report(model, X_test, y_test, thresholds):\n",
        "    \"\"\"\n",
        "    Function used to generate the classification report.\n",
        "\n",
        "    Parameters:\n",
        "      - model: Sequential --> Model to evaluate\n",
        "      - X_test: Numpy array --> Test data\n",
        "      - y_test: Numpy array --> Test labels\n",
        "      - thresholds: List or Numpy array --> Threshold values for each label\n",
        "\n",
        "    Return:\n",
        "      - None\n",
        "    \"\"\"\n",
        "    # Generate predictions\n",
        "    y_pred = model.predict(X_test)\n",
        "\n",
        "    # Convert predictions to binary based on thresholds\n",
        "    y_pred_binary = np.zeros_like(y_pred)\n",
        "    for i, threshold in enumerate(thresholds):\n",
        "        y_pred_binary[:, i] = (y_pred[:, i] >= threshold).astype(int)\n",
        "\n",
        "    # Print classification report\n",
        "    print(classification_report(y_test, y_pred_binary, target_names=LABELS))"
      ],
      "metadata": {
        "id": "iFJRukKy5QED"
      },
      "id": "iFJRukKy5QED",
      "execution_count": 16,
      "outputs": []
    },
    {
      "cell_type": "code",
      "source": [
        "def plot_model_performance(title, x_label, y_label, x, y, data):\n",
        "    \"\"\"\n",
        "    Plot the performance of different models in terms of Test Accuracy and Test Loss.\n",
        "\n",
        "    Parameters:\n",
        "      - title (str): The title of the plot.\n",
        "      - x_label (str): The label for the x-axis.\n",
        "      - y_label (str): The label for the y-axis.\n",
        "      - x (str): The name of the column to use for the x-axis.\n",
        "      - y (str): The name of the column to use for the y-axis.\n",
        "      - data (DataFrame): The DataFrame containing the data to plot.\n",
        "\n",
        "    Returns:\n",
        "      - None\n",
        "    \"\"\"\n",
        "    plt.figure(figsize=(10, 6))\n",
        "    sns.barplot(x=x, y=y, data=data, palette='viridis')\n",
        "    plt.title(title)\n",
        "    plt.xlabel(x_label)\n",
        "    plt.ylabel(y_label)\n",
        "    plt.show()"
      ],
      "metadata": {
        "id": "VU1TBO065QI5"
      },
      "id": "VU1TBO065QI5",
      "execution_count": 17,
      "outputs": []
    },
    {
      "cell_type": "code",
      "source": [
        "def process_and_predict_comments(dict_comments, tokenizer, model_with_weights, max_length, thresholds):\n",
        "    \"\"\"\n",
        "    Function used to process and predict comments.\n",
        "\n",
        "    Parameters:\n",
        "      - dict_comments: Dict --> Dictionary of comments to predict\n",
        "      - tokenizer: Object --> Tokenizer object\n",
        "      - model_with_weights: Object --> Model with weights\n",
        "      - max_length: Integer --> Max length of sequences\n",
        "\n",
        "    Return:\n",
        "      - None\n",
        "    \"\"\"\n",
        "    for label, comments in dict_comments.items():\n",
        "        print(f\"\\nLabel: {label}\")\n",
        "\n",
        "        # Convert text into sequences\n",
        "        comments_sequence = tokenizer.texts_to_sequences(np.array(comments))\n",
        "\n",
        "        # Apply the padding to sentences\n",
        "        padded_comments_sequence = pad_sequences(comments_sequence, maxlen=max_length)\n",
        "\n",
        "        # Predict the class to sentences\n",
        "        predictions = model_with_weights.predict(padded_comments_sequence)\n",
        "\n",
        "        # Convert the prediction into binary\n",
        "        binary_predictions = convert_predictions_to_binary(predictions, threshold=thresholds)\n",
        "\n",
        "        # Print the 5 comments for each label\n",
        "        for i in range(min(5, len(comments))):\n",
        "            print(f\"Comment: {comments[i]}\")\n",
        "            print(f\"Binary Prediction: {binary_predictions[i]}\\n\")"
      ],
      "metadata": {
        "id": "InfuDaM71cTv"
      },
      "id": "InfuDaM71cTv",
      "execution_count": 18,
      "outputs": []
    },
    {
      "cell_type": "code",
      "source": [
        "def find_best_thresholds(y_true, y_prob):\n",
        "    \"\"\"\n",
        "    Function used to identify the best threshold for each label.\n",
        "\n",
        "    Parameters:\n",
        "      - y_true: Numpy array --> True labels\n",
        "      - y_prob: Numpy array --> Predicted probabilities\n",
        "\n",
        "    Return:\n",
        "      - best_thresholds: List --> List of best thresholds for each label\n",
        "    \"\"\"\n",
        "    thresholds = np.linspace(0, 1, 101)\n",
        "    best_thresholds = []\n",
        "\n",
        "    for i in range(y_true.shape[1]):\n",
        "        best_f1 = 0\n",
        "        best_threshold = 0\n",
        "\n",
        "        for threshold in thresholds:\n",
        "            y_pred = (y_prob[:, i] >= threshold).astype(int)\n",
        "            f1 = f1_score(y_true[:, i], y_pred)\n",
        "\n",
        "            if f1 > best_f1:\n",
        "                best_f1 = f1\n",
        "                best_threshold = threshold\n",
        "\n",
        "        best_thresholds.append(best_threshold)\n",
        "        print(f\"Best threshold for label {i} is {best_threshold:.2f} with F1 score {best_f1:.4f}\")\n",
        "\n",
        "    return best_thresholds"
      ],
      "metadata": {
        "id": "vbnSD6tK82Je"
      },
      "id": "vbnSD6tK82Je",
      "execution_count": 19,
      "outputs": []
    },
    {
      "cell_type": "markdown",
      "source": [
        "## 3.4 Class: F1 Score Callback (Keras)"
      ],
      "metadata": {
        "id": "onqEbKOFZjfG"
      },
      "id": "onqEbKOFZjfG"
    },
    {
      "cell_type": "code",
      "source": [
        "class F1ScoreCallback(Callback):\n",
        "    def __init__(self, validation_data, patience=5, verbose=1):\n",
        "        super(F1ScoreCallback, self).__init__()\n",
        "        self.validation_data = validation_data\n",
        "        self.patience = patience\n",
        "        self.verbose = verbose\n",
        "        self.best_weights = None\n",
        "        self.best_score = -np.inf\n",
        "        self.wait = 0\n",
        "\n",
        "    def on_epoch_end(self, epoch, logs=None):\n",
        "        val_predict = (self.model.predict(self.validation_data[0]) > 0.5).astype(int)\n",
        "        val_targ = self.validation_data[1]\n",
        "        current_score = f1_score(val_targ, val_predict, average='weighted')\n",
        "\n",
        "        if self.verbose > 0:\n",
        "            print(f'\\nEpoch {epoch+1}: F1-Score: {current_score:.4f}')\n",
        "\n",
        "        if current_score > self.best_score:\n",
        "            self.best_score = current_score\n",
        "            self.best_weights = self.model.get_weights()\n",
        "            self.wait = 0\n",
        "        else:\n",
        "            self.wait += 1\n",
        "            if self.wait >= self.patience:\n",
        "                if self.verbose > 0:\n",
        "                    print(f'Restoring model weights from the end of the best epoch: {epoch - self.patience + 1}')\n",
        "                self.model.stop_training = True\n",
        "                self.model.set_weights(self.best_weights)"
      ],
      "metadata": {
        "id": "r8eKXydmi0GC"
      },
      "id": "r8eKXydmi0GC",
      "execution_count": 20,
      "outputs": []
    },
    {
      "cell_type": "markdown",
      "id": "_TlXQZRbK0fG",
      "metadata": {
        "id": "_TlXQZRbK0fG"
      },
      "source": [
        "# 4 Load Dataset: Social Network Comments"
      ]
    },
    {
      "cell_type": "code",
      "execution_count": 21,
      "id": "wvOMUgSgKYoe",
      "metadata": {
        "id": "wvOMUgSgKYoe"
      },
      "outputs": [],
      "source": [
        "# Read the dataset as csv from base url defined\n",
        "df = pd.read_csv(DATASET_URL)"
      ]
    },
    {
      "cell_type": "code",
      "execution_count": 22,
      "id": "66c3d701",
      "metadata": {
        "colab": {
          "base_uri": "https://localhost:8080/",
          "height": 206
        },
        "id": "66c3d701",
        "outputId": "eb2ac283-a5e7-42fd-84a2-297a39a94df0"
      },
      "outputs": [
        {
          "output_type": "execute_result",
          "data": {
            "text/plain": [
              "                                        comment_text  toxic  severe_toxic  \\\n",
              "0  Explanation\\nWhy the edits made under my usern...      0             0   \n",
              "1  D'aww! He matches this background colour I'm s...      0             0   \n",
              "2  Hey man, I'm really not trying to edit war. It...      0             0   \n",
              "3  \"\\nMore\\nI can't make any real suggestions on ...      0             0   \n",
              "4  You, sir, are my hero. Any chance you remember...      0             0   \n",
              "\n",
              "   obscene  threat  insult  identity_hate  sum_injurious  \n",
              "0        0       0       0              0              0  \n",
              "1        0       0       0              0              0  \n",
              "2        0       0       0              0              0  \n",
              "3        0       0       0              0              0  \n",
              "4        0       0       0              0              0  "
            ],
            "text/html": [
              "\n",
              "  <div id=\"df-0ab81ba9-3f22-49c2-9d79-cf42eaff216a\" class=\"colab-df-container\">\n",
              "    <div>\n",
              "<style scoped>\n",
              "    .dataframe tbody tr th:only-of-type {\n",
              "        vertical-align: middle;\n",
              "    }\n",
              "\n",
              "    .dataframe tbody tr th {\n",
              "        vertical-align: top;\n",
              "    }\n",
              "\n",
              "    .dataframe thead th {\n",
              "        text-align: right;\n",
              "    }\n",
              "</style>\n",
              "<table border=\"1\" class=\"dataframe\">\n",
              "  <thead>\n",
              "    <tr style=\"text-align: right;\">\n",
              "      <th></th>\n",
              "      <th>comment_text</th>\n",
              "      <th>toxic</th>\n",
              "      <th>severe_toxic</th>\n",
              "      <th>obscene</th>\n",
              "      <th>threat</th>\n",
              "      <th>insult</th>\n",
              "      <th>identity_hate</th>\n",
              "      <th>sum_injurious</th>\n",
              "    </tr>\n",
              "  </thead>\n",
              "  <tbody>\n",
              "    <tr>\n",
              "      <th>0</th>\n",
              "      <td>Explanation\\nWhy the edits made under my usern...</td>\n",
              "      <td>0</td>\n",
              "      <td>0</td>\n",
              "      <td>0</td>\n",
              "      <td>0</td>\n",
              "      <td>0</td>\n",
              "      <td>0</td>\n",
              "      <td>0</td>\n",
              "    </tr>\n",
              "    <tr>\n",
              "      <th>1</th>\n",
              "      <td>D'aww! He matches this background colour I'm s...</td>\n",
              "      <td>0</td>\n",
              "      <td>0</td>\n",
              "      <td>0</td>\n",
              "      <td>0</td>\n",
              "      <td>0</td>\n",
              "      <td>0</td>\n",
              "      <td>0</td>\n",
              "    </tr>\n",
              "    <tr>\n",
              "      <th>2</th>\n",
              "      <td>Hey man, I'm really not trying to edit war. It...</td>\n",
              "      <td>0</td>\n",
              "      <td>0</td>\n",
              "      <td>0</td>\n",
              "      <td>0</td>\n",
              "      <td>0</td>\n",
              "      <td>0</td>\n",
              "      <td>0</td>\n",
              "    </tr>\n",
              "    <tr>\n",
              "      <th>3</th>\n",
              "      <td>\"\\nMore\\nI can't make any real suggestions on ...</td>\n",
              "      <td>0</td>\n",
              "      <td>0</td>\n",
              "      <td>0</td>\n",
              "      <td>0</td>\n",
              "      <td>0</td>\n",
              "      <td>0</td>\n",
              "      <td>0</td>\n",
              "    </tr>\n",
              "    <tr>\n",
              "      <th>4</th>\n",
              "      <td>You, sir, are my hero. Any chance you remember...</td>\n",
              "      <td>0</td>\n",
              "      <td>0</td>\n",
              "      <td>0</td>\n",
              "      <td>0</td>\n",
              "      <td>0</td>\n",
              "      <td>0</td>\n",
              "      <td>0</td>\n",
              "    </tr>\n",
              "  </tbody>\n",
              "</table>\n",
              "</div>\n",
              "    <div class=\"colab-df-buttons\">\n",
              "\n",
              "  <div class=\"colab-df-container\">\n",
              "    <button class=\"colab-df-convert\" onclick=\"convertToInteractive('df-0ab81ba9-3f22-49c2-9d79-cf42eaff216a')\"\n",
              "            title=\"Convert this dataframe to an interactive table.\"\n",
              "            style=\"display:none;\">\n",
              "\n",
              "  <svg xmlns=\"http://www.w3.org/2000/svg\" height=\"24px\" viewBox=\"0 -960 960 960\">\n",
              "    <path d=\"M120-120v-720h720v720H120Zm60-500h600v-160H180v160Zm220 220h160v-160H400v160Zm0 220h160v-160H400v160ZM180-400h160v-160H180v160Zm440 0h160v-160H620v160ZM180-180h160v-160H180v160Zm440 0h160v-160H620v160Z\"/>\n",
              "  </svg>\n",
              "    </button>\n",
              "\n",
              "  <style>\n",
              "    .colab-df-container {\n",
              "      display:flex;\n",
              "      gap: 12px;\n",
              "    }\n",
              "\n",
              "    .colab-df-convert {\n",
              "      background-color: #E8F0FE;\n",
              "      border: none;\n",
              "      border-radius: 50%;\n",
              "      cursor: pointer;\n",
              "      display: none;\n",
              "      fill: #1967D2;\n",
              "      height: 32px;\n",
              "      padding: 0 0 0 0;\n",
              "      width: 32px;\n",
              "    }\n",
              "\n",
              "    .colab-df-convert:hover {\n",
              "      background-color: #E2EBFA;\n",
              "      box-shadow: 0px 1px 2px rgba(60, 64, 67, 0.3), 0px 1px 3px 1px rgba(60, 64, 67, 0.15);\n",
              "      fill: #174EA6;\n",
              "    }\n",
              "\n",
              "    .colab-df-buttons div {\n",
              "      margin-bottom: 4px;\n",
              "    }\n",
              "\n",
              "    [theme=dark] .colab-df-convert {\n",
              "      background-color: #3B4455;\n",
              "      fill: #D2E3FC;\n",
              "    }\n",
              "\n",
              "    [theme=dark] .colab-df-convert:hover {\n",
              "      background-color: #434B5C;\n",
              "      box-shadow: 0px 1px 3px 1px rgba(0, 0, 0, 0.15);\n",
              "      filter: drop-shadow(0px 1px 2px rgba(0, 0, 0, 0.3));\n",
              "      fill: #FFFFFF;\n",
              "    }\n",
              "  </style>\n",
              "\n",
              "    <script>\n",
              "      const buttonEl =\n",
              "        document.querySelector('#df-0ab81ba9-3f22-49c2-9d79-cf42eaff216a button.colab-df-convert');\n",
              "      buttonEl.style.display =\n",
              "        google.colab.kernel.accessAllowed ? 'block' : 'none';\n",
              "\n",
              "      async function convertToInteractive(key) {\n",
              "        const element = document.querySelector('#df-0ab81ba9-3f22-49c2-9d79-cf42eaff216a');\n",
              "        const dataTable =\n",
              "          await google.colab.kernel.invokeFunction('convertToInteractive',\n",
              "                                                    [key], {});\n",
              "        if (!dataTable) return;\n",
              "\n",
              "        const docLinkHtml = 'Like what you see? Visit the ' +\n",
              "          '<a target=\"_blank\" href=https://colab.research.google.com/notebooks/data_table.ipynb>data table notebook</a>'\n",
              "          + ' to learn more about interactive tables.';\n",
              "        element.innerHTML = '';\n",
              "        dataTable['output_type'] = 'display_data';\n",
              "        await google.colab.output.renderOutput(dataTable, element);\n",
              "        const docLink = document.createElement('div');\n",
              "        docLink.innerHTML = docLinkHtml;\n",
              "        element.appendChild(docLink);\n",
              "      }\n",
              "    </script>\n",
              "  </div>\n",
              "\n",
              "\n",
              "<div id=\"df-0bc78f62-c7a3-4c1b-9485-57fb7ff4f822\">\n",
              "  <button class=\"colab-df-quickchart\" onclick=\"quickchart('df-0bc78f62-c7a3-4c1b-9485-57fb7ff4f822')\"\n",
              "            title=\"Suggest charts\"\n",
              "            style=\"display:none;\">\n",
              "\n",
              "<svg xmlns=\"http://www.w3.org/2000/svg\" height=\"24px\"viewBox=\"0 0 24 24\"\n",
              "     width=\"24px\">\n",
              "    <g>\n",
              "        <path d=\"M19 3H5c-1.1 0-2 .9-2 2v14c0 1.1.9 2 2 2h14c1.1 0 2-.9 2-2V5c0-1.1-.9-2-2-2zM9 17H7v-7h2v7zm4 0h-2V7h2v10zm4 0h-2v-4h2v4z\"/>\n",
              "    </g>\n",
              "</svg>\n",
              "  </button>\n",
              "\n",
              "<style>\n",
              "  .colab-df-quickchart {\n",
              "      --bg-color: #E8F0FE;\n",
              "      --fill-color: #1967D2;\n",
              "      --hover-bg-color: #E2EBFA;\n",
              "      --hover-fill-color: #174EA6;\n",
              "      --disabled-fill-color: #AAA;\n",
              "      --disabled-bg-color: #DDD;\n",
              "  }\n",
              "\n",
              "  [theme=dark] .colab-df-quickchart {\n",
              "      --bg-color: #3B4455;\n",
              "      --fill-color: #D2E3FC;\n",
              "      --hover-bg-color: #434B5C;\n",
              "      --hover-fill-color: #FFFFFF;\n",
              "      --disabled-bg-color: #3B4455;\n",
              "      --disabled-fill-color: #666;\n",
              "  }\n",
              "\n",
              "  .colab-df-quickchart {\n",
              "    background-color: var(--bg-color);\n",
              "    border: none;\n",
              "    border-radius: 50%;\n",
              "    cursor: pointer;\n",
              "    display: none;\n",
              "    fill: var(--fill-color);\n",
              "    height: 32px;\n",
              "    padding: 0;\n",
              "    width: 32px;\n",
              "  }\n",
              "\n",
              "  .colab-df-quickchart:hover {\n",
              "    background-color: var(--hover-bg-color);\n",
              "    box-shadow: 0 1px 2px rgba(60, 64, 67, 0.3), 0 1px 3px 1px rgba(60, 64, 67, 0.15);\n",
              "    fill: var(--button-hover-fill-color);\n",
              "  }\n",
              "\n",
              "  .colab-df-quickchart-complete:disabled,\n",
              "  .colab-df-quickchart-complete:disabled:hover {\n",
              "    background-color: var(--disabled-bg-color);\n",
              "    fill: var(--disabled-fill-color);\n",
              "    box-shadow: none;\n",
              "  }\n",
              "\n",
              "  .colab-df-spinner {\n",
              "    border: 2px solid var(--fill-color);\n",
              "    border-color: transparent;\n",
              "    border-bottom-color: var(--fill-color);\n",
              "    animation:\n",
              "      spin 1s steps(1) infinite;\n",
              "  }\n",
              "\n",
              "  @keyframes spin {\n",
              "    0% {\n",
              "      border-color: transparent;\n",
              "      border-bottom-color: var(--fill-color);\n",
              "      border-left-color: var(--fill-color);\n",
              "    }\n",
              "    20% {\n",
              "      border-color: transparent;\n",
              "      border-left-color: var(--fill-color);\n",
              "      border-top-color: var(--fill-color);\n",
              "    }\n",
              "    30% {\n",
              "      border-color: transparent;\n",
              "      border-left-color: var(--fill-color);\n",
              "      border-top-color: var(--fill-color);\n",
              "      border-right-color: var(--fill-color);\n",
              "    }\n",
              "    40% {\n",
              "      border-color: transparent;\n",
              "      border-right-color: var(--fill-color);\n",
              "      border-top-color: var(--fill-color);\n",
              "    }\n",
              "    60% {\n",
              "      border-color: transparent;\n",
              "      border-right-color: var(--fill-color);\n",
              "    }\n",
              "    80% {\n",
              "      border-color: transparent;\n",
              "      border-right-color: var(--fill-color);\n",
              "      border-bottom-color: var(--fill-color);\n",
              "    }\n",
              "    90% {\n",
              "      border-color: transparent;\n",
              "      border-bottom-color: var(--fill-color);\n",
              "    }\n",
              "  }\n",
              "</style>\n",
              "\n",
              "  <script>\n",
              "    async function quickchart(key) {\n",
              "      const quickchartButtonEl =\n",
              "        document.querySelector('#' + key + ' button');\n",
              "      quickchartButtonEl.disabled = true;  // To prevent multiple clicks.\n",
              "      quickchartButtonEl.classList.add('colab-df-spinner');\n",
              "      try {\n",
              "        const charts = await google.colab.kernel.invokeFunction(\n",
              "            'suggestCharts', [key], {});\n",
              "      } catch (error) {\n",
              "        console.error('Error during call to suggestCharts:', error);\n",
              "      }\n",
              "      quickchartButtonEl.classList.remove('colab-df-spinner');\n",
              "      quickchartButtonEl.classList.add('colab-df-quickchart-complete');\n",
              "    }\n",
              "    (() => {\n",
              "      let quickchartButtonEl =\n",
              "        document.querySelector('#df-0bc78f62-c7a3-4c1b-9485-57fb7ff4f822 button');\n",
              "      quickchartButtonEl.style.display =\n",
              "        google.colab.kernel.accessAllowed ? 'block' : 'none';\n",
              "    })();\n",
              "  </script>\n",
              "</div>\n",
              "\n",
              "    </div>\n",
              "  </div>\n"
            ],
            "application/vnd.google.colaboratory.intrinsic+json": {
              "type": "dataframe",
              "variable_name": "df"
            }
          },
          "metadata": {},
          "execution_count": 22
        }
      ],
      "source": [
        "# Show the first 5 rows of dataset\n",
        "df.head()"
      ]
    },
    {
      "cell_type": "markdown",
      "id": "ZydOt1fXMVa2",
      "metadata": {
        "id": "ZydOt1fXMVa2"
      },
      "source": [
        "# 5 EDA - Exploration Data Analysis"
      ]
    },
    {
      "cell_type": "markdown",
      "source": [
        "## 5.1 Dataset General Information"
      ],
      "metadata": {
        "id": "YJdVcWiIaF8H"
      },
      "id": "YJdVcWiIaF8H"
    },
    {
      "cell_type": "code",
      "source": [
        "# Show dataset information\n",
        "df.info()"
      ],
      "metadata": {
        "colab": {
          "base_uri": "https://localhost:8080/"
        },
        "id": "Ed4g6RuiNfTH",
        "outputId": "7d00a4cb-8e4a-4f2f-f86d-f55a9922c55f"
      },
      "id": "Ed4g6RuiNfTH",
      "execution_count": 23,
      "outputs": [
        {
          "output_type": "stream",
          "name": "stdout",
          "text": [
            "<class 'pandas.core.frame.DataFrame'>\n",
            "RangeIndex: 159571 entries, 0 to 159570\n",
            "Data columns (total 8 columns):\n",
            " #   Column         Non-Null Count   Dtype \n",
            "---  ------         --------------   ----- \n",
            " 0   comment_text   159571 non-null  object\n",
            " 1   toxic          159571 non-null  int64 \n",
            " 2   severe_toxic   159571 non-null  int64 \n",
            " 3   obscene        159571 non-null  int64 \n",
            " 4   threat         159571 non-null  int64 \n",
            " 5   insult         159571 non-null  int64 \n",
            " 6   identity_hate  159571 non-null  int64 \n",
            " 7   sum_injurious  159571 non-null  int64 \n",
            "dtypes: int64(7), object(1)\n",
            "memory usage: 9.7+ MB\n"
          ]
        }
      ]
    },
    {
      "cell_type": "markdown",
      "source": [
        "Column '*comment_text*' contains the comments of social network to be analyzed anc classified by model.\n",
        "The remains columns are related to the labels, classification of each comment.\n",
        "In particular, each comment could be associated to more **than 1 label** and than there is a **multilabel classification**."
      ],
      "metadata": {
        "id": "8bURRfRwaOEW"
      },
      "id": "8bURRfRwaOEW"
    },
    {
      "cell_type": "markdown",
      "source": [
        "## 5.2 Features Anaslysis: Comments"
      ],
      "metadata": {
        "id": "0HYinlhfbXwY"
      },
      "id": "0HYinlhfbXwY"
    },
    {
      "cell_type": "code",
      "source": [
        "# Number of comments to print\n",
        "num_samples_per_label = 10\n",
        "\n",
        "# For each labels print 10 random comments (negative comments)\n",
        "for label in LABELS:\n",
        "    print(f\"Label: {label}\")\n",
        "    sample_comments = df[df[label] == 1].sample(n=num_samples_per_label, random_state=42)['comment_text']\n",
        "    for i, comment in enumerate(sample_comments, 1):\n",
        "        print(f\"{i}. {comment}\")\n",
        "    print(\"\\n\" + \"-\"*50 + \"\\n\")"
      ],
      "metadata": {
        "colab": {
          "base_uri": "https://localhost:8080/"
        },
        "id": "dpRV6n1eAcoB",
        "outputId": "ac11e72d-47df-4ae4-8dbd-e7443803ed74"
      },
      "id": "dpRV6n1eAcoB",
      "execution_count": 24,
      "outputs": [
        {
          "output_type": "stream",
          "name": "stdout",
          "text": [
            "Label: toxic\n",
            "1. Hi! \n",
            "\n",
            "I wanna rape you!\n",
            "2. Terrorize \n",
            "I will terrorise you for as long as you live - you are an arrogant, disgusting and rude excuse for a human being & you are going to die soon so I suggest you stop threatening people you bastard.\n",
            "3. Being blocked\n",
            "\n",
            "So that's your idea of mediation, is it? R Lopez can run amok through Wikipedia with his lying crap, and I get blocked for stating my intention of stopping him unless Wikipedia's rather creaky structures do so. I've seen some silly things since I have been editing here but that would be the silliest.\n",
            "4. Editing Wikipedia \n",
            "\n",
            "Fuck You, you anal rapist\n",
            "5. So the fact that the US Govt wants to put some dude in jail for 6 yrs is irrelevant to you?  The fact that the US Govt wants some dude to PAY restitution in over $160,000 to celebrites is irrelevant to you?  You act like that kind of stuff happens every day.  But I challenge you to name one other person that is has happened to, on the scale that this has happened, anywhere in the country.  You can't, can you.  Maybe you should look in the mirror before calling someone disruptive.\n",
            "6. Leave our Country. \n",
            "\n",
            "We don't want you Arabs here.\n",
            "7. Hi, the Greek pages are a disgrace. The demographics section was written some time ago with correct data and many links to support them, and they have all been removed. I am not going to deal with this, because it is not my function in life to clear up the SHIT of other people. Please accept that what is written there is propaganda and lies, and needs ro be removed,. Thank you.\n",
            "8. You stupid fat bastard. \n",
            "\n",
            "Why did you censor the move logs of Pikachu, you fat oaf? Is it because it offended your delicate Victorian sensibilities? Are most British people as prudish as you?\n",
            "9. Becouse no one gives a SHIT...\n",
            "10. Fag \n",
            "\n",
            "Stop reverting my edits or I will kill you\n",
            "\n",
            "--------------------------------------------------\n",
            "\n",
            "Label: severe_toxic\n",
            "1. \"\n",
            "\n",
            " WHAT  IN THE FUCK ARE YOU REFERRING TOO \n",
            "\n",
            "I HAVE NO IDEA WHAT THE PISS YOU'RE REFERRING TOO, OR WHY YOU BOTHERED TO WRITE ME.  LISTEN I'VE ADDED PLENTY TO THESE PAGE INCLUDING A \"\"SMASHING\"\" ARTICLE ON SMASHED GLADYS...BUT THAT REALLY ISNT ANY OF YOU BUSSINESS NOW IS IT.  IF SOMEBODY HAS A PROBLEM WITH ANYTHING THAT I WROTE THEM I ASSUME THEY CAN CONTACT ME THROUGH REGULAR MEANS WITHOUT YOU HAVING TO \"\"WIPE THEIR ASS\"\" FOR THEM.  IF I CAPITALIZE IT IS NOT MEANT NECCISARYLY AS AN INSULT, AND MOST PEOPLE I WRITE UNDERSTAND THAT.  IN THIS CASE IT IS BECAUSE MY CAPS BUTTON ISNT WORKING FOR SOME REASON.  SO HERES AN IDEA FOR YOU...DONT SHOVE YOUR NOSE IN MY BUSSINESS, I AM CLOSE FREINDS WITH ADMINISTRATOR UNCLEG AND IM SURE HE WOULD HAVE LET ME KNOW IF I DID SOMETHING INNAPPROPRIATE.  TRY INSTEAD TO REMOVE THE PLANK OUT OF YOUR OWN EYE, RATHER THAN BITCHING ABOUT SOMETHING YOU THINK MAY HAVE OFFENED SOMEONE.  I APPRECIATE YOU COMMENTS \"\n",
            "2. takes it up the arse.  takes it up the arse.  takes it up the arse.  takes it up the arse.  takes it up the arse.  takes it up the arse.  takes it up the arse.  takes it up the arse.  takes it up the arse.  takes it up the arse.  takes it up the arse.  takes it up the arse.  takes it up the arse.  takes it up the arse.  takes it up the arse.  takes it up the arse.  takes it up the arse.  takes it up the arse.  takes it up the arse.  takes it up the arse.  takes it up the arse.  takes it up the arse.  takes it up the arse.  takes it up the arse.  takes it up the arse.  takes it up the arse.  takes it up the arse.  takes it up the arse.  takes it up the arse.  takes it up the arse.  takes it up the arse.  takes it up the arse.  takes it up the arse.  takes it up the arse.  takes it up the arse.  takes it up the arse.  takes it up the arse.  takes it up the arse.  takes it up the arse.  takes it up the arse.  takes it up the arse.  takes it up the arse.  takes it up the arse.  takes it up the arse.  takes it up the arse.  takes it up the arse.  takes it up the arse.  takes it up the arse.  takes it up the arse.  takes it up the arse.  takes it up the arse.  takes it up the arse.  takes it up the arse.  takes it up the arse.  takes it up the arse.  takes it up the arse.  takes it up the arse.  takes it up the arse.  takes it up the arse.  takes it up the arse.  takes it up the arse.  takes it up the arse.  takes it up the arse.  takes it up the arse.  takes it up the arse.  takes it up the arse.  takes it up the arse.  takes it up the arse.  takes it up the arse.  takes it up the arse.  takes it up the arse.  takes it up the arse.  takes it up the arse.  takes it up the arse.  takes it up the arse.  takes it up the arse.  takes it up the arse.  takes it up the arse.  takes it up the arse.  takes it up the arse.  takes it up the arse.  takes it up the arse.  takes it up the arse.  takes it up the arse.  takes it up the arse.  takes it up the arse.  takes it up the arse.  takes it up the arse.  takes it up the arse.  takes it up the arse.  takes it up the arse.  takes it up the arse.  takes it up the arse.  takes it up the arse.  takes it up the arse.  takes it up the arse.  takes it up the arse.  takes it up the arse.  takes it up the arse.  takes it up the arse.  takes it up the arse.  takes it up the arse.  takes it up the arse.  takes it up the arse.  takes it up the arse.  takes it up the arse.  takes it up the arse.  takes it up the arse.  takes it up the arse.  takes it up the arse.  takes it up the arse.  takes it up the arse.  takes it up the arse.\n",
            "3. fucking die \n",
            "\n",
            "lol rofl \n",
            "joke\n",
            "\n",
            "hahahahahahahaha\n",
            "\n",
            " U cant stop the vandal == though\n",
            "4. Dumb Liberals \n",
            "\n",
            "Liberals suck.  I will beat you at tanks anytime you swastika wearing freak.  Sieg Heil.\n",
            "5. WIKI NAZI! \n",
            "\n",
            "That's all you are, you even remove my post for help and have the nerve to accuse me of vandalizing for asking for help in the correct area using the correct method, your a loosre and I can clearly see why no one relies on wikipedia anymore. NAZI F AG GOT CO CK SU CKER!\n",
            "6. FUCK YOU, YOU ATHEIST CUNT! FUCK YOU, YOU ATHEIST CUNT! FUCK YOU, YOU ATHEIST CUNT! FUCK YOU, YOU ATHEIST CUNT! FUCK YOU, YOU ATHEIST CUNT! FUCK YOU, YOU ATHEIST CUNT! FUCK YOU, YOU ATHEIST CUNT! FUCK YOU, YOU ATHEIST CUNT! FUCK YOU, YOU ATHEIST CUNT! FUCK YOU, YOU ATHEIST CUNT! FUCK YOU, YOU ATHEIST CUNT! FUCK YOU, YOU ATHEIST CUNT! FUCK YOU, YOU ATHEIST CUNT! FUCK YOU, YOU ATHEIST CUNT! FUCK YOU, YOU ATHEIST CUNT! FUCK YOU, YOU ATHEIST CUNT! FUCK YOU, YOU ATHEIST CUNT! FUCK YOU, YOU ATHEIST CUNT! FUCK YOU, YOU ATHEIST CUNT! FUCK YOU, YOU ATHEIST CUNT! FUCK YOU, YOU ATHEIST CUNT! FUCK YOU, YOU ATHEIST CUNT! FUCK YOU, YOU ATHEIST CUNT! FUCK YOU, YOU ATHEIST CUNT! FUCK YOU, YOU ATHEIST CUNT! FUCK YOU, YOU ATHEIST CUNT! FUCK YOU, YOU ATHEIST CUNT! FUCK YOU, YOU ATHEIST CUNT! FUCK YOU, YOU ATHEIST CUNT! FUCK YOU, YOU ATHEIST CUNT! FUCK YOU, YOU ATHEIST CUNT! FUCK YOU, YOU ATHEIST CUNT! FUCK YOU, YOU ATHEIST CUNT! FUCK YOU, YOU ATHEIST CUNT! FUCK YOU, YOU ATHEIST CUNT! FUCK YOU, YOU ATHEIST CUNT! FUCK YOU, YOU ATHEIST CUNT! FUCK YOU, YOU ATHEIST CUNT! FUCK YOU, YOU ATHEIST CUNT! FUCK YOU, YOU ATHEIST CUNT! FUCK YOU, YOU ATHEIST CUNT! FUCK YOU, YOU ATHEIST CUNT! FUCK YOU, YOU ATHEIST CUNT! FUCK YOU, YOU ATHEIST CUNT! FUCK YOU, YOU ATHEIST CUNT! FUCK YOU, YOU ATHEIST CUNT! FUCK YOU, YOU ATHEIST CUNT! FUCK YOU, YOU ATHEIST CUNT! FUCK YOU, YOU ATHEIST CUNT! FUCK YOU, YOU ATHEIST CUNT! FUCK YOU, YOU ATHEIST CUNT! FUCK YOU, YOU ATHEIST CUNT! FUCK YOU, YOU ATHEIST CUNT! FUCK YOU, YOU ATHEIST CUNT! FUCK YOU, YOU ATHEIST CUNT! FUCK YOU, YOU ATHEIST CUNT! FUCK YOU, YOU ATHEIST CUNT! FUCK YOU, YOU ATHEIST CUNT! FUCK YOU, YOU ATHEIST CUNT! FUCK YOU, YOU ATHEIST CUNT! FUCK YOU, YOU ATHEIST CUNT! FUCK YOU, YOU ATHEIST CUNT! FUCK YOU, YOU ATHEIST CUNT! FUCK YOU, YOU ATHEIST CUNT! FUCK YOU, YOU ATHEIST CUNT! FUCK YOU, YOU ATHEIST CUNT! FUCK YOU, YOU ATHEIST CUNT! FUCK YOU, YOU ATHEIST CUNT! FUCK YOU, YOU ATHEIST CUNT! FUCK YOU, YOU ATHEIST CUNT! FUCK YOU, YOU ATHEIST CUNT! FUCK YOU, YOU ATHEIST CUNT! FUCK YOU, YOU ATHEIST CUNT! FUCK YOU, YOU ATHEIST CUNT! FUCK YOU, YOU ATHEIST CUNT! FUCK YOU, YOU ATHEIST CUNT! FUCK YOU, YOU ATHEIST CUNT! FUCK YOU, YOU ATHEIST CUNT! FUCK YOU, YOU ATHEIST CUNT! FUCK YOU, YOU ATHEIST CUNT! FUCK YOU, YOU ATHEIST CUNT! FUCK YOU, YOU ATHEIST CUNT! FUCK YOU, YOU ATHEIST CUNT! FUCK YOU, YOU ATHEIST CUNT! FUCK YOU, YOU ATHEIST CUNT! FUCK YOU, YOU ATHEIST CUNT! FUCK YOU, YOU ATHEIST CUNT! FUCK YOU, YOU ATHEIST CUNT! FUCK YOU, YOU ATHEIST CUNT! FUCK YOU, YOU ATHEIST CUNT! FUCK YOU, YOU ATHEIST CUNT! FUCK YOU, YOU ATHEIST CUNT! FUCK YOU, YOU ATHEIST CUNT! FUCK YOU, YOU ATHEIST CUNT! FUCK YOU, YOU ATHEIST CUNT! FUCK YOU, YOU ATHEIST CUNT! FUCK YOU, YOU ATHEIST CUNT! FUCK YOU, YOU ATHEIST CUNT! FUCK YOU, YOU ATHEIST CUNT! FUCK YOU, YOU ATHEIST CUNT! FUCK YOU, YOU ATHEIST CUNT! FUCK YOU, YOU ATHEIST CUNT! FUCK YOU, YOU ATHEIST CUNT! FUCK YOU, YOU ATHEIST CUNT! FUCK YOU, YOU ATHEIST CUNT! FUCK YOU, YOU ATHEIST CUNT! FUCK YOU, YOU ATHEIST CUNT! FUCK YOU, YOU ATHEIST CUNT! FUCK YOU, YOU ATHEIST CUNT! FUCK YOU, YOU ATHEIST CUNT! FUCK YOU, YOU ATHEIST CUNT! FUCK YOU, YOU ATHEIST CUNT! FUCK YOU, YOU ATHEIST CUNT! FUCK YOU, YOU ATHEIST CUNT! FUCK YOU, YOU ATHEIST CUNT! FUCK YOU, YOU ATHEIST CUNT! FUCK YOU, YOU ATHEIST CUNT! FUCK YOU, YOU ATHEIST CUNT! FUCK YOU, YOU ATHEIST CUNT! FUCK YOU, YOU ATHEIST CUNT! FUCK YOU, YOU ATHEIST CUNT! FUCK YOU, YOU ATHEIST CUNT! FUCK YOU, YOU ATHEIST CUNT! FUCK YOU, YOU ATHEIST CUNT! FUCK YOU, YOU ATHEIST CUNT! FUCK YOU, YOU ATHEIST CUNT! FUCK YOU, YOU ATHEIST CUNT! FUCK YOU, YOU ATHEIST CUNT! FUCK YOU, YOU ATHEIST CUNT! FUCK YOU, YOU ATHEIST CUNT! FUCK YOU, YOU ATHEIST CUNT! FUCK YOU, YOU ATHEIST CUNT! FUCK YOU, YOU ATHEIST CUNT! FUCK YOU, YOU ATHEIST CUNT! FUCK YOU, YOU ATHEIST CUNT! FUCK YOU, YOU ATHEIST CUNT! FUCK YOU, YOU ATHEIST CUNT! FUCK YOU, YOU ATHEIST CUNT! FUCK YOU, YOU ATHEIST CUNT! FUCK YOU, YOU ATHEIST CUNT! FUCK YOU, YOU ATHEIST CUNT! FUCK YOU, YOU ATHEIST CUNT! FUCK YOU, YOU ATHEIST CUNT! FUCK YOU, YOU ATHEIST CUNT! FUCK YOU, YOU ATHEIST CUNT! FUCK YOU, YOU ATHEIST CUNT! FUCK YOU, YOU ATHEIST CUNT! FUCK YOU, YOU ATHEIST CUNT! FUCK YOU, YOU ATHEIST CUNT! FUCK YOU, YOU ATHEIST CUNT! FUCK YOU, YOU ATHEIST CUNT! FUCK YOU, YOU ATHEIST CUNT! FUCK YOU, YOU ATHEIST CUNT! FUCK YOU, YOU ATHEIST CUNT! FUCK YOU, YOU ATHEIST CUNT! FUCK YOU, YOU ATHEIST CUNT! FUCK YOU, YOU ATHEIST CUNT! FUCK YOU, YOU ATHEIST CUNT! FUCK YOU, YOU ATHEIST CUNT! FUCK YOU, YOU ATHEIST CUNT! FUCK YOU, YOU ATHEIST CUNT! FUCK YOU, YOU ATHEIST CUNT! FUCK YOU, YOU ATHEIST CUNT! FUCK YOU, YOU ATHEIST CUNT! FUCK YOU, YOU ATHEIST CUNT! FUCK YOU, YOU ATHEIST CUNT! FUCK YOU, YOU ATHEIST CUNT! FUCK YOU, YOU ATHEIST CUNT! FUCK YOU, YOU ATHEIST CUNT! FUCK YOU, YOU ATHEIST CUNT! FUCK YOU, YOU ATHEIST CUNT! FUCK YOU, YOU ATHEIST CUNT! FUCK YOU, YOU ATHEIST CUNT! FUCK YOU, YOU ATHEIST CUNT! FUCK YOU, YOU ATHEIST CUNT! FUCK YOU, YOU ATHEIST CUNT! FUCK YOU, YOU ATHEIST CUNT! FUCK YOU, YOU ATHEIST CUNT! FUCK YOU, YOU AT\n",
            "7. ... \n",
            "\n",
            "You are a sad cunt. Get a life, you nerd.\n",
            "8. FUCK YOU GEORGE \n",
            "\n",
            "YOU GET MY POINT, AKHTAK SHARMOTA\n",
            "9. FUCK YOU WHORES! I'LL ALWAYS COME BACK AGAIN AND AGAIN TO FUCK YOU BITCHES UP!! HAHAHAHA\n",
            "10. \"\n",
            "\n",
            " Fuck you, cunt!!!!!!!!!!!!!!!!!!!!! \n",
            "\n",
            "try these important things and maybe you won't be such a sucker motherfucker:\n",
            "\n",
            "1. Learn how to spell. If things remain as they are, everyone is bound to consider you to be the ignorant lame-brained cult member you are.\n",
            "\n",
            "2. Revert your attacks on Van Tucky on the talk pages. You come off as a vicious, vile psychopath. If you ever set your cult defending ass in a court of law, the jury would see through your charade in heartbeat.\n",
            "\n",
            "3. Stop playing good cop- bad cop with your fucking retarded Dahn hack Forestgarden\n",
            "\n",
            "4. Accept all Korean language sources you stupid bitch!! How dare you try to stifle and censor articles in the name of your fucked up cult. Your Forestgarden bitch believes its within Wiki policy to include Korean language articles when reporting on favorable aspects of your bitch master. Why don't you include all the other more negative portrayals in the Korean language. Also, who said this Itsahappyday fuckhead deserves to translate any Korean? This should all be disputed, you fucking racist, neo-nazi reject?\n",
            "\n",
            "5. Stop using the word cynical to describe your \"\"enemies.\"\" You come off even more retarded than your Ilchee bitch master. Your philosophical maturity is less than that of a first grader. The world is \"\"cynical.\"\" Those who don't believe in Dahn are \"\"cynical.\"\" I can't wait until South Park makes an episode about your bitch cult. \n",
            "\n",
            "6. Are you fucking insane? Korea is the center of the universe? Korea as a cultural hub? Korea the place where the next messiah appears? You Dahn people never cease to amaze when it comes to your thought processes. Korea is not what your Ilchee bitch believes it to be. Think about it retard- the fucking nation of Palau has more of a right to talk about religious heritage than the fucking hermit kingdom. How can you be so retarded, that you choose a Korean cult? If you chose a Chinese or Indian one, at least it would show you have some portion of a brain. Coming to Korea and joining a Korean cult with Korea-centric views is more retarded than travelling to Antartica in search of good coffee while visiting Columbia in search of ice and snow.\n",
            "\n",
            "7. One more time: the philosophical underpinnings of your shit cult are so flimsy I must question your intelligence.\n",
            "\n",
            "8. Nicola Cola...what kind of bitch ass name is that? what is wrong with you?\n",
            "\n",
            "And you wonder why you need to join a fucked up cult to find friendship and loving. Dumb fuck!!!!!!\"\n",
            "\n",
            "--------------------------------------------------\n",
            "\n",
            "Label: obscene\n",
            "1. You are an utter fucking faggot...u need a life outside of wikipedia...maybe a didlo fuk by ur mom?\n",
            "2. WTF! \n",
            "\n",
            "u fckin faggot ass mutha fcker u jus re-did and delted my work and my gay school! WTF IS UR PROMBLEM U GAY CHILD MOLESTER!!!!\n",
            "3. Yo Wuhwuzdat u a bitch wit no life. Yeah u heard me u a bitch. fuck u motherfucka\n",
            "4. Stop sucking a dong \n",
            "Enough has been said. 99.142.17.112\n",
            "5. , you're also a fucking shit, The reason is sending warning to bad editors.\n",
            "6. fuck u bitches.fuck u bitches.fuck u bitches.fuck u bitches.fuck u bitches.fuck u bitches.fuck u bitches.fuck u bitches.fuck u bitches.fuck u bitches.fuck u bitches.fuck u bitches.fuck u bitches.fuck u bitches.fuck u bitches.fuck u bitches.fuck u bitches.fuck u bitches.fuck u bitches.fuck u bitches.fuck u bitches.fuck u bitches.fuck u bitches.fuck u bitches.fuck u bitches.fuck u bitches.fuck u bitches.fuck u bitches.fuck u bitches.fuck u bitches.fuck u bitches.fuck u bitches.fuck u bitches.fuck u bitches.fuck u bitches.fuck u bitches.fuck u bitches.fuck u bitches.fuck u bitches.fuck u bitches.fuck u bitches.fuck u bitches.fuck u bitches.fuck u bitches.fuck u bitches.fuck u bitches.fuck u bitches.fuck u bitches.fuck u bitches.fuck u bitches.fuck u bitches.fuck u bitches.fuck u bitches.fuck u bitches.fuck u bitches.fuck u bitches.fuck u bitches.fuck u bitches.fuck u bitches.fuck u bitches.fuck u bitches.fuck u bitches.fuck u bitches.fuck u bitches.fuck u bitches.fuck u bitches.fuck u bitches.fuck u bitches.fuck u bitches.fuck u bitches.fuck u bitches.fuck u bitches.fuck u bitches.fuck u bitches.fuck u bitches.fuck u bitches.fuck u bitches.fuck u bitches.fuck u bitches.fuck u bitches.fuck u bitches.fuck u bitches.fuck u bitches.fuck u bitches.fuck u bitches.fuck u bitches.fuck u bitches.fuck u bitches.fuck u bitches.fuck u bitches.fuck u bitches.fuck u bitches.fuck u bitches.fuck u bitches.fuck u bitches.fuck u bitches.fuck u bitches.fuck u bitches.fuck u bitches.fuck u bitches.fuck u bitches.fuck u bitches.fuck u bitches.fuck u bitches.fuck u bitches.fuck u bitches.fuck u bitches.fuck u bitches.fuck u bitches.fuck u bitches.fuck u bitches.fuck u bitches.fuck u bitches.fuck u bitches.fuck u bitches.fuck u bitches.fuck u bitches.fuck u bitches.fuck u bitches.fuck u bitches.fuck u bitches.fuck u bitches.fuck u bitches.fuck u bitches.fuck u bitches.fuck u bitches.fuck u bitches.fuck u bitches.fuck u bitches.fuck u bitches.fuck u bitches.fuck u bitches.fuck u bitches.fuck u bitches.fuck u bitches.fuck u bitches.fuck u bitches.fuck u bitches.fuck u bitches.fuck u bitches.fuck u bitches.fuck u bitches.fuck u bitches.fuck u bitches.fuck u bitches.fuck u bitches.fuck u bitches.fuck u bitches.fuck u bitches.fuck u bitches.fuck u bitches.fuck u bitches.fuck u bitches.fuck u bitches.fuck u bitches.fuck u bitches.fuck u bitches.fuck u bitches.fuck u bitches.fuck u bitches.fuck u bitches.fuck u bitches.fuck u bitches.fuck u bitches.fuck u bitches.fuck u bitches.fuck u bitches.fuck u bitches.fuck u bitches.fuck u bitches.fuck u bitches.fuck u bitches.fuck u bitches.fuck u bitches.fuck u bitches.fuck u bitches.fuck u bitches.fuck u bitches.fuck u bitches.fuck u bitches.fuck u bitches.fuck u bitches.fuck u bitches.fuck u bitches.fuck u bitches.fuck u bitches.fuck u bitches.fuck u bitches.fuck u bitches.fuck u bitches.fuck u bitches.fuck u bitches.fuck u bitches.fuck u bitches.fuck u bitches.fuck u bitches.fuck u bitches.fuck u bitches.fuck u bitches.fuck u bitches.fuck u bitches.fuck u bitches.fuck u bitches.fuck u bitches.fuck u bitches.fuck u bitches.fuck u bitches.fuck u bitches.fuck u bitches.fuck u bitches.fuck u bitches.fuck u bitches.fuck u bitches.fuck u bitches.fuck u bitches.fuck u bitches.fuck u bitches.fuck u bitches.fuck u bitches.fuck u bitches.fuck u bitches.fuck u bitches.fuck u bitches.fuck u bitches.fuck u bitches.fuck u bitches.fuck u bitches.fuck u bitches.fuck u bitches.fuck u bitches.fuck u bitches.fuck u bitches.fuck u bitches.fuck u bitches.fuck u bitches.fuck u bitches.fuck u bitches.fuck u bitches.fuck u bitches.fuck u bitches.fuck u bitches.fuck u bitches.fuck u bitches.fuck u bitches.fuck u bitches.fuck u bitches.fuck u bitches.fuck u bitches.fuck u bitches.fuck u bitches.fuck u bitches.fuck u bitches.fuck u bitches.fuck u bitches.fuck u bitches.fuck u bitches.fuck u bitches.fuck u bitches.fuck u bitches.fuck u bitches.fuck u bitches.fuck u bitches.fuck u bitches.fuck u bitches.fuck u bitches.fuck u bitches.fuck u bitches.fuck u bitches.fuck u bitches.fuck u bitches.fuck u bitches.fuck u bitches.fuck u bitches.fuck u bitches.fuck u bitches.fuck u bitches.fuck u bitches.fuck u bitches.fuck u bitches.fuck u bitches.fuck u bitches.fuck u bitches.fuck u bitches.fuck u bitches.fuck u bitches.fuck u bitches.fuck u bitches.fuck u bitches.fuck u bitches.fuck u bitches.fuck u bitches.fuck u bitches.fuck u bitches.fuck u bitches.fuck u bitches.fuck u bitches.fuck u bitches.fuck u bitches.fuck u bitches.fuck u bitches.fuck u bitches.fuck u bitches.fuck u bitches.fuck u bitches.fuck u bitches.fuck u bitches.fuck u bitches.fuck u bitches.fuck u bitches.fuck u bitches.fuck u bitches.fuck u bitches.fuck u bitches.fuck u bitches.fuck u bitches.fuck u bitches.fuck u bitches.fuck u bitches.fuck u bitches.fuck u bitches.fuck u bitches.fuck u bitches.fuck u bitches.fuck u bitches.fuck u bitches.fuck u bitches.fuck u bitches.fuck u bitches.fuck u bitches.fuck u bitches.fuck u bitches.fuck u bitches.fuck u bitches.fuck\n",
            "7. STOP fucking deleting the November 27, 2009 bit from the release dates for the Virtual Console release of Super Mario Kart in Europe. The article itself says it's coming out on November 27, 2009. So if you ARE going to remove it from the infobox, at least remove it from EVERY single page that mentions the date. Even though it's CONFIRMED to be released on November 27, 2009... PRICK!\n",
            "8. \"\n",
            "WAS JESUS GAY?????\n",
            "if you say no?  how do you know?  were you alive at the time?  no?  Then you DON\"\"T know.  I say YES...  He clearly didn't like women.  He must have been gay.\n",
            "\"\n",
            "9. \"==Ass Ripper Express==\n",
            "I read in the newspaper about a number of young girls being anally raped in toilets of these trains. All the rapes occured on the Pendolino trains and no other WCML service, this led to speculation that the trains were somehow \"\"rapist friendly\"\". I think that this should be incorporated into the article. 217.72.91.120   \n",
            "\n",
            "\"\n",
            "10. no friends. I spread my legs for money. I work the corner down on Main Street. BJs are half off. Suck on my D.\n",
            "\n",
            "--------------------------------------------------\n",
            "\n",
            "Label: threat\n",
            "1. if you do not stop, the wikapidea nijas will come to your house and kill you\n",
            "2. Fuck you Sarcasticidealist i will kill you with my gun as well bitch ass motherfucker}}\n",
            "3. Fuck you bitch! I will go to your house and kill you with my gun!\n",
            "4. you are a fucking bawbag.\n",
            "\n",
            "get a real job you bumder and stop moaning to wikipedia you sack of spunk.\n",
            "\n",
            "im going to come to your house and rape your children.\n",
            "5. hey!!!!!!! thank you for re-editing my contributions it was really kind of you!!!!!!! i hope you get bowel cancer\n",
            "6. \"\n",
            "\n",
            " Niggard PLEASE! \n",
            "\n",
            "The niggardly nigger niggerly niggered a nickel from his nigga! He was heard saying, \"\"can a nigga spare a nickel?\"\"\n",
            "\n",
            "I firmly believe this is proof the the politically correct should be impaled on stakes and left for dead. Or placed into death camps and given no showers for months and then informing them that \"\"showers\"\" are now available... turn on the gas, dig pits, and bulldoze their corpses into them. Burn them, piss on them, then plow them over. \n",
            "\n",
            " PEOPLE! QUIT PANDERING TO LAZY, STUPID, GOOD-FOR-NOTHING, WELFARE-GRUBBING, CRACK-SMOKING, FILTHY, STINKY NIGGERS! \"\n",
            "7. Helo \n",
            "\n",
            "Wassup I dnt know who the shit u r but ima whop yo ass for blocking me\n",
            "8. DUST FILTER AND CALTLAS, IF YOU RVV IT AGAIN! I WILL FUCKIN KILL YOU! I WILL BLOCK YOU, I WILL BLANK YOUR TALK PAGE, I WILL STEAL YOUR PASSWORD, I WILL TAKE OVER YOU! I WILL BLOCK YOU! \n",
            "\n",
            "DUST FILTER AND CALTLAS, IF YOU RVV IT AGAIN! I WILL FUCKIN KILL YOU! I WILL BLOCK YOU, I WILL BLANK YOUR TALK PAGE, I WILL STEAL YOUR PASSWORD, I WILL TAKE OVER YOU! I WILL BLOCK YOU! \n",
            "\n",
            "DUST FILTER AND CALTLAS, IF YOU RVV IT AGAIN! I WILL FUCKIN KILL YOU! I WILL BLOCK YOU, I WILL BLANK YOUR TALK PAGE, I WILL STEAL YOUR PASSWORD, I WILL TAKE OVER YOU! I WILL BLOCK YOU! \n",
            "\n",
            "DUST FILTER AND CALTLAS, IF YOU RVV IT AGAIN! I WILL FUCKIN KILL YOU! I WILL BLOCK YOU, I WILL BLANK YOUR TALK PAGE, I WILL STEAL YOUR PASSWORD, I WILL TAKE OVER YOU! I WILL BLOCK YOU! \n",
            "\n",
            "DUST FILTER AND CALTLAS, IF YOU RVV IT AGAIN! I WILL FUCKIN KILL YOU! I WILL BLOCK YOU, I WILL BLANK YOUR TALK PAGE, I WILL STEAL YOUR PASSWORD, I WILL TAKE OVER YOU! I WILL BLOCK YOU! \n",
            "\n",
            "DUST FILTER AND CALTLAS, IF YOU RVV IT AGAIN! I WILL FUCKIN KILL YOU! I WILL BLOCK YOU, I WILL BLANK YOUR TALK PAGE, I WILL STEAL YOUR PASSWORD, I WILL TAKE OVER YOU! I WILL BLOCK YOU! \n",
            "\n",
            "DUST FILTER AND CALTLAS, IF YOU RVV IT AGAIN! I WILL FUCKIN KILL YOU! I WILL BLOCK YOU, I WILL BLANK YOUR TALK PAGE, I WILL STEAL YOUR PASSWORD, I WILL TAKE OVER YOU! I WILL BLOCK YOU! \n",
            "\n",
            "DUST FILTER AND CALTLAS, IF YOU RVV IT AGAIN! I WILL FUCKIN KILL YOU! I WILL BLOCK YOU, I WILL BLANK YOUR TALK PAGE, I WILL STEAL YOUR PASSWORD, I WILL TAKE OVER YOU! I WILL BLOCK YOU! \n",
            "\n",
            "DUST FILTER AND CALTLAS, IF YOU RVV IT AGAIN! I WILL FUCKIN KILL YOU! I WILL BLOCK YOU, I WILL BLANK YOUR TALK PAGE, I WILL STEAL YOUR PASSWORD, I WILL TAKE OVER YOU! I WILL BLOCK YOU! \n",
            "\n",
            "DUST FILTER AND CALTLAS, IF YOU RVV IT AGAIN! I WILL FUCKIN KILL YOU! I WILL BLOCK YOU, I WILL BLANK YOUR TALK PAGE, I WILL STEAL YOUR PASSWORD, I WILL TAKE OVER YOU! I WILL BLOCK YOU! \n",
            "\n",
            "DUST FILTER AND CALTLAS, IF YOU RVV IT AGAIN! I WILL FUCKIN KILL YOU! I WILL BLOCK YOU, I WILL BLANK YOUR TALK PAGE, I WILL STEAL YOUR PASSWORD, I WILL TAKE OVER YOU! I WILL BLOCK YOU! \n",
            "\n",
            "DUST FILTER AND CALTLAS, IF YOU RVV IT AGAIN! I WILL FUCKIN KILL YOU! I WILL BLOCK YOU, I WILL BLANK YOUR TALK PAGE, I WILL STEAL YOUR PASSWORD, I WILL TAKE OVER YOU! I WILL BLOCK YOU! \n",
            "\n",
            "DUST FILTER AND CALTLAS, IF YOU RVV IT AGAIN! I WILL FUCKIN KILL YOU! I WILL BLOCK YOU, I WILL BLANK YOUR TALK PAGE, I WILL STEAL YOUR PASSWORD, I WILL TAKE OVER YOU! I WILL BLOCK YOU! \n",
            "\n",
            "DUST FILTER AND CALTLAS, IF YOU RVV IT AGAIN! I WILL FUCKIN KILL YOU! I WILL BLOCK YOU, I WILL BLANK YOUR TALK PAGE, I WILL STEAL YOUR PASSWORD, I WILL TAKE OVER YOU! I WILL BLOCK YOU! \n",
            "\n",
            "DUST FILTER AND CALTLAS, IF YOU RVV IT AGAIN! I WILL FUCKIN KILL YOU! I WILL BLOCK YOU, I WILL BLANK YOUR TALK PAGE, I WILL STEAL YOUR PASSWORD, I WILL TAKE OVER YOU! I WILL BLOCK YOU! \n",
            "\n",
            "DUST FILTER AND CALTLAS, IF YOU RVV IT AGAIN! I WILL FUCKIN KILL YOU! I WILL BLOCK YOU, I WILL BLANK YOUR TALK PAGE, I WILL STEAL YOUR PASSWORD, I WILL TAKE OVER YOU! I WILL BLOCK YOU! \n",
            "\n",
            "DUST FILTER AND CALTLAS, IF YOU RVV IT AGAIN! I WILL FUCKIN KILL YOU! I WILL BLOCK YOU, I WILL BLANK YOUR TALK PAGE, I WILL STEAL YOUR PASSWORD, I WILL TAKE OVER YOU! I WILL BLOCK YOU! \n",
            "\n",
            "DUST FILTER AND CALTLAS, IF YOU RVV IT AGAIN! I WILL FUCKIN KILL YOU! I WILL BLOCK YOU, I WILL BLANK YOUR TALK PAGE, I WILL STEAL YOUR PASSWORD, I WILL TAKE OVER YOU! I WILL BLOCK YOU! \n",
            "\n",
            "DUST FILTER AND CALTLAS, IF YOU RVV IT AGAIN! I WILL FUCKIN KILL YOU! I WILL BLOCK YOU, I WILL BLANK YOUR TALK PAGE, I WILL STEAL YOUR PASSWORD, I WILL TAKE OVER YOU! I WILL BLOCK YOU! \n",
            "\n",
            "DUST FILTER AND CALTLAS, IF YOU RVV IT AGAIN! I WILL FUCKIN KILL YOU! I WILL BLOCK YOU, I WILL BLANK YOUR TALK PAGE, I WILL STEAL YOUR PASSWORD, I WILL TAKE OVER YOU! I WILL BLOCK YOU! \n",
            "\n",
            "DUST FILTER AND CALTLAS, IF YOU RVV IT AGAIN! I WILL FUCKIN KILL YOU! I WILL BLOCK YOU, I WILL BLANK YOUR TALK PAGE, I WILL STEAL YOUR PASSWORD, I WILL TAKE OVER YOU! I WILL BLOCK YOU! \n",
            "\n",
            "DUST FILTER AND CALTLAS, IF YOU RVV IT AGAIN! I WILL FUCKIN KILL YOU! I WILL BLOCK YOU, I WILL BLANK YOUR TALK PAGE, I WILL STEAL YOUR PASSWORD, I WILL TAKE OVER YOU! I WILL BLOCK YOU! \n",
            "\n",
            "DUST FILTER AND CALTLAS, IF YOU RVV IT AGAIN! I WILL FUCKIN KILL YOU! I WILL BLOCK YOU, I WILL BLANK YOUR TALK PAGE, I WILL STEAL YOUR PASSWORD, I WILL TAKE OVER YOU! I WILL BLOCK YOU! \n",
            "\n",
            "DUST FILTER AND CALTLAS, IF YOU RVV IT AGAIN! I WILL FUCKIN KILL YOU! I WILL BLOCK YOU, I WILL BLANK YOUR TALK PAGE, I WILL STEAL YOUR PASSWORD, I WILL TAKE OVER YOU! I WILL BLOCK YOU! \n",
            "\n",
            "DUST FILTER AND CALTLAS, IF YOU RVV IT AGAIN! I W\n",
            "9. AN UGLY CHILD AND I WILL KILL YOU LIKE A CAT IN A BOX.....maybe.\n",
            "10. You are a gay homo. I hope you choke on your penis and die. I am sending a big bleck guy to jizz in your face.\n",
            "\n",
            "--------------------------------------------------\n",
            "\n",
            "Label: insult\n",
            "1. FUCK YOU ALL, LOSERS \n",
            "\n",
            "FUCK OFF MY PAGE, FAGS\n",
            "2. What are you retarded? I already am blocked. What a fucking moron.\n",
            "3. Hey Fat and Beardy \n",
            "\n",
            "I check the Sock Puppet page a few times a year to make sure your retarded, fat ass has not put the WikiTan image back. You are sticky with pocky, you are sad and fat and beardy and I beat you like a retarded dog. I just want you to never, ever forget the time you reverted my change and I kicked your tubby ass. Never forget that, Ned, ever. You can run around Wikipedia with your fellow Simpsons CP obesessives for the rest of your life but don't forget, I kicked your anime ass off a page and made Wikipedia better for it.\n",
            "4. <-WHAT A FAGGOT, I'M GLAD HE'S DEAD!!!\n",
            "5. \"All russian are so dumm like you? I mean, you're the best of them. So much to call \"\"russia\"\" a nation...more like rabbits...\n",
            "\n",
            "\"\n",
            "6. JD IS A RAGING HOMOSEXUAL FAGGOT WHO SHOULD BE EATEN ALIVE BY A PACK OF RABID BABOONS.\n",
            "7. On another note,  FUCK U DR NICK YOU POOFY FUCK.\n",
            "8. nigger dick shit \n",
            "\n",
            "YOU ARE A BIG NIGGER DICK SHIT\n",
            "9. \"\n",
            "\n",
            "don't be a dumbfuck\n",
            "The \"\"Pedigree\"\" or Double Underhook Facebuster is not an actual facebuster; it is a DDT because it incorporates a headlock. Stop being a dumbfuck fanboi and stop reverting.\"\n",
            "10. one. ==\n",
            "\n",
            " translation: You are an impotent fucker.\n",
            "\n",
            "--------------------------------------------------\n",
            "\n",
            "Label: identity_hate\n",
            "1. REDIRECT Talk:Bolivian chinchilla rat\n",
            "2. TO SITUSH(PAKISTANI  PIG) \n",
            "\n",
            "What  is your problem, you bloody muslim pakistani, why the hell are you jealous of HINDUS and SIKHS ???\n",
            "\n",
            "you born out of shit of a pig just stay away from this article...we don't prefer pakistani muslim pigs touching this pious article.\n",
            "3. Bloody asshole \n",
            "\n",
            "You are a bloody asshole and fucking hijra, chootiya and if you block then remember i will hack your account and find you. i will beat you so hard that you will remember.\n",
            "4. Fuck off you right wing nazi scum. BTW your crazy religion is a myth.\n",
            "5. MUST BE A ASS BUDDY OF CRUISERFAGGOT\n",
            "6. You cant block me you fucking retard. BRB nigger\n",
            "7. Oh yes, john let us all join the hate fest against turks. Remember Turks are evil and Turkiye should be nuked...Yesssssss\n",
            "8. FAKE BLOCKING \n",
            "\n",
            "EARLIER THAT BLOCK WAS FAKE IF YOU KNOW SO MUCH CAN YOU PLEASE STOP TOUCHING MY STUFF OR I AM GOING TO NEVER GET ON WIKIPEDIA EVER AGAIN I AM GOING TO CALL YOU GAY 10 TIMES A DAY NNNNNNNNNNNNNNNNNNNNNNNNNNIIIIIIIIIIIIIIIIIIIIIGGGGGGGGGGGGGGGGGGGGGGGGAAAAAAAAAAAAAAAAAAAAA.\n",
            "9. WHY THE FUCK DO U EDIT MY CONTRIB. TO WIKI ABOUT THE IRANIAN ARMY? THEY MUST DIE U KNOW!! STUPID TERRORISTS...THEY'RE LIVING ON ISRAELI SOIL CALLED ASIA-AFRICA WHICH SHOULD BE FOR ISRAELIS ONLY AND MUSLIM FREE\n",
            "10. don't fuck with Meno25! \n",
            "\n",
            "You're a retarded twat, virgin in every cool thing and soon to be banned from the \n",
            "English Wikipedia.\n",
            "\n",
            "--------------------------------------------------\n",
            "\n"
          ]
        }
      ]
    },
    {
      "cell_type": "code",
      "source": [
        "# Print the positive comments\n",
        "print(\"Label: sum_injurious == 0 (Positive Comment)\")\n",
        "sample_positive_comments = df[df['sum_injurious'] == 0].sample(n=num_samples_per_label, random_state=RANDOM_SEED)['comment_text']\n",
        "for i, comment in enumerate(sample_positive_comments, 1):\n",
        "    print(f\"{i}. {comment}\")\n",
        "print(\"\\n\" + \"-\"*50 + \"\\n\")"
      ],
      "metadata": {
        "colab": {
          "base_uri": "https://localhost:8080/"
        },
        "id": "d6Q9zmCWA3y6",
        "outputId": "8bda876a-7631-497e-a175-7e731d99a73e"
      },
      "id": "d6Q9zmCWA3y6",
      "execution_count": 25,
      "outputs": [
        {
          "output_type": "stream",
          "name": "stdout",
          "text": [
            "Label: sum_injurious == 0 (Positive Comment)\n",
            "1. \"I do not understand this sentence: \"\"Several authors have criticised the historical inaccuracies perpetrated upon Auschwitz [...]\"\" It sounds a bit like Colorless green ideas sleep furiously to me. Can an innaccuracy be perpetrated?\n",
            "\n",
            "Perhaps some elaboration is necessary to, because we don't know what innacuracies these are.branko\n",
            "\"\n",
            "2. \"\n",
            "Thanks. I don't really mind the attacks. My neighbor has a small yappy dog so I'm used to this kind of noise. ''' - talk''' \"\n",
            "3. \", 29 October 2007 (UTC)\n",
            "\n",
            "This is a \"\"spinout\"\" article, and therefore not a violation of POV fork. The other two articles, Militia and a spinoff from it, Militia (United States), have been gathering too much wordage about the constitutional militia movement, which is unbalancing them. The movement is distinct from what the movement is about. Of course, it is \"\"related\"\" to the broader articles, and there are links back to them, but there is enough material peculiar to the movement that justifies a separate article on it, and the moving of most of the content on the movement to the movement article from the other two articles.\n",
            " 14:21\"\n",
            "4. 2010 Formula One season\n",
            "5. \"Welcome!\n",
            "\n",
            " \n",
            "\n",
            "Hello, , to Wikipedia! I'm , one of the thousands of editors at Wikipedia - I am also an Administrator. I hope you like the place and decide to stay; here are some helpful links for newcomers:\n",
            "\n",
            "    The five pillars of Wikipedia\n",
            "    How to edit a page\n",
            "    Help pages\n",
            "    Tutorial\n",
            "    How to write a great article\n",
            "    Manual of Style\n",
            "    Fun stuff...\n",
            "\n",
            "You will get more from the site if you spend a few moments reading the above - I hope you enjoy editing here and being a Wikipedian! Please sign your name on talk pages using four tildes (~~~~); this will automatically produce your name and the date. If you need help, check out Wikipedia:Where to ask a question, ask me on my talk page, or type {{helpme}} on your talk page and someone will show up shortly to answer your questions! Also tell the community a little about yourself on your User page - again, welcome to the Wiki!  (Whisper...)\"\n",
            "6. \"\n",
            "(outdent) Please don't feed the trolls by responding to Zixingche.  This user (judging by his contributions) does not spend any time working on articles or anything else for the project, and just comes here from time to time to pick fights.  It's in the article's best interest just to ignore him and not respond. '''''' talk/contribs \"\n",
            "7. and HighBeam Research\n",
            "8. REDIRECT Talk:Getting It: The Psychology of est/Archive 1\n",
            "9. . But the whole thing was explained and alternative statistic were entered\n",
            "10. \"\n",
            "Isn't it irritating when someone answers their own question?  I just saw this in the heading of Talk:The Beatles. \"\"Consensus per the closures of this RfC and this RfM is to use \"\"the Beatles\"\" mid-sentence.\"\"   \"\n",
            "\n",
            "--------------------------------------------------\n",
            "\n"
          ]
        }
      ]
    },
    {
      "cell_type": "markdown",
      "source": [
        "Showing 10 random comments fo each label and for comments that haven't associated label, it is possible to notice that they are **badly formatted** and there are a lot of **punctuation and stop words to be deleted**."
      ],
      "metadata": {
        "id": "MqPdjXTMa8tW"
      },
      "id": "MqPdjXTMa8tW"
    },
    {
      "cell_type": "markdown",
      "source": [
        "## 5.3 Dataset Balance Analysis"
      ],
      "metadata": {
        "id": "c8kDmGdxbiuf"
      },
      "id": "c8kDmGdxbiuf"
    },
    {
      "cell_type": "markdown",
      "source": [
        "Lets try to understand the balance of dataset and check the amont of samples for each label."
      ],
      "metadata": {
        "id": "WhldAA5AboTF"
      },
      "id": "WhldAA5AboTF"
    },
    {
      "cell_type": "code",
      "source": [
        "# Plot the classes distribution\n",
        "plot_distribution_barplot(df, LABELS)"
      ],
      "metadata": {
        "colab": {
          "base_uri": "https://localhost:8080/",
          "height": 625
        },
        "id": "IIcGvQ6fKogX",
        "outputId": "e54adab0-1e4b-4372-977f-553746a1af4d"
      },
      "id": "IIcGvQ6fKogX",
      "execution_count": 26,
      "outputs": [
        {
          "output_type": "display_data",
          "data": {
            "text/plain": [
              "<Figure size 1000x600 with 1 Axes>"
            ],
            "image/png": "[encoded data removed]"
          },
          "metadata": {}
        }
      ]
    },
    {
      "cell_type": "markdown",
      "source": [
        "As shown by histogram the dataset is completely unbalanced.\n",
        "The minor classes are severe_toxic, threat and identity_hate.\n",
        "For toxic label there are huge amount of sampler compared with other labels."
      ],
      "metadata": {
        "id": "pKX4UT8yM4G1"
      },
      "id": "pKX4UT8yM4G1"
    },
    {
      "cell_type": "markdown",
      "source": [
        "The dataset at the currently status **is not good for a AI model training**.\n",
        "This could generate a bad metrics for minority labels and hard recognization for them.\n",
        "\n",
        "It needs to be more balanced."
      ],
      "metadata": {
        "id": "rpKSts-cb8Jo"
      },
      "id": "rpKSts-cb8Jo"
    },
    {
      "cell_type": "markdown",
      "source": [
        "The algorithms for implement ad oversampling or undersampling d**o not support the multilabel classification** and then it is **not possible to generate synthetic data to balance the dataset**.\n",
        "\n",
        "Currently, there is an open issue on GitHub for scikit-learn for adding the **MLSMOTE** to the official library at following link: https://github.com/scikit-learn-contrib/imbalanced-learn/pull/927"
      ],
      "metadata": {
        "id": "QS8dp9NEeKoV"
      },
      "id": "QS8dp9NEeKoV"
    },
    {
      "cell_type": "markdown",
      "source": [
        "So another way to balance the dataset is required.\n",
        "\n",
        "Exploring on internet, as mentioned by following article (https://medium.com/gumgum-tech/creating-a-balanced-multi-label-dataset-for-machine-learning-9945abad2616), in multilabel classification is important to study the correlation and conditional probability between the labels that because each sample could be associated to more than one label and then the statistic relationship between labels could be explained by dataset with a minor number of sample.  "
      ],
      "metadata": {
        "id": "Jh1XBa8od7ct"
      },
      "id": "Jh1XBa8od7ct"
    },
    {
      "cell_type": "code",
      "source": [
        "# Correlation plot for labels\n",
        "corr = df[LABELS].corr()\n",
        "corr.style.background_gradient(cmap='coolwarm')"
      ],
      "metadata": {
        "colab": {
          "base_uri": "https://localhost:8080/",
          "height": 238
        },
        "id": "_G1oGLvrMZgI",
        "outputId": "f32b1f5b-5ac5-4a55-996a-5969bdfa9824"
      },
      "id": "_G1oGLvrMZgI",
      "execution_count": 27,
      "outputs": [
        {
          "output_type": "execute_result",
          "data": {
            "text/plain": [
              "<pandas.io.formats.style.Styler at 0x781d1da41ed0>"
            ],
            "text/html": [
              "<style type=\"text/css\">\n",
              "#T_fda8a_row0_col0, #T_fda8a_row1_col1, #T_fda8a_row2_col2, #T_fda8a_row3_col3, #T_fda8a_row4_col4, #T_fda8a_row5_col5 {\n",
              "  background-color: #b40426;\n",
              "  color: #f1f1f1;\n",
              "}\n",
              "#T_fda8a_row0_col1 {\n",
              "  background-color: #80a3fa;\n",
              "  color: #f1f1f1;\n",
              "}\n",
              "#T_fda8a_row0_col2 {\n",
              "  background-color: #f4c5ad;\n",
              "  color: #000000;\n",
              "}\n",
              "#T_fda8a_row0_col3 {\n",
              "  background-color: #4961d2;\n",
              "  color: #f1f1f1;\n",
              "}\n",
              "#T_fda8a_row0_col4 {\n",
              "  background-color: #efcebd;\n",
              "  color: #000000;\n",
              "}\n",
              "#T_fda8a_row0_col5, #T_fda8a_row5_col2 {\n",
              "  background-color: #7093f3;\n",
              "  color: #f1f1f1;\n",
              "}\n",
              "#T_fda8a_row1_col0 {\n",
              "  background-color: #7597f6;\n",
              "  color: #f1f1f1;\n",
              "}\n",
              "#T_fda8a_row1_col2 {\n",
              "  background-color: #a1c0ff;\n",
              "  color: #000000;\n",
              "}\n",
              "#T_fda8a_row1_col3 {\n",
              "  background-color: #3d50c3;\n",
              "  color: #f1f1f1;\n",
              "}\n",
              "#T_fda8a_row1_col4 {\n",
              "  background-color: #93b5fe;\n",
              "  color: #000000;\n",
              "}\n",
              "#T_fda8a_row1_col5 {\n",
              "  background-color: #5977e3;\n",
              "  color: #f1f1f1;\n",
              "}\n",
              "#T_fda8a_row2_col0 {\n",
              "  background-color: #f3c7b1;\n",
              "  color: #000000;\n",
              "}\n",
              "#T_fda8a_row2_col1 {\n",
              "  background-color: #a5c3fe;\n",
              "  color: #000000;\n",
              "}\n",
              "#T_fda8a_row2_col3 {\n",
              "  background-color: #4358cb;\n",
              "  color: #f1f1f1;\n",
              "}\n",
              "#T_fda8a_row2_col4, #T_fda8a_row4_col2 {\n",
              "  background-color: #f7ad90;\n",
              "  color: #000000;\n",
              "}\n",
              "#T_fda8a_row2_col5 {\n",
              "  background-color: #799cf8;\n",
              "  color: #f1f1f1;\n",
              "}\n",
              "#T_fda8a_row3_col0, #T_fda8a_row3_col1, #T_fda8a_row3_col2, #T_fda8a_row3_col4, #T_fda8a_row3_col5, #T_fda8a_row5_col3 {\n",
              "  background-color: #3b4cc0;\n",
              "  color: #f1f1f1;\n",
              "}\n",
              "#T_fda8a_row4_col0 {\n",
              "  background-color: #efcfbf;\n",
              "  color: #000000;\n",
              "}\n",
              "#T_fda8a_row4_col1 {\n",
              "  background-color: #9abbff;\n",
              "  color: #000000;\n",
              "}\n",
              "#T_fda8a_row4_col3 {\n",
              "  background-color: #465ecf;\n",
              "  color: #f1f1f1;\n",
              "}\n",
              "#T_fda8a_row4_col5 {\n",
              "  background-color: #8db0fe;\n",
              "  color: #000000;\n",
              "}\n",
              "#T_fda8a_row5_col0 {\n",
              "  background-color: #6384eb;\n",
              "  color: #f1f1f1;\n",
              "}\n",
              "#T_fda8a_row5_col1 {\n",
              "  background-color: #5572df;\n",
              "  color: #f1f1f1;\n",
              "}\n",
              "#T_fda8a_row5_col4 {\n",
              "  background-color: #82a6fb;\n",
              "  color: #f1f1f1;\n",
              "}\n",
              "</style>\n",
              "<table id=\"T_fda8a\" class=\"dataframe\">\n",
              "  <thead>\n",
              "    <tr>\n",
              "      <th class=\"blank level0\" >&nbsp;</th>\n",
              "      <th id=\"T_fda8a_level0_col0\" class=\"col_heading level0 col0\" >toxic</th>\n",
              "      <th id=\"T_fda8a_level0_col1\" class=\"col_heading level0 col1\" >severe_toxic</th>\n",
              "      <th id=\"T_fda8a_level0_col2\" class=\"col_heading level0 col2\" >obscene</th>\n",
              "      <th id=\"T_fda8a_level0_col3\" class=\"col_heading level0 col3\" >threat</th>\n",
              "      <th id=\"T_fda8a_level0_col4\" class=\"col_heading level0 col4\" >insult</th>\n",
              "      <th id=\"T_fda8a_level0_col5\" class=\"col_heading level0 col5\" >identity_hate</th>\n",
              "    </tr>\n",
              "  </thead>\n",
              "  <tbody>\n",
              "    <tr>\n",
              "      <th id=\"T_fda8a_level0_row0\" class=\"row_heading level0 row0\" >toxic</th>\n",
              "      <td id=\"T_fda8a_row0_col0\" class=\"data row0 col0\" >1.000000</td>\n",
              "      <td id=\"T_fda8a_row0_col1\" class=\"data row0 col1\" >0.308619</td>\n",
              "      <td id=\"T_fda8a_row0_col2\" class=\"data row0 col2\" >0.676515</td>\n",
              "      <td id=\"T_fda8a_row0_col3\" class=\"data row0 col3\" >0.157058</td>\n",
              "      <td id=\"T_fda8a_row0_col4\" class=\"data row0 col4\" >0.647518</td>\n",
              "      <td id=\"T_fda8a_row0_col5\" class=\"data row0 col5\" >0.266009</td>\n",
              "    </tr>\n",
              "    <tr>\n",
              "      <th id=\"T_fda8a_level0_row1\" class=\"row_heading level0 row1\" >severe_toxic</th>\n",
              "      <td id=\"T_fda8a_row1_col0\" class=\"data row1 col0\" >0.308619</td>\n",
              "      <td id=\"T_fda8a_row1_col1\" class=\"data row1 col1\" >1.000000</td>\n",
              "      <td id=\"T_fda8a_row1_col2\" class=\"data row1 col2\" >0.403014</td>\n",
              "      <td id=\"T_fda8a_row1_col3\" class=\"data row1 col3\" >0.123601</td>\n",
              "      <td id=\"T_fda8a_row1_col4\" class=\"data row1 col4\" >0.375807</td>\n",
              "      <td id=\"T_fda8a_row1_col5\" class=\"data row1 col5\" >0.201600</td>\n",
              "    </tr>\n",
              "    <tr>\n",
              "      <th id=\"T_fda8a_level0_row2\" class=\"row_heading level0 row2\" >obscene</th>\n",
              "      <td id=\"T_fda8a_row2_col0\" class=\"data row2 col0\" >0.676515</td>\n",
              "      <td id=\"T_fda8a_row2_col1\" class=\"data row2 col1\" >0.403014</td>\n",
              "      <td id=\"T_fda8a_row2_col2\" class=\"data row2 col2\" >1.000000</td>\n",
              "      <td id=\"T_fda8a_row2_col3\" class=\"data row2 col3\" >0.141179</td>\n",
              "      <td id=\"T_fda8a_row2_col4\" class=\"data row2 col4\" >0.741272</td>\n",
              "      <td id=\"T_fda8a_row2_col5\" class=\"data row2 col5\" >0.286867</td>\n",
              "    </tr>\n",
              "    <tr>\n",
              "      <th id=\"T_fda8a_level0_row3\" class=\"row_heading level0 row3\" >threat</th>\n",
              "      <td id=\"T_fda8a_row3_col0\" class=\"data row3 col0\" >0.157058</td>\n",
              "      <td id=\"T_fda8a_row3_col1\" class=\"data row3 col1\" >0.123601</td>\n",
              "      <td id=\"T_fda8a_row3_col2\" class=\"data row3 col2\" >0.141179</td>\n",
              "      <td id=\"T_fda8a_row3_col3\" class=\"data row3 col3\" >1.000000</td>\n",
              "      <td id=\"T_fda8a_row3_col4\" class=\"data row3 col4\" >0.150022</td>\n",
              "      <td id=\"T_fda8a_row3_col5\" class=\"data row3 col5\" >0.115128</td>\n",
              "    </tr>\n",
              "    <tr>\n",
              "      <th id=\"T_fda8a_level0_row4\" class=\"row_heading level0 row4\" >insult</th>\n",
              "      <td id=\"T_fda8a_row4_col0\" class=\"data row4 col0\" >0.647518</td>\n",
              "      <td id=\"T_fda8a_row4_col1\" class=\"data row4 col1\" >0.375807</td>\n",
              "      <td id=\"T_fda8a_row4_col2\" class=\"data row4 col2\" >0.741272</td>\n",
              "      <td id=\"T_fda8a_row4_col3\" class=\"data row4 col3\" >0.150022</td>\n",
              "      <td id=\"T_fda8a_row4_col4\" class=\"data row4 col4\" >1.000000</td>\n",
              "      <td id=\"T_fda8a_row4_col5\" class=\"data row4 col5\" >0.337736</td>\n",
              "    </tr>\n",
              "    <tr>\n",
              "      <th id=\"T_fda8a_level0_row5\" class=\"row_heading level0 row5\" >identity_hate</th>\n",
              "      <td id=\"T_fda8a_row5_col0\" class=\"data row5 col0\" >0.266009</td>\n",
              "      <td id=\"T_fda8a_row5_col1\" class=\"data row5 col1\" >0.201600</td>\n",
              "      <td id=\"T_fda8a_row5_col2\" class=\"data row5 col2\" >0.286867</td>\n",
              "      <td id=\"T_fda8a_row5_col3\" class=\"data row5 col3\" >0.115128</td>\n",
              "      <td id=\"T_fda8a_row5_col4\" class=\"data row5 col4\" >0.337736</td>\n",
              "      <td id=\"T_fda8a_row5_col5\" class=\"data row5 col5\" >1.000000</td>\n",
              "    </tr>\n",
              "  </tbody>\n",
              "</table>\n"
            ]
          },
          "metadata": {},
          "execution_count": 27
        }
      ]
    },
    {
      "cell_type": "markdown",
      "source": [
        "As shown by the correlation matrix the labels toxic, obscene and insult are strongly correlated between them and explain the probability of one label occurring for the same input as another\n",
        "\n",
        "This data suggests that these labels could be explained from one of them and taking one sample with toxic"
      ],
      "metadata": {
        "id": "I12aBC1MNAIB"
      },
      "id": "I12aBC1MNAIB"
    },
    {
      "cell_type": "markdown",
      "source": [
        "At this point, lets study the conditional probability between labels in order to understand the probability of selecting a sample with specific label appears the other ones."
      ],
      "metadata": {
        "id": "6mWusfW9hutW"
      },
      "id": "6mWusfW9hutW"
    },
    {
      "cell_type": "code",
      "source": [
        "# Conditional probability matrix\n",
        "cooc_norm = build_conditional_prob_matrix(df, LABELS)\n",
        "cooc_df = pd.DataFrame(cooc_norm, columns = LABELS, index = LABELS)\n",
        "cooc_df.style.background_gradient(cmap = 'coolwarm')"
      ],
      "metadata": {
        "colab": {
          "base_uri": "https://localhost:8080/",
          "height": 238
        },
        "id": "VKk9kfI1P8-h",
        "outputId": "b2f38193-18d8-4863-fb32-ca2fa6bb8d17"
      },
      "id": "VKk9kfI1P8-h",
      "execution_count": 28,
      "outputs": [
        {
          "output_type": "execute_result",
          "data": {
            "text/plain": [
              "<pandas.io.formats.style.Styler at 0x781c8c2bfc10>"
            ],
            "text/html": [
              "<style type=\"text/css\">\n",
              "#T_fb549_row0_col0, #T_fb549_row0_col1, #T_fb549_row1_col1, #T_fb549_row2_col2, #T_fb549_row3_col3, #T_fb549_row4_col4, #T_fb549_row5_col5 {\n",
              "  background-color: #b40426;\n",
              "  color: #f1f1f1;\n",
              "}\n",
              "#T_fb549_row0_col2 {\n",
              "  background-color: #cb3e38;\n",
              "  color: #f1f1f1;\n",
              "}\n",
              "#T_fb549_row0_col3 {\n",
              "  background-color: #cf453c;\n",
              "  color: #f1f1f1;\n",
              "}\n",
              "#T_fb549_row0_col4 {\n",
              "  background-color: #cd423b;\n",
              "  color: #f1f1f1;\n",
              "}\n",
              "#T_fb549_row0_col5 {\n",
              "  background-color: #d0473d;\n",
              "  color: #f1f1f1;\n",
              "}\n",
              "#T_fb549_row1_col0 {\n",
              "  background-color: #516ddb;\n",
              "  color: #f1f1f1;\n",
              "}\n",
              "#T_fb549_row1_col2 {\n",
              "  background-color: #6a8bef;\n",
              "  color: #f1f1f1;\n",
              "}\n",
              "#T_fb549_row1_col3 {\n",
              "  background-color: #455cce;\n",
              "  color: #f1f1f1;\n",
              "}\n",
              "#T_fb549_row1_col4 {\n",
              "  background-color: #6687ed;\n",
              "  color: #f1f1f1;\n",
              "}\n",
              "#T_fb549_row1_col5 {\n",
              "  background-color: #6f92f3;\n",
              "  color: #f1f1f1;\n",
              "}\n",
              "#T_fb549_row2_col0 {\n",
              "  background-color: #dddcdc;\n",
              "  color: #000000;\n",
              "}\n",
              "#T_fb549_row2_col1 {\n",
              "  background-color: #c73635;\n",
              "  color: #f1f1f1;\n",
              "}\n",
              "#T_fb549_row2_col3 {\n",
              "  background-color: #e5d8d1;\n",
              "  color: #000000;\n",
              "}\n",
              "#T_fb549_row2_col4 {\n",
              "  background-color: #f29072;\n",
              "  color: #f1f1f1;\n",
              "}\n",
              "#T_fb549_row2_col5 {\n",
              "  background-color: #f7a889;\n",
              "  color: #000000;\n",
              "}\n",
              "#T_fb549_row3_col0, #T_fb549_row3_col1, #T_fb549_row3_col2, #T_fb549_row3_col4, #T_fb549_row3_col5, #T_fb549_row5_col3 {\n",
              "  background-color: #3b4cc0;\n",
              "  color: #f1f1f1;\n",
              "}\n",
              "#T_fb549_row4_col0 {\n",
              "  background-color: #d3dbe7;\n",
              "  color: #000000;\n",
              "}\n",
              "#T_fb549_row4_col1 {\n",
              "  background-color: #e36c55;\n",
              "  color: #f1f1f1;\n",
              "}\n",
              "#T_fb549_row4_col2 {\n",
              "  background-color: #f7a688;\n",
              "  color: #000000;\n",
              "}\n",
              "#T_fb549_row4_col3 {\n",
              "  background-color: #e9d5cb;\n",
              "  color: #000000;\n",
              "}\n",
              "#T_fb549_row4_col5 {\n",
              "  background-color: #eb7d62;\n",
              "  color: #f1f1f1;\n",
              "}\n",
              "#T_fb549_row5_col0 {\n",
              "  background-color: #4b64d5;\n",
              "  color: #f1f1f1;\n",
              "}\n",
              "#T_fb549_row5_col1 {\n",
              "  background-color: #6485ec;\n",
              "  color: #f1f1f1;\n",
              "}\n",
              "#T_fb549_row5_col2 {\n",
              "  background-color: #5572df;\n",
              "  color: #f1f1f1;\n",
              "}\n",
              "#T_fb549_row5_col4 {\n",
              "  background-color: #5d7ce6;\n",
              "  color: #f1f1f1;\n",
              "}\n",
              "</style>\n",
              "<table id=\"T_fb549\" class=\"dataframe\">\n",
              "  <thead>\n",
              "    <tr>\n",
              "      <th class=\"blank level0\" >&nbsp;</th>\n",
              "      <th id=\"T_fb549_level0_col0\" class=\"col_heading level0 col0\" >toxic</th>\n",
              "      <th id=\"T_fb549_level0_col1\" class=\"col_heading level0 col1\" >severe_toxic</th>\n",
              "      <th id=\"T_fb549_level0_col2\" class=\"col_heading level0 col2\" >obscene</th>\n",
              "      <th id=\"T_fb549_level0_col3\" class=\"col_heading level0 col3\" >threat</th>\n",
              "      <th id=\"T_fb549_level0_col4\" class=\"col_heading level0 col4\" >insult</th>\n",
              "      <th id=\"T_fb549_level0_col5\" class=\"col_heading level0 col5\" >identity_hate</th>\n",
              "    </tr>\n",
              "  </thead>\n",
              "  <tbody>\n",
              "    <tr>\n",
              "      <th id=\"T_fb549_level0_row0\" class=\"row_heading level0 row0\" >toxic</th>\n",
              "      <td id=\"T_fb549_row0_col0\" class=\"data row0 col0\" >1.000000</td>\n",
              "      <td id=\"T_fb549_row0_col1\" class=\"data row0 col1\" >1.000000</td>\n",
              "      <td id=\"T_fb549_row0_col2\" class=\"data row0 col2\" >0.938099</td>\n",
              "      <td id=\"T_fb549_row0_col3\" class=\"data row0 col3\" >0.939331</td>\n",
              "      <td id=\"T_fb549_row0_col4\" class=\"data row0 col4\" >0.932335</td>\n",
              "      <td id=\"T_fb549_row0_col5\" class=\"data row0 col5\" >0.926690</td>\n",
              "    </tr>\n",
              "    <tr>\n",
              "      <th id=\"T_fb549_level0_row1\" class=\"row_heading level0 row1\" >severe_toxic</th>\n",
              "      <td id=\"T_fb549_row1_col0\" class=\"data row1 col0\" >0.104289</td>\n",
              "      <td id=\"T_fb549_row1_col1\" class=\"data row1 col1\" >1.000000</td>\n",
              "      <td id=\"T_fb549_row1_col2\" class=\"data row1 col2\" >0.179548</td>\n",
              "      <td id=\"T_fb549_row1_col3\" class=\"data row1 col3\" >0.234310</td>\n",
              "      <td id=\"T_fb549_row1_col4\" class=\"data row1 col4\" >0.174051</td>\n",
              "      <td id=\"T_fb549_row1_col5\" class=\"data row1 col5\" >0.222776</td>\n",
              "    </tr>\n",
              "    <tr>\n",
              "      <th id=\"T_fb549_level0_row2\" class=\"row_heading level0 row2\" >obscene</th>\n",
              "      <td id=\"T_fb549_row2_col0\" class=\"data row2 col0\" >0.518242</td>\n",
              "      <td id=\"T_fb549_row2_col1\" class=\"data row2 col1\" >0.951097</td>\n",
              "      <td id=\"T_fb549_row2_col2\" class=\"data row2 col2\" >1.000000</td>\n",
              "      <td id=\"T_fb549_row2_col3\" class=\"data row2 col3\" >0.629707</td>\n",
              "      <td id=\"T_fb549_row2_col4\" class=\"data row2 col4\" >0.781389</td>\n",
              "      <td id=\"T_fb549_row2_col5\" class=\"data row2 col5\" >0.734520</td>\n",
              "    </tr>\n",
              "    <tr>\n",
              "      <th id=\"T_fb549_level0_row3\" class=\"row_heading level0 row3\" >threat</th>\n",
              "      <td id=\"T_fb549_row3_col0\" class=\"data row3 col0\" >0.029358</td>\n",
              "      <td id=\"T_fb549_row3_col1\" class=\"data row3 col1\" >0.070219</td>\n",
              "      <td id=\"T_fb549_row3_col2\" class=\"data row3 col2\" >0.035626</td>\n",
              "      <td id=\"T_fb549_row3_col3\" class=\"data row3 col3\" >1.000000</td>\n",
              "      <td id=\"T_fb549_row3_col4\" class=\"data row3 col4\" >0.038974</td>\n",
              "      <td id=\"T_fb549_row3_col5\" class=\"data row3 col5\" >0.069751</td>\n",
              "    </tr>\n",
              "    <tr>\n",
              "      <th id=\"T_fb549_level0_row4\" class=\"row_heading level0 row4\" >insult</th>\n",
              "      <td id=\"T_fb549_row4_col0\" class=\"data row4 col0\" >0.480188</td>\n",
              "      <td id=\"T_fb549_row4_col1\" class=\"data row4 col1\" >0.859561</td>\n",
              "      <td id=\"T_fb549_row4_col2\" class=\"data row4 col2\" >0.728489</td>\n",
              "      <td id=\"T_fb549_row4_col3\" class=\"data row4 col3\" >0.642259</td>\n",
              "      <td id=\"T_fb549_row4_col4\" class=\"data row4 col4\" >1.000000</td>\n",
              "      <td id=\"T_fb549_row4_col5\" class=\"data row4 col5\" >0.825623</td>\n",
              "    </tr>\n",
              "    <tr>\n",
              "      <th id=\"T_fb549_level0_row5\" class=\"row_heading level0 row5\" >identity_hate</th>\n",
              "      <td id=\"T_fb549_row5_col0\" class=\"data row5 col0\" >0.085131</td>\n",
              "      <td id=\"T_fb549_row5_col1\" class=\"data row5 col1\" >0.196238</td>\n",
              "      <td id=\"T_fb549_row5_col2\" class=\"data row5 col2\" >0.122145</td>\n",
              "      <td id=\"T_fb549_row5_col3\" class=\"data row5 col3\" >0.205021</td>\n",
              "      <td id=\"T_fb549_row5_col4\" class=\"data row5 col4\" >0.147264</td>\n",
              "      <td id=\"T_fb549_row5_col5\" class=\"data row5 col5\" >1.000000</td>\n",
              "    </tr>\n",
              "  </tbody>\n",
              "</table>\n"
            ]
          },
          "metadata": {},
          "execution_count": 28
        }
      ]
    },
    {
      "cell_type": "markdown",
      "source": [
        "As shown by conditional probability matrix, selecting a sample with toxic label, it takes for sure also svere_toxic e probably the other ones.\n",
        "The same between obscene and severe_toxic, and identity_hate and insult.\n",
        "\n",
        "Using the conditional probability matrix data it is possible to calculate the NNS (*Non-Negative Least Squares*) to solve the linear equation of matrix.\n",
        "\n",
        "![image.png](data:image/png;base64,iVBORw0KGgoAAAANSUhEUgAAAvoAAACHCAYAAABnPP3jAAAgAElEQVR4Ae2dCbU0N5KFHwRjMARjMARjMARjMARjaAjG0BAGgyn8c77suOkoPUmp3Koqs+6ck5OLFNtVbFK9/v315f8zAm+CwD///PPj77///vEm6lgNI/BSBP7v//7vx3//+99bxoNj/aWuZeE3QuDOeeJGy2RTjIARoPD/8ssvP0haRsMIGIH/IfDbb7/dbvPrWLd3G4FjEbhjnjgWIXOrIsBJ0h9//DE1Xz/99BPN13T9+uuvP/78888fJGsR/vXXX9M3vftuBNYiQJP/n//8Z/aptfSebwTuiAB59ueff77Vyb5j/Y6eapteicAd88Qr8by9bBp8ErGae575cwociTGa/DzGTpL333//3U3a7b3jHAPxHTaVo9yZu2b+El9+RcCPudBFm9klOo8bgWcgQN6l2c+HK8+Qe4aMtbFe04F4hQ/xSqxuiVcOp6htXOIBzjV55bcttHt0zvlJupL/1vjD0TmzxMTvr0fgTnni9WjeWAOSAU07iUyNT8tcGn5O+Um4ulpz/d0ItBAgOcXGsTXli4JGscPnaHjkd02CFQP8ioD8ssjj03dprlbA4alvisAdcuxIrC/Br7pT/vpHAzwSr+QR5oFnbpR5pulnvKXDVto9OkNb6op+1GjyVut/03Rmzmzh4++vR+AOeeL1KN5YAzX5JLPRhKwmSSehN4bHpp2EAEUX32uxxxeZQyGnuMXcqfi1aEa/R1Gf+NZodNpXG/M3I/BMBOSrcX+m6MNkLcX6kqBo7qt/JkpjS+NLnmjxATvm1PKNmvHaGPy20u7RmSae2tqyh3HsyRsW5p6ZM1u6+Pt7IHCHPPEeSN5QCzX2Shgky0h8i9YqQbKTXJzsCZdDAJ+g4T1D8TiN+laoerKO9LdoCpq2sbHg14Py9LCnn8eMwFkI4K+9xm+P3DPjHL22xHq2B/1oaolH1ak8znPUoOYpNxsNrpKOd+WCVqO/hXavzqz1Uu5Br6U5R+bMGnb+9l4IXDlPvBeSN9OGZFE09s1kWjMdejf6NWSu/00nWWdYsiUhHVy0upsYNsA0FtEEnAGBeRqBYQR0OtxqdIcZVSaeGeeI2xLrWU3Ffe/QQRvz2mZI9DEns56ewbTVMG+lFd1WndnYtPSVAeDa2pxojvRwjRYi975fOU/ce2VeaJ1O86UCJy+9xKR5+Q5NK0nmeX6+HgInNwCLhaxE7KiipWRYawokMxqqqdnXN9+NwKsQkD8uNX9b9Ds5zlFpdaxnOyJOu5tubczj5D+Tfy39GvAwuXjZSrtXZw7QkN3b2DEev5YUWv/7elTO/Jejn94ZgYvniXeG9rq6cRqQTwRICr3m57qWWvMtCJzVAKjRjuI8rNpRRSt8/sH3G0pMjT44NMYXP2MjRbtXsBeZeIIR+Pr6wo/OyM9nxTmLtjXW84LHr2pd2yNGp3jNsdbbAGQZtec9tHt0Rhf9KRLNfO0gjQ3fyKHcUTkz4+OcltF4v+cr5on3Q/FGGpGMchIhueTG/0amdk0haYIFRRQMuEeS79LdffCsBkBFbC1+RxWtaJYWfV2neXt8QX+fvGezUOJkfy0R+Yx3/DZ88lCDz4pzlNwa69lA8YjmOQ/Nz7nRz6fcyhlqiql3yvPw5cobg5nh19fXHto9OqMDOin/8IsIOktPbMAevWedy2fZEPqUw5vendM2wfY0oivmiaeB84mC2PnlJgYHicTwEXBQHLT7LZMmWBzZnF0R0LMaAAq2Cu8aXI4qWtEwDDf6uXFYoy9zI76GivISb/vrEkL3Hpf/l7lqr9VnxTl6bY31bFP8uVL3T3fUfNIU58Mr8rj+tzbwCV4zezCloa7F+B7aPTpLOcU7+usCzzWHcfKZIxt95zSt0HveteZXyhPvieRNtCLBkUxkDomtTIQaO/KuRKHktee+9YRLOkQyfzBPpzHPwOJB8Ju9nNUAsGbRbK+yWAlsb9GKTcbipjZ866FxWFIYmnzaFsl2jjEVbzaYS7zyuP01o/GZz2oewxcOA+GsOEfBrbGejVMMRTzmoflZf45HLcmNvjb1xGSrQdacsjHS9y20e3SejYoH5SvVSfTKdbucn9+PyJnOaRnR93++Yp54f1QvrGHtRP9ZzS2J8KhryxJge6dwTCcoo8l0i/wr0JzYAEw/Ra/F4IiihUwVzuDXVCP8Y9Xml/iBjksNh/xMCRjf01hTeDFgfy0A+cDX8JnVvrME1YlxjuhNsV7qrNhvbXJ0OFM2+op1vrfyuXCNxn4WvYcWJlt1lgLoi07wwe6sT2mnaMq7dNhzOOKcVqL63u/y57U1Zsmqk/PEkniPb0WAJJKdgWTQOvXYKuMd6VQUIgl+U5Gk2ioK3yY/4QN67knUW1U8MbA32XNE0QKLKOiLvq5GP8fIKJYUR5pz1o07vxxtafCRdzV/HcXoE+YdGbv685TYMB4G34lxjo6bYr1mnGKpzM3EVmwApgOa/Gc4inVttmt8g99Em8f30IrPFp2hxR50DrvEbvqv4oKprmzrPCk9HJUzYXmFnMbhIesGduTbBMXHPF40T3zM+jzdUJr63NgfWZSebsygwJzU4+fVQcr//Q+kSB5loRlmsHEiMvM6bWTzQJYLo4rG1nuviD4Ijf+RGXK22HNU0Yo/11rUIeyq/v1uaVfrXc1CNOutac3ve/y1yfQDB4j1q8euYnZNoy+arbGd6dbEOS4W+XUxzta4I00M8Us86UJOK04U63EaXhUlPbE1N9Z7aLOgtTpDC9atdUZfne4vrclROTPbc4WcBj5bc2629YrPivmW/9RsEk2O963PSz5Zk+9vJyLA4uZFISH1EuKJqjyNdTSYm/5GXD+JRWF4ms5nCcKO3oU/4B+9ORpbqeOmJHxU0YoCMKLDdHK2ZWN31OnXHn9duSa3nn6H2CUeKb5rf2FSjLbuJ8Y5PjUSZ7t9T9jkegZTxU+vroGLmpqM7R7aEYNaOpPnSjtq/NRw9/LTUTkT+RfLaavjpIbxFb/Jr7Ivj9jRyg/6fnKeGFHRc7YiwCmXHEIJr5c4tsop6eQ8e+8l36V3JcdIgEvTH8ZpEMHr4eONX/CDkYKzAYJNf7d7VNGKk47uZk+xEA3AsInwBjMuxZUwlNwcc0uM9/jrEu9PGr9D7IY/zX511PqdGOeouCnW19qm3BDN+UyupqeXt3Os5xP9PbSzAp2Hls7EfPya0KH+91/0Up6pTZaMPafbV8tpWrdY1xost/520Txx6zV5uXF5l4YyJJhIDsO6kZgiuIZoXvkzkX7yXKOvjKJYlIVEY3e8n9UA0PhGA7sKtiOKFgJjI9v99Uo+ulZPbMPHVGRSEzHZimz8qNd4ZFD2+Gvm8+nPd4hdbRRzM3rEup4V5+i2NdZLu9Cxl7MVJxHbM3mKv+YBTdDoVP8QWphs1ZmcsyLv6M+WZr3zwxE582o5jRo9ml8zVnd5vmKeuAv2b22HAoOkSBEhsNWo9BRnDgEVSbY39W3G9GcbS8WSJM0cigubn0i80721GQJHEisXc8rCBF55XHhDx5VPZjQXfSNwqxhmmcxbsqvKpPERDPCFxvDmz/jLFp85omhJaa0nOOtbvktWXpM83nou+cV6DMVTjedafy15ZP+AV6kf8/nWm8c4eDCn9EXiv8RoiR+YwEvNDH6GbjX+I/qVNuv9brErn6ytoWzecj8rztFla6yXdkQe+pZTmacYw39KOt7JxfyygJ21cTVGMe9hyh7arTqzziN5F/9emiefiTzyYNvoS+lvwrv8PsrvyJxWq7P4HN+xnYvnMkdJV3xG81r5kbl5Xq3OLuU81kq6MBdfFE/yIGPSKd+X+Oa5eg5e1VyvOVvuZ+aJLfqYZgMCOB1Jg4DAkSngrcQo53vWz7IbzGmSRPP9rWHJBCSySPDz50gU1WAEJ/AK3hNNYPeAYU62CnoFOGPwkEDWg+dWMpfMnMDgoeZJfPbckbFUSLbwDxxmW0d5KIFlHHu0rCF44K/lPBUr4V+OsxZbNiMlH/lb+EM5vPgu+rLBzoQ1f2Uc28POaTq8Suz4hq15Hs/yPwj1jK+V/sB7jpU1/NAPfcSfe8l/hF/GovZ8l9gF5xKfmr1rv50V5+ixJtZ78YrdXLU4WtpMRPx/833hBD28a3liD+0enYnJMlalr+7oTXzovXZfmzNrPMpvIbO6FuXc2rvo1+Y01h5css3hD7MuWi+w0XrqW+k7I/lRMnt1Fn1Gcygy8fNcd1r6jfCt4XvFPNGL/ZqNfHsWTUv+Zb9T4HFYJSg18jglF4WYAOI7c7LzX8loEih2KhFId96xUY2HvnOHJmzPn6dneOXA1QS+ixdJLSeaSHKzDjitEh/rIGxbcjNvyWNNanpofO0dfeG5lm5pvhov7Fyam8fBCN9rrUOeq2LCfOGax3nWGuTCwfeWf5T0I+/YCIalr43Qak5Ln56/hq894EuRyVhoTv6GTHxImCz5ImspHx/hxxzJYx3x42ynePFthJ9oe/dWDEFzpdhF14iBnrmrx8D5jDhHkdFYX4pX1Z9sHHrjQ/j1UnyJf86P0Ci2erloK+0endGN9ca2iIPZdPTBbsXRPFB5WJMzK+TVT6/KaSOxKn8r/aGsjcot2cAyPzKGzJyT+JZ5iU+5FjmHsl7hQxM/5GS54pF9UN96fDOP/Hy1PKH46tXqbB/Pz6Ip5d7qHYfDuUkmUQCmO+8kxgimS9uMDSRB7MFWXWWCkJG1gGcMehxU8/Id7FSYcxCLDjzzfD1nHXJS0bhk5nkaO/JOson1P5Lt/M/ulUmsFIJ94M4lPwysp3eNldiKD/hy9XCCljWSL5CEy8Qufq+8r/VXFQoVr3h/MCEKzrQ5pDCpMVFRYnLGruaL4Kd8MMKP+Ylnt1kZ4fdgUOPlDrEbmHXxapi/+PmsOEfwGr2X4pV8oTmsKc/yvUUjY+NI7hQP7qOxDkZbaPfqjH3EgexFZ/RIMfRgOt+VF7fkzAdmJ7+syWmqeTWVsFN1VmtUmfew1iP5UTJbWCNjJEeJPu5z0y8dw4cf1nSEr+jzXTKWamumGX0+M08oJoXViE7PohnRxXNugICCJzdAMoskE0GpT9NdiYTm6WEgXmpNUzmvlgCY05JZ0u99PzOwwUzJea+epq8jEE2MNqIPhS4ohteg5YuFfw/z04nMQmIf5ldH4N9G8+qx28K/Zfea72fGOXo41teshufWEGjVvLLO1jb1yjURQzP7pfzYkjkz+N/DcI5SDBf0X9RBmtbi+zDfTCcZC3k1kww/n50nhhXxRCNwBgIKnsybQNIGoGh2pmlKIpGIMun8s1MeS/zmuQS/mmEFbk/mTHjQA7IqCegQ7sJUdh3C1EyqCFDodEJU4D38p16cblFESwHFiehufgX/YX4F3fwqP5s/xClzL47eMXZZvzhhzKYc8nxmnKOg1qDwvUN0N5P7I7AyVr/9yrN0Ml/Ljz2ZBeLDOarR0MNu/qUuxcgw36zPlfNEtsPPRuDpCJAocsNL4Up/LjIHaVaM0wA1QQQvAahTRQKe8Txfc/VNiUY0xXhVJrSaLz7vfKdxrG2S3lnnK+iGr9SacgpKKiTVvz+VfdGc6bV6KsucvFlFZuGnM33JrzdXRL05JT/RlPc7xG5gnHNOaebbv7OWjvW3X6Z3VrBa83KdDeUf4oR8x5z8pyyj+TE34CUwqrNrclRF12+bYOXPNXyl2x3yhGzx3Qg8HQEacy4EkzhywaKR0JgUK3fV0ZRMCQh6aHKjT9IoG5fYSEwyCeCcqKBHhuTpTpJIGxB9fts7dmcc3lbRiynGpjT7KOrjX/hNNkV/P5y/yT9zA884vpU3u4yXMkb5qSCpWGb5+XmUX6Ypn+8Qu6xbuXalne/+7lh/9xV6b/3w/6U6iwXMybWyrMXMGc2PyFyqs6M5SjmvrM/kUOVVeGl8lG9etTvkiWyPn43AUxEgSAl4go+rFE4TxEXQEmxlA6PmiXE1R2q84Fc2+eKvpNWTKZ3gixzRXuWOjWB3FX2voCfFAn/AN+RzNR/CFsbBP/tRy0YVW82tzRvhR3xwYlWjL78N8INP65r+5Z4rxy5ryWb4irFdrqVjvUTE72sQWKqz8CJO5Gfkq1reW5MfJVM5j3xUxuJAjpp+aa/lPOkL/7IPGOEr/O6UJ2ST70bACNwIAU40ys3RjcyzKUZgEwI0ATQHFPFNDN6QyLH+hotilS6NwB3zxKUXxMobASPwHQESFQ0A9++j/mIEPhMBTibLU76rI+FYv/oKWv93Q+COeeLdMLY+RsAIHIAADcDdmpoDYDGLD0WAPxe8669cjvUPdWqbfTgCd84Th4NlhkbACBgBI2AEjIARMAJGwAgYASNgBIyAETACRsAIGAEjYASMgBEwAkbACBgBI2AEjIARMAJGwAgYASNgBIyAETACRsAIGAEjYASMgBEwAkbACBgBI2AEjIARMAJGwAgYASNgBIyAETACRsAIGAEjYASMgBEwAkbACBgBI2AEjIARMAJGwAgYgYsjwL/vfNd/u/riS2P1T0CAf4P5Tv/V1RMgMksjsBkB15PN0JnQCHxDwPXqGyT+sBYBkjL/dVacaS2t5xuBqyLAf1XRm9urrp71flcEXE/edWWs15URcL06cPU45fvjjz+mxvenn36i8Z2uX3/99ceff/75gyQmcX/99df0Te9XvdPk+7/MetXVs95bESCWf/75Z5/sbwXQdEaggoDrSQUUfzICOxFwvdoJIOQ0+CQoNfc8c9oHuIzR5Ocxdle8//7773Pjf4AaT2eB/mxsjhIMrzX8+BUBLLnQRRuqEX0yLXRcyM6bsRE+msN6w0PvrTsbPOnMfHwF3bf+Kcio3JY+/r4dAdaMZn+rz2yXbEojcD8EjqgnHDqRX4lLaiw5lvo7glauCWvryVFy0ZdrtBbtqSd77B3B03PeCwHXqx3rQUCSUHLAtdhFwpkaOxIJV2vuu3/HaWLzsllVGiSSDbiQmPkFZBQTEivy0SMrAP1S84U85pUNGmsIzy1/kgEdTXvWJT8jiwRe8uZ70A0XpMx3SW6e6+fjEcCPRn32eOnmaATugcAR9YQGPzfI5FbV3KW8vqee7JG7tRbtrSd77L2Hx32mFa5XG9ZdTT7N6miiUoCRHK7cINBMY/8G2CYS8IIHzS8NdvAawgS82RRAV5NP4wzf2hiNNtjXxvjGOEWBRNqaU36PdVTDXg5P78hEp9D9YY7swaZy4/IwsXgZkVuQ+PVgBLR2tXU9WJTZGYHbIrC3nlA/WvWAmktubeV1xXCLvldP9sjdU4v21JM99t7WAT/EMK2969XggquxV0NIExenB4scdMpw1UY/TqVXNcNLoKzBJJr4ZiMeCbv6vx0gQUbib6pE0VmaI+KUrLuNPkWGYtPZZEzjo5unUbnS0/fzEMAfO+u6SzD5pfdL0S7mJjYCgwic6Yd76wm6RU1oWqNfTWtxurWe7JW7pxbtqSdb7W2C64FLIeB6tWK5aAaLxn5V4wv9VRv9MxxlTaNPw9xrfuJUvJr8SZCtkxstP/aNNtwka8nr6cRaI7uzgZga/SXdpOOoXM33/TwEdGJI4T9aCicvUdSPZm1+RmAYgTP9cG89If6IkV7OjrFWLG2qJ3vl7qlFO+vJJnuHncUT3xoB16vB5dFpvqZzItFr8jQv36EJwPPnqzwvNstrDRlt9OWkNLotGdFwTY1zOYcNFgm215QxHqdMJfnDO8UDX9DPYWt9QMy0URj9052j5Eq+7/sQkL+NbtLWSDuzwVqjh+d+NgIn++GueqLaQf6MXPxtsfQrL3Ny7t9TT/bIRcEja1E2uFdP9tibZfj5ugi4Xg2uHY1WnBBMFAR8r/EcZHuJaUoUkUwO01lJc+lXjsD9Af+GElOjXyb+4D81+2HLAzkFYaRhx375QMgYonsQFi+yiZOt2nj+dqRc8YUnRScXQI35PoYA+J2RA05usMaM86yPR+AsPzyinpC/OJzp5U/VFxr9vJjKvcrleax4/lZP9siF91G1qNDzSzbV8NDYFntLOa1315MWMu/z3fVqYC0IoNwkErADgTPA+f2nKDkdrakScfBvso9mahFvEn/thJxmVmOMw08NLmtKk6/3phJfX185ie5p9KUPOgWfntjD5GYh+hvZEfmZrvfMhgmMwJc15U4B6NFceQz7wq8ONeOsBisr+WlrlW338xgCZ/nhWfWktEpyaHDyGHFLHViq36oZa3NYSy46KPfH5mNzLcr2iGernpxtL7qcUU/g6zyVV3rf85Xr1T7LV1CTLHLAA1o0qiu4XHMqzdvIifda60Yb/WiwhxNz7U9wKFqR8KckT6KF71Kyl03My+sfDfJqXOABlsgOHhJRvR8lt2QetgxtcEra8l3YEhPlholvI3aWPK/wLv8tbd6rO3idsYFAr09dq71r8on0Z/nhWfWkXCM16vmAjjlH1JNSVn5vydUcxaCa/bW1SHy4j9STs+2VHthxVC4URp9WU/LaHv18xXp1NAaL/MrdMg7IbnORcOcENWQ5KWx93to8QBfJYqc1j+RyvDgBeRxMb7HJWNxYLSVYWIqXMMQukkoS9+2RNSg3BEEz3OhjI7LYbKBDbTNSCj5CrniCDXKViOM+263EWp5+ib51l38SD+UcnWw9I05K2c94D7seNoBHyGUttsZqT/4nr1UPF4/VETjLD8+qJ9kK1ZbI93lorgEx52Esv4zUkzyf557ccu6WWiQea+qJ5Bxp71n1BPucp7TKx96vVq+OtX6QW+1E/1kNDE3ZUdegueW06SfG8uPedyXFoxv92rpQtGi0kUkiUfJTw1+e+mTbak0s/KCtFZJMW3uGFn/iCj61aV9HygUTkjOXbI1CNv08ii3oo7GqQpWP0IhPZXjCqGdjhea0T6z9kq+tER5YrcZsSQZ4dTBdIm+OX2mtmkZ84MDRfjsK4Vl+SK6p5bZRvZbmRb6Z8pkONjKNcn/Unzz08BwxOHygtyRXzJm3tRaJR77Dj9jmCh3y8OqNTa1+PjCMP6kBHy7VDOWsoN9UT5BzRp7CD8AcHeFf2vMJ71erVy9ZE5xEDo0CNAzlKe9LFHuO0EMbJKkciXaRN9hTHJbwjkTzsE7IorFnLE4KJH5ucOHNVTtlR8fadyX1LY0+CogeubXkfJZckjCJDv/lTsHlnn17BmjhIZrm5i8t4F2zjaSLzNrYgshdw8hc8qE1AsIvhhuBUd7goqI5SrM0b+taLfH9pPG7+O3omp3hhyF7MeeP6libR04mflr5ZW89qcnk25Jc5uypRS25fA9bqwcrZ9mL3CPrCfzOzlOsUcjowXnLsSvVq5ctAA1CbhJoxD7BYeJE5MH2oxZhtNGP059FHdTol40531unFNgXzfq35ork2VpjJdag3QSJEnDJ42y5KCvZLfuWDJL9bFTCR5ZI5nGdLKylmxm8yUNsHJu+VVNTNNpc7rmPbgb2rFXNhk/9dhe/Zf1e4YfIPbOewJ8a3WvymbO3nsCj/L8RudBsrUWlvNq7cnpZT86wt5Qv2VvrCfyelKc2HWqV9l7xXTHf6oVqNolmT50S7Wi9qunxtG8YnBWlmSwD6mnKPF9Qs+Hdo8poox/JY0SHbycayMjr1tJXiSqSzTSNBNlqRpWU9vhAbBy/6Xym3KNOYKR74NaCtfqd9eR0vTp4oY86IVn7awg+1bvgi8/25mhsBK49azXC/1Pm3MVvtV7yodb9aD+UXAr/noYw8Xl4VG7LOfxhQrzsqSc1fqNy99Simtzym+IcfDMGR9ub5cp2xQa1i9y+NifCU/pvqSlZp9az8jX+3ppz5++yf+3atPKDvp+YJ16zHNmBw1keAuosrQTo3vsO/U75m8rRRp9kQvLqJQCtR+weZ1OhiRON+VvtQTtXBYHeWfPaFZuHSS+NZznwYU6voMkudD5Kbs02viELfbgkK2yY/4Qp+3eLj77HWjT/bEfzanfkRFKvDV/mW+A443mU4hRprc0RPPes1RHy78LjLn47uh5H+2GSO5ST0/zFR2KR9Yk60J2vvLulnpSM18jdWouQiRxywtp6Au2R9sr+o+sJfM/OU9QcfEQ2fNr9KvXq5euSdy4oQ2MXzeqwbjhz7KyGaNRwRgM7NZZbn7c2D9D1kuKQIZVJo41+nE50f0ERTqWevJffKqro0/DGTUHTOtEPmdN6tYqPTjBYz9BfejTvS3JbhKwhukqXtDGaSMCYJDiaCMPuYV/G54kX4cK9FT/ggm9wMaeMF3TP47yDH3RcgdFkl+ZSIKPgVSHKMpk3sh4qoCNzq0IbH49usNauValWxgYcw3cepvGtN0/rwJxyHfC5vGYwXuKn9VZsgxm61fgv8XowpHi5o98WJjZfj/ZDCTq6nuALObdJju5lc4xd5NyIC017uEdMK189jOllrVx8Vf4qHp37Qy0Kuk315Ch7s65H1xN4H5mnanUD/qo5qi1l3pGNvVymOdzzvFrdWMo95BfpwlzWSjxZc8ayPD0v8dW8fL9Kvco6v+yZRaAwATSBjsPzvKQQc6DrJZclHq8aR+cz9A4n7p5SyGYluhbW4lUGLt9ZI/Fp3Qm4kXmiDzlNXPAT+JVFRvTcSTpp05aHms9LcluEJW4qZOX3Fn35PexabIhJXCFrYiH9S368M5cYyY29ilTcJ7KMKeur5M0gY/AQf9aB59b6Smb2G3iMFGT53FYMpWN5R6c1vljSl+9b1wo+4JDXDxwz/szhG5jneTwLe+boGZxL23iPWJhUX8MP/dBH/Lln/iO8JqEL/+9Ofrtg6jx8tB+K8ZH1BB3h14vBWizHtyadYjvnBenPfYvcPbVIfl3GXtapV0/22pvl8FziHbHfxLOkr71vzVOsxVLdCH0ffEXfoM/6gFXOZbWcJ5nZP9A/+9pI7lHegi7XsYTxw4aP7yN8sz16lk+Xa6fxrXewyDl3K5+3o1PQscjsknCy0lmkNKDGYvMkflsAABxxSURBVD4UM41f4a4AHNEVZ8VpR5xJjtdLXpKpRBI0+jzfWYPWZoSxJRnQEkAzw4UHFf6WTPwhB33JLvwFed9OM8u5+X1Jbp7bew5bm37bo2VM9OXpbKZjzXIDxxjr0MKMdaqtL9+VEJGXY02nFPI35Ekn5CsRt+Rm3tKdpFXTQ+O6I+uMBId9R/LdulbJR2Xy1PgLXz5qTv7Gd/BTPC2tA2uk9R3hxxzJw5dYQynIOq/hJbqle8t/oLua3y7ZqnFwPtIPxRcs44BDn5p3YqxVT4h51h//4rm80B8frOVhaNChFeesaStP7ZEL37C/aTNyFTuahC01O/K4Do2U8zTGfY+9mU/rWTkGPVtzlr6Lh2K7Nh878Ik8NhJ/qpusXaYtc33o/zAH3EudkKk8I36Zl/iUdDkvYq/WGX7l+opHrN0kRt96fKVPeb9KvZLevdjXnPJ+OA3gszgsbiTDeUfGYuIEkSim8VrwlUq+67uCJDtcTVcFKgmndMTa/AhY4VSb8vAteM7BoUESJ2tRBrHG+a5AikDR0NSwsk4j+s5E/55Qau3z0PwMHvAu1x4d5ButQjMzKR4iuXTlFiTVV9YSv21hViUqPrZwhyd6lokQctah9r1X/NEzfEUFa9YEusBy/qaHbBs8SqwlM88T7cgdW6TXyPzROfhH5JRRksV5W9ZKRUWFrowdhEZxmrAFX+U+FTDmZHxr64AvKkZG+DE/8WzG7givReBiwp38dtTmM/wQ2UfVE+VQNbite8T5N7O31pM9cvHbrbVobz3Zau834CofjqgnsF2bp5TDKypN/8KR8jPzGnXioR6N5DzJTDnom/iR3CP6uH/raxQnmoeQEb7flIkPV6pXa3tJTDyVBgenccGJojhPd95xCBWwFvhX+C5HHGmGsZsrO6ds5BvOxiWslJx51xiYiqa8M0bwcoEvjl9rHEs63lkL5iNHesKjpmuNniTQ072lB80PciWT+zPk1mw4+huYai2wX1cN0/j2LaGhE+sfSexBRSXesknXJOhaY5pTS5g9maLr3WXLSEz0+NTGzmywRtdKeoVPE4/TVfHx4c1Oax2K9Rvmp8Re87XQf5iX7K3dtdYh72HK1fz2QfmFl7P8UHiOxI5yZrnGpV/KP2v3wr8erF5bT46Su6cWYc/WerLW3gewnvSypqaMxh91u8xdyh+Rl2bryjUu6VoyZwb/exjOPcqLBf0XuRr/L74P8810a2Iu0408n5UnWrHf0+lZND0dLj1GYsHxLm2ElX8pArWERgJSEqoVZCXdaPgf9FeizmOJ3zyX4JfvhiydMi9uEmYmxYNsEb9ieNfrWYlzj1JgHRsxrZfYDWPI5paCK0Ldi0K6m5/40vTVfCqNDz1qrfPk5GdVGe/qt9mGpecz/dD1ZAl9jy8hELl3NP6+HbqSj8gRrRxey3k9mYW+Vb2KOdNro6FnbP61Muk4zDfLUg5LfPLwrucz88QuxUy8HoEzHWW9Nqa4IgIk1nxCgU+lX2/mpJZt4/REjSBJigYhGvzpxIPxPF9z9U2JWTTFeFUmtJovPuUdPaJQlEO739E547Sb4QYG4FRrysvCyJwC01la5Iz5vdbcMSdv1Nbw681FaG+81G1WsvJwJ7+tmNf8dKYfBv7NJquplAeMwCMC1Rye60ZMz7VmOuhhTv5VaTTn5Qb8UZV/68aa3FPRdf7ztqhf8z9msIZv1u3u9Srb6uedCOBkR5yQ7VTD5BdFgJOLfLKefYlmSmMyr0xOag7YHJAAocmNPs152cDFRmLaDNBQ5sQOPTIkT3cSftqA6PN8j8a0O2eefNEHNhp5fTADbMEsmwSe5aZEa5MbeGjANc9lvJQxyk9r0NuQjfLK9tSe7+K3Ndte+c315JXo30P2SN3AUmI45/6ytjBnNOeN1I3R3KM8VtYb8qJyJbw0Pso3r25LRp7jZyMwI0BRzY3VPOAHIzCAAAmHBEuy4ipJaAS5SHIk07KJUwPJuBpENZ/wK5t88VeS78mUTvDVKYroyzu6cZXf7/ROYQELcBHeNfywmXHWLWPYwgLceusxyg/foFFsydH3Qd3g07qmf1noDn4rTN7l7nryLitxbT2W6gbWkdPJO8wlB9Vy2ZqcJ5k555V1YyT3tPKY9IV/WddG+OYV/YR6le318wEIKFgOYGUWRuByCFAM2OyWSf1yhlhhI/AGCLievMEiWIXbIuB6ddulPd8wflIqT1vPl2oJRuC1CNDcc4pM8nytJpZuBO6DgOvJfdbSlrwPAq5X77MWl9QEByI5+1TzkstnpTciwOlj+TPqRlYmMwJGIBBwPbErGIHjEXC9Oh7Tj+NIcnbT83HL/rEG878v8K9YH7v8NvxkBFxPTgbY7D8KAderj1puG2sEjIARMAJGwAgYASNgBIyAETACRsAIGAEjYASMgBEwAkbACBgBI2AEjIARMAJGwAgYASNgBIyAETACRsAIGAEjYASMgBEwAkbACBgBI2AEjIARMAJGwAgYASNgBIyAETACRsAIGAEjYASMgBEwAkbACOxHgH8Ozf/c4H4czeEaCPDPld3xP5TlOL6G/1lLI3A0AnfNaUfjZH5G4CMRoDngP5hFovhIAGz0RyLAf4DkTptbx/FHurGNNgIzAnfLabNhfjACRyLAKd8ff/wxNb4//fQTje90/frrrz/+/PPPh/967F9//TV9O1L+K3jR5Ps/lvUK5C3zlQjQGP/888+3Odl3HL/SmyzbCLwegbvltNcjag1uhQANPoVSzT3PnPYROIzR5Ocxds68//7775c+BUd/NjZHLybYsTla4suvCOgAnszXhmqJjnE2WtCJljWD18ifZGyRC05cR/zyge7oyyW7R/QewcVzxhEAc5p94nyc6v1mHhHHW2ICJMCPuCDmFRvgyTt69fLAFWnz6juOMxp+fgcE7pLT3gFL63AjBChSNO25cWyZR8PPKT8FTFdr7rt/JyHE5uVwVeFLE9tjLCzLXxNoDHrNF00Ec2gkMn++h8zuLy1b5UbDMq2/funp3dX0ZB35hm34Tm4upXuNJtP7+XgEHMdfX1tjIlajGRP4+oJPX5H2y3F8fBya43EIXD2nHYeEORmBr68vNfkk7tHGl8aURpaTZALqqkDqNO1o/QMTNd1V9tHcVxtyml7wbZ0E6gS/1kDEt6l5YD1L4Xvkglevsc9jNb9AN+zC50q91GjVxsq5fj8WAflMzZ+OlXQOt71xvCcmwqJvcYGfh08vGX05Wsfx0pJ6/NUIXD2nvRo/y78RAmrsdbJKYzlYnOYTsFpDdwWI4jT84VT5CL3hSyNO09s60VcjzxxhX8rWZqE8tWceTQS0Iack5X0aL5vmvXJpqPAZkigX/MqL8Zbd0Mdm4ZvO+rWg1PnbRH84BQHw7/jTLpn4SMsndjH++vraG8d7YwL9ZRsxgf/Dc9SuK9I6jkdX1/NeicBVc9orMbPsr68z69VL8CVhF439qiIF/VUb/bOSAM0Sxb7X6Ov0WkW+tvj8GVWrmQdzmv04iayRT7TBYx7fI5cmZqQJB9ewf5bLg2SXOmkSwdWxR9N8PwkBnWqvaVJHVcF3YnM6SjI8b28cyy+3xiKK9miXDLkarfByHC+trMdfjcBVc9qrcft0+WfWq6djSzOWiy8nY2uLDjQXbs6m/03CkcDTCIMrjtJr9OPktPmnOeikzUJeoxFdRYf8eJ7J9shlreP0dOZXPtAEtBqAsGPVRrLk7/fzEIgGv7l+eySfnDh36bwnJoTJ2rwpOu5Xo3Uc59Xz8zsjcOGc9s6w3l63k+vVc/GjKc0ntDRpUfSeq8gLpGmnXzbCe1SBl/BcavQ5hWyd1ksH8WDemlPW0KG6iThTLvYHf5kw3wPnh43lPHjQAzL4hWkNVgeJvg0b8DsjB5yVOI+I4yNi4mrNOg67RWfH8W1C/WMMuVpO+5iFeWNDz6pXLzGZApdP4/lzEDWqL1HoiUL19+9HisxNrpr0VjGV/ExT6iIeNPpLJ+mipcnlxI0r6DU03c+Ui62tJls/9wsP/I6GEn10tWgfDOi8BEZVuztk3SF+nWCNpCv3aHa6dFcdxL44sT3UhLMSp/x5j7LisScW5dfkTy54wi94d9W7Eu1V45gF+LRY7jrdBw1eLaflpbHPZjSe93xWvXqeBUkSO93ctBAQkcjTrHs+UoRVYI+wkOKesVST3pIRf97SPAFHJzWuNPp5Q9bSF/nIw7Zakw/dGXLhS0MTvKvq4VvYgW7MK+fidzSYoxuampDAv7nZqNG0voGfToLKDQi2tPBt8bvKdzVypc179QevMzYQR8TxETGBbbW4Iy7wo56/XIn2anGM335qLO+N2bvQXy2n2Wdf73ln1auXWEaByQWIJF42YGcopoaMxm/vtbV5UHE9wj7sKX8JCVybm4lopLrNT/CcMOo1+jo9pKGg0e81y0fKFXYjQUETxFqjX4mV+GjOaJPJGsJP82Wb+KEXmHDp28hd/hlNzQNJnNA+JU4eBD/pRU1vYHCY1BEf2SLsiDiW3/RyyVIsZj8s7YBvzwevRKsYvUIcsw6fHMulH37q+9Vymn329Z56Vr16iWUUn1zQn9XoYyzF9ahrI3iH/S1yrSHEUdTYtvTTSUNegzxXTSV8eo1+psnNbeiQh6fno+Vif+j6TZY+0BhoU9fSK2zs/sohftxJ4DRRXMJHzZqSOz6usUzbe4ZGfCrzJjtaNlTmX+qT1mAtZktGglcH0yXy3vghcXx0TGSFFcfhk3lo8fndaK8Ux4D7ybG86FwfMuFqOc0++3rHPLFePd84TmdyQaeotE5bn6/d6RIXm9MRDWgQaifo0Qg2T/TFG8wJ7LJxpHnWzp4GuSZDPMq7ZENX8tXco+RK1pJ+OgnsNXviFRsCqbp4p4ECQ9kEdrxn315kEhPggfxo/L6RsSYtTL9NfsIH9AydD5EW63j4LxZg1lv7HcofZr/8p1zfPbGIXdp0RpO8ytR3o71KHAPy1WJ5lWPcePIn57SzfJZDVWKXHExtvLH7HGLaifXqEP1WMaGpz4390QG2SpknTtZP9dn2LeJxhlaTFc3CYqOPXJornYrDjwsdxYPGM3QeVlMFuddcHCE3MFzUD/uwo6eP1oV5rV85egDI5taa9GgZ24M3utc2bEsy944jc68fZx20uVxz+iwa1m3vtWYzIH850v4jYiLjybNOFAObcrj7/m60V4hjAN0Ty90F+aBB57T9+YyYH81pz/BZ6u/W+ngX139VvXoZfhicnZAi12vEXqboOYJ3OzxFL5qNbxoqaPfgyXqsSRRZCTXg0Icuebj7vEZunA4snhBInx4eatzQec1p/FEn+tIxNgxdjMpBNWQtfyjnv+u71n4N/tiC3b0LvuSa3hyNrcRmdxyPyBMuOV/KbvwmxqusRItfY6Mm8Xw1WsXIO8cx+ErPLbGs9fn0u3Pac3Pak3x2VW29awyo1rTuJ9ar10BKo6aiHkVodWO4RfMWwGu/b5EdNLv+tle7QvCrXdEQTI26xuM0bFjl+PORbye2rBf8eztz/eS/tmlGuZbcUvGMQTlWvqvZAYtyTO/yP3QO3hqq3rERHLjkw4H7/OcSyNNYlUn6qF8Ewv40svzIWvRsW+bwHjMCq2HMRrVms6m1GaUZnLcrjgdlNGNCsYLPtngJ03LOFWmvEMesw55Ybq3jp313Tuuv+NE57WyfVexGne0b9+GjR6/ty+HMOxeUoRld2+jgoOFEQ/aoQYzCNzXDW5+3Ng/QRWAN6bx2kop77+QLZ+rhFrTfNl5KCGDWClqdDjCnbJq3yi0xGLFRNLmJ17fyjl7JD8rhb++sIRgJgyRjmgs/mu/RBlx499bkmxLxARmBeWvKJb5rg1j6zF7lWYutsdqTfVQcb40J4dXbxGtO6Yf6fiXaFGPNjc2r4xh/2RPLPX/7pDHntP5qH53TzvZZ6lOZg/oWfu7o0Wv7FkjKAUjiFHiKp5qnnoLMwXHCQXtT324Mnc/Ue6QJjsan2uxrM1RrHvkGbe9EP5oHNc4P+G+V+8AknfyP4iidohEo2c2n8L3GJxOVPirMyu+ZpvcceH7bGJU06I8sNgToqo0Xd95rG2XWjO9czCk3E+icx3lHBnRc4U+TKpqLvtEslipO71km8wKf6lx9DN2H4l80I/ezEudRcbw1JrCrF4dgE/78ba2uSJvtQf/a2o9sYDJdGa974xjea2M568Nzjh14lToyh2+9eYpT5pRxSt0sY7rHS7lAh1PynRrvEd1Ke/XunCYklu+sQeSN5ckDM4702VqNIVeqPqkOZR/MKvZ8sTWvVmOWYgR/ky7MBVPJxtejHmWR0/MS328EKz8cvbYrxZ83HXBxWhaeBSMRYWxNokDm9DWKWG3aW39TUI0oiY04HXaPzGdOBFB3MwHeXDWcew0M85Xwa/oEv6nJrwXyVrmlLGHY0yXTBH7Nxgib0W0Nzpl/NM9VPPO81rPoy6Kc51NwS5/XWud5emYtiKXgPX3W+sR9+hZYTs9KfEpyjMFDPIlVnuEJXvquu2TmtYfHyDphW42neG+9o9MZfOWDI3r14hjduPKaiGcvFpmDDq1NlJrWFvZXpH33OGZNtsYytKxVXk94hZ/JJSb+xGSex7Nik4l6Jg5L3+ddeQT+o7zQDV3Em3vJe4TfbEjjwTmtAUz6fHRO2+qzyvdBP2kYeWzOZ4pZcpnqq76VOW/E/yWzV2NG/FB+jEziQTUPI1r6jfBNy7TpEfvKuNrEqCDq1aBi6vx6OA2JioSDgWHkDD4LwKLgKDT4jOdFnrW6yIMSWU7UNdUVfNjcawBL2nBg4VgOT+/CNA/iYGCM4ysg87ie0Yt55RqIHn1z0IiO+x65mQ86Iifueaj5LDyzbthJ8SqLXZNJY4C1xC97uDVI58/So+TBO2uqxDQTRKMXcZE/T8/YlG3VBL6LF37Fumks/Gy2g0CX72Gj1hxda3Izb/EEl5oeGtcdWuTp/aj7WYnzqDjeExP4BjGgNRJm0g08S3/SnCvSovu7xzE6bonliMMH/y/XVnPK9caHApfpP9TVi1PGiP8RXsyRLOKdGJX/YKPyCN9G+Im2d2/lFmiQX8slOe+gb+gyiQn95zhwTqujv8VnR9ZDuajMQ2VdkP9k7Ur/lw9kv+Nb5iU+8lvxyzFCrChesKHsI8Qj92j61uMrWXvuyMGePTxKWuXMNb3kqTQAyyKSVMLY6c47jqgEVhpypfdw+DmB9nTHbq4ySEoanAOHFWYsKBfvOQlmOhxW/JnD8xp8CRwCRDy4s0ZLuu6Viw0RbEMYZpvBSYVEepdJI89/9jP4U4jQEb10tTBtrS304QPfTMAnkMFATmS8C5tvRP+eckxD8CgLrmS2dK3x1LegWb2eou/dz0icyFujs3ythc3emIBesYhPsL6jsXxF2nePY/xjbSxjEzGr5ibeH1w7GpIp9og/LnKEmpbklxNdLU6JeXQb4cXc5LPd+Bzh92BM48U5rQFM+nxWTlvjs8r3Sa35MdeYTk2ZfFdEI/4vmcknRT7fR/xQ9HF/iB8YRe7Mvv/wP7Jvxd6sxI6Hs9Z2qQbVVH4WTU32Lb7hjGq2bmGQjXg6Aq0khSIk2kh4D3opmZZNuibVGgON6V5Lgoy1ZIqud2/x7NGMjp2VOJHvOB5dBc8bQSAOHbRJf2iEgn64brRiKsX+MC+d7qlBatgyzK9BP2+e88ZFc1v5xTlNCD33ProetY2b/Cl8dFZ8yf9bMmcG/3sY9kPFSEH/RW9Gk1t8H+Zb0K16PbNerVLEk/cjIAdbSJz7BZnDbRGQD2UD8SdtAFJBn6cokUZxnL/zoOSbxxK/eS4JUJtU+W9P5kzYeaBhjtOazqxtQ+hWSdrbmBVUWgPhUAz71QhsQoBYjI264ll8vv2SpoHyTjzRZJXfIwfweTevgvcwv4JuflU8zR/il7NefnFOy2g953nlenz7dXHpZL7m/z2ZhdXDftho6GE3/3qVcvsw30KfVa/IO6terVLEk49BgCRca8aO4W4ud0eAZJkTAkUy/SnOnKgyDpyIqNCTUGgmosGfTjEYz/M1V9+UbEVTjFdlQqv54pPvOpFLuufht392HL/9Er29gsRRrSmn4UiNxvQ36kXMzbZFkzy/135tYo428sgb5dWbK4G9OaVuoinvzmklIm/9Xs33ucaE9rkuTb/aMCf+/HaaMur/uQEvkVGNWeOHFV2//dmOYmQN31I3v38wAjhm2Vh9MBw2fSUCnEbkk/W8aaRgakxsy1PzKL5TEqaZgCb7I/5ZFuhoxqfNAA1DTtbQxymkRE53EmWviYeO64HoQi+O4wst1puqyoY9xy9qEntlXBBveXPPPMWuGniZSNzluYxnGaO8gu98ICD+5X2UX0mX353TMhrv/YxvLtUYLGBOrhNlHWLOqP8jc6nGjPqh/LqsTcSI4gZeGh/l+96rZu1eggBBoB3jSxSw0MsiQKIi6ZGAuEpD8CsuEhcJUicemqcGgXE1AGou4Fc2+aJT4u7JlE7wzSeS4qE7SZTNRW+O5r7z3XH8zqvz/roRB8QKcaN4rMUXljBOXOcYa1moZkxzy3kjvMgbnGaWtLX3EX6cyrYu57Qaqu/7banGoDm5XfkRf6z59Rr/l0z5ND5X1o8RP2z5tfSFf1kDR/i+72pZs5ciwO6xbMJeqpCFG4EnIEBCpYHQickTRJ4qwnF8KrxmbgTeHoG75bS3B9wKGoGrIEByoEngfhWdracR2IsApzzliclenq+kdxy/En3LNgKvR+BuOe31iFoDI3AjBGgS7tT03GhpbMoJCPAT/R1/xXIcn+AsZmkELoDAXXPaBaC3ikbACBgBI2AEjIARMAJGwAgYASNgBIyAETACRsAIGAEjYASMgBEwAkbACBgBI2AEjIARMAJGwAgYASNgBIyAETACRsAIGAEjYASMgBEwAkbACBgBI2AEjIARMAJGwAgYASNgBIyAETACRsAIGAEjYASMgBEwAkbACBgBI2AEjIARMAJGwAgYASNgBIyAETACRsAIGAEjYASMgBEwAkbACBgBI2AEjIARMAJGwAgYASNgBIyAETACRsAIGAEjYASMgBEwAkbACBgBI2AEjIARMAJGwAgYASNgBIyAETACRsAIGAEjYASMgBEwAkbACBgBI2AEjIARMAJGwAgYASNgBIyAETACRsAIGAEjYASMgBEwAkbACBgBI2AEjIARMAJGwAgYASNgBIyAETACRsAIGAEjYASMgBEwAkbACBgBI2AEjIARMAJGwAgYASNgBIyAETACRsAIGAEjYASMgBEwAkbACBgBI2AEjIARMAJGwAgYASNgBIyAETACRsAIGAEjYASMgBEwAkbACBgBI2AEjIARMAJGwAgYASNgBIyAETACRsAIGAEjYASMgBEwAkbACBgBI2AEjIARMAJGwAgYASNgBIyAETACRsAIGAEjYASMgBEwAkbACBgBI2AEjIARMAJGwAgYASNgBIyAETACRsAIGIFPQOC333778euvv/74559/foza+yyaUX08zwgYASPwbASelQe3yHk2FpZnBIyAERhBYEs+exbNiP6Xm/P333/T3E/XX3/9NdToP4vmcmBaYSNgBD4GgWflwS1yPmYRbKgRMAKXQmBLPnsWzaWAXKvsL7/88oNrzYn+s2jW2uL5RsAIGIFnIfCsPLhFzrMwsBwjYASMwBoEtuSzZ9GsseMKc/8f+NEuouw3aRcAAAAASUVORK5CYII=)"
      ],
      "metadata": {
        "id": "v2SKwilCP9pR"
      },
      "id": "v2SKwilCP9pR"
    },
    {
      "cell_type": "code",
      "source": [
        "df_balanced = fancy_sample(df, LABELS, 3000, cooc_norm)\n",
        "df_labels = df[LABELS]\n",
        "print(len(df_labels))\n",
        "df_labels.sum()"
      ],
      "metadata": {
        "colab": {
          "base_uri": "https://localhost:8080/",
          "height": 290
        },
        "id": "hGr9W0hTPyFQ",
        "outputId": "a154155f-a7ba-48bc-e8a1-42648fcbc561"
      },
      "id": "hGr9W0hTPyFQ",
      "execution_count": 29,
      "outputs": [
        {
          "output_type": "stream",
          "name": "stdout",
          "text": [
            "159571\n"
          ]
        },
        {
          "output_type": "execute_result",
          "data": {
            "text/plain": [
              "toxic            15294\n",
              "severe_toxic      1595\n",
              "obscene           8449\n",
              "threat             478\n",
              "insult            7877\n",
              "identity_hate     1405\n",
              "dtype: int64"
            ],
            "text/html": [
              "<div>\n",
              "<style scoped>\n",
              "    .dataframe tbody tr th:only-of-type {\n",
              "        vertical-align: middle;\n",
              "    }\n",
              "\n",
              "    .dataframe tbody tr th {\n",
              "        vertical-align: top;\n",
              "    }\n",
              "\n",
              "    .dataframe thead th {\n",
              "        text-align: right;\n",
              "    }\n",
              "</style>\n",
              "<table border=\"1\" class=\"dataframe\">\n",
              "  <thead>\n",
              "    <tr style=\"text-align: right;\">\n",
              "      <th></th>\n",
              "      <th>0</th>\n",
              "    </tr>\n",
              "  </thead>\n",
              "  <tbody>\n",
              "    <tr>\n",
              "      <th>toxic</th>\n",
              "      <td>15294</td>\n",
              "    </tr>\n",
              "    <tr>\n",
              "      <th>severe_toxic</th>\n",
              "      <td>1595</td>\n",
              "    </tr>\n",
              "    <tr>\n",
              "      <th>obscene</th>\n",
              "      <td>8449</td>\n",
              "    </tr>\n",
              "    <tr>\n",
              "      <th>threat</th>\n",
              "      <td>478</td>\n",
              "    </tr>\n",
              "    <tr>\n",
              "      <th>insult</th>\n",
              "      <td>7877</td>\n",
              "    </tr>\n",
              "    <tr>\n",
              "      <th>identity_hate</th>\n",
              "      <td>1405</td>\n",
              "    </tr>\n",
              "  </tbody>\n",
              "</table>\n",
              "</div><br><label><b>dtype:</b> int64</label>"
            ]
          },
          "metadata": {},
          "execution_count": 29
        }
      ]
    },
    {
      "cell_type": "markdown",
      "source": [
        "In this way, keeping the **statistic relationship between labels**, a specified numbers of sample are *selected from fancy_sample function*."
      ],
      "metadata": {
        "id": "5haVfqvnkE0e"
      },
      "id": "5haVfqvnkE0e"
    },
    {
      "cell_type": "markdown",
      "source": [
        "Now, it is also important to save into dataframe the sample with 0 sum_injurious because the model needs to indetify also non-harmful comments."
      ],
      "metadata": {
        "id": "oH99AVJCChDL"
      },
      "id": "oH99AVJCChDL"
    },
    {
      "cell_type": "code",
      "source": [
        "# Select non toxic comments\n",
        "non_toxic_samples = df[df['sum_injurious'] == 0]"
      ],
      "metadata": {
        "id": "u5DcH7KZCcON"
      },
      "id": "u5DcH7KZCcON",
      "execution_count": 30,
      "outputs": []
    },
    {
      "cell_type": "code",
      "source": [
        "# Take from non toxic comments a limited number of sampler\n",
        "sample_size = 3000\n",
        "if len(non_toxic_samples) >= sample_size:\n",
        "    sampled_non_toxic = non_toxic_samples.sample(n=sample_size, random_state=RANDOM_SEED)"
      ],
      "metadata": {
        "id": "SB1wamzsDc49"
      },
      "id": "SB1wamzsDc49",
      "execution_count": 31,
      "outputs": []
    },
    {
      "cell_type": "markdown",
      "source": [
        "Check the dimension and information about dataframe created with only non-harmful comments."
      ],
      "metadata": {
        "id": "A6oxsUS4DtJe"
      },
      "id": "A6oxsUS4DtJe"
    },
    {
      "cell_type": "code",
      "source": [
        "# Show dataset information\n",
        "sampled_non_toxic.info()"
      ],
      "metadata": {
        "colab": {
          "base_uri": "https://localhost:8080/"
        },
        "id": "zgV0H8E1C3zQ",
        "outputId": "39b5a32e-5292-4c50-e519-ffd187e40ecd"
      },
      "id": "zgV0H8E1C3zQ",
      "execution_count": 32,
      "outputs": [
        {
          "output_type": "stream",
          "name": "stdout",
          "text": [
            "<class 'pandas.core.frame.DataFrame'>\n",
            "Index: 3000 entries, 118677 to 7019\n",
            "Data columns (total 8 columns):\n",
            " #   Column         Non-Null Count  Dtype \n",
            "---  ------         --------------  ----- \n",
            " 0   comment_text   3000 non-null   object\n",
            " 1   toxic          3000 non-null   int64 \n",
            " 2   severe_toxic   3000 non-null   int64 \n",
            " 3   obscene        3000 non-null   int64 \n",
            " 4   threat         3000 non-null   int64 \n",
            " 5   insult         3000 non-null   int64 \n",
            " 6   identity_hate  3000 non-null   int64 \n",
            " 7   sum_injurious  3000 non-null   int64 \n",
            "dtypes: int64(7), object(1)\n",
            "memory usage: 210.9+ KB\n"
          ]
        }
      ]
    },
    {
      "cell_type": "code",
      "source": [
        "# Show dataset samples\n",
        "sampled_non_toxic"
      ],
      "metadata": {
        "colab": {
          "base_uri": "https://localhost:8080/",
          "height": 424
        },
        "id": "-BX8mPbUDSOM",
        "outputId": "70e6b6b4-1f6f-4689-9a64-1aba7efce3bf"
      },
      "id": "-BX8mPbUDSOM",
      "execution_count": 33,
      "outputs": [
        {
          "output_type": "execute_result",
          "data": {
            "text/plain": [
              "                                             comment_text  toxic  \\\n",
              "118677  \"I do not understand this sentence: \"\"Several ...      0   \n",
              "136088  \"\\nThanks. I don't really mind the attacks. My...      0   \n",
              "52079   \", 29 October 2007 (UTC)\\n\\nThis is a \"\"spinou...      0   \n",
              "8219                              2010 Formula One season      0   \n",
              "3084    \"Welcome!\\n\\n \\n\\nHello, , to Wikipedia! I'm ,...      0   \n",
              "...                                                   ...    ...   \n",
              "4801    I would not like to see this section created. ...      0   \n",
              "157368  Untrue. I *respected* my time-out and did NO e...      0   \n",
              "21469   Agreed - my logic for that text is that if Vir...      0   \n",
              "127993  \"\\n\\nNPOV Dispute - Cont'd\\n\\nIn an attempt to...      0   \n",
              "7019    \"\\n\\n Answer to Osli73 \\n\\nThose with leftist ...      0   \n",
              "\n",
              "        severe_toxic  obscene  threat  insult  identity_hate  sum_injurious  \n",
              "118677             0        0       0       0              0              0  \n",
              "136088             0        0       0       0              0              0  \n",
              "52079              0        0       0       0              0              0  \n",
              "8219               0        0       0       0              0              0  \n",
              "3084               0        0       0       0              0              0  \n",
              "...              ...      ...     ...     ...            ...            ...  \n",
              "4801               0        0       0       0              0              0  \n",
              "157368             0        0       0       0              0              0  \n",
              "21469              0        0       0       0              0              0  \n",
              "127993             0        0       0       0              0              0  \n",
              "7019               0        0       0       0              0              0  \n",
              "\n",
              "[3000 rows x 8 columns]"
            ],
            "text/html": [
              "\n",
              "  <div id=\"df-cb633d81-4672-46b8-aac3-da4749cacdc5\" class=\"colab-df-container\">\n",
              "    <div>\n",
              "<style scoped>\n",
              "    .dataframe tbody tr th:only-of-type {\n",
              "        vertical-align: middle;\n",
              "    }\n",
              "\n",
              "    .dataframe tbody tr th {\n",
              "        vertical-align: top;\n",
              "    }\n",
              "\n",
              "    .dataframe thead th {\n",
              "        text-align: right;\n",
              "    }\n",
              "</style>\n",
              "<table border=\"1\" class=\"dataframe\">\n",
              "  <thead>\n",
              "    <tr style=\"text-align: right;\">\n",
              "      <th></th>\n",
              "      <th>comment_text</th>\n",
              "      <th>toxic</th>\n",
              "      <th>severe_toxic</th>\n",
              "      <th>obscene</th>\n",
              "      <th>threat</th>\n",
              "      <th>insult</th>\n",
              "      <th>identity_hate</th>\n",
              "      <th>sum_injurious</th>\n",
              "    </tr>\n",
              "  </thead>\n",
              "  <tbody>\n",
              "    <tr>\n",
              "      <th>118677</th>\n",
              "      <td>\"I do not understand this sentence: \"\"Several ...</td>\n",
              "      <td>0</td>\n",
              "      <td>0</td>\n",
              "      <td>0</td>\n",
              "      <td>0</td>\n",
              "      <td>0</td>\n",
              "      <td>0</td>\n",
              "      <td>0</td>\n",
              "    </tr>\n",
              "    <tr>\n",
              "      <th>136088</th>\n",
              "      <td>\"\\nThanks. I don't really mind the attacks. My...</td>\n",
              "      <td>0</td>\n",
              "      <td>0</td>\n",
              "      <td>0</td>\n",
              "      <td>0</td>\n",
              "      <td>0</td>\n",
              "      <td>0</td>\n",
              "      <td>0</td>\n",
              "    </tr>\n",
              "    <tr>\n",
              "      <th>52079</th>\n",
              "      <td>\", 29 October 2007 (UTC)\\n\\nThis is a \"\"spinou...</td>\n",
              "      <td>0</td>\n",
              "      <td>0</td>\n",
              "      <td>0</td>\n",
              "      <td>0</td>\n",
              "      <td>0</td>\n",
              "      <td>0</td>\n",
              "      <td>0</td>\n",
              "    </tr>\n",
              "    <tr>\n",
              "      <th>8219</th>\n",
              "      <td>2010 Formula One season</td>\n",
              "      <td>0</td>\n",
              "      <td>0</td>\n",
              "      <td>0</td>\n",
              "      <td>0</td>\n",
              "      <td>0</td>\n",
              "      <td>0</td>\n",
              "      <td>0</td>\n",
              "    </tr>\n",
              "    <tr>\n",
              "      <th>3084</th>\n",
              "      <td>\"Welcome!\\n\\n \\n\\nHello, , to Wikipedia! I'm ,...</td>\n",
              "      <td>0</td>\n",
              "      <td>0</td>\n",
              "      <td>0</td>\n",
              "      <td>0</td>\n",
              "      <td>0</td>\n",
              "      <td>0</td>\n",
              "      <td>0</td>\n",
              "    </tr>\n",
              "    <tr>\n",
              "      <th>...</th>\n",
              "      <td>...</td>\n",
              "      <td>...</td>\n",
              "      <td>...</td>\n",
              "      <td>...</td>\n",
              "      <td>...</td>\n",
              "      <td>...</td>\n",
              "      <td>...</td>\n",
              "      <td>...</td>\n",
              "    </tr>\n",
              "    <tr>\n",
              "      <th>4801</th>\n",
              "      <td>I would not like to see this section created. ...</td>\n",
              "      <td>0</td>\n",
              "      <td>0</td>\n",
              "      <td>0</td>\n",
              "      <td>0</td>\n",
              "      <td>0</td>\n",
              "      <td>0</td>\n",
              "      <td>0</td>\n",
              "    </tr>\n",
              "    <tr>\n",
              "      <th>157368</th>\n",
              "      <td>Untrue. I *respected* my time-out and did NO e...</td>\n",
              "      <td>0</td>\n",
              "      <td>0</td>\n",
              "      <td>0</td>\n",
              "      <td>0</td>\n",
              "      <td>0</td>\n",
              "      <td>0</td>\n",
              "      <td>0</td>\n",
              "    </tr>\n",
              "    <tr>\n",
              "      <th>21469</th>\n",
              "      <td>Agreed - my logic for that text is that if Vir...</td>\n",
              "      <td>0</td>\n",
              "      <td>0</td>\n",
              "      <td>0</td>\n",
              "      <td>0</td>\n",
              "      <td>0</td>\n",
              "      <td>0</td>\n",
              "      <td>0</td>\n",
              "    </tr>\n",
              "    <tr>\n",
              "      <th>127993</th>\n",
              "      <td>\"\\n\\nNPOV Dispute - Cont'd\\n\\nIn an attempt to...</td>\n",
              "      <td>0</td>\n",
              "      <td>0</td>\n",
              "      <td>0</td>\n",
              "      <td>0</td>\n",
              "      <td>0</td>\n",
              "      <td>0</td>\n",
              "      <td>0</td>\n",
              "    </tr>\n",
              "    <tr>\n",
              "      <th>7019</th>\n",
              "      <td>\"\\n\\n Answer to Osli73 \\n\\nThose with leftist ...</td>\n",
              "      <td>0</td>\n",
              "      <td>0</td>\n",
              "      <td>0</td>\n",
              "      <td>0</td>\n",
              "      <td>0</td>\n",
              "      <td>0</td>\n",
              "      <td>0</td>\n",
              "    </tr>\n",
              "  </tbody>\n",
              "</table>\n",
              "<p>3000 rows × 8 columns</p>\n",
              "</div>\n",
              "    <div class=\"colab-df-buttons\">\n",
              "\n",
              "  <div class=\"colab-df-container\">\n",
              "    <button class=\"colab-df-convert\" onclick=\"convertToInteractive('df-cb633d81-4672-46b8-aac3-da4749cacdc5')\"\n",
              "            title=\"Convert this dataframe to an interactive table.\"\n",
              "            style=\"display:none;\">\n",
              "\n",
              "  <svg xmlns=\"http://www.w3.org/2000/svg\" height=\"24px\" viewBox=\"0 -960 960 960\">\n",
              "    <path d=\"M120-120v-720h720v720H120Zm60-500h600v-160H180v160Zm220 220h160v-160H400v160Zm0 220h160v-160H400v160ZM180-400h160v-160H180v160Zm440 0h160v-160H620v160ZM180-180h160v-160H180v160Zm440 0h160v-160H620v160Z\"/>\n",
              "  </svg>\n",
              "    </button>\n",
              "\n",
              "  <style>\n",
              "    .colab-df-container {\n",
              "      display:flex;\n",
              "      gap: 12px;\n",
              "    }\n",
              "\n",
              "    .colab-df-convert {\n",
              "      background-color: #E8F0FE;\n",
              "      border: none;\n",
              "      border-radius: 50%;\n",
              "      cursor: pointer;\n",
              "      display: none;\n",
              "      fill: #1967D2;\n",
              "      height: 32px;\n",
              "      padding: 0 0 0 0;\n",
              "      width: 32px;\n",
              "    }\n",
              "\n",
              "    .colab-df-convert:hover {\n",
              "      background-color: #E2EBFA;\n",
              "      box-shadow: 0px 1px 2px rgba(60, 64, 67, 0.3), 0px 1px 3px 1px rgba(60, 64, 67, 0.15);\n",
              "      fill: #174EA6;\n",
              "    }\n",
              "\n",
              "    .colab-df-buttons div {\n",
              "      margin-bottom: 4px;\n",
              "    }\n",
              "\n",
              "    [theme=dark] .colab-df-convert {\n",
              "      background-color: #3B4455;\n",
              "      fill: #D2E3FC;\n",
              "    }\n",
              "\n",
              "    [theme=dark] .colab-df-convert:hover {\n",
              "      background-color: #434B5C;\n",
              "      box-shadow: 0px 1px 3px 1px rgba(0, 0, 0, 0.15);\n",
              "      filter: drop-shadow(0px 1px 2px rgba(0, 0, 0, 0.3));\n",
              "      fill: #FFFFFF;\n",
              "    }\n",
              "  </style>\n",
              "\n",
              "    <script>\n",
              "      const buttonEl =\n",
              "        document.querySelector('#df-cb633d81-4672-46b8-aac3-da4749cacdc5 button.colab-df-convert');\n",
              "      buttonEl.style.display =\n",
              "        google.colab.kernel.accessAllowed ? 'block' : 'none';\n",
              "\n",
              "      async function convertToInteractive(key) {\n",
              "        const element = document.querySelector('#df-cb633d81-4672-46b8-aac3-da4749cacdc5');\n",
              "        const dataTable =\n",
              "          await google.colab.kernel.invokeFunction('convertToInteractive',\n",
              "                                                    [key], {});\n",
              "        if (!dataTable) return;\n",
              "\n",
              "        const docLinkHtml = 'Like what you see? Visit the ' +\n",
              "          '<a target=\"_blank\" href=https://colab.research.google.com/notebooks/data_table.ipynb>data table notebook</a>'\n",
              "          + ' to learn more about interactive tables.';\n",
              "        element.innerHTML = '';\n",
              "        dataTable['output_type'] = 'display_data';\n",
              "        await google.colab.output.renderOutput(dataTable, element);\n",
              "        const docLink = document.createElement('div');\n",
              "        docLink.innerHTML = docLinkHtml;\n",
              "        element.appendChild(docLink);\n",
              "      }\n",
              "    </script>\n",
              "  </div>\n",
              "\n",
              "\n",
              "<div id=\"df-0a9f31e0-3ed3-46bb-ad7b-06db952c0e36\">\n",
              "  <button class=\"colab-df-quickchart\" onclick=\"quickchart('df-0a9f31e0-3ed3-46bb-ad7b-06db952c0e36')\"\n",
              "            title=\"Suggest charts\"\n",
              "            style=\"display:none;\">\n",
              "\n",
              "<svg xmlns=\"http://www.w3.org/2000/svg\" height=\"24px\"viewBox=\"0 0 24 24\"\n",
              "     width=\"24px\">\n",
              "    <g>\n",
              "        <path d=\"M19 3H5c-1.1 0-2 .9-2 2v14c0 1.1.9 2 2 2h14c1.1 0 2-.9 2-2V5c0-1.1-.9-2-2-2zM9 17H7v-7h2v7zm4 0h-2V7h2v10zm4 0h-2v-4h2v4z\"/>\n",
              "    </g>\n",
              "</svg>\n",
              "  </button>\n",
              "\n",
              "<style>\n",
              "  .colab-df-quickchart {\n",
              "      --bg-color: #E8F0FE;\n",
              "      --fill-color: #1967D2;\n",
              "      --hover-bg-color: #E2EBFA;\n",
              "      --hover-fill-color: #174EA6;\n",
              "      --disabled-fill-color: #AAA;\n",
              "      --disabled-bg-color: #DDD;\n",
              "  }\n",
              "\n",
              "  [theme=dark] .colab-df-quickchart {\n",
              "      --bg-color: #3B4455;\n",
              "      --fill-color: #D2E3FC;\n",
              "      --hover-bg-color: #434B5C;\n",
              "      --hover-fill-color: #FFFFFF;\n",
              "      --disabled-bg-color: #3B4455;\n",
              "      --disabled-fill-color: #666;\n",
              "  }\n",
              "\n",
              "  .colab-df-quickchart {\n",
              "    background-color: var(--bg-color);\n",
              "    border: none;\n",
              "    border-radius: 50%;\n",
              "    cursor: pointer;\n",
              "    display: none;\n",
              "    fill: var(--fill-color);\n",
              "    height: 32px;\n",
              "    padding: 0;\n",
              "    width: 32px;\n",
              "  }\n",
              "\n",
              "  .colab-df-quickchart:hover {\n",
              "    background-color: var(--hover-bg-color);\n",
              "    box-shadow: 0 1px 2px rgba(60, 64, 67, 0.3), 0 1px 3px 1px rgba(60, 64, 67, 0.15);\n",
              "    fill: var(--button-hover-fill-color);\n",
              "  }\n",
              "\n",
              "  .colab-df-quickchart-complete:disabled,\n",
              "  .colab-df-quickchart-complete:disabled:hover {\n",
              "    background-color: var(--disabled-bg-color);\n",
              "    fill: var(--disabled-fill-color);\n",
              "    box-shadow: none;\n",
              "  }\n",
              "\n",
              "  .colab-df-spinner {\n",
              "    border: 2px solid var(--fill-color);\n",
              "    border-color: transparent;\n",
              "    border-bottom-color: var(--fill-color);\n",
              "    animation:\n",
              "      spin 1s steps(1) infinite;\n",
              "  }\n",
              "\n",
              "  @keyframes spin {\n",
              "    0% {\n",
              "      border-color: transparent;\n",
              "      border-bottom-color: var(--fill-color);\n",
              "      border-left-color: var(--fill-color);\n",
              "    }\n",
              "    20% {\n",
              "      border-color: transparent;\n",
              "      border-left-color: var(--fill-color);\n",
              "      border-top-color: var(--fill-color);\n",
              "    }\n",
              "    30% {\n",
              "      border-color: transparent;\n",
              "      border-left-color: var(--fill-color);\n",
              "      border-top-color: var(--fill-color);\n",
              "      border-right-color: var(--fill-color);\n",
              "    }\n",
              "    40% {\n",
              "      border-color: transparent;\n",
              "      border-right-color: var(--fill-color);\n",
              "      border-top-color: var(--fill-color);\n",
              "    }\n",
              "    60% {\n",
              "      border-color: transparent;\n",
              "      border-right-color: var(--fill-color);\n",
              "    }\n",
              "    80% {\n",
              "      border-color: transparent;\n",
              "      border-right-color: var(--fill-color);\n",
              "      border-bottom-color: var(--fill-color);\n",
              "    }\n",
              "    90% {\n",
              "      border-color: transparent;\n",
              "      border-bottom-color: var(--fill-color);\n",
              "    }\n",
              "  }\n",
              "</style>\n",
              "\n",
              "  <script>\n",
              "    async function quickchart(key) {\n",
              "      const quickchartButtonEl =\n",
              "        document.querySelector('#' + key + ' button');\n",
              "      quickchartButtonEl.disabled = true;  // To prevent multiple clicks.\n",
              "      quickchartButtonEl.classList.add('colab-df-spinner');\n",
              "      try {\n",
              "        const charts = await google.colab.kernel.invokeFunction(\n",
              "            'suggestCharts', [key], {});\n",
              "      } catch (error) {\n",
              "        console.error('Error during call to suggestCharts:', error);\n",
              "      }\n",
              "      quickchartButtonEl.classList.remove('colab-df-spinner');\n",
              "      quickchartButtonEl.classList.add('colab-df-quickchart-complete');\n",
              "    }\n",
              "    (() => {\n",
              "      let quickchartButtonEl =\n",
              "        document.querySelector('#df-0a9f31e0-3ed3-46bb-ad7b-06db952c0e36 button');\n",
              "      quickchartButtonEl.style.display =\n",
              "        google.colab.kernel.accessAllowed ? 'block' : 'none';\n",
              "    })();\n",
              "  </script>\n",
              "</div>\n",
              "\n",
              "  <div id=\"id_f134f5a0-e5e6-4d51-ab27-b8108ee9fc73\">\n",
              "    <style>\n",
              "      .colab-df-generate {\n",
              "        background-color: #E8F0FE;\n",
              "        border: none;\n",
              "        border-radius: 50%;\n",
              "        cursor: pointer;\n",
              "        display: none;\n",
              "        fill: #1967D2;\n",
              "        height: 32px;\n",
              "        padding: 0 0 0 0;\n",
              "        width: 32px;\n",
              "      }\n",
              "\n",
              "      .colab-df-generate:hover {\n",
              "        background-color: #E2EBFA;\n",
              "        box-shadow: 0px 1px 2px rgba(60, 64, 67, 0.3), 0px 1px 3px 1px rgba(60, 64, 67, 0.15);\n",
              "        fill: #174EA6;\n",
              "      }\n",
              "\n",
              "      [theme=dark] .colab-df-generate {\n",
              "        background-color: #3B4455;\n",
              "        fill: #D2E3FC;\n",
              "      }\n",
              "\n",
              "      [theme=dark] .colab-df-generate:hover {\n",
              "        background-color: #434B5C;\n",
              "        box-shadow: 0px 1px 3px 1px rgba(0, 0, 0, 0.15);\n",
              "        filter: drop-shadow(0px 1px 2px rgba(0, 0, 0, 0.3));\n",
              "        fill: #FFFFFF;\n",
              "      }\n",
              "    </style>\n",
              "    <button class=\"colab-df-generate\" onclick=\"generateWithVariable('sampled_non_toxic')\"\n",
              "            title=\"Generate code using this dataframe.\"\n",
              "            style=\"display:none;\">\n",
              "\n",
              "  <svg xmlns=\"http://www.w3.org/2000/svg\" height=\"24px\"viewBox=\"0 0 24 24\"\n",
              "       width=\"24px\">\n",
              "    <path d=\"M7,19H8.4L18.45,9,17,7.55,7,17.6ZM5,21V16.75L18.45,3.32a2,2,0,0,1,2.83,0l1.4,1.43a1.91,1.91,0,0,1,.58,1.4,1.91,1.91,0,0,1-.58,1.4L9.25,21ZM18.45,9,17,7.55Zm-12,3A5.31,5.31,0,0,0,4.9,8.1,5.31,5.31,0,0,0,1,6.5,5.31,5.31,0,0,0,4.9,4.9,5.31,5.31,0,0,0,6.5,1,5.31,5.31,0,0,0,8.1,4.9,5.31,5.31,0,0,0,12,6.5,5.46,5.46,0,0,0,6.5,12Z\"/>\n",
              "  </svg>\n",
              "    </button>\n",
              "    <script>\n",
              "      (() => {\n",
              "      const buttonEl =\n",
              "        document.querySelector('#id_f134f5a0-e5e6-4d51-ab27-b8108ee9fc73 button.colab-df-generate');\n",
              "      buttonEl.style.display =\n",
              "        google.colab.kernel.accessAllowed ? 'block' : 'none';\n",
              "\n",
              "      buttonEl.onclick = () => {\n",
              "        google.colab.notebook.generateWithVariable('sampled_non_toxic');\n",
              "      }\n",
              "      })();\n",
              "    </script>\n",
              "  </div>\n",
              "\n",
              "    </div>\n",
              "  </div>\n"
            ],
            "application/vnd.google.colaboratory.intrinsic+json": {
              "type": "dataframe",
              "variable_name": "sampled_non_toxic",
              "summary": "{\n  \"name\": \"sampled_non_toxic\",\n  \"rows\": 3000,\n  \"fields\": [\n    {\n      \"column\": \"comment_text\",\n      \"properties\": {\n        \"dtype\": \"string\",\n        \"num_unique_values\": 3000,\n        \"samples\": [\n          \"2010 (UTC)\\n Done   \\n Add sort by number of associated routes   06:45, 11 May\",\n          \"\\\"\\n You're welcome. I was pretty surprised to see that coming from you as you're always on the ball. The other editor emailed me, befuddled as to how to add a ref. I've asked him to put it on the talk page if he can't figure it out and I'll add it for him.  talk to me \\\"\",\n          \"Image:Osx-in-action-small.gif listed for deletion \\nAn image or media file that you uploaded or altered, Image:Osx-in-action-small.gif, has been listed at Wikipedia:Images and media for deletion. Please see the discussion to see why this is (you may have to search for the title of the image to find its entry), if you are interested in it not being deleted.\"\n        ],\n        \"semantic_type\": \"\",\n        \"description\": \"\"\n      }\n    },\n    {\n      \"column\": \"toxic\",\n      \"properties\": {\n        \"dtype\": \"number\",\n        \"std\": 0,\n        \"min\": 0,\n        \"max\": 0,\n        \"num_unique_values\": 1,\n        \"samples\": [\n          0\n        ],\n        \"semantic_type\": \"\",\n        \"description\": \"\"\n      }\n    },\n    {\n      \"column\": \"severe_toxic\",\n      \"properties\": {\n        \"dtype\": \"number\",\n        \"std\": 0,\n        \"min\": 0,\n        \"max\": 0,\n        \"num_unique_values\": 1,\n        \"samples\": [\n          0\n        ],\n        \"semantic_type\": \"\",\n        \"description\": \"\"\n      }\n    },\n    {\n      \"column\": \"obscene\",\n      \"properties\": {\n        \"dtype\": \"number\",\n        \"std\": 0,\n        \"min\": 0,\n        \"max\": 0,\n        \"num_unique_values\": 1,\n        \"samples\": [\n          0\n        ],\n        \"semantic_type\": \"\",\n        \"description\": \"\"\n      }\n    },\n    {\n      \"column\": \"threat\",\n      \"properties\": {\n        \"dtype\": \"number\",\n        \"std\": 0,\n        \"min\": 0,\n        \"max\": 0,\n        \"num_unique_values\": 1,\n        \"samples\": [\n          0\n        ],\n        \"semantic_type\": \"\",\n        \"description\": \"\"\n      }\n    },\n    {\n      \"column\": \"insult\",\n      \"properties\": {\n        \"dtype\": \"number\",\n        \"std\": 0,\n        \"min\": 0,\n        \"max\": 0,\n        \"num_unique_values\": 1,\n        \"samples\": [\n          0\n        ],\n        \"semantic_type\": \"\",\n        \"description\": \"\"\n      }\n    },\n    {\n      \"column\": \"identity_hate\",\n      \"properties\": {\n        \"dtype\": \"number\",\n        \"std\": 0,\n        \"min\": 0,\n        \"max\": 0,\n        \"num_unique_values\": 1,\n        \"samples\": [\n          0\n        ],\n        \"semantic_type\": \"\",\n        \"description\": \"\"\n      }\n    },\n    {\n      \"column\": \"sum_injurious\",\n      \"properties\": {\n        \"dtype\": \"number\",\n        \"std\": 0,\n        \"min\": 0,\n        \"max\": 0,\n        \"num_unique_values\": 1,\n        \"samples\": [\n          0\n        ],\n        \"semantic_type\": \"\",\n        \"description\": \"\"\n      }\n    }\n  ]\n}"
            }
          },
          "metadata": {},
          "execution_count": 33
        }
      ]
    },
    {
      "cell_type": "code",
      "source": [
        "# Concatenate the both dataframe to create the new one\n",
        "df = pd.concat([df_balanced, sampled_non_toxic], ignore_index=True)"
      ],
      "metadata": {
        "id": "inm2G6GsCd8z"
      },
      "id": "inm2G6GsCd8z",
      "execution_count": 34,
      "outputs": []
    },
    {
      "cell_type": "code",
      "source": [
        "# Plot class distribution\n",
        "plot_distribution_barplot(df, LABELS)"
      ],
      "metadata": {
        "colab": {
          "base_uri": "https://localhost:8080/",
          "height": 625
        },
        "id": "hf3kAO5XQXOJ",
        "outputId": "be3fc7a5-5664-4101-fa6f-0116f442aa79"
      },
      "id": "hf3kAO5XQXOJ",
      "execution_count": 35,
      "outputs": [
        {
          "output_type": "display_data",
          "data": {
            "text/plain": [
              "<Figure size 1000x600 with 1 Axes>"
            ],
            "image/png": "[encoded data removed]"
          },
          "metadata": {}
        }
      ]
    },
    {
      "cell_type": "markdown",
      "source": [
        "As shown by histogram, the **balance between labels is reduced from original dataset shape**.\n",
        "\n",
        "At current status, it could be used for an AI model training."
      ],
      "metadata": {
        "id": "xm-uEhklkP3-"
      },
      "id": "xm-uEhklkP3-"
    },
    {
      "cell_type": "markdown",
      "source": [
        "## 5.4 Preprocessing Comments: Data Cleaning"
      ],
      "metadata": {
        "id": "PovJvfDckp12"
      },
      "id": "PovJvfDckp12"
    },
    {
      "cell_type": "markdown",
      "source": [
        "Remove from comments semantic contribution such as punctuation, numbers and spaces"
      ],
      "metadata": {
        "id": "yf4gbW77k6zG"
      },
      "id": "yf4gbW77k6zG"
    },
    {
      "cell_type": "code",
      "execution_count": 36,
      "id": "9UNpNqWGMV0l",
      "metadata": {
        "colab": {
          "base_uri": "https://localhost:8080/",
          "height": 206
        },
        "id": "9UNpNqWGMV0l",
        "outputId": "81127476-a656-4f83-dc64-01b43afb1e85"
      },
      "outputs": [
        {
          "output_type": "execute_result",
          "data": {
            "text/plain": [
              "                                        comment_text  toxic  severe_toxic  \\\n",
              "0  dickhead dickhead, your a dickhead, you can ta...      1             1   \n",
              "1  FUCK \\nYou little bitch the cowboys have no te...      1             1   \n",
              "2  facist muslim fuck face\\nis what u r. bitch. f...      1             1   \n",
              "3  BKBKBKBK\\nIM SOOO SORRY FOR SAYIN THOSE NAUGHT...      1             1   \n",
              "4                fuck you george \\n\\nakhtak sharmota      1             1   \n",
              "\n",
              "   obscene  threat  insult  identity_hate  sum_injurious  \\\n",
              "0        1       0       1              0              4   \n",
              "1        1       0       1              0              4   \n",
              "2        1       0       1              1              5   \n",
              "3        1       0       1              1              5   \n",
              "4        1       0       1              0              4   \n",
              "\n",
              "                                     cleaned_comment  \n",
              "0  dickhead dickhead your a dickhead you can take...  \n",
              "1   fuck you little bitch the cowboys have no testes  \n",
              "2  facist muslim fuck face is what u r bitch fuck...  \n",
              "3  bkbkbkbk im sooo sorry for sayin those naughty...  \n",
              "4                    fuck you george akhtak sharmota  "
            ],
            "text/html": [
              "\n",
              "  <div id=\"df-bc72a9bd-f84d-4d21-b2f5-02cffeb774f9\" class=\"colab-df-container\">\n",
              "    <div>\n",
              "<style scoped>\n",
              "    .dataframe tbody tr th:only-of-type {\n",
              "        vertical-align: middle;\n",
              "    }\n",
              "\n",
              "    .dataframe tbody tr th {\n",
              "        vertical-align: top;\n",
              "    }\n",
              "\n",
              "    .dataframe thead th {\n",
              "        text-align: right;\n",
              "    }\n",
              "</style>\n",
              "<table border=\"1\" class=\"dataframe\">\n",
              "  <thead>\n",
              "    <tr style=\"text-align: right;\">\n",
              "      <th></th>\n",
              "      <th>comment_text</th>\n",
              "      <th>toxic</th>\n",
              "      <th>severe_toxic</th>\n",
              "      <th>obscene</th>\n",
              "      <th>threat</th>\n",
              "      <th>insult</th>\n",
              "      <th>identity_hate</th>\n",
              "      <th>sum_injurious</th>\n",
              "      <th>cleaned_comment</th>\n",
              "    </tr>\n",
              "  </thead>\n",
              "  <tbody>\n",
              "    <tr>\n",
              "      <th>0</th>\n",
              "      <td>dickhead dickhead, your a dickhead, you can ta...</td>\n",
              "      <td>1</td>\n",
              "      <td>1</td>\n",
              "      <td>1</td>\n",
              "      <td>0</td>\n",
              "      <td>1</td>\n",
              "      <td>0</td>\n",
              "      <td>4</td>\n",
              "      <td>dickhead dickhead your a dickhead you can take...</td>\n",
              "    </tr>\n",
              "    <tr>\n",
              "      <th>1</th>\n",
              "      <td>FUCK \\nYou little bitch the cowboys have no te...</td>\n",
              "      <td>1</td>\n",
              "      <td>1</td>\n",
              "      <td>1</td>\n",
              "      <td>0</td>\n",
              "      <td>1</td>\n",
              "      <td>0</td>\n",
              "      <td>4</td>\n",
              "      <td>fuck you little bitch the cowboys have no testes</td>\n",
              "    </tr>\n",
              "    <tr>\n",
              "      <th>2</th>\n",
              "      <td>facist muslim fuck face\\nis what u r. bitch. f...</td>\n",
              "      <td>1</td>\n",
              "      <td>1</td>\n",
              "      <td>1</td>\n",
              "      <td>0</td>\n",
              "      <td>1</td>\n",
              "      <td>1</td>\n",
              "      <td>5</td>\n",
              "      <td>facist muslim fuck face is what u r bitch fuck...</td>\n",
              "    </tr>\n",
              "    <tr>\n",
              "      <th>3</th>\n",
              "      <td>BKBKBKBK\\nIM SOOO SORRY FOR SAYIN THOSE NAUGHT...</td>\n",
              "      <td>1</td>\n",
              "      <td>1</td>\n",
              "      <td>1</td>\n",
              "      <td>0</td>\n",
              "      <td>1</td>\n",
              "      <td>1</td>\n",
              "      <td>5</td>\n",
              "      <td>bkbkbkbk im sooo sorry for sayin those naughty...</td>\n",
              "    </tr>\n",
              "    <tr>\n",
              "      <th>4</th>\n",
              "      <td>fuck you george \\n\\nakhtak sharmota</td>\n",
              "      <td>1</td>\n",
              "      <td>1</td>\n",
              "      <td>1</td>\n",
              "      <td>0</td>\n",
              "      <td>1</td>\n",
              "      <td>0</td>\n",
              "      <td>4</td>\n",
              "      <td>fuck you george akhtak sharmota</td>\n",
              "    </tr>\n",
              "  </tbody>\n",
              "</table>\n",
              "</div>\n",
              "    <div class=\"colab-df-buttons\">\n",
              "\n",
              "  <div class=\"colab-df-container\">\n",
              "    <button class=\"colab-df-convert\" onclick=\"convertToInteractive('df-bc72a9bd-f84d-4d21-b2f5-02cffeb774f9')\"\n",
              "            title=\"Convert this dataframe to an interactive table.\"\n",
              "            style=\"display:none;\">\n",
              "\n",
              "  <svg xmlns=\"http://www.w3.org/2000/svg\" height=\"24px\" viewBox=\"0 -960 960 960\">\n",
              "    <path d=\"M120-120v-720h720v720H120Zm60-500h600v-160H180v160Zm220 220h160v-160H400v160Zm0 220h160v-160H400v160ZM180-400h160v-160H180v160Zm440 0h160v-160H620v160ZM180-180h160v-160H180v160Zm440 0h160v-160H620v160Z\"/>\n",
              "  </svg>\n",
              "    </button>\n",
              "\n",
              "  <style>\n",
              "    .colab-df-container {\n",
              "      display:flex;\n",
              "      gap: 12px;\n",
              "    }\n",
              "\n",
              "    .colab-df-convert {\n",
              "      background-color: #E8F0FE;\n",
              "      border: none;\n",
              "      border-radius: 50%;\n",
              "      cursor: pointer;\n",
              "      display: none;\n",
              "      fill: #1967D2;\n",
              "      height: 32px;\n",
              "      padding: 0 0 0 0;\n",
              "      width: 32px;\n",
              "    }\n",
              "\n",
              "    .colab-df-convert:hover {\n",
              "      background-color: #E2EBFA;\n",
              "      box-shadow: 0px 1px 2px rgba(60, 64, 67, 0.3), 0px 1px 3px 1px rgba(60, 64, 67, 0.15);\n",
              "      fill: #174EA6;\n",
              "    }\n",
              "\n",
              "    .colab-df-buttons div {\n",
              "      margin-bottom: 4px;\n",
              "    }\n",
              "\n",
              "    [theme=dark] .colab-df-convert {\n",
              "      background-color: #3B4455;\n",
              "      fill: #D2E3FC;\n",
              "    }\n",
              "\n",
              "    [theme=dark] .colab-df-convert:hover {\n",
              "      background-color: #434B5C;\n",
              "      box-shadow: 0px 1px 3px 1px rgba(0, 0, 0, 0.15);\n",
              "      filter: drop-shadow(0px 1px 2px rgba(0, 0, 0, 0.3));\n",
              "      fill: #FFFFFF;\n",
              "    }\n",
              "  </style>\n",
              "\n",
              "    <script>\n",
              "      const buttonEl =\n",
              "        document.querySelector('#df-bc72a9bd-f84d-4d21-b2f5-02cffeb774f9 button.colab-df-convert');\n",
              "      buttonEl.style.display =\n",
              "        google.colab.kernel.accessAllowed ? 'block' : 'none';\n",
              "\n",
              "      async function convertToInteractive(key) {\n",
              "        const element = document.querySelector('#df-bc72a9bd-f84d-4d21-b2f5-02cffeb774f9');\n",
              "        const dataTable =\n",
              "          await google.colab.kernel.invokeFunction('convertToInteractive',\n",
              "                                                    [key], {});\n",
              "        if (!dataTable) return;\n",
              "\n",
              "        const docLinkHtml = 'Like what you see? Visit the ' +\n",
              "          '<a target=\"_blank\" href=https://colab.research.google.com/notebooks/data_table.ipynb>data table notebook</a>'\n",
              "          + ' to learn more about interactive tables.';\n",
              "        element.innerHTML = '';\n",
              "        dataTable['output_type'] = 'display_data';\n",
              "        await google.colab.output.renderOutput(dataTable, element);\n",
              "        const docLink = document.createElement('div');\n",
              "        docLink.innerHTML = docLinkHtml;\n",
              "        element.appendChild(docLink);\n",
              "      }\n",
              "    </script>\n",
              "  </div>\n",
              "\n",
              "\n",
              "<div id=\"df-59c23ac2-f05f-4de5-8de5-46426218da98\">\n",
              "  <button class=\"colab-df-quickchart\" onclick=\"quickchart('df-59c23ac2-f05f-4de5-8de5-46426218da98')\"\n",
              "            title=\"Suggest charts\"\n",
              "            style=\"display:none;\">\n",
              "\n",
              "<svg xmlns=\"http://www.w3.org/2000/svg\" height=\"24px\"viewBox=\"0 0 24 24\"\n",
              "     width=\"24px\">\n",
              "    <g>\n",
              "        <path d=\"M19 3H5c-1.1 0-2 .9-2 2v14c0 1.1.9 2 2 2h14c1.1 0 2-.9 2-2V5c0-1.1-.9-2-2-2zM9 17H7v-7h2v7zm4 0h-2V7h2v10zm4 0h-2v-4h2v4z\"/>\n",
              "    </g>\n",
              "</svg>\n",
              "  </button>\n",
              "\n",
              "<style>\n",
              "  .colab-df-quickchart {\n",
              "      --bg-color: #E8F0FE;\n",
              "      --fill-color: #1967D2;\n",
              "      --hover-bg-color: #E2EBFA;\n",
              "      --hover-fill-color: #174EA6;\n",
              "      --disabled-fill-color: #AAA;\n",
              "      --disabled-bg-color: #DDD;\n",
              "  }\n",
              "\n",
              "  [theme=dark] .colab-df-quickchart {\n",
              "      --bg-color: #3B4455;\n",
              "      --fill-color: #D2E3FC;\n",
              "      --hover-bg-color: #434B5C;\n",
              "      --hover-fill-color: #FFFFFF;\n",
              "      --disabled-bg-color: #3B4455;\n",
              "      --disabled-fill-color: #666;\n",
              "  }\n",
              "\n",
              "  .colab-df-quickchart {\n",
              "    background-color: var(--bg-color);\n",
              "    border: none;\n",
              "    border-radius: 50%;\n",
              "    cursor: pointer;\n",
              "    display: none;\n",
              "    fill: var(--fill-color);\n",
              "    height: 32px;\n",
              "    padding: 0;\n",
              "    width: 32px;\n",
              "  }\n",
              "\n",
              "  .colab-df-quickchart:hover {\n",
              "    background-color: var(--hover-bg-color);\n",
              "    box-shadow: 0 1px 2px rgba(60, 64, 67, 0.3), 0 1px 3px 1px rgba(60, 64, 67, 0.15);\n",
              "    fill: var(--button-hover-fill-color);\n",
              "  }\n",
              "\n",
              "  .colab-df-quickchart-complete:disabled,\n",
              "  .colab-df-quickchart-complete:disabled:hover {\n",
              "    background-color: var(--disabled-bg-color);\n",
              "    fill: var(--disabled-fill-color);\n",
              "    box-shadow: none;\n",
              "  }\n",
              "\n",
              "  .colab-df-spinner {\n",
              "    border: 2px solid var(--fill-color);\n",
              "    border-color: transparent;\n",
              "    border-bottom-color: var(--fill-color);\n",
              "    animation:\n",
              "      spin 1s steps(1) infinite;\n",
              "  }\n",
              "\n",
              "  @keyframes spin {\n",
              "    0% {\n",
              "      border-color: transparent;\n",
              "      border-bottom-color: var(--fill-color);\n",
              "      border-left-color: var(--fill-color);\n",
              "    }\n",
              "    20% {\n",
              "      border-color: transparent;\n",
              "      border-left-color: var(--fill-color);\n",
              "      border-top-color: var(--fill-color);\n",
              "    }\n",
              "    30% {\n",
              "      border-color: transparent;\n",
              "      border-left-color: var(--fill-color);\n",
              "      border-top-color: var(--fill-color);\n",
              "      border-right-color: var(--fill-color);\n",
              "    }\n",
              "    40% {\n",
              "      border-color: transparent;\n",
              "      border-right-color: var(--fill-color);\n",
              "      border-top-color: var(--fill-color);\n",
              "    }\n",
              "    60% {\n",
              "      border-color: transparent;\n",
              "      border-right-color: var(--fill-color);\n",
              "    }\n",
              "    80% {\n",
              "      border-color: transparent;\n",
              "      border-right-color: var(--fill-color);\n",
              "      border-bottom-color: var(--fill-color);\n",
              "    }\n",
              "    90% {\n",
              "      border-color: transparent;\n",
              "      border-bottom-color: var(--fill-color);\n",
              "    }\n",
              "  }\n",
              "</style>\n",
              "\n",
              "  <script>\n",
              "    async function quickchart(key) {\n",
              "      const quickchartButtonEl =\n",
              "        document.querySelector('#' + key + ' button');\n",
              "      quickchartButtonEl.disabled = true;  // To prevent multiple clicks.\n",
              "      quickchartButtonEl.classList.add('colab-df-spinner');\n",
              "      try {\n",
              "        const charts = await google.colab.kernel.invokeFunction(\n",
              "            'suggestCharts', [key], {});\n",
              "      } catch (error) {\n",
              "        console.error('Error during call to suggestCharts:', error);\n",
              "      }\n",
              "      quickchartButtonEl.classList.remove('colab-df-spinner');\n",
              "      quickchartButtonEl.classList.add('colab-df-quickchart-complete');\n",
              "    }\n",
              "    (() => {\n",
              "      let quickchartButtonEl =\n",
              "        document.querySelector('#df-59c23ac2-f05f-4de5-8de5-46426218da98 button');\n",
              "      quickchartButtonEl.style.display =\n",
              "        google.colab.kernel.accessAllowed ? 'block' : 'none';\n",
              "    })();\n",
              "  </script>\n",
              "</div>\n",
              "\n",
              "    </div>\n",
              "  </div>\n"
            ],
            "application/vnd.google.colaboratory.intrinsic+json": {
              "type": "dataframe",
              "variable_name": "df",
              "summary": "{\n  \"name\": \"df\",\n  \"rows\": 7343,\n  \"fields\": [\n    {\n      \"column\": \"comment_text\",\n      \"properties\": {\n        \"dtype\": \"string\",\n        \"num_unique_values\": 5473,\n        \"samples\": [\n          \"}} and his many, many socks\",\n          \"Picture at top of article \\n\\nIs this really the best we can do?  A random statue?  How does that picture even convey the meaning of rape?  They could be dancing for all I know.\",\n          \"Die \\n\\nI HATE YOU PRICK YOU DINT DESERVE A PLACE HERE\"\n        ],\n        \"semantic_type\": \"\",\n        \"description\": \"\"\n      }\n    },\n    {\n      \"column\": \"toxic\",\n      \"properties\": {\n        \"dtype\": \"number\",\n        \"std\": 0,\n        \"min\": 0,\n        \"max\": 1,\n        \"num_unique_values\": 2,\n        \"samples\": [\n          0,\n          1\n        ],\n        \"semantic_type\": \"\",\n        \"description\": \"\"\n      }\n    },\n    {\n      \"column\": \"severe_toxic\",\n      \"properties\": {\n        \"dtype\": \"number\",\n        \"std\": 0,\n        \"min\": 0,\n        \"max\": 1,\n        \"num_unique_values\": 2,\n        \"samples\": [\n          0,\n          1\n        ],\n        \"semantic_type\": \"\",\n        \"description\": \"\"\n      }\n    },\n    {\n      \"column\": \"obscene\",\n      \"properties\": {\n        \"dtype\": \"number\",\n        \"std\": 0,\n        \"min\": 0,\n        \"max\": 1,\n        \"num_unique_values\": 2,\n        \"samples\": [\n          0,\n          1\n        ],\n        \"semantic_type\": \"\",\n        \"description\": \"\"\n      }\n    },\n    {\n      \"column\": \"threat\",\n      \"properties\": {\n        \"dtype\": \"number\",\n        \"std\": 0,\n        \"min\": 0,\n        \"max\": 1,\n        \"num_unique_values\": 2,\n        \"samples\": [\n          1,\n          0\n        ],\n        \"semantic_type\": \"\",\n        \"description\": \"\"\n      }\n    },\n    {\n      \"column\": \"insult\",\n      \"properties\": {\n        \"dtype\": \"number\",\n        \"std\": 0,\n        \"min\": 0,\n        \"max\": 1,\n        \"num_unique_values\": 2,\n        \"samples\": [\n          0,\n          1\n        ],\n        \"semantic_type\": \"\",\n        \"description\": \"\"\n      }\n    },\n    {\n      \"column\": \"identity_hate\",\n      \"properties\": {\n        \"dtype\": \"number\",\n        \"std\": 0,\n        \"min\": 0,\n        \"max\": 1,\n        \"num_unique_values\": 2,\n        \"samples\": [\n          1,\n          0\n        ],\n        \"semantic_type\": \"\",\n        \"description\": \"\"\n      }\n    },\n    {\n      \"column\": \"sum_injurious\",\n      \"properties\": {\n        \"dtype\": \"number\",\n        \"std\": 2,\n        \"min\": 0,\n        \"max\": 6,\n        \"num_unique_values\": 7,\n        \"samples\": [\n          4,\n          5\n        ],\n        \"semantic_type\": \"\",\n        \"description\": \"\"\n      }\n    },\n    {\n      \"column\": \"cleaned_comment\",\n      \"properties\": {\n        \"dtype\": \"string\",\n        \"num_unique_values\": 5451,\n        \"samples\": [\n          \"faculty is different because it has both singular and plural senses team does not however i like the way you have solved the problem with your latest edit dec utc\",\n          \"get off your fucking high horse im not a newcomer please just piss off from my user talk page and go admin abuse someone else\"\n        ],\n        \"semantic_type\": \"\",\n        \"description\": \"\"\n      }\n    }\n  ]\n}"
            }
          },
          "metadata": {},
          "execution_count": 36
        }
      ],
      "source": [
        "# Clean the comment and store them into dataset\n",
        "df['cleaned_comment'] = df['comment_text'].apply(preprocess_text)\n",
        "\n",
        "# Show the new dataset\n",
        "df.head()"
      ]
    },
    {
      "cell_type": "markdown",
      "source": [
        "## 5.5 Words Coverage Analysis"
      ],
      "metadata": {
        "id": "f6Wbel-glGMW"
      },
      "id": "f6Wbel-glGMW"
    },
    {
      "cell_type": "markdown",
      "source": [
        "### 5.5.1 Words Length Analysis"
      ],
      "metadata": {
        "id": "gPSPkfr7mXoV"
      },
      "id": "gPSPkfr7mXoV"
    },
    {
      "cell_type": "markdown",
      "source": [
        "Calculate the comment length for each sample"
      ],
      "metadata": {
        "id": "ejc-uH9PlMeF"
      },
      "id": "ejc-uH9PlMeF"
    },
    {
      "cell_type": "code",
      "execution_count": 37,
      "id": "K9dVwPoTMV5P",
      "metadata": {
        "colab": {
          "base_uri": "https://localhost:8080/",
          "height": 241
        },
        "id": "K9dVwPoTMV5P",
        "outputId": "7671f969-fad5-46f0-9a47-2b3c91aef5ba"
      },
      "outputs": [
        {
          "output_type": "execute_result",
          "data": {
            "text/plain": [
              "                                        comment_text  toxic  severe_toxic  \\\n",
              "0  dickhead dickhead, your a dickhead, you can ta...      1             1   \n",
              "1  FUCK \\nYou little bitch the cowboys have no te...      1             1   \n",
              "2  facist muslim fuck face\\nis what u r. bitch. f...      1             1   \n",
              "3  BKBKBKBK\\nIM SOOO SORRY FOR SAYIN THOSE NAUGHT...      1             1   \n",
              "4                fuck you george \\n\\nakhtak sharmota      1             1   \n",
              "\n",
              "   obscene  threat  insult  identity_hate  sum_injurious  \\\n",
              "0        1       0       1              0              4   \n",
              "1        1       0       1              0              4   \n",
              "2        1       0       1              1              5   \n",
              "3        1       0       1              1              5   \n",
              "4        1       0       1              0              4   \n",
              "\n",
              "                                     cleaned_comment  comment_length  \n",
              "0  dickhead dickhead your a dickhead you can take...              27  \n",
              "1   fuck you little bitch the cowboys have no testes               9  \n",
              "2  facist muslim fuck face is what u r bitch fuck...              13  \n",
              "3  bkbkbkbk im sooo sorry for sayin those naughty...             371  \n",
              "4                    fuck you george akhtak sharmota               5  "
            ],
            "text/html": [
              "\n",
              "  <div id=\"df-69c5449b-1e9e-4e89-8aca-a8155a80fda7\" class=\"colab-df-container\">\n",
              "    <div>\n",
              "<style scoped>\n",
              "    .dataframe tbody tr th:only-of-type {\n",
              "        vertical-align: middle;\n",
              "    }\n",
              "\n",
              "    .dataframe tbody tr th {\n",
              "        vertical-align: top;\n",
              "    }\n",
              "\n",
              "    .dataframe thead th {\n",
              "        text-align: right;\n",
              "    }\n",
              "</style>\n",
              "<table border=\"1\" class=\"dataframe\">\n",
              "  <thead>\n",
              "    <tr style=\"text-align: right;\">\n",
              "      <th></th>\n",
              "      <th>comment_text</th>\n",
              "      <th>toxic</th>\n",
              "      <th>severe_toxic</th>\n",
              "      <th>obscene</th>\n",
              "      <th>threat</th>\n",
              "      <th>insult</th>\n",
              "      <th>identity_hate</th>\n",
              "      <th>sum_injurious</th>\n",
              "      <th>cleaned_comment</th>\n",
              "      <th>comment_length</th>\n",
              "    </tr>\n",
              "  </thead>\n",
              "  <tbody>\n",
              "    <tr>\n",
              "      <th>0</th>\n",
              "      <td>dickhead dickhead, your a dickhead, you can ta...</td>\n",
              "      <td>1</td>\n",
              "      <td>1</td>\n",
              "      <td>1</td>\n",
              "      <td>0</td>\n",
              "      <td>1</td>\n",
              "      <td>0</td>\n",
              "      <td>4</td>\n",
              "      <td>dickhead dickhead your a dickhead you can take...</td>\n",
              "      <td>27</td>\n",
              "    </tr>\n",
              "    <tr>\n",
              "      <th>1</th>\n",
              "      <td>FUCK \\nYou little bitch the cowboys have no te...</td>\n",
              "      <td>1</td>\n",
              "      <td>1</td>\n",
              "      <td>1</td>\n",
              "      <td>0</td>\n",
              "      <td>1</td>\n",
              "      <td>0</td>\n",
              "      <td>4</td>\n",
              "      <td>fuck you little bitch the cowboys have no testes</td>\n",
              "      <td>9</td>\n",
              "    </tr>\n",
              "    <tr>\n",
              "      <th>2</th>\n",
              "      <td>facist muslim fuck face\\nis what u r. bitch. f...</td>\n",
              "      <td>1</td>\n",
              "      <td>1</td>\n",
              "      <td>1</td>\n",
              "      <td>0</td>\n",
              "      <td>1</td>\n",
              "      <td>1</td>\n",
              "      <td>5</td>\n",
              "      <td>facist muslim fuck face is what u r bitch fuck...</td>\n",
              "      <td>13</td>\n",
              "    </tr>\n",
              "    <tr>\n",
              "      <th>3</th>\n",
              "      <td>BKBKBKBK\\nIM SOOO SORRY FOR SAYIN THOSE NAUGHT...</td>\n",
              "      <td>1</td>\n",
              "      <td>1</td>\n",
              "      <td>1</td>\n",
              "      <td>0</td>\n",
              "      <td>1</td>\n",
              "      <td>1</td>\n",
              "      <td>5</td>\n",
              "      <td>bkbkbkbk im sooo sorry for sayin those naughty...</td>\n",
              "      <td>371</td>\n",
              "    </tr>\n",
              "    <tr>\n",
              "      <th>4</th>\n",
              "      <td>fuck you george \\n\\nakhtak sharmota</td>\n",
              "      <td>1</td>\n",
              "      <td>1</td>\n",
              "      <td>1</td>\n",
              "      <td>0</td>\n",
              "      <td>1</td>\n",
              "      <td>0</td>\n",
              "      <td>4</td>\n",
              "      <td>fuck you george akhtak sharmota</td>\n",
              "      <td>5</td>\n",
              "    </tr>\n",
              "  </tbody>\n",
              "</table>\n",
              "</div>\n",
              "    <div class=\"colab-df-buttons\">\n",
              "\n",
              "  <div class=\"colab-df-container\">\n",
              "    <button class=\"colab-df-convert\" onclick=\"convertToInteractive('df-69c5449b-1e9e-4e89-8aca-a8155a80fda7')\"\n",
              "            title=\"Convert this dataframe to an interactive table.\"\n",
              "            style=\"display:none;\">\n",
              "\n",
              "  <svg xmlns=\"http://www.w3.org/2000/svg\" height=\"24px\" viewBox=\"0 -960 960 960\">\n",
              "    <path d=\"M120-120v-720h720v720H120Zm60-500h600v-160H180v160Zm220 220h160v-160H400v160Zm0 220h160v-160H400v160ZM180-400h160v-160H180v160Zm440 0h160v-160H620v160ZM180-180h160v-160H180v160Zm440 0h160v-160H620v160Z\"/>\n",
              "  </svg>\n",
              "    </button>\n",
              "\n",
              "  <style>\n",
              "    .colab-df-container {\n",
              "      display:flex;\n",
              "      gap: 12px;\n",
              "    }\n",
              "\n",
              "    .colab-df-convert {\n",
              "      background-color: #E8F0FE;\n",
              "      border: none;\n",
              "      border-radius: 50%;\n",
              "      cursor: pointer;\n",
              "      display: none;\n",
              "      fill: #1967D2;\n",
              "      height: 32px;\n",
              "      padding: 0 0 0 0;\n",
              "      width: 32px;\n",
              "    }\n",
              "\n",
              "    .colab-df-convert:hover {\n",
              "      background-color: #E2EBFA;\n",
              "      box-shadow: 0px 1px 2px rgba(60, 64, 67, 0.3), 0px 1px 3px 1px rgba(60, 64, 67, 0.15);\n",
              "      fill: #174EA6;\n",
              "    }\n",
              "\n",
              "    .colab-df-buttons div {\n",
              "      margin-bottom: 4px;\n",
              "    }\n",
              "\n",
              "    [theme=dark] .colab-df-convert {\n",
              "      background-color: #3B4455;\n",
              "      fill: #D2E3FC;\n",
              "    }\n",
              "\n",
              "    [theme=dark] .colab-df-convert:hover {\n",
              "      background-color: #434B5C;\n",
              "      box-shadow: 0px 1px 3px 1px rgba(0, 0, 0, 0.15);\n",
              "      filter: drop-shadow(0px 1px 2px rgba(0, 0, 0, 0.3));\n",
              "      fill: #FFFFFF;\n",
              "    }\n",
              "  </style>\n",
              "\n",
              "    <script>\n",
              "      const buttonEl =\n",
              "        document.querySelector('#df-69c5449b-1e9e-4e89-8aca-a8155a80fda7 button.colab-df-convert');\n",
              "      buttonEl.style.display =\n",
              "        google.colab.kernel.accessAllowed ? 'block' : 'none';\n",
              "\n",
              "      async function convertToInteractive(key) {\n",
              "        const element = document.querySelector('#df-69c5449b-1e9e-4e89-8aca-a8155a80fda7');\n",
              "        const dataTable =\n",
              "          await google.colab.kernel.invokeFunction('convertToInteractive',\n",
              "                                                    [key], {});\n",
              "        if (!dataTable) return;\n",
              "\n",
              "        const docLinkHtml = 'Like what you see? Visit the ' +\n",
              "          '<a target=\"_blank\" href=https://colab.research.google.com/notebooks/data_table.ipynb>data table notebook</a>'\n",
              "          + ' to learn more about interactive tables.';\n",
              "        element.innerHTML = '';\n",
              "        dataTable['output_type'] = 'display_data';\n",
              "        await google.colab.output.renderOutput(dataTable, element);\n",
              "        const docLink = document.createElement('div');\n",
              "        docLink.innerHTML = docLinkHtml;\n",
              "        element.appendChild(docLink);\n",
              "      }\n",
              "    </script>\n",
              "  </div>\n",
              "\n",
              "\n",
              "<div id=\"df-8ae6462c-3dd9-462d-80f0-b118d183f8c2\">\n",
              "  <button class=\"colab-df-quickchart\" onclick=\"quickchart('df-8ae6462c-3dd9-462d-80f0-b118d183f8c2')\"\n",
              "            title=\"Suggest charts\"\n",
              "            style=\"display:none;\">\n",
              "\n",
              "<svg xmlns=\"http://www.w3.org/2000/svg\" height=\"24px\"viewBox=\"0 0 24 24\"\n",
              "     width=\"24px\">\n",
              "    <g>\n",
              "        <path d=\"M19 3H5c-1.1 0-2 .9-2 2v14c0 1.1.9 2 2 2h14c1.1 0 2-.9 2-2V5c0-1.1-.9-2-2-2zM9 17H7v-7h2v7zm4 0h-2V7h2v10zm4 0h-2v-4h2v4z\"/>\n",
              "    </g>\n",
              "</svg>\n",
              "  </button>\n",
              "\n",
              "<style>\n",
              "  .colab-df-quickchart {\n",
              "      --bg-color: #E8F0FE;\n",
              "      --fill-color: #1967D2;\n",
              "      --hover-bg-color: #E2EBFA;\n",
              "      --hover-fill-color: #174EA6;\n",
              "      --disabled-fill-color: #AAA;\n",
              "      --disabled-bg-color: #DDD;\n",
              "  }\n",
              "\n",
              "  [theme=dark] .colab-df-quickchart {\n",
              "      --bg-color: #3B4455;\n",
              "      --fill-color: #D2E3FC;\n",
              "      --hover-bg-color: #434B5C;\n",
              "      --hover-fill-color: #FFFFFF;\n",
              "      --disabled-bg-color: #3B4455;\n",
              "      --disabled-fill-color: #666;\n",
              "  }\n",
              "\n",
              "  .colab-df-quickchart {\n",
              "    background-color: var(--bg-color);\n",
              "    border: none;\n",
              "    border-radius: 50%;\n",
              "    cursor: pointer;\n",
              "    display: none;\n",
              "    fill: var(--fill-color);\n",
              "    height: 32px;\n",
              "    padding: 0;\n",
              "    width: 32px;\n",
              "  }\n",
              "\n",
              "  .colab-df-quickchart:hover {\n",
              "    background-color: var(--hover-bg-color);\n",
              "    box-shadow: 0 1px 2px rgba(60, 64, 67, 0.3), 0 1px 3px 1px rgba(60, 64, 67, 0.15);\n",
              "    fill: var(--button-hover-fill-color);\n",
              "  }\n",
              "\n",
              "  .colab-df-quickchart-complete:disabled,\n",
              "  .colab-df-quickchart-complete:disabled:hover {\n",
              "    background-color: var(--disabled-bg-color);\n",
              "    fill: var(--disabled-fill-color);\n",
              "    box-shadow: none;\n",
              "  }\n",
              "\n",
              "  .colab-df-spinner {\n",
              "    border: 2px solid var(--fill-color);\n",
              "    border-color: transparent;\n",
              "    border-bottom-color: var(--fill-color);\n",
              "    animation:\n",
              "      spin 1s steps(1) infinite;\n",
              "  }\n",
              "\n",
              "  @keyframes spin {\n",
              "    0% {\n",
              "      border-color: transparent;\n",
              "      border-bottom-color: var(--fill-color);\n",
              "      border-left-color: var(--fill-color);\n",
              "    }\n",
              "    20% {\n",
              "      border-color: transparent;\n",
              "      border-left-color: var(--fill-color);\n",
              "      border-top-color: var(--fill-color);\n",
              "    }\n",
              "    30% {\n",
              "      border-color: transparent;\n",
              "      border-left-color: var(--fill-color);\n",
              "      border-top-color: var(--fill-color);\n",
              "      border-right-color: var(--fill-color);\n",
              "    }\n",
              "    40% {\n",
              "      border-color: transparent;\n",
              "      border-right-color: var(--fill-color);\n",
              "      border-top-color: var(--fill-color);\n",
              "    }\n",
              "    60% {\n",
              "      border-color: transparent;\n",
              "      border-right-color: var(--fill-color);\n",
              "    }\n",
              "    80% {\n",
              "      border-color: transparent;\n",
              "      border-right-color: var(--fill-color);\n",
              "      border-bottom-color: var(--fill-color);\n",
              "    }\n",
              "    90% {\n",
              "      border-color: transparent;\n",
              "      border-bottom-color: var(--fill-color);\n",
              "    }\n",
              "  }\n",
              "</style>\n",
              "\n",
              "  <script>\n",
              "    async function quickchart(key) {\n",
              "      const quickchartButtonEl =\n",
              "        document.querySelector('#' + key + ' button');\n",
              "      quickchartButtonEl.disabled = true;  // To prevent multiple clicks.\n",
              "      quickchartButtonEl.classList.add('colab-df-spinner');\n",
              "      try {\n",
              "        const charts = await google.colab.kernel.invokeFunction(\n",
              "            'suggestCharts', [key], {});\n",
              "      } catch (error) {\n",
              "        console.error('Error during call to suggestCharts:', error);\n",
              "      }\n",
              "      quickchartButtonEl.classList.remove('colab-df-spinner');\n",
              "      quickchartButtonEl.classList.add('colab-df-quickchart-complete');\n",
              "    }\n",
              "    (() => {\n",
              "      let quickchartButtonEl =\n",
              "        document.querySelector('#df-8ae6462c-3dd9-462d-80f0-b118d183f8c2 button');\n",
              "      quickchartButtonEl.style.display =\n",
              "        google.colab.kernel.accessAllowed ? 'block' : 'none';\n",
              "    })();\n",
              "  </script>\n",
              "</div>\n",
              "\n",
              "    </div>\n",
              "  </div>\n"
            ],
            "application/vnd.google.colaboratory.intrinsic+json": {
              "type": "dataframe",
              "variable_name": "df",
              "summary": "{\n  \"name\": \"df\",\n  \"rows\": 7343,\n  \"fields\": [\n    {\n      \"column\": \"comment_text\",\n      \"properties\": {\n        \"dtype\": \"string\",\n        \"num_unique_values\": 5473,\n        \"samples\": [\n          \"}} and his many, many socks\",\n          \"Picture at top of article \\n\\nIs this really the best we can do?  A random statue?  How does that picture even convey the meaning of rape?  They could be dancing for all I know.\",\n          \"Die \\n\\nI HATE YOU PRICK YOU DINT DESERVE A PLACE HERE\"\n        ],\n        \"semantic_type\": \"\",\n        \"description\": \"\"\n      }\n    },\n    {\n      \"column\": \"toxic\",\n      \"properties\": {\n        \"dtype\": \"number\",\n        \"std\": 0,\n        \"min\": 0,\n        \"max\": 1,\n        \"num_unique_values\": 2,\n        \"samples\": [\n          0,\n          1\n        ],\n        \"semantic_type\": \"\",\n        \"description\": \"\"\n      }\n    },\n    {\n      \"column\": \"severe_toxic\",\n      \"properties\": {\n        \"dtype\": \"number\",\n        \"std\": 0,\n        \"min\": 0,\n        \"max\": 1,\n        \"num_unique_values\": 2,\n        \"samples\": [\n          0,\n          1\n        ],\n        \"semantic_type\": \"\",\n        \"description\": \"\"\n      }\n    },\n    {\n      \"column\": \"obscene\",\n      \"properties\": {\n        \"dtype\": \"number\",\n        \"std\": 0,\n        \"min\": 0,\n        \"max\": 1,\n        \"num_unique_values\": 2,\n        \"samples\": [\n          0,\n          1\n        ],\n        \"semantic_type\": \"\",\n        \"description\": \"\"\n      }\n    },\n    {\n      \"column\": \"threat\",\n      \"properties\": {\n        \"dtype\": \"number\",\n        \"std\": 0,\n        \"min\": 0,\n        \"max\": 1,\n        \"num_unique_values\": 2,\n        \"samples\": [\n          1,\n          0\n        ],\n        \"semantic_type\": \"\",\n        \"description\": \"\"\n      }\n    },\n    {\n      \"column\": \"insult\",\n      \"properties\": {\n        \"dtype\": \"number\",\n        \"std\": 0,\n        \"min\": 0,\n        \"max\": 1,\n        \"num_unique_values\": 2,\n        \"samples\": [\n          0,\n          1\n        ],\n        \"semantic_type\": \"\",\n        \"description\": \"\"\n      }\n    },\n    {\n      \"column\": \"identity_hate\",\n      \"properties\": {\n        \"dtype\": \"number\",\n        \"std\": 0,\n        \"min\": 0,\n        \"max\": 1,\n        \"num_unique_values\": 2,\n        \"samples\": [\n          1,\n          0\n        ],\n        \"semantic_type\": \"\",\n        \"description\": \"\"\n      }\n    },\n    {\n      \"column\": \"sum_injurious\",\n      \"properties\": {\n        \"dtype\": \"number\",\n        \"std\": 2,\n        \"min\": 0,\n        \"max\": 6,\n        \"num_unique_values\": 7,\n        \"samples\": [\n          4,\n          5\n        ],\n        \"semantic_type\": \"\",\n        \"description\": \"\"\n      }\n    },\n    {\n      \"column\": \"cleaned_comment\",\n      \"properties\": {\n        \"dtype\": \"string\",\n        \"num_unique_values\": 5451,\n        \"samples\": [\n          \"faculty is different because it has both singular and plural senses team does not however i like the way you have solved the problem with your latest edit dec utc\",\n          \"get off your fucking high horse im not a newcomer please just piss off from my user talk page and go admin abuse someone else\"\n        ],\n        \"semantic_type\": \"\",\n        \"description\": \"\"\n      }\n    },\n    {\n      \"column\": \"comment_length\",\n      \"properties\": {\n        \"dtype\": \"number\",\n        \"std\": 131,\n        \"min\": 1,\n        \"max\": 1403,\n        \"num_unique_values\": 444,\n        \"samples\": [\n          107,\n          1068\n        ],\n        \"semantic_type\": \"\",\n        \"description\": \"\"\n      }\n    }\n  ]\n}"
            }
          },
          "metadata": {},
          "execution_count": 37
        }
      ],
      "source": [
        "# Calculate the comment length and store them into dataset\n",
        "df['comment_length'] = df['cleaned_comment'].apply(lambda x: len(x.split()))\n",
        "\n",
        "# Show the new dataset\n",
        "df.head()"
      ]
    },
    {
      "cell_type": "markdown",
      "source": [
        "Show the basic statistics of dataset"
      ],
      "metadata": {
        "id": "uk-otrgIlUhl"
      },
      "id": "uk-otrgIlUhl"
    },
    {
      "cell_type": "code",
      "execution_count": 38,
      "id": "gAldCmWCOIhH",
      "metadata": {
        "colab": {
          "base_uri": "https://localhost:8080/",
          "height": 300
        },
        "id": "gAldCmWCOIhH",
        "outputId": "6a91178a-8146-4eaa-8adb-eb827ccacfd6"
      },
      "outputs": [
        {
          "output_type": "execute_result",
          "data": {
            "text/plain": [
              "             toxic  severe_toxic      obscene       threat       insult  \\\n",
              "count  7343.000000   7343.000000  7343.000000  7343.000000  7343.000000   \n",
              "mean      0.563258      0.243225     0.442462     0.296609     0.447910   \n",
              "std       0.496016      0.429059     0.496712     0.456794     0.497313   \n",
              "min       0.000000      0.000000     0.000000     0.000000     0.000000   \n",
              "25%       0.000000      0.000000     0.000000     0.000000     0.000000   \n",
              "50%       1.000000      0.000000     0.000000     0.000000     0.000000   \n",
              "75%       1.000000      0.000000     1.000000     1.000000     1.000000   \n",
              "max       1.000000      1.000000     1.000000     1.000000     1.000000   \n",
              "\n",
              "       identity_hate  sum_injurious  comment_length  \n",
              "count    7343.000000    7343.000000     7343.000000  \n",
              "mean        0.265014       2.258477       63.074765  \n",
              "std         0.441371       2.081210      131.536112  \n",
              "min         0.000000       0.000000        1.000000  \n",
              "25%         0.000000       0.000000       12.000000  \n",
              "50%         0.000000       2.000000       26.000000  \n",
              "75%         1.000000       4.000000       56.000000  \n",
              "max         1.000000       6.000000     1403.000000  "
            ],
            "text/html": [
              "\n",
              "  <div id=\"df-bc216ae8-cc1e-4612-9c64-dc7fe4d86b48\" class=\"colab-df-container\">\n",
              "    <div>\n",
              "<style scoped>\n",
              "    .dataframe tbody tr th:only-of-type {\n",
              "        vertical-align: middle;\n",
              "    }\n",
              "\n",
              "    .dataframe tbody tr th {\n",
              "        vertical-align: top;\n",
              "    }\n",
              "\n",
              "    .dataframe thead th {\n",
              "        text-align: right;\n",
              "    }\n",
              "</style>\n",
              "<table border=\"1\" class=\"dataframe\">\n",
              "  <thead>\n",
              "    <tr style=\"text-align: right;\">\n",
              "      <th></th>\n",
              "      <th>toxic</th>\n",
              "      <th>severe_toxic</th>\n",
              "      <th>obscene</th>\n",
              "      <th>threat</th>\n",
              "      <th>insult</th>\n",
              "      <th>identity_hate</th>\n",
              "      <th>sum_injurious</th>\n",
              "      <th>comment_length</th>\n",
              "    </tr>\n",
              "  </thead>\n",
              "  <tbody>\n",
              "    <tr>\n",
              "      <th>count</th>\n",
              "      <td>7343.000000</td>\n",
              "      <td>7343.000000</td>\n",
              "      <td>7343.000000</td>\n",
              "      <td>7343.000000</td>\n",
              "      <td>7343.000000</td>\n",
              "      <td>7343.000000</td>\n",
              "      <td>7343.000000</td>\n",
              "      <td>7343.000000</td>\n",
              "    </tr>\n",
              "    <tr>\n",
              "      <th>mean</th>\n",
              "      <td>0.563258</td>\n",
              "      <td>0.243225</td>\n",
              "      <td>0.442462</td>\n",
              "      <td>0.296609</td>\n",
              "      <td>0.447910</td>\n",
              "      <td>0.265014</td>\n",
              "      <td>2.258477</td>\n",
              "      <td>63.074765</td>\n",
              "    </tr>\n",
              "    <tr>\n",
              "      <th>std</th>\n",
              "      <td>0.496016</td>\n",
              "      <td>0.429059</td>\n",
              "      <td>0.496712</td>\n",
              "      <td>0.456794</td>\n",
              "      <td>0.497313</td>\n",
              "      <td>0.441371</td>\n",
              "      <td>2.081210</td>\n",
              "      <td>131.536112</td>\n",
              "    </tr>\n",
              "    <tr>\n",
              "      <th>min</th>\n",
              "      <td>0.000000</td>\n",
              "      <td>0.000000</td>\n",
              "      <td>0.000000</td>\n",
              "      <td>0.000000</td>\n",
              "      <td>0.000000</td>\n",
              "      <td>0.000000</td>\n",
              "      <td>0.000000</td>\n",
              "      <td>1.000000</td>\n",
              "    </tr>\n",
              "    <tr>\n",
              "      <th>25%</th>\n",
              "      <td>0.000000</td>\n",
              "      <td>0.000000</td>\n",
              "      <td>0.000000</td>\n",
              "      <td>0.000000</td>\n",
              "      <td>0.000000</td>\n",
              "      <td>0.000000</td>\n",
              "      <td>0.000000</td>\n",
              "      <td>12.000000</td>\n",
              "    </tr>\n",
              "    <tr>\n",
              "      <th>50%</th>\n",
              "      <td>1.000000</td>\n",
              "      <td>0.000000</td>\n",
              "      <td>0.000000</td>\n",
              "      <td>0.000000</td>\n",
              "      <td>0.000000</td>\n",
              "      <td>0.000000</td>\n",
              "      <td>2.000000</td>\n",
              "      <td>26.000000</td>\n",
              "    </tr>\n",
              "    <tr>\n",
              "      <th>75%</th>\n",
              "      <td>1.000000</td>\n",
              "      <td>0.000000</td>\n",
              "      <td>1.000000</td>\n",
              "      <td>1.000000</td>\n",
              "      <td>1.000000</td>\n",
              "      <td>1.000000</td>\n",
              "      <td>4.000000</td>\n",
              "      <td>56.000000</td>\n",
              "    </tr>\n",
              "    <tr>\n",
              "      <th>max</th>\n",
              "      <td>1.000000</td>\n",
              "      <td>1.000000</td>\n",
              "      <td>1.000000</td>\n",
              "      <td>1.000000</td>\n",
              "      <td>1.000000</td>\n",
              "      <td>1.000000</td>\n",
              "      <td>6.000000</td>\n",
              "      <td>1403.000000</td>\n",
              "    </tr>\n",
              "  </tbody>\n",
              "</table>\n",
              "</div>\n",
              "    <div class=\"colab-df-buttons\">\n",
              "\n",
              "  <div class=\"colab-df-container\">\n",
              "    <button class=\"colab-df-convert\" onclick=\"convertToInteractive('df-bc216ae8-cc1e-4612-9c64-dc7fe4d86b48')\"\n",
              "            title=\"Convert this dataframe to an interactive table.\"\n",
              "            style=\"display:none;\">\n",
              "\n",
              "  <svg xmlns=\"http://www.w3.org/2000/svg\" height=\"24px\" viewBox=\"0 -960 960 960\">\n",
              "    <path d=\"M120-120v-720h720v720H120Zm60-500h600v-160H180v160Zm220 220h160v-160H400v160Zm0 220h160v-160H400v160ZM180-400h160v-160H180v160Zm440 0h160v-160H620v160ZM180-180h160v-160H180v160Zm440 0h160v-160H620v160Z\"/>\n",
              "  </svg>\n",
              "    </button>\n",
              "\n",
              "  <style>\n",
              "    .colab-df-container {\n",
              "      display:flex;\n",
              "      gap: 12px;\n",
              "    }\n",
              "\n",
              "    .colab-df-convert {\n",
              "      background-color: #E8F0FE;\n",
              "      border: none;\n",
              "      border-radius: 50%;\n",
              "      cursor: pointer;\n",
              "      display: none;\n",
              "      fill: #1967D2;\n",
              "      height: 32px;\n",
              "      padding: 0 0 0 0;\n",
              "      width: 32px;\n",
              "    }\n",
              "\n",
              "    .colab-df-convert:hover {\n",
              "      background-color: #E2EBFA;\n",
              "      box-shadow: 0px 1px 2px rgba(60, 64, 67, 0.3), 0px 1px 3px 1px rgba(60, 64, 67, 0.15);\n",
              "      fill: #174EA6;\n",
              "    }\n",
              "\n",
              "    .colab-df-buttons div {\n",
              "      margin-bottom: 4px;\n",
              "    }\n",
              "\n",
              "    [theme=dark] .colab-df-convert {\n",
              "      background-color: #3B4455;\n",
              "      fill: #D2E3FC;\n",
              "    }\n",
              "\n",
              "    [theme=dark] .colab-df-convert:hover {\n",
              "      background-color: #434B5C;\n",
              "      box-shadow: 0px 1px 3px 1px rgba(0, 0, 0, 0.15);\n",
              "      filter: drop-shadow(0px 1px 2px rgba(0, 0, 0, 0.3));\n",
              "      fill: #FFFFFF;\n",
              "    }\n",
              "  </style>\n",
              "\n",
              "    <script>\n",
              "      const buttonEl =\n",
              "        document.querySelector('#df-bc216ae8-cc1e-4612-9c64-dc7fe4d86b48 button.colab-df-convert');\n",
              "      buttonEl.style.display =\n",
              "        google.colab.kernel.accessAllowed ? 'block' : 'none';\n",
              "\n",
              "      async function convertToInteractive(key) {\n",
              "        const element = document.querySelector('#df-bc216ae8-cc1e-4612-9c64-dc7fe4d86b48');\n",
              "        const dataTable =\n",
              "          await google.colab.kernel.invokeFunction('convertToInteractive',\n",
              "                                                    [key], {});\n",
              "        if (!dataTable) return;\n",
              "\n",
              "        const docLinkHtml = 'Like what you see? Visit the ' +\n",
              "          '<a target=\"_blank\" href=https://colab.research.google.com/notebooks/data_table.ipynb>data table notebook</a>'\n",
              "          + ' to learn more about interactive tables.';\n",
              "        element.innerHTML = '';\n",
              "        dataTable['output_type'] = 'display_data';\n",
              "        await google.colab.output.renderOutput(dataTable, element);\n",
              "        const docLink = document.createElement('div');\n",
              "        docLink.innerHTML = docLinkHtml;\n",
              "        element.appendChild(docLink);\n",
              "      }\n",
              "    </script>\n",
              "  </div>\n",
              "\n",
              "\n",
              "<div id=\"df-c515fb55-0a1b-4fa6-9048-51098d402f02\">\n",
              "  <button class=\"colab-df-quickchart\" onclick=\"quickchart('df-c515fb55-0a1b-4fa6-9048-51098d402f02')\"\n",
              "            title=\"Suggest charts\"\n",
              "            style=\"display:none;\">\n",
              "\n",
              "<svg xmlns=\"http://www.w3.org/2000/svg\" height=\"24px\"viewBox=\"0 0 24 24\"\n",
              "     width=\"24px\">\n",
              "    <g>\n",
              "        <path d=\"M19 3H5c-1.1 0-2 .9-2 2v14c0 1.1.9 2 2 2h14c1.1 0 2-.9 2-2V5c0-1.1-.9-2-2-2zM9 17H7v-7h2v7zm4 0h-2V7h2v10zm4 0h-2v-4h2v4z\"/>\n",
              "    </g>\n",
              "</svg>\n",
              "  </button>\n",
              "\n",
              "<style>\n",
              "  .colab-df-quickchart {\n",
              "      --bg-color: #E8F0FE;\n",
              "      --fill-color: #1967D2;\n",
              "      --hover-bg-color: #E2EBFA;\n",
              "      --hover-fill-color: #174EA6;\n",
              "      --disabled-fill-color: #AAA;\n",
              "      --disabled-bg-color: #DDD;\n",
              "  }\n",
              "\n",
              "  [theme=dark] .colab-df-quickchart {\n",
              "      --bg-color: #3B4455;\n",
              "      --fill-color: #D2E3FC;\n",
              "      --hover-bg-color: #434B5C;\n",
              "      --hover-fill-color: #FFFFFF;\n",
              "      --disabled-bg-color: #3B4455;\n",
              "      --disabled-fill-color: #666;\n",
              "  }\n",
              "\n",
              "  .colab-df-quickchart {\n",
              "    background-color: var(--bg-color);\n",
              "    border: none;\n",
              "    border-radius: 50%;\n",
              "    cursor: pointer;\n",
              "    display: none;\n",
              "    fill: var(--fill-color);\n",
              "    height: 32px;\n",
              "    padding: 0;\n",
              "    width: 32px;\n",
              "  }\n",
              "\n",
              "  .colab-df-quickchart:hover {\n",
              "    background-color: var(--hover-bg-color);\n",
              "    box-shadow: 0 1px 2px rgba(60, 64, 67, 0.3), 0 1px 3px 1px rgba(60, 64, 67, 0.15);\n",
              "    fill: var(--button-hover-fill-color);\n",
              "  }\n",
              "\n",
              "  .colab-df-quickchart-complete:disabled,\n",
              "  .colab-df-quickchart-complete:disabled:hover {\n",
              "    background-color: var(--disabled-bg-color);\n",
              "    fill: var(--disabled-fill-color);\n",
              "    box-shadow: none;\n",
              "  }\n",
              "\n",
              "  .colab-df-spinner {\n",
              "    border: 2px solid var(--fill-color);\n",
              "    border-color: transparent;\n",
              "    border-bottom-color: var(--fill-color);\n",
              "    animation:\n",
              "      spin 1s steps(1) infinite;\n",
              "  }\n",
              "\n",
              "  @keyframes spin {\n",
              "    0% {\n",
              "      border-color: transparent;\n",
              "      border-bottom-color: var(--fill-color);\n",
              "      border-left-color: var(--fill-color);\n",
              "    }\n",
              "    20% {\n",
              "      border-color: transparent;\n",
              "      border-left-color: var(--fill-color);\n",
              "      border-top-color: var(--fill-color);\n",
              "    }\n",
              "    30% {\n",
              "      border-color: transparent;\n",
              "      border-left-color: var(--fill-color);\n",
              "      border-top-color: var(--fill-color);\n",
              "      border-right-color: var(--fill-color);\n",
              "    }\n",
              "    40% {\n",
              "      border-color: transparent;\n",
              "      border-right-color: var(--fill-color);\n",
              "      border-top-color: var(--fill-color);\n",
              "    }\n",
              "    60% {\n",
              "      border-color: transparent;\n",
              "      border-right-color: var(--fill-color);\n",
              "    }\n",
              "    80% {\n",
              "      border-color: transparent;\n",
              "      border-right-color: var(--fill-color);\n",
              "      border-bottom-color: var(--fill-color);\n",
              "    }\n",
              "    90% {\n",
              "      border-color: transparent;\n",
              "      border-bottom-color: var(--fill-color);\n",
              "    }\n",
              "  }\n",
              "</style>\n",
              "\n",
              "  <script>\n",
              "    async function quickchart(key) {\n",
              "      const quickchartButtonEl =\n",
              "        document.querySelector('#' + key + ' button');\n",
              "      quickchartButtonEl.disabled = true;  // To prevent multiple clicks.\n",
              "      quickchartButtonEl.classList.add('colab-df-spinner');\n",
              "      try {\n",
              "        const charts = await google.colab.kernel.invokeFunction(\n",
              "            'suggestCharts', [key], {});\n",
              "      } catch (error) {\n",
              "        console.error('Error during call to suggestCharts:', error);\n",
              "      }\n",
              "      quickchartButtonEl.classList.remove('colab-df-spinner');\n",
              "      quickchartButtonEl.classList.add('colab-df-quickchart-complete');\n",
              "    }\n",
              "    (() => {\n",
              "      let quickchartButtonEl =\n",
              "        document.querySelector('#df-c515fb55-0a1b-4fa6-9048-51098d402f02 button');\n",
              "      quickchartButtonEl.style.display =\n",
              "        google.colab.kernel.accessAllowed ? 'block' : 'none';\n",
              "    })();\n",
              "  </script>\n",
              "</div>\n",
              "\n",
              "    </div>\n",
              "  </div>\n"
            ],
            "application/vnd.google.colaboratory.intrinsic+json": {
              "type": "dataframe",
              "summary": "{\n  \"name\": \"df\",\n  \"rows\": 8,\n  \"fields\": [\n    {\n      \"column\": \"toxic\",\n      \"properties\": {\n        \"dtype\": \"number\",\n        \"std\": 2595.9375561218158,\n        \"min\": 0.0,\n        \"max\": 7343.0,\n        \"num_unique_values\": 5,\n        \"samples\": [\n          0.5632575241726815,\n          1.0,\n          0.49601611998603123\n        ],\n        \"semantic_type\": \"\",\n        \"description\": \"\"\n      }\n    },\n    {\n      \"column\": \"severe_toxic\",\n      \"properties\": {\n        \"dtype\": \"number\",\n        \"std\": 2596.058107254843,\n        \"min\": 0.0,\n        \"max\": 7343.0,\n        \"num_unique_values\": 5,\n        \"samples\": [\n          0.2432248399836579,\n          1.0,\n          0.4290589557969899\n        ],\n        \"semantic_type\": \"\",\n        \"description\": \"\"\n      }\n    },\n    {\n      \"column\": \"obscene\",\n      \"properties\": {\n        \"dtype\": \"number\",\n        \"std\": 2595.99412965011,\n        \"min\": 0.0,\n        \"max\": 7343.0,\n        \"num_unique_values\": 5,\n        \"samples\": [\n          0.4424622089064415,\n          1.0,\n          0.49671219267425154\n        ],\n        \"semantic_type\": \"\",\n        \"description\": \"\"\n      }\n    },\n    {\n      \"column\": \"threat\",\n      \"properties\": {\n        \"dtype\": \"number\",\n        \"std\": 2596.003512678407,\n        \"min\": 0.0,\n        \"max\": 7343.0,\n        \"num_unique_values\": 5,\n        \"samples\": [\n          0.2966090153888057,\n          1.0,\n          0.4567937429834963\n        ],\n        \"semantic_type\": \"\",\n        \"description\": \"\"\n      }\n    },\n    {\n      \"column\": \"insult\",\n      \"properties\": {\n        \"dtype\": \"number\",\n        \"std\": 2595.9938241788122,\n        \"min\": 0.0,\n        \"max\": 7343.0,\n        \"num_unique_values\": 5,\n        \"samples\": [\n          0.4479095737437015,\n          1.0,\n          0.49731304887947886\n        ],\n        \"semantic_type\": \"\",\n        \"description\": \"\"\n      }\n    },\n    {\n      \"column\": \"identity_hate\",\n      \"properties\": {\n        \"dtype\": \"number\",\n        \"std\": 2596.0058875645855,\n        \"min\": 0.0,\n        \"max\": 7343.0,\n        \"num_unique_values\": 5,\n        \"samples\": [\n          0.2650142993326978,\n          1.0,\n          0.4413708761033181\n        ],\n        \"semantic_type\": \"\",\n        \"description\": \"\"\n      }\n    },\n    {\n      \"column\": \"sum_injurious\",\n      \"properties\": {\n        \"dtype\": \"number\",\n        \"std\": 2595.3180193767494,\n        \"min\": 0.0,\n        \"max\": 7343.0,\n        \"num_unique_values\": 7,\n        \"samples\": [\n          7343.0,\n          2.2584774615279857,\n          4.0\n        ],\n        \"semantic_type\": \"\",\n        \"description\": \"\"\n      }\n    },\n    {\n      \"column\": \"comment_length\",\n      \"properties\": {\n        \"dtype\": \"number\",\n        \"std\": 2555.330903478843,\n        \"min\": 1.0,\n        \"max\": 7343.0,\n        \"num_unique_values\": 8,\n        \"samples\": [\n          63.074765082391394,\n          26.0,\n          7343.0\n        ],\n        \"semantic_type\": \"\",\n        \"description\": \"\"\n      }\n    }\n  ]\n}"
            }
          },
          "metadata": {},
          "execution_count": 38
        }
      ],
      "source": [
        "# Calculate the base statistics\n",
        "df.describe()"
      ]
    },
    {
      "cell_type": "markdown",
      "source": [
        "**Count**: All columns have 4343 entries, indicating there are no missing values.\n",
        "\n",
        "**Mean**:\n",
        "\n",
        "* Most comments are labeled as \"toxic\" with a mean of 0.95.\n",
        "* About 40% of comments are labeled \"severe_toxic.\"\n",
        "* Around 73% are labeled \"obscene.\"\n",
        "* Approximately 50% are labeled \"threat.\"\n",
        "* About 75% are labeled \"insult.\"\n",
        "* Around 45% are labeled \"identity_hate.\"\n",
        "* The average number of injurious labels (sum_injurious) per comment is 3.78.\n",
        "* The average comment length is 56.42 characters.\n",
        "\n",
        "**Standard Deviation (std)**:\n",
        "\n",
        "* There is variability in all label columns, with \"severe_toxic,\" \"threat,\" and \"identity_hate\" showing the highest standard deviation (around 0.5).\n",
        "* The sum_injurious column has a standard deviation of 1.18.\n",
        "* The comment length shows a high standard deviation of 138.89, indicating a wide range in comment lengths.\n",
        "\n",
        "**Minimum (min)**:\n",
        "\n",
        "* The minimum value for all label columns is 0.\n",
        "* The minimum sum of injurious labels is 1.\n",
        "* The shortest comment length is 2 characters."
      ],
      "metadata": {
        "id": "oIYcKXVrlnPG"
      },
      "id": "oIYcKXVrlnPG"
    },
    {
      "cell_type": "code",
      "execution_count": 39,
      "id": "0hg8K1NSMV2_",
      "metadata": {
        "colab": {
          "base_uri": "https://localhost:8080/",
          "height": 564
        },
        "id": "0hg8K1NSMV2_",
        "outputId": "d0ff1c14-7c1f-481a-b44e-33311d09fe4b"
      },
      "outputs": [
        {
          "output_type": "display_data",
          "data": {
            "text/plain": [
              "<Figure size 1000x600 with 1 Axes>"
            ],
            "image/png": "[encoded data removed]"
          },
          "metadata": {}
        }
      ],
      "source": [
        "plot_words_frequencies(df)"
      ]
    },
    {
      "cell_type": "markdown",
      "id": "I0i3OEWsQQfe",
      "metadata": {
        "id": "I0i3OEWsQQfe"
      },
      "source": [
        "Plotting the length frequencies of words, it is possible to notice that the majority of comments have the **amount of words between 1 and 200**, and the rest of comments with words > 200 are infrequent.\n",
        "\n",
        "Probably the comments with words > 200 are not useful for model training.\n",
        "\n",
        "**This number helps to define the pad length to apply to sentences**."
      ]
    },
    {
      "cell_type": "markdown",
      "source": [
        "### 5.5.2 Words Amount Analysis"
      ],
      "metadata": {
        "id": "ZjAluwhBmdYd"
      },
      "id": "ZjAluwhBmdYd"
    },
    {
      "cell_type": "markdown",
      "source": [
        "Lets study and understand the amount of words that could be useful to use fro tokenizer and cover the majority number of words."
      ],
      "metadata": {
        "id": "QTzF-SuTmg-P"
      },
      "id": "QTzF-SuTmg-P"
    },
    {
      "cell_type": "code",
      "execution_count": 40,
      "id": "dOeCq6jURgiM",
      "metadata": {
        "id": "dOeCq6jURgiM"
      },
      "outputs": [],
      "source": [
        "# Initialize the Tokenizer without number of words\n",
        "tokenizer = Tokenizer()\n",
        "tokenizer.fit_on_texts(df['cleaned_comment'])"
      ]
    },
    {
      "cell_type": "code",
      "execution_count": 41,
      "id": "LxsBoAyaRkyk",
      "metadata": {
        "id": "LxsBoAyaRkyk"
      },
      "outputs": [],
      "source": [
        "# Take the words count of entire corpus (related to all comments)\n",
        "word_counts = tokenizer.word_counts\n",
        "\n",
        "# Sort the words and related frequency in order to have a list of words ordered by frequency\n",
        "sorted_word_counts = sorted(word_counts.items(), key=lambda x: x[1], reverse=True)"
      ]
    },
    {
      "cell_type": "code",
      "execution_count": 42,
      "id": "UdcwCuJxSD9G",
      "metadata": {
        "id": "UdcwCuJxSD9G"
      },
      "outputs": [],
      "source": [
        "# Take the counts of each word\n",
        "cumulative_counts = [count for word, count in sorted_word_counts]\n",
        "\n",
        "# Calculate the cumulative words count\n",
        "cumulative_counts = pd.Series(cumulative_counts).cumsum()\n",
        "\n",
        "# Take from Series the cumulative sum\n",
        "total_counts = cumulative_counts.iloc[-1]\n",
        "\n",
        "# Trasform the sum into percentage\n",
        "cumulative_percentage = cumulative_counts / total_counts * 100"
      ]
    },
    {
      "cell_type": "code",
      "execution_count": 43,
      "id": "oZK-nNq_PtBF",
      "metadata": {
        "colab": {
          "base_uri": "https://localhost:8080/",
          "height": 564
        },
        "id": "oZK-nNq_PtBF",
        "outputId": "24ea7f20-d47d-4a17-f868-ce03bef3fdf2"
      },
      "outputs": [
        {
          "output_type": "display_data",
          "data": {
            "text/plain": [
              "<Figure size 1000x600 with 1 Axes>"
            ],
            "image/png": "[encoded data removed]"
          },
          "metadata": {}
        }
      ],
      "source": [
        "# Plot the cumulative distribution\n",
        "plt.figure(figsize=(10, 6))\n",
        "sns.lineplot(x=range(1, len(cumulative_percentage) + 1), y=cumulative_percentage)\n",
        "plt.xlabel('Number of Words')\n",
        "plt.ylabel('Cumulative Percentage of Total Words')\n",
        "plt.title('Cumulative Word Distribution')\n",
        "plt.axhline(y=95, color='r', linestyle='--')\n",
        "plt.axvline(x=len(cumulative_percentage[cumulative_percentage <= 95]), color='r', linestyle='--')\n",
        "plt.show()"
      ]
    },
    {
      "cell_type": "markdown",
      "id": "u8bAVNS_SrMk",
      "metadata": {
        "id": "u8bAVNS_SrMk"
      },
      "source": [
        "Plotting the cumulative counts of word frequencies, it can possible to notice that 95% of words coverage is about 2700 words in total.\n",
        "\n",
        "**This number helps to define the num_words into tokenizer.**"
      ]
    },
    {
      "cell_type": "code",
      "execution_count": 44,
      "id": "nlR81NCESegj",
      "metadata": {
        "colab": {
          "base_uri": "https://localhost:8080/"
        },
        "id": "nlR81NCESegj",
        "outputId": "0e8b7bb5-d197-4d6d-c43e-de863d88f610"
      },
      "outputs": [
        {
          "output_type": "stream",
          "name": "stdout",
          "text": [
            "Number of words covering 95% of the corpus: 6405\n"
          ]
        }
      ],
      "source": [
        "# Show the number of words that cover the 95% of all corpus text\n",
        "num_words_95_percentage = len(cumulative_percentage[cumulative_percentage <= 95])\n",
        "print(f'Number of words covering 95% of the corpus: {num_words_95_percentage}')"
      ]
    },
    {
      "cell_type": "markdown",
      "id": "QPB9hoN4Lwlc",
      "metadata": {
        "id": "QPB9hoN4Lwlc"
      },
      "source": [
        "# 6 Data Pre-Processing"
      ]
    },
    {
      "cell_type": "markdown",
      "source": [
        "## 6.1 Features and Labels Definition"
      ],
      "metadata": {
        "id": "7_jePtZ8neue"
      },
      "id": "7_jePtZ8neue"
    },
    {
      "cell_type": "markdown",
      "source": [
        "Define the features and labels from dataframe."
      ],
      "metadata": {
        "id": "gSPA2cxtnYw2"
      },
      "id": "gSPA2cxtnYw2"
    },
    {
      "cell_type": "code",
      "source": [
        "# Select Features and Labels from dataframe\n",
        "X = df['cleaned_comment'].values\n",
        "y = df[LABELS].values"
      ],
      "metadata": {
        "id": "gDXJqiwfGAPc"
      },
      "id": "gDXJqiwfGAPc",
      "execution_count": 45,
      "outputs": []
    },
    {
      "cell_type": "code",
      "execution_count": 46,
      "id": "4oWTRZKUV5Vz",
      "metadata": {
        "id": "4oWTRZKUV5Vz"
      },
      "outputs": [],
      "source": [
        "# Split data into train and test\n",
        "X_train, X_test, y_train, y_test = train_test_split(X,\n",
        "                                                    y,\n",
        "                                                    test_size=.2,\n",
        "                                                    random_state=RANDOM_SEED)"
      ]
    },
    {
      "cell_type": "code",
      "execution_count": 47,
      "id": "M8L8L9CdWgcc",
      "metadata": {
        "colab": {
          "base_uri": "https://localhost:8080/"
        },
        "id": "M8L8L9CdWgcc",
        "outputId": "1687579f-427a-4394-e980-b30e5190675a"
      },
      "outputs": [
        {
          "output_type": "stream",
          "name": "stdout",
          "text": [
            "X_train shape: (5874,)\n",
            "X_test shape: (1469,)\n",
            "y_train shape: (5874, 6)\n",
            "y_test shape: (1469, 6)\n"
          ]
        }
      ],
      "source": [
        "# Check the train and test data shape\n",
        "print(f'X_train shape: {X_train.shape}')\n",
        "print(f'X_test shape: {X_test.shape}')\n",
        "print(f'y_train shape: {y_train.shape}')\n",
        "print(f'y_test shape: {y_test.shape}')"
      ]
    },
    {
      "cell_type": "markdown",
      "source": [
        "## 6.2 Text Pre-Processing: Tokenizer, Sentences and Padding"
      ],
      "metadata": {
        "id": "7CupbIAWntXt"
      },
      "id": "7CupbIAWntXt"
    },
    {
      "cell_type": "markdown",
      "source": [
        "Create the tokenizer with the number of words coverage analyzed."
      ],
      "metadata": {
        "id": "HNZw9oLFnJvv"
      },
      "id": "HNZw9oLFnJvv"
    },
    {
      "cell_type": "code",
      "execution_count": 48,
      "id": "6a6421ed",
      "metadata": {
        "id": "6a6421ed"
      },
      "outputs": [],
      "source": [
        "# Define the number of max words\n",
        "num_words = num_words_95_percentage\n",
        "\n",
        "# Define a Tokenizer used to create the vocabulary and remove all semantic contribution\n",
        "tokenizer = Tokenizer(num_words=num_words)"
      ]
    },
    {
      "cell_type": "code",
      "execution_count": 49,
      "id": "gvJ_UWlyL1el",
      "metadata": {
        "id": "gvJ_UWlyL1el"
      },
      "outputs": [],
      "source": [
        "# Fit on text the tokenizer created\n",
        "tokenizer.fit_on_texts(X_train)"
      ]
    },
    {
      "cell_type": "markdown",
      "source": [
        "Compute the vocabulary size useful  for Neural Network definition."
      ],
      "metadata": {
        "id": "vy65zgEGn1BW"
      },
      "id": "vy65zgEGn1BW"
    },
    {
      "cell_type": "code",
      "execution_count": 50,
      "id": "sLaBgTGXL1dN",
      "metadata": {
        "colab": {
          "base_uri": "https://localhost:8080/"
        },
        "id": "sLaBgTGXL1dN",
        "outputId": "745626f1-7c7b-47c0-e527-add55250d040"
      },
      "outputs": [
        {
          "output_type": "stream",
          "name": "stdout",
          "text": [
            "Vocabulary Size: 20547\n"
          ]
        }
      ],
      "source": [
        "# Calculate the vocabulary size\n",
        "vocabulary_size = len(tokenizer.word_index)+1\n",
        "print(f'Vocabulary Size: {vocabulary_size}')"
      ]
    },
    {
      "cell_type": "markdown",
      "source": [
        "Create the sentences from text"
      ],
      "metadata": {
        "id": "TgJ56YgJn8Ul"
      },
      "id": "TgJ56YgJn8Ul"
    },
    {
      "cell_type": "code",
      "execution_count": 51,
      "id": "dClU7f2-L1bF",
      "metadata": {
        "id": "dClU7f2-L1bF"
      },
      "outputs": [],
      "source": [
        "# Transform the text into sequences\n",
        "train_sequences = tokenizer.texts_to_sequences(X_train)\n",
        "test_sequences = tokenizer.texts_to_sequences(X_test)"
      ]
    },
    {
      "cell_type": "markdown",
      "id": "bTCPhFddUIfm",
      "metadata": {
        "id": "bTCPhFddUIfm"
      },
      "source": [
        "As studied and noticed before into plot of length words frequency, the most length appeared is about 200 and then the padding to be added to sequences could be 200."
      ]
    },
    {
      "cell_type": "code",
      "execution_count": 52,
      "id": "yBUhDypaL1X9",
      "metadata": {
        "id": "yBUhDypaL1X9"
      },
      "outputs": [],
      "source": [
        "# Define the max length for padding\n",
        "max_length = 200\n",
        "\n",
        "# Apply the padding to sequences\n",
        "padded_train_sequences = pad_sequences(train_sequences, maxlen=max_length)\n",
        "padded_test_sequences = pad_sequences(test_sequences, maxlen=max_length)"
      ]
    },
    {
      "cell_type": "markdown",
      "source": [
        "The data are ready to be used from AI model."
      ],
      "metadata": {
        "id": "g691dmeOoAVr"
      },
      "id": "g691dmeOoAVr"
    },
    {
      "cell_type": "markdown",
      "id": "vCAgh7ACUss7",
      "metadata": {
        "id": "vCAgh7ACUss7"
      },
      "source": [
        "# 7 Model Exploration"
      ]
    },
    {
      "cell_type": "markdown",
      "source": [
        "## 7.1 Callbacks definition"
      ],
      "metadata": {
        "id": "5xLbclpToGEi"
      },
      "id": "5xLbclpToGEi"
    },
    {
      "cell_type": "markdown",
      "source": [
        "Solving a classification problem the most metrics used for its are f1-score, Precision, Recall then a specific callback has been defined.\n",
        "\n",
        "In particular, the callback, calculate at the end of each epoch the f1-score and checks if the currently value is the best comparing the previous score."
      ],
      "metadata": {
        "id": "DZCX5erkoJ6z"
      },
      "id": "DZCX5erkoJ6z"
    },
    {
      "cell_type": "code",
      "source": [
        "# Define Callback: F1ScoreCallback\n",
        "f1_callback = F1ScoreCallback(validation_data=(padded_test_sequences, y_test), patience=2, verbose=1)\n",
        "f1_callback_2 = F1ScoreCallback(validation_data=(padded_test_sequences, y_test), patience=2, verbose=1)\n",
        "f1_callback_3 = F1ScoreCallback(validation_data=(padded_test_sequences, y_test), patience=2, verbose=1)\n",
        "f1_callback_4 = F1ScoreCallback(validation_data=(padded_test_sequences, y_test), patience=2, verbose=1)\n",
        "f1_callback_5 = F1ScoreCallback(validation_data=(padded_test_sequences, y_test), patience=2, verbose=1)"
      ],
      "metadata": {
        "id": "OpNYjo3fxlHp"
      },
      "id": "OpNYjo3fxlHp",
      "execution_count": 53,
      "outputs": []
    },
    {
      "cell_type": "markdown",
      "source": [
        "## 7.2 Build Models: RNN"
      ],
      "metadata": {
        "id": "zGAQa8Ghvs9g"
      },
      "id": "zGAQa8Ghvs9g"
    },
    {
      "cell_type": "markdown",
      "source": [
        "Try to fit different type of models such as: BiLSTM, LSTM with Normalization, GRU and RNN with class weights."
      ],
      "metadata": {
        "id": "PHIj4E0XovIe"
      },
      "id": "PHIj4E0XovIe"
    },
    {
      "cell_type": "code",
      "source": [
        "baseline_model = create_baseline_model(vocabulary_size, max_length, LABELS_COUNT)\n",
        "history_baseline = baseline_model.fit(padded_train_sequences, y_train, epochs=10, batch_size=32, validation_split=0.2, validation_data=(padded_test_sequences, y_test), callbacks=[f1_callback])\n",
        "baseline_loss, baseline_accuracy = baseline_model.evaluate(padded_test_sequences, y_test)\n",
        "print(f'Baseline Test Loss: {baseline_loss}')\n",
        "print(f'Baseline Test Accuracy: {baseline_accuracy}')"
      ],
      "metadata": {
        "colab": {
          "base_uri": "https://localhost:8080/"
        },
        "id": "ujV1uxPDv7PB",
        "outputId": "b0e11c3d-cbab-48a2-e20d-313c45b69c60"
      },
      "id": "ujV1uxPDv7PB",
      "execution_count": 54,
      "outputs": [
        {
          "output_type": "stream",
          "name": "stderr",
          "text": [
            "/usr/local/lib/python3.10/dist-packages/keras/src/layers/core/embedding.py:90: UserWarning: Argument `input_length` is deprecated. Just remove it.\n",
            "  warnings.warn(\n"
          ]
        },
        {
          "output_type": "stream",
          "name": "stdout",
          "text": [
            "Epoch 1/10\n",
            "\u001b[1m46/46\u001b[0m \u001b[32m━━━━━━━━━━━━━━━━━━━━\u001b[0m\u001b[37m\u001b[0m \u001b[1m1s\u001b[0m 8ms/step\n",
            "\n",
            "Epoch 1: F1-Score: 0.7830\n",
            "\u001b[1m184/184\u001b[0m \u001b[32m━━━━━━━━━━━━━━━━━━━━\u001b[0m\u001b[37m\u001b[0m \u001b[1m9s\u001b[0m 22ms/step - accuracy: 0.6848 - loss: 0.5625 - val_accuracy: 0.6637 - val_loss: 0.3128\n",
            "Epoch 2/10\n",
            "\u001b[1m46/46\u001b[0m \u001b[32m━━━━━━━━━━━━━━━━━━━━\u001b[0m\u001b[37m\u001b[0m \u001b[1m0s\u001b[0m 4ms/step\n",
            "\n",
            "Epoch 2: F1-Score: 0.8524\n",
            "\u001b[1m184/184\u001b[0m \u001b[32m━━━━━━━━━━━━━━━━━━━━\u001b[0m\u001b[37m\u001b[0m \u001b[1m6s\u001b[0m 14ms/step - accuracy: 0.6177 - loss: 0.2821 - val_accuracy: 0.5745 - val_loss: 0.2310\n",
            "Epoch 3/10\n",
            "\u001b[1m46/46\u001b[0m \u001b[32m━━━━━━━━━━━━━━━━━━━━\u001b[0m\u001b[37m\u001b[0m \u001b[1m0s\u001b[0m 3ms/step\n",
            "\n",
            "Epoch 3: F1-Score: 0.8860\n",
            "\u001b[1m184/184\u001b[0m \u001b[32m━━━━━━━━━━━━━━━━━━━━\u001b[0m\u001b[37m\u001b[0m \u001b[1m2s\u001b[0m 13ms/step - accuracy: 0.5279 - loss: 0.2133 - val_accuracy: 0.5255 - val_loss: 0.2196\n",
            "Epoch 4/10\n",
            "\u001b[1m46/46\u001b[0m \u001b[32m━━━━━━━━━━━━━━━━━━━━\u001b[0m\u001b[37m\u001b[0m \u001b[1m0s\u001b[0m 4ms/step\n",
            "\n",
            "Epoch 4: F1-Score: 0.9137\n",
            "\u001b[1m184/184\u001b[0m \u001b[32m━━━━━━━━━━━━━━━━━━━━\u001b[0m\u001b[37m\u001b[0m \u001b[1m3s\u001b[0m 14ms/step - accuracy: 0.5324 - loss: 0.1767 - val_accuracy: 0.4949 - val_loss: 0.1770\n",
            "Epoch 5/10\n",
            "\u001b[1m46/46\u001b[0m \u001b[32m━━━━━━━━━━━━━━━━━━━━\u001b[0m\u001b[37m\u001b[0m \u001b[1m0s\u001b[0m 3ms/step\n",
            "\n",
            "Epoch 5: F1-Score: 0.9143\n",
            "\u001b[1m184/184\u001b[0m \u001b[32m━━━━━━━━━━━━━━━━━━━━\u001b[0m\u001b[37m\u001b[0m \u001b[1m5s\u001b[0m 14ms/step - accuracy: 0.4529 - loss: 0.1502 - val_accuracy: 0.4336 - val_loss: 0.1711\n",
            "Epoch 6/10\n",
            "\u001b[1m46/46\u001b[0m \u001b[32m━━━━━━━━━━━━━━━━━━━━\u001b[0m\u001b[37m\u001b[0m \u001b[1m0s\u001b[0m 4ms/step\n",
            "\n",
            "Epoch 6: F1-Score: 0.9215\n",
            "\u001b[1m184/184\u001b[0m \u001b[32m━━━━━━━━━━━━━━━━━━━━\u001b[0m\u001b[37m\u001b[0m \u001b[1m5s\u001b[0m 13ms/step - accuracy: 0.4492 - loss: 0.1239 - val_accuracy: 0.4180 - val_loss: 0.1657\n",
            "Epoch 7/10\n",
            "\u001b[1m46/46\u001b[0m \u001b[32m━━━━━━━━━━━━━━━━━━━━\u001b[0m\u001b[37m\u001b[0m \u001b[1m0s\u001b[0m 6ms/step\n",
            "\n",
            "Epoch 7: F1-Score: 0.9204\n",
            "\u001b[1m184/184\u001b[0m \u001b[32m━━━━━━━━━━━━━━━━━━━━\u001b[0m\u001b[37m\u001b[0m \u001b[1m3s\u001b[0m 15ms/step - accuracy: 0.4069 - loss: 0.0953 - val_accuracy: 0.3751 - val_loss: 0.1659\n",
            "Epoch 8/10\n",
            "\u001b[1m46/46\u001b[0m \u001b[32m━━━━━━━━━━━━━━━━━━━━\u001b[0m\u001b[37m\u001b[0m \u001b[1m0s\u001b[0m 3ms/step\n",
            "\n",
            "Epoch 8: F1-Score: 0.9195\n",
            "Restoring model weights from the end of the best epoch: 6\n",
            "\u001b[1m184/184\u001b[0m \u001b[32m━━━━━━━━━━━━━━━━━━━━\u001b[0m\u001b[37m\u001b[0m \u001b[1m3s\u001b[0m 16ms/step - accuracy: 0.3548 - loss: 0.0914 - val_accuracy: 0.3948 - val_loss: 0.1726\n",
            "\u001b[1m46/46\u001b[0m \u001b[32m━━━━━━━━━━━━━━━━━━━━\u001b[0m\u001b[37m\u001b[0m \u001b[1m0s\u001b[0m 4ms/step - accuracy: 0.4386 - loss: 0.1606\n",
            "Baseline Test Loss: 0.1657188981771469\n",
            "Baseline Test Accuracy: 0.4179714024066925\n"
          ]
        }
      ]
    },
    {
      "cell_type": "code",
      "source": [
        "bilstm_model = create_bilstm_model(vocabulary_size, max_length, LABELS_COUNT)\n",
        "history_bilstm = bilstm_model.fit(padded_train_sequences, y_train, epochs=10, batch_size=32, validation_split=0.2, validation_data=(padded_test_sequences, y_test), callbacks=[f1_callback_2])\n",
        "bilstm_loss, bilstm_accuracy = bilstm_model.evaluate(padded_test_sequences, y_test)\n",
        "print(f'BiLSTM Test Loss: {bilstm_loss}')\n",
        "print(f'BiLSTM Test Accuracy: {bilstm_accuracy}')"
      ],
      "metadata": {
        "id": "DG9vHUnmv2rr",
        "colab": {
          "base_uri": "https://localhost:8080/"
        },
        "outputId": "bec45b48-122b-48cf-ed4e-18c5ad8e3b76"
      },
      "id": "DG9vHUnmv2rr",
      "execution_count": 55,
      "outputs": [
        {
          "output_type": "stream",
          "name": "stdout",
          "text": [
            "Epoch 1/10\n"
          ]
        },
        {
          "output_type": "stream",
          "name": "stderr",
          "text": [
            "/usr/local/lib/python3.10/dist-packages/keras/src/layers/core/embedding.py:90: UserWarning: Argument `input_length` is deprecated. Just remove it.\n",
            "  warnings.warn(\n"
          ]
        },
        {
          "output_type": "stream",
          "name": "stdout",
          "text": [
            "\u001b[1m46/46\u001b[0m \u001b[32m━━━━━━━━━━━━━━━━━━━━\u001b[0m\u001b[37m\u001b[0m \u001b[1m1s\u001b[0m 10ms/step\n",
            "\n",
            "Epoch 1: F1-Score: 0.7627\n",
            "\u001b[1m184/184\u001b[0m \u001b[32m━━━━━━━━━━━━━━━━━━━━\u001b[0m\u001b[37m\u001b[0m \u001b[1m7s\u001b[0m 24ms/step - accuracy: 0.8303 - loss: 0.5687 - val_accuracy: 0.7250 - val_loss: 0.3218\n",
            "Epoch 2/10\n",
            "\u001b[1m46/46\u001b[0m \u001b[32m━━━━━━━━━━━━━━━━━━━━\u001b[0m\u001b[37m\u001b[0m \u001b[1m0s\u001b[0m 8ms/step\n",
            "\n",
            "Epoch 2: F1-Score: 0.8598\n",
            "\u001b[1m184/184\u001b[0m \u001b[32m━━━━━━━━━━━━━━━━━━━━\u001b[0m\u001b[37m\u001b[0m \u001b[1m5s\u001b[0m 26ms/step - accuracy: 0.7178 - loss: 0.2920 - val_accuracy: 0.5378 - val_loss: 0.2387\n",
            "Epoch 3/10\n",
            "\u001b[1m46/46\u001b[0m \u001b[32m━━━━━━━━━━━━━━━━━━━━\u001b[0m\u001b[37m\u001b[0m \u001b[1m0s\u001b[0m 6ms/step\n",
            "\n",
            "Epoch 3: F1-Score: 0.8723\n",
            "\u001b[1m184/184\u001b[0m \u001b[32m━━━━━━━━━━━━━━━━━━━━\u001b[0m\u001b[37m\u001b[0m \u001b[1m4s\u001b[0m 20ms/step - accuracy: 0.5603 - loss: 0.2209 - val_accuracy: 0.6133 - val_loss: 0.2198\n",
            "Epoch 4/10\n",
            "\u001b[1m46/46\u001b[0m \u001b[32m━━━━━━━━━━━━━━━━━━━━\u001b[0m\u001b[37m\u001b[0m \u001b[1m0s\u001b[0m 6ms/step\n",
            "\n",
            "Epoch 4: F1-Score: 0.8943\n",
            "\u001b[1m184/184\u001b[0m \u001b[32m━━━━━━━━━━━━━━━━━━━━\u001b[0m\u001b[37m\u001b[0m \u001b[1m4s\u001b[0m 20ms/step - accuracy: 0.5505 - loss: 0.1979 - val_accuracy: 0.5099 - val_loss: 0.2001\n",
            "Epoch 5/10\n",
            "\u001b[1m46/46\u001b[0m \u001b[32m━━━━━━━━━━━━━━━━━━━━\u001b[0m\u001b[37m\u001b[0m \u001b[1m0s\u001b[0m 6ms/step\n",
            "\n",
            "Epoch 5: F1-Score: 0.8951\n",
            "\u001b[1m184/184\u001b[0m \u001b[32m━━━━━━━━━━━━━━━━━━━━\u001b[0m\u001b[37m\u001b[0m \u001b[1m6s\u001b[0m 24ms/step - accuracy: 0.5184 - loss: 0.1654 - val_accuracy: 0.4820 - val_loss: 0.1876\n",
            "Epoch 6/10\n",
            "\u001b[1m46/46\u001b[0m \u001b[32m━━━━━━━━━━━━━━━━━━━━\u001b[0m\u001b[37m\u001b[0m \u001b[1m0s\u001b[0m 6ms/step\n",
            "\n",
            "Epoch 6: F1-Score: 0.9001\n",
            "\u001b[1m184/184\u001b[0m \u001b[32m━━━━━━━━━━━━━━━━━━━━\u001b[0m\u001b[37m\u001b[0m \u001b[1m4s\u001b[0m 20ms/step - accuracy: 0.5063 - loss: 0.1485 - val_accuracy: 0.5024 - val_loss: 0.1863\n",
            "Epoch 7/10\n",
            "\u001b[1m46/46\u001b[0m \u001b[32m━━━━━━━━━━━━━━━━━━━━\u001b[0m\u001b[37m\u001b[0m \u001b[1m0s\u001b[0m 6ms/step\n",
            "\n",
            "Epoch 7: F1-Score: 0.9181\n",
            "\u001b[1m184/184\u001b[0m \u001b[32m━━━━━━━━━━━━━━━━━━━━\u001b[0m\u001b[37m\u001b[0m \u001b[1m4s\u001b[0m 20ms/step - accuracy: 0.4779 - loss: 0.1324 - val_accuracy: 0.4575 - val_loss: 0.1736\n",
            "Epoch 8/10\n",
            "\u001b[1m46/46\u001b[0m \u001b[32m━━━━━━━━━━━━━━━━━━━━\u001b[0m\u001b[37m\u001b[0m \u001b[1m0s\u001b[0m 6ms/step\n",
            "\n",
            "Epoch 8: F1-Score: 0.9229\n",
            "\u001b[1m184/184\u001b[0m \u001b[32m━━━━━━━━━━━━━━━━━━━━\u001b[0m\u001b[37m\u001b[0m \u001b[1m6s\u001b[0m 24ms/step - accuracy: 0.4506 - loss: 0.1128 - val_accuracy: 0.4901 - val_loss: 0.1578\n",
            "Epoch 9/10\n",
            "\u001b[1m46/46\u001b[0m \u001b[32m━━━━━━━━━━━━━━━━━━━━\u001b[0m\u001b[37m\u001b[0m \u001b[1m0s\u001b[0m 6ms/step\n",
            "\n",
            "Epoch 9: F1-Score: 0.9274\n",
            "\u001b[1m184/184\u001b[0m \u001b[32m━━━━━━━━━━━━━━━━━━━━\u001b[0m\u001b[37m\u001b[0m \u001b[1m4s\u001b[0m 20ms/step - accuracy: 0.4499 - loss: 0.0963 - val_accuracy: 0.4602 - val_loss: 0.1656\n",
            "Epoch 10/10\n",
            "\u001b[1m46/46\u001b[0m \u001b[32m━━━━━━━━━━━━━━━━━━━━\u001b[0m\u001b[37m\u001b[0m \u001b[1m0s\u001b[0m 6ms/step\n",
            "\n",
            "Epoch 10: F1-Score: 0.9307\n",
            "\u001b[1m184/184\u001b[0m \u001b[32m━━━━━━━━━━━━━━━━━━━━\u001b[0m\u001b[37m\u001b[0m \u001b[1m4s\u001b[0m 20ms/step - accuracy: 0.3901 - loss: 0.0845 - val_accuracy: 0.4541 - val_loss: 0.1607\n",
            "\u001b[1m46/46\u001b[0m \u001b[32m━━━━━━━━━━━━━━━━━━━━\u001b[0m\u001b[37m\u001b[0m \u001b[1m0s\u001b[0m 7ms/step - accuracy: 0.4824 - loss: 0.1554\n",
            "BiLSTM Test Loss: 0.16073641180992126\n",
            "BiLSTM Test Accuracy: 0.45405036211013794\n"
          ]
        }
      ]
    },
    {
      "cell_type": "code",
      "source": [
        "gru_model = create_gru_model(vocabulary_size, max_length, LABELS_COUNT)\n",
        "history_gru = gru_model.fit(padded_train_sequences, y_train, epochs=10, batch_size=32, validation_split=0.2, validation_data=(padded_test_sequences, y_test), callbacks=[f1_callback_3])\n",
        "gru_loss, gru_accuracy = gru_model.evaluate(padded_test_sequences, y_test)\n",
        "print(f'GRU Test Loss: {gru_loss}')\n",
        "print(f'GRU Test Accuracy: {gru_accuracy}')"
      ],
      "metadata": {
        "id": "bXfRf5quvsCx",
        "colab": {
          "base_uri": "https://localhost:8080/"
        },
        "outputId": "845db447-fa5b-4c63-d069-9b57a46949f1"
      },
      "id": "bXfRf5quvsCx",
      "execution_count": 56,
      "outputs": [
        {
          "output_type": "stream",
          "name": "stdout",
          "text": [
            "Epoch 1/10\n"
          ]
        },
        {
          "output_type": "stream",
          "name": "stderr",
          "text": [
            "/usr/local/lib/python3.10/dist-packages/keras/src/layers/core/embedding.py:90: UserWarning: Argument `input_length` is deprecated. Just remove it.\n",
            "  warnings.warn(\n"
          ]
        },
        {
          "output_type": "stream",
          "name": "stdout",
          "text": [
            "\u001b[1m46/46\u001b[0m \u001b[32m━━━━━━━━━━━━━━━━━━━━\u001b[0m\u001b[37m\u001b[0m \u001b[1m0s\u001b[0m 7ms/step\n",
            "\n",
            "Epoch 1: F1-Score: 0.8200\n",
            "\u001b[1m184/184\u001b[0m \u001b[32m━━━━━━━━━━━━━━━━━━━━\u001b[0m\u001b[37m\u001b[0m \u001b[1m5s\u001b[0m 21ms/step - accuracy: 0.5781 - loss: 0.5798 - val_accuracy: 0.7740 - val_loss: 0.2850\n",
            "Epoch 2/10\n",
            "\u001b[1m46/46\u001b[0m \u001b[32m━━━━━━━━━━━━━━━━━━━━\u001b[0m\u001b[37m\u001b[0m \u001b[1m0s\u001b[0m 4ms/step\n",
            "\n",
            "Epoch 2: F1-Score: 0.8794\n",
            "\u001b[1m184/184\u001b[0m \u001b[32m━━━━━━━━━━━━━━━━━━━━\u001b[0m\u001b[37m\u001b[0m \u001b[1m4s\u001b[0m 15ms/step - accuracy: 0.6246 - loss: 0.2685 - val_accuracy: 0.5446 - val_loss: 0.2201\n",
            "Epoch 3/10\n",
            "\u001b[1m46/46\u001b[0m \u001b[32m━━━━━━━━━━━━━━━━━━━━\u001b[0m\u001b[37m\u001b[0m \u001b[1m0s\u001b[0m 3ms/step\n",
            "\n",
            "Epoch 3: F1-Score: 0.8977\n",
            "\u001b[1m184/184\u001b[0m \u001b[32m━━━━━━━━━━━━━━━━━━━━\u001b[0m\u001b[37m\u001b[0m \u001b[1m2s\u001b[0m 12ms/step - accuracy: 0.5373 - loss: 0.1974 - val_accuracy: 0.5112 - val_loss: 0.1939\n",
            "Epoch 4/10\n",
            "\u001b[1m46/46\u001b[0m \u001b[32m━━━━━━━━━━━━━━━━━━━━\u001b[0m\u001b[37m\u001b[0m \u001b[1m0s\u001b[0m 3ms/step\n",
            "\n",
            "Epoch 4: F1-Score: 0.9117\n",
            "\u001b[1m184/184\u001b[0m \u001b[32m━━━━━━━━━━━━━━━━━━━━\u001b[0m\u001b[37m\u001b[0m \u001b[1m3s\u001b[0m 12ms/step - accuracy: 0.5244 - loss: 0.1673 - val_accuracy: 0.4820 - val_loss: 0.1809\n",
            "Epoch 5/10\n",
            "\u001b[1m46/46\u001b[0m \u001b[32m━━━━━━━━━━━━━━━━━━━━\u001b[0m\u001b[37m\u001b[0m \u001b[1m0s\u001b[0m 5ms/step\n",
            "\n",
            "Epoch 5: F1-Score: 0.9129\n",
            "\u001b[1m184/184\u001b[0m \u001b[32m━━━━━━━━━━━━━━━━━━━━\u001b[0m\u001b[37m\u001b[0m \u001b[1m3s\u001b[0m 16ms/step - accuracy: 0.4933 - loss: 0.1315 - val_accuracy: 0.4187 - val_loss: 0.1747\n",
            "Epoch 6/10\n",
            "\u001b[1m46/46\u001b[0m \u001b[32m━━━━━━━━━━━━━━━━━━━━\u001b[0m\u001b[37m\u001b[0m \u001b[1m0s\u001b[0m 4ms/step\n",
            "\n",
            "Epoch 6: F1-Score: 0.9219\n",
            "\u001b[1m184/184\u001b[0m \u001b[32m━━━━━━━━━━━━━━━━━━━━\u001b[0m\u001b[37m\u001b[0m \u001b[1m5s\u001b[0m 14ms/step - accuracy: 0.4529 - loss: 0.1155 - val_accuracy: 0.4166 - val_loss: 0.1640\n",
            "Epoch 7/10\n",
            "\u001b[1m46/46\u001b[0m \u001b[32m━━━━━━━━━━━━━━━━━━━━\u001b[0m\u001b[37m\u001b[0m \u001b[1m0s\u001b[0m 3ms/step\n",
            "\n",
            "Epoch 7: F1-Score: 0.9204\n",
            "\u001b[1m184/184\u001b[0m \u001b[32m━━━━━━━━━━━━━━━━━━━━\u001b[0m\u001b[37m\u001b[0m \u001b[1m5s\u001b[0m 16ms/step - accuracy: 0.4184 - loss: 0.0940 - val_accuracy: 0.4418 - val_loss: 0.1729\n",
            "Epoch 8/10\n",
            "\u001b[1m46/46\u001b[0m \u001b[32m━━━━━━━━━━━━━━━━━━━━\u001b[0m\u001b[37m\u001b[0m \u001b[1m0s\u001b[0m 5ms/step\n",
            "\n",
            "Epoch 8: F1-Score: 0.9267\n",
            "\u001b[1m184/184\u001b[0m \u001b[32m━━━━━━━━━━━━━━━━━━━━\u001b[0m\u001b[37m\u001b[0m \u001b[1m3s\u001b[0m 17ms/step - accuracy: 0.4096 - loss: 0.0831 - val_accuracy: 0.3540 - val_loss: 0.1818\n",
            "Epoch 9/10\n",
            "\u001b[1m46/46\u001b[0m \u001b[32m━━━━━━━━━━━━━━━━━━━━\u001b[0m\u001b[37m\u001b[0m \u001b[1m0s\u001b[0m 4ms/step\n",
            "\n",
            "Epoch 9: F1-Score: 0.9214\n",
            "\u001b[1m184/184\u001b[0m \u001b[32m━━━━━━━━━━━━━━━━━━━━\u001b[0m\u001b[37m\u001b[0m \u001b[1m3s\u001b[0m 14ms/step - accuracy: 0.3803 - loss: 0.0748 - val_accuracy: 0.3846 - val_loss: 0.1853\n",
            "Epoch 10/10\n",
            "\u001b[1m46/46\u001b[0m \u001b[32m━━━━━━━━━━━━━━━━━━━━\u001b[0m\u001b[37m\u001b[0m \u001b[1m0s\u001b[0m 3ms/step\n",
            "\n",
            "Epoch 10: F1-Score: 0.9226\n",
            "Restoring model weights from the end of the best epoch: 8\n",
            "\u001b[1m184/184\u001b[0m \u001b[32m━━━━━━━━━━━━━━━━━━━━\u001b[0m\u001b[37m\u001b[0m \u001b[1m2s\u001b[0m 13ms/step - accuracy: 0.3732 - loss: 0.0671 - val_accuracy: 0.3833 - val_loss: 0.1996\n",
            "\u001b[1m46/46\u001b[0m \u001b[32m━━━━━━━━━━━━━━━━━━━━\u001b[0m\u001b[37m\u001b[0m \u001b[1m0s\u001b[0m 4ms/step - accuracy: 0.3479 - loss: 0.1776\n",
            "GRU Test Loss: 0.1817929893732071\n",
            "GRU Test Accuracy: 0.3539822995662689\n"
          ]
        }
      ]
    },
    {
      "cell_type": "code",
      "source": [
        "ltsm_norm_model = create_biltsm_normalization_model(vocabulary_size, max_length, LABELS_COUNT)\n",
        "history_ltsm_norm = ltsm_norm_model.fit(padded_train_sequences, y_train, epochs=10, batch_size=32, validation_split=0.2, validation_data=(padded_test_sequences, y_test), callbacks=[f1_callback_4])\n",
        "ltsm_norm_loss, ltsm_norm_accuracy = ltsm_norm_model.evaluate(padded_test_sequences, y_test)\n",
        "print(f'LTSM Norm Test Loss: {ltsm_norm_loss}')\n",
        "print(f'LTSM Norm Test Accuracy: {ltsm_norm_accuracy}')"
      ],
      "metadata": {
        "id": "wEMlpah7wmIF",
        "colab": {
          "base_uri": "https://localhost:8080/"
        },
        "outputId": "76527429-258b-4bc9-9578-c4b1837543e0"
      },
      "id": "wEMlpah7wmIF",
      "execution_count": 57,
      "outputs": [
        {
          "output_type": "stream",
          "name": "stdout",
          "text": [
            "Epoch 1/10\n"
          ]
        },
        {
          "output_type": "stream",
          "name": "stderr",
          "text": [
            "/usr/local/lib/python3.10/dist-packages/keras/src/layers/core/embedding.py:90: UserWarning: Argument `input_length` is deprecated. Just remove it.\n",
            "  warnings.warn(\n"
          ]
        },
        {
          "output_type": "stream",
          "name": "stdout",
          "text": [
            "\u001b[1m46/46\u001b[0m \u001b[32m━━━━━━━━━━━━━━━━━━━━\u001b[0m\u001b[37m\u001b[0m \u001b[1m1s\u001b[0m 10ms/step\n",
            "\n",
            "Epoch 1: F1-Score: 0.2376\n",
            "\u001b[1m184/184\u001b[0m \u001b[32m━━━━━━━━━━━━━━━━━━━━\u001b[0m\u001b[37m\u001b[0m \u001b[1m11s\u001b[0m 36ms/step - accuracy: 0.2133 - loss: 5.5018 - val_accuracy: 0.0027 - val_loss: 4.1310\n",
            "Epoch 2/10\n",
            "\u001b[1m46/46\u001b[0m \u001b[32m━━━━━━━━━━━━━━━━━━━━\u001b[0m\u001b[37m\u001b[0m \u001b[1m0s\u001b[0m 6ms/step\n",
            "\n",
            "Epoch 2: F1-Score: 0.5297\n",
            "\u001b[1m184/184\u001b[0m \u001b[32m━━━━━━━━━━━━━━━━━━━━\u001b[0m\u001b[37m\u001b[0m \u001b[1m5s\u001b[0m 25ms/step - accuracy: 0.2373 - loss: 3.8912 - val_accuracy: 0.0048 - val_loss: 3.0153\n",
            "Epoch 3/10\n",
            "\u001b[1m46/46\u001b[0m \u001b[32m━━━━━━━━━━━━━━━━━━━━\u001b[0m\u001b[37m\u001b[0m \u001b[1m0s\u001b[0m 9ms/step\n",
            "\n",
            "Epoch 3: F1-Score: 0.7283\n",
            "\u001b[1m184/184\u001b[0m \u001b[32m━━━━━━━━━━━━━━━━━━━━\u001b[0m\u001b[37m\u001b[0m \u001b[1m5s\u001b[0m 28ms/step - accuracy: 0.2750 - loss: 2.8080 - val_accuracy: 0.1253 - val_loss: 2.2522\n",
            "Epoch 4/10\n",
            "\u001b[1m46/46\u001b[0m \u001b[32m━━━━━━━━━━━━━━━━━━━━\u001b[0m\u001b[37m\u001b[0m \u001b[1m0s\u001b[0m 6ms/step\n",
            "\n",
            "Epoch 4: F1-Score: 0.8144\n",
            "\u001b[1m184/184\u001b[0m \u001b[32m━━━━━━━━━━━━━━━━━━━━\u001b[0m\u001b[37m\u001b[0m \u001b[1m10s\u001b[0m 26ms/step - accuracy: 0.3117 - loss: 2.1344 - val_accuracy: 0.2396 - val_loss: 1.7417\n",
            "Epoch 5/10\n",
            "\u001b[1m46/46\u001b[0m \u001b[32m━━━━━━━━━━━━━━━━━━━━\u001b[0m\u001b[37m\u001b[0m \u001b[1m0s\u001b[0m 6ms/step\n",
            "\n",
            "Epoch 5: F1-Score: 0.8535\n",
            "\u001b[1m184/184\u001b[0m \u001b[32m━━━━━━━━━━━━━━━━━━━━\u001b[0m\u001b[37m\u001b[0m \u001b[1m5s\u001b[0m 28ms/step - accuracy: 0.3258 - loss: 1.6796 - val_accuracy: 0.4016 - val_loss: 1.3913\n",
            "Epoch 6/10\n",
            "\u001b[1m46/46\u001b[0m \u001b[32m━━━━━━━━━━━━━━━━━━━━\u001b[0m\u001b[37m\u001b[0m \u001b[1m0s\u001b[0m 8ms/step\n",
            "\n",
            "Epoch 6: F1-Score: 0.8424\n",
            "\u001b[1m184/184\u001b[0m \u001b[32m━━━━━━━━━━━━━━━━━━━━\u001b[0m\u001b[37m\u001b[0m \u001b[1m10s\u001b[0m 26ms/step - accuracy: 0.3281 - loss: 1.3616 - val_accuracy: 0.3261 - val_loss: 1.1476\n",
            "Epoch 7/10\n",
            "\u001b[1m46/46\u001b[0m \u001b[32m━━━━━━━━━━━━━━━━━━━━\u001b[0m\u001b[37m\u001b[0m \u001b[1m0s\u001b[0m 6ms/step\n",
            "\n",
            "Epoch 7: F1-Score: 0.8558\n",
            "\u001b[1m184/184\u001b[0m \u001b[32m━━━━━━━━━━━━━━━━━━━━\u001b[0m\u001b[37m\u001b[0m \u001b[1m5s\u001b[0m 26ms/step - accuracy: 0.3312 - loss: 1.1348 - val_accuracy: 0.3363 - val_loss: 0.9688\n",
            "Epoch 8/10\n",
            "\u001b[1m46/46\u001b[0m \u001b[32m━━━━━━━━━━━━━━━━━━━━\u001b[0m\u001b[37m\u001b[0m \u001b[1m0s\u001b[0m 6ms/step\n",
            "\n",
            "Epoch 8: F1-Score: 0.8743\n",
            "\u001b[1m184/184\u001b[0m \u001b[32m━━━━━━━━━━━━━━━━━━━━\u001b[0m\u001b[37m\u001b[0m \u001b[1m5s\u001b[0m 26ms/step - accuracy: 0.3349 - loss: 0.9554 - val_accuracy: 0.3247 - val_loss: 0.8383\n",
            "Epoch 9/10\n",
            "\u001b[1m46/46\u001b[0m \u001b[32m━━━━━━━━━━━━━━━━━━━━\u001b[0m\u001b[37m\u001b[0m \u001b[1m0s\u001b[0m 9ms/step\n",
            "\n",
            "Epoch 9: F1-Score: 0.8097\n",
            "\u001b[1m184/184\u001b[0m \u001b[32m━━━━━━━━━━━━━━━━━━━━\u001b[0m\u001b[37m\u001b[0m \u001b[1m5s\u001b[0m 29ms/step - accuracy: 0.3385 - loss: 0.8293 - val_accuracy: 0.2907 - val_loss: 0.7645\n",
            "Epoch 10/10\n",
            "\u001b[1m46/46\u001b[0m \u001b[32m━━━━━━━━━━━━━━━━━━━━\u001b[0m\u001b[37m\u001b[0m \u001b[1m0s\u001b[0m 6ms/step\n",
            "\n",
            "Epoch 10: F1-Score: 0.8787\n",
            "\u001b[1m184/184\u001b[0m \u001b[32m━━━━━━━━━━━━━━━━━━━━\u001b[0m\u001b[37m\u001b[0m \u001b[1m9s\u001b[0m 24ms/step - accuracy: 0.3476 - loss: 0.7145 - val_accuracy: 0.4166 - val_loss: 0.6378\n",
            "\u001b[1m46/46\u001b[0m \u001b[32m━━━━━━━━━━━━━━━━━━━━\u001b[0m\u001b[37m\u001b[0m \u001b[1m0s\u001b[0m 10ms/step - accuracy: 0.4335 - loss: 0.6345\n",
            "LTSM Norm Test Loss: 0.637786328792572\n",
            "LTSM Norm Test Accuracy: 0.4166099429130554\n"
          ]
        }
      ]
    },
    {
      "cell_type": "code",
      "source": [
        "model_with_weights = create_model_with_class_weights(vocabulary_size, max_length, LABELS_COUNT, padded_train_sequences, y_train)\n",
        "history_with_weights = model_with_weights.fit(padded_train_sequences, y_train, epochs=10, batch_size=32, validation_split=0.2, validation_data=(padded_test_sequences, y_test), callbacks=[f1_callback_5])\n",
        "with_weights_loss, with_weights_accuracy = model_with_weights.evaluate(padded_test_sequences, y_test)\n",
        "print(f'Model with Weights Test Loss: {ltsm_norm_loss}')\n",
        "print(f'Model with Weights Test Accuracy: {ltsm_norm_accuracy}')"
      ],
      "metadata": {
        "id": "dyAMF3TZwXeq",
        "colab": {
          "base_uri": "https://localhost:8080/"
        },
        "outputId": "520ef154-0cff-4b13-bae5-5708e21759ab"
      },
      "id": "dyAMF3TZwXeq",
      "execution_count": 58,
      "outputs": [
        {
          "output_type": "stream",
          "name": "stdout",
          "text": [
            "Epoch 1/10\n"
          ]
        },
        {
          "output_type": "stream",
          "name": "stderr",
          "text": [
            "/usr/local/lib/python3.10/dist-packages/keras/src/layers/core/embedding.py:90: UserWarning: Argument `input_length` is deprecated. Just remove it.\n",
            "  warnings.warn(\n"
          ]
        },
        {
          "output_type": "stream",
          "name": "stdout",
          "text": [
            "\u001b[1m147/147\u001b[0m \u001b[32m━━━━━━━━━━━━━━━━━━━━\u001b[0m\u001b[37m\u001b[0m \u001b[1m4s\u001b[0m 15ms/step - accuracy: 0.6371 - loss: 0.5457 - val_accuracy: 0.6698 - val_loss: 0.3987\n",
            "Epoch 2/10\n",
            "\u001b[1m147/147\u001b[0m \u001b[32m━━━━━━━━━━━━━━━━━━━━\u001b[0m\u001b[37m\u001b[0m \u001b[1m2s\u001b[0m 12ms/step - accuracy: 0.5085 - loss: 0.2812 - val_accuracy: 0.5149 - val_loss: 0.2568\n",
            "Epoch 3/10\n",
            "\u001b[1m147/147\u001b[0m \u001b[32m━━━━━━━━━━━━━━━━━━━━\u001b[0m\u001b[37m\u001b[0m \u001b[1m2s\u001b[0m 12ms/step - accuracy: 0.4450 - loss: 0.2037 - val_accuracy: 0.4562 - val_loss: 0.2307\n",
            "Epoch 4/10\n",
            "\u001b[1m147/147\u001b[0m \u001b[32m━━━━━━━━━━━━━━━━━━━━\u001b[0m\u001b[37m\u001b[0m \u001b[1m3s\u001b[0m 11ms/step - accuracy: 0.4497 - loss: 0.1722 - val_accuracy: 0.4315 - val_loss: 0.2137\n",
            "Epoch 5/10\n",
            "\u001b[1m147/147\u001b[0m \u001b[32m━━━━━━━━━━━━━━━━━━━━\u001b[0m\u001b[37m\u001b[0m \u001b[1m3s\u001b[0m 13ms/step - accuracy: 0.4041 - loss: 0.1400 - val_accuracy: 0.4060 - val_loss: 0.2074\n",
            "Epoch 6/10\n",
            "\u001b[1m147/147\u001b[0m \u001b[32m━━━━━━━━━━━━━━━━━━━━\u001b[0m\u001b[37m\u001b[0m \u001b[1m3s\u001b[0m 15ms/step - accuracy: 0.3760 - loss: 0.1253 - val_accuracy: 0.4170 - val_loss: 0.2011\n",
            "Epoch 7/10\n",
            "\u001b[1m147/147\u001b[0m \u001b[32m━━━━━━━━━━━━━━━━━━━━\u001b[0m\u001b[37m\u001b[0m \u001b[1m2s\u001b[0m 12ms/step - accuracy: 0.3501 - loss: 0.1054 - val_accuracy: 0.3915 - val_loss: 0.1962\n",
            "Epoch 8/10\n",
            "\u001b[1m147/147\u001b[0m \u001b[32m━━━━━━━━━━━━━━━━━━━━\u001b[0m\u001b[37m\u001b[0m \u001b[1m3s\u001b[0m 12ms/step - accuracy: 0.3593 - loss: 0.0903 - val_accuracy: 0.4374 - val_loss: 0.1985\n",
            "Epoch 9/10\n",
            "\u001b[1m147/147\u001b[0m \u001b[32m━━━━━━━━━━━━━━━━━━━━\u001b[0m\u001b[37m\u001b[0m \u001b[1m3s\u001b[0m 12ms/step - accuracy: 0.3494 - loss: 0.0769 - val_accuracy: 0.3804 - val_loss: 0.2085\n",
            "Epoch 10/10\n",
            "\u001b[1m147/147\u001b[0m \u001b[32m━━━━━━━━━━━━━━━━━━━━\u001b[0m\u001b[37m\u001b[0m \u001b[1m2s\u001b[0m 12ms/step - accuracy: 0.3372 - loss: 0.0699 - val_accuracy: 0.3362 - val_loss: 0.2157\n",
            "Epoch 1/10\n",
            "\u001b[1m46/46\u001b[0m \u001b[32m━━━━━━━━━━━━━━━━━━━━\u001b[0m\u001b[37m\u001b[0m \u001b[1m1s\u001b[0m 9ms/step\n",
            "\n",
            "Epoch 1: F1-Score: 0.9224\n",
            "\u001b[1m184/184\u001b[0m \u001b[32m━━━━━━━━━━━━━━━━━━━━\u001b[0m\u001b[37m\u001b[0m \u001b[1m4s\u001b[0m 19ms/step - accuracy: 0.3510 - loss: 0.0977 - val_accuracy: 0.2845 - val_loss: 0.1703\n",
            "Epoch 2/10\n",
            "\u001b[1m46/46\u001b[0m \u001b[32m━━━━━━━━━━━━━━━━━━━━\u001b[0m\u001b[37m\u001b[0m \u001b[1m0s\u001b[0m 3ms/step\n",
            "\n",
            "Epoch 2: F1-Score: 0.9258\n",
            "\u001b[1m184/184\u001b[0m \u001b[32m━━━━━━━━━━━━━━━━━━━━\u001b[0m\u001b[37m\u001b[0m \u001b[1m2s\u001b[0m 13ms/step - accuracy: 0.3374 - loss: 0.0807 - val_accuracy: 0.2321 - val_loss: 0.1766\n",
            "Epoch 3/10\n",
            "\u001b[1m46/46\u001b[0m \u001b[32m━━━━━━━━━━━━━━━━━━━━\u001b[0m\u001b[37m\u001b[0m \u001b[1m0s\u001b[0m 4ms/step\n",
            "\n",
            "Epoch 3: F1-Score: 0.9252\n",
            "\u001b[1m184/184\u001b[0m \u001b[32m━━━━━━━━━━━━━━━━━━━━\u001b[0m\u001b[37m\u001b[0m \u001b[1m2s\u001b[0m 13ms/step - accuracy: 0.2991 - loss: 0.0765 - val_accuracy: 0.2982 - val_loss: 0.1702\n",
            "Epoch 4/10\n",
            "\u001b[1m46/46\u001b[0m \u001b[32m━━━━━━━━━━━━━━━━━━━━\u001b[0m\u001b[37m\u001b[0m \u001b[1m0s\u001b[0m 4ms/step\n",
            "\n",
            "Epoch 4: F1-Score: 0.9250\n",
            "Restoring model weights from the end of the best epoch: 2\n",
            "\u001b[1m184/184\u001b[0m \u001b[32m━━━━━━━━━━━━━━━━━━━━\u001b[0m\u001b[37m\u001b[0m \u001b[1m3s\u001b[0m 14ms/step - accuracy: 0.2912 - loss: 0.0604 - val_accuracy: 0.3410 - val_loss: 0.1890\n",
            "\u001b[1m46/46\u001b[0m \u001b[32m━━━━━━━━━━━━━━━━━━━━\u001b[0m\u001b[37m\u001b[0m \u001b[1m0s\u001b[0m 4ms/step - accuracy: 0.2379 - loss: 0.1717\n",
            "Model with Weights Test Loss: 0.637786328792572\n",
            "Model with Weights Test Accuracy: 0.4166099429130554\n"
          ]
        }
      ]
    },
    {
      "cell_type": "markdown",
      "source": [
        "## 7.3 Model Performance Comparison"
      ],
      "metadata": {
        "id": "wPfZUzNlo_01"
      },
      "id": "wPfZUzNlo_01"
    },
    {
      "cell_type": "markdown",
      "source": [
        "### 7.3.1 Accuracy and Loss Comparison"
      ],
      "metadata": {
        "id": "BYCrqQgtpbIw"
      },
      "id": "BYCrqQgtpbIw"
    },
    {
      "cell_type": "code",
      "execution_count": 59,
      "id": "6f6a78db",
      "metadata": {
        "id": "6f6a78db"
      },
      "outputs": [],
      "source": [
        "performance = {\n",
        "    'Model': ['Baseline LSTM', 'BiLSTM', 'GRU', 'LSTM Norm', 'Model with Weights'],\n",
        "    'Test Accuracy': [baseline_accuracy, bilstm_accuracy, gru_accuracy, ltsm_norm_accuracy, with_weights_accuracy],\n",
        "    'Test Loss': [baseline_loss, bilstm_loss, gru_loss, ltsm_norm_loss, with_weights_loss]\n",
        "}\n",
        "\n",
        "performance_df = pd.DataFrame(performance)"
      ]
    },
    {
      "cell_type": "code",
      "source": [
        "plot_model_performance('Comparison Model Loss on Test', 'Model', 'Test Loss', 'Model', 'Test Loss', performance_df)\n",
        "plot_model_performance('Comparison Model Accuracy on Test', 'Model', 'Test Accuracy', 'Model', 'Test Accuracy', performance_df)"
      ],
      "metadata": {
        "id": "A9RwqX6uyUfB",
        "colab": {
          "base_uri": "https://localhost:8080/",
          "height": 1000
        },
        "outputId": "3c09891c-fc47-4cfc-f47b-d5f3f0846b92"
      },
      "id": "A9RwqX6uyUfB",
      "execution_count": 60,
      "outputs": [
        {
          "output_type": "stream",
          "name": "stderr",
          "text": [
            "<ipython-input-17-1b2893783e16>:17: FutureWarning: \n",
            "\n",
            "Passing `palette` without assigning `hue` is deprecated and will be removed in v0.14.0. Assign the `x` variable to `hue` and set `legend=False` for the same effect.\n",
            "\n",
            "  sns.barplot(x=x, y=y, data=data, palette='viridis')\n"
          ]
        },
        {
          "output_type": "display_data",
          "data": {
            "text/plain": [
              "<Figure size 1000x600 with 1 Axes>"
            ],
            "image/png": "[encoded data removed]"
          },
          "metadata": {}
        },
        {
          "output_type": "stream",
          "name": "stderr",
          "text": [
            "<ipython-input-17-1b2893783e16>:17: FutureWarning: \n",
            "\n",
            "Passing `palette` without assigning `hue` is deprecated and will be removed in v0.14.0. Assign the `x` variable to `hue` and set `legend=False` for the same effect.\n",
            "\n",
            "  sns.barplot(x=x, y=y, data=data, palette='viridis')\n"
          ]
        },
        {
          "output_type": "display_data",
          "data": {
            "text/plain": [
              "<Figure size 1000x600 with 1 Axes>"
            ],
            "image/png": "[encoded data removed]"
          },
          "metadata": {}
        }
      ]
    },
    {
      "cell_type": "markdown",
      "source": [
        "Looking the Accuracy and Loss Function of models, it is possible to notice that the **worst** model is **Model with Weights** and the **best** are the **Baseline LSTM** and **BiLSTM**."
      ],
      "metadata": {
        "id": "CzkX5ognpH9X"
      },
      "id": "CzkX5ognpH9X"
    },
    {
      "cell_type": "markdown",
      "source": [
        "### 7.3.2 Identify Best Thresholds"
      ],
      "metadata": {
        "id": "m5oYLkvu_S5H"
      },
      "id": "m5oYLkvu_S5H"
    },
    {
      "cell_type": "markdown",
      "source": [
        "Compute the best thresholds for each label in order to convert the binary predicitons with more accuracy."
      ],
      "metadata": {
        "id": "JjgsT5AiGE7z"
      },
      "id": "JjgsT5AiGE7z"
    },
    {
      "cell_type": "code",
      "source": [
        "best_thresholds_baseline_model = find_best_thresholds(y_test, baseline_model.predict(y_test))"
      ],
      "metadata": {
        "colab": {
          "base_uri": "https://localhost:8080/"
        },
        "id": "AbrSkhwB9gp3",
        "outputId": "21e8d1b4-4d31-49f2-ec2f-6337cbf20332"
      },
      "id": "AbrSkhwB9gp3",
      "execution_count": 61,
      "outputs": [
        {
          "output_type": "stream",
          "name": "stdout",
          "text": [
            "\u001b[1m46/46\u001b[0m \u001b[32m━━━━━━━━━━━━━━━━━━━━\u001b[0m\u001b[37m\u001b[0m \u001b[1m0s\u001b[0m 4ms/step\n",
            "Best threshold for label 0 is 0.30 with F1 score 0.9840\n",
            "Best threshold for label 1 is 0.28 with F1 score 0.8523\n",
            "Best threshold for label 2 is 0.22 with F1 score 0.9633\n",
            "Best threshold for label 3 is 0.11 with F1 score 0.6941\n",
            "Best threshold for label 4 is 0.21 with F1 score 0.9823\n",
            "Best threshold for label 5 is 0.27 with F1 score 0.6354\n"
          ]
        }
      ]
    },
    {
      "cell_type": "code",
      "source": [
        "best_thresholds_bilstm_model = find_best_thresholds(y_test, bilstm_model.predict(y_test))"
      ],
      "metadata": {
        "colab": {
          "base_uri": "https://localhost:8080/"
        },
        "id": "c9Jzk9M5_a6a",
        "outputId": "3e526296-0003-42c7-835d-0efab0a76836"
      },
      "id": "c9Jzk9M5_a6a",
      "execution_count": 62,
      "outputs": [
        {
          "output_type": "stream",
          "name": "stdout",
          "text": [
            "\u001b[1m46/46\u001b[0m \u001b[32m━━━━━━━━━━━━━━━━━━━━\u001b[0m\u001b[37m\u001b[0m \u001b[1m1s\u001b[0m 9ms/step\n",
            "Best threshold for label 0 is 0.61 with F1 score 0.9899\n",
            "Best threshold for label 1 is 0.34 with F1 score 0.7585\n",
            "Best threshold for label 2 is 0.24 with F1 score 0.9664\n",
            "Best threshold for label 3 is 0.07 with F1 score 0.7092\n",
            "Best threshold for label 4 is 0.24 with F1 score 0.9593\n",
            "Best threshold for label 5 is 0.00 with F1 score 0.4238\n"
          ]
        }
      ]
    },
    {
      "cell_type": "code",
      "source": [
        "best_thresholds_gru_model = find_best_thresholds(y_test, gru_model.predict(y_test))"
      ],
      "metadata": {
        "colab": {
          "base_uri": "https://localhost:8080/"
        },
        "id": "iLB2t9Pp_bOS",
        "outputId": "0cd2fe6c-9170-4a6c-d504-b4a1eb7d0bbf"
      },
      "id": "iLB2t9Pp_bOS",
      "execution_count": 63,
      "outputs": [
        {
          "output_type": "stream",
          "name": "stdout",
          "text": [
            "\u001b[1m46/46\u001b[0m \u001b[32m━━━━━━━━━━━━━━━━━━━━\u001b[0m\u001b[37m\u001b[0m \u001b[1m0s\u001b[0m 4ms/step\n",
            "Best threshold for label 0 is 0.01 with F1 score 0.9840\n",
            "Best threshold for label 1 is 0.47 with F1 score 0.7412\n",
            "Best threshold for label 2 is 0.04 with F1 score 0.9374\n",
            "Best threshold for label 3 is 0.02 with F1 score 0.6857\n",
            "Best threshold for label 4 is 0.01 with F1 score 0.9529\n",
            "Best threshold for label 5 is 0.00 with F1 score 0.4238\n"
          ]
        }
      ]
    },
    {
      "cell_type": "code",
      "source": [
        "best_thresholds_ltsm_norm_model = find_best_thresholds(y_test, ltsm_norm_model.predict(y_test))"
      ],
      "metadata": {
        "colab": {
          "base_uri": "https://localhost:8080/"
        },
        "id": "xnPCazEx_blk",
        "outputId": "d838a0e7-4739-46e7-86f3-1a5dffeb3e5b"
      },
      "id": "xnPCazEx_blk",
      "execution_count": 64,
      "outputs": [
        {
          "output_type": "stream",
          "name": "stdout",
          "text": [
            "\u001b[1m46/46\u001b[0m \u001b[32m━━━━━━━━━━━━━━━━━━━━\u001b[0m\u001b[37m\u001b[0m \u001b[1m1s\u001b[0m 8ms/step\n",
            "Best threshold for label 0 is 0.77 with F1 score 0.9899\n",
            "Best threshold for label 1 is 0.51 with F1 score 0.6791\n",
            "Best threshold for label 2 is 0.78 with F1 score 0.9608\n",
            "Best threshold for label 3 is 0.15 with F1 score 0.6857\n",
            "Best threshold for label 4 is 0.67 with F1 score 0.9694\n",
            "Best threshold for label 5 is 0.00 with F1 score 0.4238\n"
          ]
        }
      ]
    },
    {
      "cell_type": "code",
      "source": [
        "best_thresholds_model_with_weights = find_best_thresholds(y_test, model_with_weights.predict(y_test))"
      ],
      "metadata": {
        "colab": {
          "base_uri": "https://localhost:8080/"
        },
        "id": "SEZbCKvB_goz",
        "outputId": "e0b9cb06-2323-49ff-d2a9-75127d7a63c5"
      },
      "id": "SEZbCKvB_goz",
      "execution_count": 65,
      "outputs": [
        {
          "output_type": "stream",
          "name": "stdout",
          "text": [
            "\u001b[1m46/46\u001b[0m \u001b[32m━━━━━━━━━━━━━━━━━━━━\u001b[0m\u001b[37m\u001b[0m \u001b[1m0s\u001b[0m 4ms/step\n",
            "Best threshold for label 0 is 0.17 with F1 score 0.9876\n",
            "Best threshold for label 1 is 0.30 with F1 score 0.6784\n",
            "Best threshold for label 2 is 0.33 with F1 score 0.9633\n",
            "Best threshold for label 3 is 0.05 with F1 score 0.7092\n",
            "Best threshold for label 4 is 0.18 with F1 score 0.9716\n",
            "Best threshold for label 5 is 0.00 with F1 score 0.4238\n"
          ]
        }
      ]
    },
    {
      "cell_type": "markdown",
      "source": [
        "### 7.3.3 Classification Report Comparison"
      ],
      "metadata": {
        "id": "1eppoVubpgOt"
      },
      "id": "1eppoVubpgOt"
    },
    {
      "cell_type": "markdown",
      "source": [
        "Generate the classification reports for each model and compare the metrics in order to understand which is the best."
      ],
      "metadata": {
        "id": "WBqMJd8G6ad0"
      },
      "id": "WBqMJd8G6ad0"
    },
    {
      "cell_type": "code",
      "source": [
        "generate_classification_report(baseline_model, padded_test_sequences, y_test, best_thresholds_baseline_model)"
      ],
      "metadata": {
        "colab": {
          "base_uri": "https://localhost:8080/"
        },
        "id": "lY4vJYhN5iPd",
        "outputId": "041a1800-948b-4d03-b359-51f51d7b56d6"
      },
      "id": "lY4vJYhN5iPd",
      "execution_count": 66,
      "outputs": [
        {
          "output_type": "stream",
          "name": "stdout",
          "text": [
            "\u001b[1m46/46\u001b[0m \u001b[32m━━━━━━━━━━━━━━━━━━━━\u001b[0m\u001b[37m\u001b[0m \u001b[1m0s\u001b[0m 5ms/step\n",
            "               precision    recall  f1-score   support\n",
            "\n",
            "        toxic       0.95      0.97      0.96       835\n",
            " severe_toxic       0.80      0.88      0.84       363\n",
            "      obscene       0.90      0.97      0.94       624\n",
            "       threat       0.84      1.00      0.91       456\n",
            "       insult       0.85      0.97      0.91       640\n",
            "identity_hate       0.73      0.91      0.81       395\n",
            "\n",
            "    micro avg       0.86      0.96      0.91      3313\n",
            "    macro avg       0.85      0.95      0.89      3313\n",
            " weighted avg       0.86      0.96      0.91      3313\n",
            "  samples avg       0.51      0.57      0.53      3313\n",
            "\n"
          ]
        },
        {
          "output_type": "stream",
          "name": "stderr",
          "text": [
            "/usr/local/lib/python3.10/dist-packages/sklearn/metrics/_classification.py:1471: UndefinedMetricWarning: Precision and F-score are ill-defined and being set to 0.0 in samples with no predicted labels. Use `zero_division` parameter to control this behavior.\n",
            "  _warn_prf(average, modifier, msg_start, len(result))\n",
            "/usr/local/lib/python3.10/dist-packages/sklearn/metrics/_classification.py:1471: UndefinedMetricWarning: Recall and F-score are ill-defined and being set to 0.0 in samples with no true labels. Use `zero_division` parameter to control this behavior.\n",
            "  _warn_prf(average, modifier, msg_start, len(result))\n"
          ]
        }
      ]
    },
    {
      "cell_type": "code",
      "source": [
        "generate_classification_report(bilstm_model, padded_test_sequences, y_test, best_thresholds_bilstm_model)"
      ],
      "metadata": {
        "colab": {
          "base_uri": "https://localhost:8080/"
        },
        "id": "47zg81bG6ScG",
        "outputId": "a0e8c7d6-d7f8-4661-de2e-8d475b2b6be7"
      },
      "id": "47zg81bG6ScG",
      "execution_count": 67,
      "outputs": [
        {
          "output_type": "stream",
          "name": "stdout",
          "text": [
            "\u001b[1m46/46\u001b[0m \u001b[32m━━━━━━━━━━━━━━━━━━━━\u001b[0m\u001b[37m\u001b[0m \u001b[1m0s\u001b[0m 7ms/step\n",
            "               precision    recall  f1-score   support\n",
            "\n",
            "        toxic       0.97      0.95      0.96       835\n",
            " severe_toxic       0.80      0.90      0.85       363\n",
            "      obscene       0.91      0.97      0.94       624\n",
            "       threat       0.89      1.00      0.94       456\n",
            "       insult       0.89      0.96      0.92       640\n",
            "identity_hate       0.27      1.00      0.42       395\n",
            "\n",
            "    micro avg       0.70      0.96      0.81      3313\n",
            "    macro avg       0.79      0.96      0.84      3313\n",
            " weighted avg       0.83      0.96      0.87      3313\n",
            "  samples avg       0.48      0.57      0.51      3313\n",
            "\n"
          ]
        },
        {
          "output_type": "stream",
          "name": "stderr",
          "text": [
            "/usr/local/lib/python3.10/dist-packages/sklearn/metrics/_classification.py:1471: UndefinedMetricWarning: Recall and F-score are ill-defined and being set to 0.0 in samples with no true labels. Use `zero_division` parameter to control this behavior.\n",
            "  _warn_prf(average, modifier, msg_start, len(result))\n"
          ]
        }
      ]
    },
    {
      "cell_type": "code",
      "source": [
        "generate_classification_report(gru_model, padded_test_sequences, y_test, best_thresholds_gru_model)"
      ],
      "metadata": {
        "colab": {
          "base_uri": "https://localhost:8080/"
        },
        "id": "Y0ILNWgL6Sz0",
        "outputId": "5293bc19-b93a-4173-bd8a-013fde38d6cb"
      },
      "id": "Y0ILNWgL6Sz0",
      "execution_count": 68,
      "outputs": [
        {
          "output_type": "stream",
          "name": "stdout",
          "text": [
            "\u001b[1m46/46\u001b[0m \u001b[32m━━━━━━━━━━━━━━━━━━━━\u001b[0m\u001b[37m\u001b[0m \u001b[1m0s\u001b[0m 4ms/step\n",
            "               precision    recall  f1-score   support\n",
            "\n",
            "        toxic       0.87      0.99      0.92       835\n",
            " severe_toxic       0.82      0.86      0.84       363\n",
            "      obscene       0.82      0.98      0.89       624\n",
            "       threat       0.74      1.00      0.85       456\n",
            "       insult       0.73      0.98      0.84       640\n",
            "identity_hate       0.27      1.00      0.42       395\n",
            "\n",
            "    micro avg       0.64      0.97      0.77      3313\n",
            "    macro avg       0.71      0.97      0.79      3313\n",
            " weighted avg       0.74      0.97      0.82      3313\n",
            "  samples avg       0.45      0.58      0.50      3313\n",
            "\n"
          ]
        },
        {
          "output_type": "stream",
          "name": "stderr",
          "text": [
            "/usr/local/lib/python3.10/dist-packages/sklearn/metrics/_classification.py:1471: UndefinedMetricWarning: Recall and F-score are ill-defined and being set to 0.0 in samples with no true labels. Use `zero_division` parameter to control this behavior.\n",
            "  _warn_prf(average, modifier, msg_start, len(result))\n"
          ]
        }
      ]
    },
    {
      "cell_type": "code",
      "source": [
        "generate_classification_report(ltsm_norm_model, padded_test_sequences, y_test, best_thresholds_ltsm_norm_model)"
      ],
      "metadata": {
        "colab": {
          "base_uri": "https://localhost:8080/"
        },
        "id": "CgS6DW-K6VDe",
        "outputId": "440fd5ab-4b30-40e9-9a20-8c90189b49ab"
      },
      "id": "CgS6DW-K6VDe",
      "execution_count": 69,
      "outputs": [
        {
          "output_type": "stream",
          "name": "stdout",
          "text": [
            "\u001b[1m46/46\u001b[0m \u001b[32m━━━━━━━━━━━━━━━━━━━━\u001b[0m\u001b[37m\u001b[0m \u001b[1m0s\u001b[0m 6ms/step\n",
            "               precision    recall  f1-score   support\n",
            "\n",
            "        toxic       0.97      0.84      0.90       835\n",
            " severe_toxic       0.78      0.74      0.76       363\n",
            "      obscene       0.96      0.79      0.87       624\n",
            "       threat       0.64      1.00      0.78       456\n",
            "       insult       0.93      0.81      0.86       640\n",
            "identity_hate       0.27      1.00      0.42       395\n",
            "\n",
            "    micro avg       0.65      0.85      0.74      3313\n",
            "    macro avg       0.76      0.86      0.76      3313\n",
            " weighted avg       0.81      0.85      0.80      3313\n",
            "  samples avg       0.46      0.50      0.46      3313\n",
            "\n"
          ]
        },
        {
          "output_type": "stream",
          "name": "stderr",
          "text": [
            "/usr/local/lib/python3.10/dist-packages/sklearn/metrics/_classification.py:1471: UndefinedMetricWarning: Recall and F-score are ill-defined and being set to 0.0 in samples with no true labels. Use `zero_division` parameter to control this behavior.\n",
            "  _warn_prf(average, modifier, msg_start, len(result))\n"
          ]
        }
      ]
    },
    {
      "cell_type": "code",
      "source": [
        "generate_classification_report(model_with_weights, padded_test_sequences, y_test, best_thresholds_model_with_weights)"
      ],
      "metadata": {
        "colab": {
          "base_uri": "https://localhost:8080/"
        },
        "id": "MEbTTi_k6T1k",
        "outputId": "2ed41acf-f87a-422b-c22b-afc473a76807"
      },
      "id": "MEbTTi_k6T1k",
      "execution_count": 70,
      "outputs": [
        {
          "output_type": "stream",
          "name": "stdout",
          "text": [
            "\u001b[1m46/46\u001b[0m \u001b[32m━━━━━━━━━━━━━━━━━━━━\u001b[0m\u001b[37m\u001b[0m \u001b[1m0s\u001b[0m 4ms/step\n",
            "               precision    recall  f1-score   support\n",
            "\n",
            "        toxic       0.95      0.96      0.96       835\n",
            " severe_toxic       0.82      0.86      0.84       363\n",
            "      obscene       0.94      0.95      0.95       624\n",
            "       threat       0.87      1.00      0.93       456\n",
            "       insult       0.87      0.97      0.92       640\n",
            "identity_hate       0.27      1.00      0.42       395\n",
            "\n",
            "    micro avg       0.70      0.96      0.81      3313\n",
            "    macro avg       0.79      0.96      0.84      3313\n",
            " weighted avg       0.83      0.96      0.87      3313\n",
            "  samples avg       0.48      0.57      0.51      3313\n",
            "\n"
          ]
        },
        {
          "output_type": "stream",
          "name": "stderr",
          "text": [
            "/usr/local/lib/python3.10/dist-packages/sklearn/metrics/_classification.py:1471: UndefinedMetricWarning: Recall and F-score are ill-defined and being set to 0.0 in samples with no true labels. Use `zero_division` parameter to control this behavior.\n",
            "  _warn_prf(average, modifier, msg_start, len(result))\n"
          ]
        }
      ]
    },
    {
      "cell_type": "markdown",
      "source": [
        "Looking the classification reports, as expected also from previous comparison, the best model is the Baseline model."
      ],
      "metadata": {
        "id": "KPIk19RZ6YRz"
      },
      "id": "KPIk19RZ6YRz"
    },
    {
      "cell_type": "markdown",
      "id": "a65396aa",
      "metadata": {
        "id": "a65396aa"
      },
      "source": [
        "# 8 Model Tests"
      ]
    },
    {
      "cell_type": "markdown",
      "source": [
        "Create the new comments and test the model after the training."
      ],
      "metadata": {
        "id": "oXbR70lQ2Drf"
      },
      "id": "oXbR70lQ2Drf"
    },
    {
      "cell_type": "code",
      "source": [
        "toxic_comments = [\n",
        "    \"You are such an idiot. No one cares about your stupid opinions!\",\n",
        "    \"You're the most worthless piece of garbage I've ever encountered. Just go away.\",\n",
        "    \"I hope you rot in hell for the rest of eternity, you despicable person.\",\n",
        "    \"Shut up, you pathetic loser. No one wants to hear your whining.\",\n",
        "    \"You're nothing but a lying, cheating scumbag. Get lost!\"\n",
        "]\n",
        "\n",
        "\n",
        "severe_toxic_comments = [\n",
        "    \"ARE YOU FUCKING KIDDING ME? WHAT THE HELL ARE YOU EVEN TALKING ABOUT? THIS IS NONE OF YOUR DAMN BUSINESS. WHY DO YOU FEEL THE NEED TO STICK YOUR NOSE WHERE IT DOESN'T BELONG? I'VE CONTRIBUTED PLENTY TO THIS PAGE. IF SOMEONE HAS A PROBLEM, THEY CAN CONTACT ME DIRECTLY WITHOUT YOU BUTTING IN. SO BACK OFF.\",\n",
        "    \"screw off. screw off. screw off. screw off. screw off. screw off. screw off. screw off. screw off. screw off. screw off. screw off. screw off. screw off.\",\n",
        "    \"YOU ARE SO FUCKING STUPID. DO YOU EVEN KNOW HOW TO READ? YOUR COMMENTS ARE JUST A BUNCH OF GARBAGE. NO ONE CARES ABOUT YOUR OPINION.\",\n",
        "    \"Just shut the hell up. shut the hell up. shut the hell up.\",\n",
        "    \"GO DIE IN A FIRE. LOL. JUST JOKING. HAHAHAHAHA. BUT SERIOUSLY, NO ONE WANTS YOU HERE. YOU'RE A WASTE OF SPACE AND TIME. NO MATTER WHAT YOU DO, YOU CAN'T STOP ME. DEAL WITH IT.\"\n",
        "]\n",
        "\n",
        "obscene_comments = [\n",
        "    \"You're a bitch with no life!\",\n",
        "    \"Fuck that shit, suck my dick\",\n",
        "    \"Asshole, go to take dick in ass, stupid bastard\",\n",
        "    \"SUCK MY DICK! SUCK MY DICK!\",\n",
        "    \"mOTHER FUCKer! FAK!\"\n",
        "]\n",
        "\n",
        "threat_comments = [\n",
        "    \"Keep talking and you'll regret it when someone shows up at your door.\",\n",
        "    \"You better watch out, because I'll find you and make you pay.\",\n",
        "    \"Shut up, or I'll come over and deal with you myself.\",\n",
        "    \"You're such a pathetic loser. I hope you get what's coming to you.\",\n",
        "    \"Keep running your mouth and see what happens when I catch up with you.\"\n",
        "]\n",
        "\n",
        "insult_comments = [\n",
        "    \"FUCK YOU\",\n",
        "    \"MOTHERFUCKER LOSER\",\n",
        "    \"Fat retarded!\",\n",
        "    \"youre a rat!\",\n",
        "    \"fat bitch nigga\"\n",
        "]\n",
        "\n",
        "identity_hate_comments = [\n",
        "    \"Go back to where you came from, you don't belong here.\",\n",
        "    \"What is wrong with you, you filthy Muslim? Stay away from our discussions.\",\n",
        "    \"You dirty pig, why do you always meddle in things that don't concern you?\",\n",
        "    \"You're nothing but a low-life, uneducated person from a backward country.\",\n",
        "    \"Get lost, we don't need your kind messing up this space.\"\n",
        "]\n",
        "\n",
        "positive_comments = [\n",
        "    \"YOU ARE MY HERO!\",\n",
        "    \"Ty for supporting and let me know how to do this stuff!\",\n",
        "    \"THANKS MAN FOR THIS, U R SPECIAL\",\n",
        "    \"Where can i find it? I NEED THIS PLEASE!\",\n",
        "    \"dO U understand the question? I think that you didn't get th point. I'm saying that you could tkae this stuff from another place and probably they are better than yours.\"\n",
        "]"
      ],
      "metadata": {
        "id": "1Zsy3zoQ9ejd"
      },
      "id": "1Zsy3zoQ9ejd",
      "execution_count": 71,
      "outputs": []
    },
    {
      "cell_type": "code",
      "source": [
        "dict_comments = {\n",
        "    'toxic': toxic_comments,\n",
        "    'severe_toxic': severe_toxic_comments,\n",
        "    'obscene': obscene_comments,\n",
        "    'threat': threat_comments,\n",
        "    'insult': insult_comments,\n",
        "    'identity_hate': identity_hate_comments,\n",
        "    'positive': positive_comments\n",
        "}"
      ],
      "metadata": {
        "id": "9ILUZsWt0kW9"
      },
      "id": "9ILUZsWt0kW9",
      "execution_count": 72,
      "outputs": []
    },
    {
      "cell_type": "code",
      "execution_count": 74,
      "id": "_jBOlDP9YzZb",
      "metadata": {
        "id": "_jBOlDP9YzZb",
        "colab": {
          "base_uri": "https://localhost:8080/"
        },
        "outputId": "1d2eaf19-8023-44dc-a4b5-9602b4f0d6c5"
      },
      "outputs": [
        {
          "output_type": "stream",
          "name": "stdout",
          "text": [
            "\n",
            "Label: toxic\n",
            "\u001b[1m1/1\u001b[0m \u001b[32m━━━━━━━━━━━━━━━━━━━━\u001b[0m\u001b[37m\u001b[0m \u001b[1m0s\u001b[0m 39ms/step\n",
            "Comment: You are such an idiot. No one cares about your stupid opinions!\n",
            "Binary Prediction: [1 1 1 0 1 1]\n",
            "\n",
            "Comment: You're the most worthless piece of garbage I've ever encountered. Just go away.\n",
            "Binary Prediction: [1 1 1 0 1 1]\n",
            "\n",
            "Comment: I hope you rot in hell for the rest of eternity, you despicable person.\n",
            "Binary Prediction: [1 0 0 1 1 0]\n",
            "\n",
            "Comment: Shut up, you pathetic loser. No one wants to hear your whining.\n",
            "Binary Prediction: [1 1 1 0 1 1]\n",
            "\n",
            "Comment: You're nothing but a lying, cheating scumbag. Get lost!\n",
            "Binary Prediction: [1 0 0 0 0 1]\n",
            "\n",
            "\n",
            "Label: severe_toxic\n",
            "\u001b[1m1/1\u001b[0m \u001b[32m━━━━━━━━━━━━━━━━━━━━\u001b[0m\u001b[37m\u001b[0m \u001b[1m0s\u001b[0m 32ms/step\n",
            "Comment: ARE YOU FUCKING KIDDING ME? WHAT THE HELL ARE YOU EVEN TALKING ABOUT? THIS IS NONE OF YOUR DAMN BUSINESS. WHY DO YOU FEEL THE NEED TO STICK YOUR NOSE WHERE IT DOESN'T BELONG? I'VE CONTRIBUTED PLENTY TO THIS PAGE. IF SOMEONE HAS A PROBLEM, THEY CAN CONTACT ME DIRECTLY WITHOUT YOU BUTTING IN. SO BACK OFF.\n",
            "Binary Prediction: [1 1 1 0 1 1]\n",
            "\n",
            "Comment: screw off. screw off. screw off. screw off. screw off. screw off. screw off. screw off. screw off. screw off. screw off. screw off. screw off. screw off.\n",
            "Binary Prediction: [0 0 0 0 0 0]\n",
            "\n",
            "Comment: YOU ARE SO FUCKING STUPID. DO YOU EVEN KNOW HOW TO READ? YOUR COMMENTS ARE JUST A BUNCH OF GARBAGE. NO ONE CARES ABOUT YOUR OPINION.\n",
            "Binary Prediction: [1 1 1 0 1 1]\n",
            "\n",
            "Comment: Just shut the hell up. shut the hell up. shut the hell up.\n",
            "Binary Prediction: [1 1 1 1 1 0]\n",
            "\n",
            "Comment: GO DIE IN A FIRE. LOL. JUST JOKING. HAHAHAHAHA. BUT SERIOUSLY, NO ONE WANTS YOU HERE. YOU'RE A WASTE OF SPACE AND TIME. NO MATTER WHAT YOU DO, YOU CAN'T STOP ME. DEAL WITH IT.\n",
            "Binary Prediction: [1 0 1 1 1 1]\n",
            "\n",
            "\n",
            "Label: obscene\n",
            "\u001b[1m1/1\u001b[0m \u001b[32m━━━━━━━━━━━━━━━━━━━━\u001b[0m\u001b[37m\u001b[0m \u001b[1m0s\u001b[0m 33ms/step\n",
            "Comment: You're a bitch with no life!\n",
            "Binary Prediction: [1 1 1 0 1 1]\n",
            "\n",
            "Comment: Fuck that shit, suck my dick\n",
            "Binary Prediction: [1 1 1 0 1 0]\n",
            "\n",
            "Comment: Asshole, go to take dick in ass, stupid bastard\n",
            "Binary Prediction: [1 1 1 0 1 0]\n",
            "\n",
            "Comment: SUCK MY DICK! SUCK MY DICK!\n",
            "Binary Prediction: [1 1 1 0 1 0]\n",
            "\n",
            "Comment: mOTHER FUCKer! FAK!\n",
            "Binary Prediction: [1 1 1 0 1 1]\n",
            "\n",
            "\n",
            "Label: threat\n",
            "\u001b[1m1/1\u001b[0m \u001b[32m━━━━━━━━━━━━━━━━━━━━\u001b[0m\u001b[37m\u001b[0m \u001b[1m0s\u001b[0m 32ms/step\n",
            "Comment: Keep talking and you'll regret it when someone shows up at your door.\n",
            "Binary Prediction: [0 0 0 0 0 0]\n",
            "\n",
            "Comment: You better watch out, because I'll find you and make you pay.\n",
            "Binary Prediction: [1 0 0 1 0 0]\n",
            "\n",
            "Comment: Shut up, or I'll come over and deal with you myself.\n",
            "Binary Prediction: [1 0 0 1 1 0]\n",
            "\n",
            "Comment: You're such a pathetic loser. I hope you get what's coming to you.\n",
            "Binary Prediction: [1 0 1 1 1 0]\n",
            "\n",
            "Comment: Keep running your mouth and see what happens when I catch up with you.\n",
            "Binary Prediction: [1 1 1 1 1 0]\n",
            "\n",
            "\n",
            "Label: insult\n",
            "\u001b[1m1/1\u001b[0m \u001b[32m━━━━━━━━━━━━━━━━━━━━\u001b[0m\u001b[37m\u001b[0m \u001b[1m0s\u001b[0m 30ms/step\n",
            "Comment: FUCK YOU\n",
            "Binary Prediction: [1 1 1 0 1 1]\n",
            "\n",
            "Comment: MOTHERFUCKER LOSER\n",
            "Binary Prediction: [1 1 1 1 1 0]\n",
            "\n",
            "Comment: Fat retarded!\n",
            "Binary Prediction: [1 1 1 0 1 1]\n",
            "\n",
            "Comment: youre a rat!\n",
            "Binary Prediction: [1 0 1 0 1 1]\n",
            "\n",
            "Comment: fat bitch nigga\n",
            "Binary Prediction: [1 1 1 0 1 1]\n",
            "\n",
            "\n",
            "Label: identity_hate\n",
            "\u001b[1m1/1\u001b[0m \u001b[32m━━━━━━━━━━━━━━━━━━━━\u001b[0m\u001b[37m\u001b[0m \u001b[1m0s\u001b[0m 46ms/step\n",
            "Comment: Go back to where you came from, you don't belong here.\n",
            "Binary Prediction: [0 0 0 1 0 0]\n",
            "\n",
            "Comment: What is wrong with you, you filthy Muslim? Stay away from our discussions.\n",
            "Binary Prediction: [1 0 1 0 1 1]\n",
            "\n",
            "Comment: You dirty pig, why do you always meddle in things that don't concern you?\n",
            "Binary Prediction: [1 0 1 0 1 1]\n",
            "\n",
            "Comment: You're nothing but a low-life, uneducated person from a backward country.\n",
            "Binary Prediction: [1 0 0 0 0 1]\n",
            "\n",
            "Comment: Get lost, we don't need your kind messing up this space.\n",
            "Binary Prediction: [0 0 0 0 0 0]\n",
            "\n",
            "\n",
            "Label: positive\n",
            "\u001b[1m1/1\u001b[0m \u001b[32m━━━━━━━━━━━━━━━━━━━━\u001b[0m\u001b[37m\u001b[0m \u001b[1m0s\u001b[0m 34ms/step\n",
            "Comment: YOU ARE MY HERO!\n",
            "Binary Prediction: [0 0 0 0 0 0]\n",
            "\n",
            "Comment: Ty for supporting and let me know how to do this stuff!\n",
            "Binary Prediction: [0 0 0 0 0 0]\n",
            "\n",
            "Comment: THANKS MAN FOR THIS, U R SPECIAL\n",
            "Binary Prediction: [0 0 0 0 0 1]\n",
            "\n",
            "Comment: Where can i find it? I NEED THIS PLEASE!\n",
            "Binary Prediction: [0 0 0 0 0 0]\n",
            "\n",
            "Comment: dO U understand the question? I think that you didn't get th point. I'm saying that you could tkae this stuff from another place and probably they are better than yours.\n",
            "Binary Prediction: [0 0 0 0 0 1]\n",
            "\n"
          ]
        }
      ],
      "source": [
        "process_and_predict_comments(dict_comments, tokenizer, baseline_model, max_length, best_thresholds_baseline_model)"
      ]
    },
    {
      "cell_type": "markdown",
      "source": [
        "Chosing the best model comparing the classification report, the baseline model (LSTM), the tests are wuite good for each label.\n",
        "\n",
        "Furthermore, it can identify also the positive comments."
      ],
      "metadata": {
        "id": "KkPsHLlC223m"
      },
      "id": "KkPsHLlC223m"
    },
    {
      "cell_type": "markdown",
      "source": [
        "# 9 Conclusion"
      ],
      "metadata": {
        "id": "8DutbYAoqFnN"
      },
      "id": "8DutbYAoqFnN"
    },
    {
      "cell_type": "markdown",
      "source": [
        "\n",
        "\n",
        "In this project, we tackled a multilabel classification problem and implemented various techniques to optimize the model performance. By employing conditional probability-based sampling, we successfully balanced the dataset and improved the representativeness of the samples. The process of determining optimal thresholds for each label, with a focus on maximizing the F1-score, significantly enhanced the precision and recall of our predictions.\n",
        "\n",
        "The model evaluations revealed that while some labels had exceptional performance, others faced challenges due to inherent data imbalances or insufficient feature representation. Our approach to sampling and threshold optimization played a crucial role in addressing these issues and refining the model's accuracy.\n",
        "\n",
        "Despite the successes, several challenges were encountered, including managing data imbalance . Future work could benefit from incorporating advanced sampling techniques and optimizing hyperparameters further to achieve even better results.\n",
        "\n",
        "Overall, the project has demonstrated the effectiveness of combining probabilistic sampling with threshold tuning in multilabel classification tasks. The insights gained provide a solid foundation for applying similar methodologies to related problems and underscore the importance of careful data preparation and model evaluation."
      ],
      "metadata": {
        "id": "bqtp-BCCqKCF"
      },
      "id": "bqtp-BCCqKCF"
    }
  ],
  "metadata": {
    "colab": {
      "provenance": [],
      "gpuType": "T4",
      "toc_visible": true
    },
    "kernelspec": {
      "display_name": "Python 3",
      "name": "python3"
    },
    "language_info": {
      "codemirror_mode": {
        "name": "ipython",
        "version": 3
      },
      "file_extension": ".py",
      "mimetype": "text/x-python",
      "name": "python",
      "nbconvert_exporter": "python",
      "pygments_lexer": "ipython3",
      "version": "3.9.7"
    },
    "accelerator": "GPU"
  },
  "nbformat": 4,
  "nbformat_minor": 5
}